{
 "cells": [
  {
   "cell_type": "markdown",
   "id": "3f39489d-9576-4003-8559-85639b3c830a",
   "metadata": {},
   "source": [
    "# 객체지향(Object Oriented) 프로그래밍\n",
    "## 메소드(Method)\n",
    "- 메서드(Method)는 클래스 바디 안에서 정의되는 함수입니다. \n",
    "- 클래스의 인스턴스의 어트리뷰트(attribute)로서 호출되면, 그 메서드는 첫 번째 인자로 인스턴스 객체(self)를 받습니다. \n",
    "- 첫 번째 인자를 설정 안 하면 에러가 발생합니다. 이 첫 번째 인자를 ‘self’라고 씁니다. \n",
    "```\n",
    "class ClassName:\n",
    "    def method_name(self):\n",
    "    method_body\n",
    "\n",
    "    class_body\n",
    "```"
   ]
  },
  {
   "cell_type": "markdown",
   "id": "a0d50dce-285d-4200-9624-7d7030de4e6f",
   "metadata": {},
   "source": [
    "## 속성(Attribute)\n",
    "- 클래스 속성(Attribute)를 만들 때는 _  _ _init_ _  _메서드 안에서 self.속성에 값을 할당하면 됩니다.\n",
    "```\n",
    "class ClassName:\n",
    "    def __init__(self):\n",
    "    self.속성 = 값\n",
    "```\n",
    "## _  _ _init_ _ _ 메서드\n",
    "- _  _ _init_ _  _ 메서드는 james = Person()처럼 클래스에 소괄호(())를 붙여서 인스턴스를 만들 때 호출되는 특별한 메서드(special method, magic method)입니다.\n",
    "- _  _ _init_ _  _은 initialize의 줄임말로 인스턴스(객체)를 초기화(메모리에 공간을 할당하고 값을 부여함)합니다.\n",
    "- 밑줄 두개(__ double under, 던더)가 양 옆으로 붙어있는 메서드는 파이썬이 자동으로 호출하는 메서드입니다. \n",
    "- 스페셜 메서드(special method) 혹은 매직 메서드(magic method)라고 부릅니다. 던더 메서드로 불리기도 합니다. \n",
    "- 파이썬의 여러 가지 기능을 사용할 때 이 던더 메서드를 구현하는 식으로 사용하게 됩니다.\n",
    "- **속성은 _  _ _init_ _  _ 메서드에서 만든다는 점**과 **self에 마침표(.)를 붙여 속성명을 붙이고 값을 할당하는 점**을 기억해두세요.\n",
    "```\n",
    "class Person:\n",
    "    def __init__(self):\n",
    "        self.hello = \"안녕하세요.\"\n",
    "        \n",
    "    def greeting(self):\n",
    "        print(self.hello)\n",
    "    \n",
    "```\n",
    "## self 란??\n",
    "- self는 인스턴스 자기 자신을 의미합니다.\n",
    "- 위 예제에서 인스턴스가 생성될 때 self.hello = ‘안녕하세요’ 처럼 자기 자신에 속성을 추가하여 사용했었습니다.\n",
    "- _  _ _init_ _  _의 매개변수 self에 들어가는 값는 Person() 인스턴스라고 할 수 있습니다.\n",
    "- self가 완성된 후에는 변수인 james에 할당되었습니다.\n",
    "- 이후 메서드를 호출하면 현재 인스턴스가 자동으로 매개변수 self에 들어옵니다. \n",
    "- 그래서 greeting 메서드에서 print(self.hello)처럼 속성을 출력할 수 있었습니다."
   ]
  },
  {
   "cell_type": "markdown",
   "id": "349e9abd-92a8-4155-b086-36264658558e",
   "metadata": {},
   "source": [
    "### 예제"
   ]
  },
  {
   "cell_type": "code",
   "execution_count": 1,
   "id": "bb0973f8-10bb-489a-8b2c-d40187313156",
   "metadata": {},
   "outputs": [],
   "source": [
    "class Student():\n",
    "    pass"
   ]
  },
  {
   "cell_type": "code",
   "execution_count": 2,
   "id": "4d8f7a4e-9dda-439e-b41e-2fd746ccd614",
   "metadata": {},
   "outputs": [],
   "source": [
    "stu_a=Student() # 클래스로부터 인스턴스 초기화 \n",
    "stu_b=Student()"
   ]
  },
  {
   "cell_type": "code",
   "execution_count": 3,
   "id": "8ce11f7b-0997-409f-ba35-62469718ead8",
   "metadata": {},
   "outputs": [],
   "source": [
    "stu_a.hello=\"안녕하세요\""
   ]
  },
  {
   "cell_type": "code",
   "execution_count": 4,
   "id": "c338d67d-ec86-489d-a19f-caa5334007f5",
   "metadata": {},
   "outputs": [
    {
     "name": "stdout",
     "output_type": "stream",
     "text": [
      "안녕하세요\n"
     ]
    }
   ],
   "source": [
    "print(stu_a.hello)"
   ]
  },
  {
   "cell_type": "code",
   "execution_count": 5,
   "id": "1fc708e2-c688-4f86-9134-4f79a36b28d7",
   "metadata": {},
   "outputs": [
    {
     "ename": "AttributeError",
     "evalue": "'Student' object has no attribute 'hello'",
     "output_type": "error",
     "traceback": [
      "\u001b[1;31m---------------------------------------------------------------------------\u001b[0m",
      "\u001b[1;31mAttributeError\u001b[0m                            Traceback (most recent call last)",
      "\u001b[1;32m~\\AppData\\Local\\Temp\\ipykernel_5280\\1266809824.py\u001b[0m in \u001b[0;36m<module>\u001b[1;34m\u001b[0m\n\u001b[1;32m----> 1\u001b[1;33m \u001b[0mprint\u001b[0m\u001b[1;33m(\u001b[0m\u001b[0mstu_b\u001b[0m\u001b[1;33m.\u001b[0m\u001b[0mhello\u001b[0m\u001b[1;33m)\u001b[0m \u001b[1;31m# a와 b는 서로 다른 인스턴스\u001b[0m\u001b[1;33m\u001b[0m\u001b[1;33m\u001b[0m\u001b[0m\n\u001b[0m",
      "\u001b[1;31mAttributeError\u001b[0m: 'Student' object has no attribute 'hello'"
     ]
    }
   ],
   "source": [
    "print(stu_b.hello) # a와 b는 서로 다른 인스턴스"
   ]
  },
  {
   "cell_type": "code",
   "execution_count": 6,
   "id": "d402dfae-aa96-4748-bcd7-d469102784fc",
   "metadata": {},
   "outputs": [
    {
     "name": "stdout",
     "output_type": "stream",
     "text": [
      "안녕\n",
      "안녕\n"
     ]
    }
   ],
   "source": [
    "class Student():\n",
    "    def __init__(self):\n",
    "        self.hello=\"안녕\"\n",
    "stu_a=Student()\n",
    "stu_b=Student()\n",
    "print(stu_a.hello)\n",
    "print(stu_b.hello)"
   ]
  },
  {
   "cell_type": "code",
   "execution_count": 7,
   "id": "d257edf6-605a-401b-b34c-24050ecba2f0",
   "metadata": {},
   "outputs": [
    {
     "name": "stdout",
     "output_type": "stream",
     "text": [
      "kyeongmo\n",
      "miranda\n"
     ]
    }
   ],
   "source": [
    "class Student():\n",
    "    def __init__(self,name):\n",
    "        self.hello=\"안녕\"\n",
    "        self.name=name\n",
    "stu_a=Student('kyeongmo')\n",
    "stu_b=Student('miranda')\n",
    "print(stu_a.name)\n",
    "print(stu_b.name)"
   ]
  },
  {
   "cell_type": "code",
   "execution_count": 19,
   "id": "1398168b-00a8-4487-961f-d776ea918ba8",
   "metadata": {},
   "outputs": [
    {
     "name": "stdout",
     "output_type": "stream",
     "text": [
      "안녕\n",
      "내 이름은 kyeongmo야\n",
      "내 나이는 40살 이야\n",
      "None\n",
      "안녕\n",
      "내 이름은 miranda야\n",
      "내 나이는 50살 이야\n",
      "None\n"
     ]
    }
   ],
   "source": [
    "class Student():\n",
    "    def __init__(self,name,age):\n",
    "        self.hello=\"안녕\"\n",
    "        self.name=name\n",
    "        self.age=age\n",
    "    def introduce(self):\n",
    "        print(self.hello)\n",
    "        print(f'내 이름은 {self.name}야')\n",
    "        print(f'내 나이는 {self.age}살 이야')\n",
    "        \n",
    "stu_a=Student('kyeongmo',40)\n",
    "stu_b=Student('miranda',50)\n",
    "\n",
    "print(stu_a.introduce())\n",
    "\n",
    "print(stu_b.introduce())"
   ]
  },
  {
   "cell_type": "code",
   "execution_count": 21,
   "id": "675c2cc4-7ba4-4258-a34f-2eefb019d8a6",
   "metadata": {},
   "outputs": [
    {
     "data": {
      "text/plain": [
       "{'hello': '안녕', 'name': 'kyeongmo', 'age': 40}"
      ]
     },
     "execution_count": 21,
     "metadata": {},
     "output_type": "execute_result"
    }
   ],
   "source": [
    "# __dict__ 는 인스턴스의 속성을 볼 수 있음\n",
    "stu_a.__dict__"
   ]
  },
  {
   "cell_type": "code",
   "execution_count": 24,
   "id": "8a1db901-9beb-4dec-8752-1bb9a7c9a41f",
   "metadata": {},
   "outputs": [],
   "source": [
    "class Person2:\n",
    "    def __init__(self, name, age, address):\n",
    "        self.hello='안녕'\n",
    "        self.name=name\n",
    "        self.age=age\n",
    "        self.address=address\n",
    "        \n",
    "    def greeting(self):\n",
    "        print(f'{self.hello} 제 이름은 {self.name}입니다.')"
   ]
  },
  {
   "cell_type": "code",
   "execution_count": 25,
   "id": "3c3bd5f2-4744-4d44-a1a9-d321c26c2619",
   "metadata": {},
   "outputs": [
    {
     "name": "stdout",
     "output_type": "stream",
     "text": [
      "안녕 제 이름은 마리아입니다.\n"
     ]
    }
   ],
   "source": [
    "maria=Person2('마리아',23,'서울시 마포구')\n",
    "maria.greeting()"
   ]
  },
  {
   "cell_type": "code",
   "execution_count": 34,
   "id": "5bb90777-2939-4a71-953b-0272a1ea8242",
   "metadata": {},
   "outputs": [
    {
     "name": "stdin",
     "output_type": "stream",
     "text": [
      "이름은 무엇인가요?:  마리아\n",
      "나이는 무엇인가요?:  20\n",
      "주소는 무엇인가요?:  서울시강남구\n",
      "이름은 무엇인가요?:  제임스\n",
      "나이는 무엇인가요?:  21\n",
      "주소는 무엇인가요?:  서울시 구로구\n"
     ]
    },
    {
     "name": "stdout",
     "output_type": "stream",
     "text": [
      "첫번째 이름: 마리아\n",
      "첫번째 나이: 20\n",
      "첫번째 주소: 서울시강남구\n",
      "두번째 이름: 제임스\n",
      "두번째 나이: 21\n",
      "두번째 주소: 서울시 구로구\n"
     ]
    }
   ],
   "source": [
    "class Person:\n",
    "    def __init__(self, name, age, address):\n",
    "        self.hello='안녕'\n",
    "        self.name=name\n",
    "        self.age=age\n",
    "        self.address=address\n",
    "        \n",
    "name=input('이름은 무엇인가요?: ')\n",
    "age=input('나이는 무엇인가요?: ')\n",
    "address=input('주소는 무엇인가요?: ')\n",
    "Person_1=Person(name,age,address)\n",
    "\n",
    "name=input('이름은 무엇인가요?: ')\n",
    "age=input('나이는 무엇인가요?: ')\n",
    "address=input('주소는 무엇인가요?: ')\n",
    "Person_2=Person(name,age,address)\n",
    "\n",
    "\n",
    "print(f'첫번째 이름: {Person_1.name}')\n",
    "print(f'첫번째 나이: {Person_1.age}')\n",
    "print(f'첫번째 주소: {Person_1.address}')\n",
    "\n",
    "print(f'두번째 이름: {Person_2.name}')\n",
    "print(f'두번째 나이: {Person_2.age}')\n",
    "print(f'두번째 주소: {Person_2.address}')\n",
    "\n",
    "\n",
    "    \n",
    "    "
   ]
  },
  {
   "cell_type": "markdown",
   "id": "4c01ceda-abaf-4614-b5b4-112db16ed04a",
   "metadata": {},
   "source": [
    "## 비공개 속성 사용하기"
   ]
  },
  {
   "cell_type": "code",
   "execution_count": 37,
   "id": "5af6bd33-3eb6-4a97-968d-659f43686a19",
   "metadata": {},
   "outputs": [],
   "source": [
    "class Person3:\n",
    "    def __init__(self, name, age, address,wallet):\n",
    "        self.hello='안녕'\n",
    "        self.name=name\n",
    "        self.age=age\n",
    "        self.address=address\n",
    "        self.__wallet=wallet # 비공개 속성은 밖에서 접근이 불가능\n",
    "        \n",
    "    def greeting(self):\n",
    "        print(f'{self.hello} 제 이름은 {self.name}입니다.')"
   ]
  },
  {
   "cell_type": "code",
   "execution_count": 38,
   "id": "1cb77226-f1f2-4006-bebb-94bfdddfcb27",
   "metadata": {},
   "outputs": [],
   "source": [
    "hkm=Person3('허경모',27,'인천 서구',20000)"
   ]
  },
  {
   "cell_type": "code",
   "execution_count": 39,
   "id": "b0fa637a-f927-4438-a86e-41009349f4ec",
   "metadata": {},
   "outputs": [
    {
     "ename": "AttributeError",
     "evalue": "'Person3' object has no attribute 'wallet'",
     "output_type": "error",
     "traceback": [
      "\u001b[1;31m---------------------------------------------------------------------------\u001b[0m",
      "\u001b[1;31mAttributeError\u001b[0m                            Traceback (most recent call last)",
      "\u001b[1;32m~\\AppData\\Local\\Temp\\ipykernel_5280\\2699265973.py\u001b[0m in \u001b[0;36m<module>\u001b[1;34m\u001b[0m\n\u001b[1;32m----> 1\u001b[1;33m \u001b[0mprint\u001b[0m\u001b[1;33m(\u001b[0m\u001b[0mhkm\u001b[0m\u001b[1;33m.\u001b[0m\u001b[0mwallet\u001b[0m\u001b[1;33m)\u001b[0m\u001b[1;33m\u001b[0m\u001b[1;33m\u001b[0m\u001b[0m\n\u001b[0m",
      "\u001b[1;31mAttributeError\u001b[0m: 'Person3' object has no attribute 'wallet'"
     ]
    }
   ],
   "source": [
    "print(hkm.wallet)"
   ]
  },
  {
   "cell_type": "code",
   "execution_count": 40,
   "id": "6bd1a0a9-daf7-4c80-aa06-a853f41309d2",
   "metadata": {},
   "outputs": [
    {
     "ename": "AttributeError",
     "evalue": "'Person3' object has no attribute '__wallet'",
     "output_type": "error",
     "traceback": [
      "\u001b[1;31m---------------------------------------------------------------------------\u001b[0m",
      "\u001b[1;31mAttributeError\u001b[0m                            Traceback (most recent call last)",
      "\u001b[1;32m~\\AppData\\Local\\Temp\\ipykernel_5280\\4176946118.py\u001b[0m in \u001b[0;36m<module>\u001b[1;34m\u001b[0m\n\u001b[1;32m----> 1\u001b[1;33m \u001b[0mprint\u001b[0m\u001b[1;33m(\u001b[0m\u001b[0mhkm\u001b[0m\u001b[1;33m.\u001b[0m\u001b[0m__wallet\u001b[0m\u001b[1;33m)\u001b[0m\u001b[1;33m\u001b[0m\u001b[1;33m\u001b[0m\u001b[0m\n\u001b[0m",
      "\u001b[1;31mAttributeError\u001b[0m: 'Person3' object has no attribute '__wallet'"
     ]
    }
   ],
   "source": [
    "print(hkm.__wallet)"
   ]
  },
  {
   "cell_type": "code",
   "execution_count": 43,
   "id": "c193ccc3-5515-4507-be66-c040e53a33a4",
   "metadata": {},
   "outputs": [],
   "source": [
    "class Person4:\n",
    "    def __init__(self, name, age, address,wallet):\n",
    "        self.hello='안녕'\n",
    "        self.name=name\n",
    "        self.age=age\n",
    "        self.address=address\n",
    "        self.__wallet=wallet # 비공개 속성은 밖에서 접근이 불가능\n",
    "        \n",
    "    def greeting(self):\n",
    "        print(f'{self.hello} 제 이름은 {self.name}입니다.')\n",
    "\n",
    "# 메소드를 이용하여 접근이 가능\n",
    "    def amount(self):\n",
    "        print(self.__wallet)"
   ]
  },
  {
   "cell_type": "code",
   "execution_count": 44,
   "id": "0058bb67-4cf3-4aa6-94b7-46fe5d294694",
   "metadata": {},
   "outputs": [
    {
     "name": "stdout",
     "output_type": "stream",
     "text": [
      "20000\n"
     ]
    }
   ],
   "source": [
    "hkm=Person4('허경모',27,'인천 서구',20000)\n",
    "hkm.amount()"
   ]
  },
  {
   "cell_type": "code",
   "execution_count": 45,
   "id": "80be22f1-c46e-4e71-911c-ea84f43b7fd3",
   "metadata": {},
   "outputs": [],
   "source": [
    "class Person5:\n",
    "    def __init__(self, name, age, address,wallet):\n",
    "        self.hello='안녕'\n",
    "        self.name=name\n",
    "        self.age=age\n",
    "        self.address=address\n",
    "        self.__wallet=wallet # 비공개 속성은 밖에서 접근이 불가능\n",
    "    \n",
    "    def pay(self,amount):\n",
    "        if self.__wallet < amount:\n",
    "            print('돈이 모자랍니다.')\n",
    "            return \n",
    "        self.__wallet -= amount\n",
    "        print(f'{self.__wallet}원 남았습니다.')"
   ]
  },
  {
   "cell_type": "code",
   "execution_count": 46,
   "id": "9a3f8ec5-d362-4b88-a6cd-bf2060cf6036",
   "metadata": {},
   "outputs": [
    {
     "name": "stdout",
     "output_type": "stream",
     "text": [
      "10000원 남았습니다.\n"
     ]
    }
   ],
   "source": [
    "hkm=Person5('허경모',27,'인천 서구',20000)\n",
    "hkm.pay(10000)"
   ]
  },
  {
   "cell_type": "code",
   "execution_count": 50,
   "id": "f554a44b-51a4-444a-a10d-7740df446812",
   "metadata": {},
   "outputs": [
    {
     "name": "stdin",
     "output_type": "stream",
     "text": [
      "체력, 마나, AP를 입력하세요. 511.68 334.0 298\n"
     ]
    },
    {
     "name": "stdout",
     "output_type": "stream",
     "text": [
      "티버: 피해량: 593.7\n"
     ]
    }
   ],
   "source": [
    "health, mana, ap= map(float,input('체력, 마나, AP를 입력하세요.').split(' '))\n",
    "\n",
    "class Annie:\n",
    "    def __init__(self,health,mana,ap):\n",
    "        self.healht=health\n",
    "        self.mana=mana\n",
    "        self.ap=ap\n",
    "        \n",
    "    def tibbers(self):\n",
    "        print(f'티버: 피해량: {self.ap*0.65 + 400}')\n",
    "        \n",
    "annie=Annie(health,mana,ap)\n",
    "annie.tibbers()"
   ]
  },
  {
   "cell_type": "code",
   "execution_count": 3,
   "id": "7b87d924-e639-47bc-883a-fcd56607a86e",
   "metadata": {},
   "outputs": [],
   "source": [
    "class Person5:\n",
    "    def __init__(self, name, age, address,wallet):\n",
    "        self.hello='안녕'\n",
    "        self.name=name\n",
    "        self.age=age\n",
    "        self.address=address\n",
    "        self.__wallet=wallet # 비공개 속성은 밖에서 접근이 불가능\n",
    "    \n",
    "    def pay(self,amount):\n",
    "        if self.__wallet < amount:\n",
    "            print('돈이 모자랍니다.')\n",
    "            return \n",
    "        self.__wallet -= amount\n",
    "        print(f'{self.__wallet}원 남았습니다.')\n",
    "        \n",
    "    @classmethod # cls 자체가 인자가 됨\n",
    "    def from_string(cls,string):\n",
    "        name,age,address,__wallet = string.split(',')\n",
    "        return cls(name, age, address, __wallet)\n",
    "    \n"
   ]
  },
  {
   "cell_type": "markdown",
   "id": "c956d04a-58ba-40df-9a18-175191032685",
   "metadata": {},
   "source": [
    "# Numpy\n",
    "## 넘파이 배열\n",
    "- 배열(Array)란 **순서**가 있는 **같은 종류(type)의 데이터**가 저장되는 자료형\n",
    "- 요소의 개수를 바꿀 수 없음\n",
    "- 리스트(list)보다 넘파이 배열이 구조적으로 속도가 빠르고 메모리를 더 적게 사용"
   ]
  },
  {
   "cell_type": "code",
   "execution_count": 2,
   "id": "5e3c76da-5e3c-4345-b051-08d2681e3a20",
   "metadata": {},
   "outputs": [],
   "source": [
    "import numpy as np"
   ]
  },
  {
   "cell_type": "markdown",
   "id": "a4b45b66-a965-4cc9-be55-75cf01b1fdcf",
   "metadata": {},
   "source": [
    "### 1차원 배열 만들기"
   ]
  },
  {
   "cell_type": "code",
   "execution_count": 3,
   "id": "185e755e-ea06-4292-8fc8-07aa7c4f639d",
   "metadata": {},
   "outputs": [
    {
     "data": {
      "text/plain": [
       "array([0, 1, 2, 3, 4, 5, 6, 7, 8, 9])"
      ]
     },
     "execution_count": 3,
     "metadata": {},
     "output_type": "execute_result"
    }
   ],
   "source": [
    "ar=np.array([i for i in range(10)])\n",
    "ar"
   ]
  },
  {
   "cell_type": "code",
   "execution_count": 6,
   "id": "fbceda26-543c-4559-be9c-a510cd3311d9",
   "metadata": {},
   "outputs": [
    {
     "data": {
      "text/plain": [
       "(5,)"
      ]
     },
     "execution_count": 6,
     "metadata": {},
     "output_type": "execute_result"
    }
   ],
   "source": [
    "ar.shape"
   ]
  },
  {
   "cell_type": "code",
   "execution_count": 13,
   "id": "3bbf9e69-89fe-4f53-ad64-6d70366b4917",
   "metadata": {},
   "outputs": [
    {
     "data": {
      "text/plain": [
       "dtype('float64')"
      ]
     },
     "execution_count": 13,
     "metadata": {},
     "output_type": "execute_result"
    }
   ],
   "source": [
    "ar.dtype"
   ]
  },
  {
   "cell_type": "code",
   "execution_count": 10,
   "id": "977eb6f5-7c1d-4758-8e3b-4a13774f9339",
   "metadata": {},
   "outputs": [
    {
     "data": {
      "text/plain": [
       "array([ 0.1,  5. ,  2. , 12. ,  0.5])"
      ]
     },
     "execution_count": 10,
     "metadata": {},
     "output_type": "execute_result"
    }
   ],
   "source": [
    "ar2=np.array([0.1, 5, 2, 12, 0.5])\n",
    "ar2"
   ]
  },
  {
   "cell_type": "code",
   "execution_count": 11,
   "id": "514bf01b-3d7c-41e4-b8a9-3a8cd8a8d6b8",
   "metadata": {},
   "outputs": [
    {
     "data": {
      "text/plain": [
       "(5,)"
      ]
     },
     "execution_count": 11,
     "metadata": {},
     "output_type": "execute_result"
    }
   ],
   "source": [
    "ar2.shape"
   ]
  },
  {
   "cell_type": "code",
   "execution_count": 12,
   "id": "e8c5ef97-db5d-44d7-a689-24984713a187",
   "metadata": {},
   "outputs": [
    {
     "data": {
      "text/plain": [
       "dtype('float64')"
      ]
     },
     "execution_count": 12,
     "metadata": {},
     "output_type": "execute_result"
    }
   ],
   "source": [
    "ar2.dtype"
   ]
  },
  {
   "cell_type": "code",
   "execution_count": 16,
   "id": "0b109bb1-fcd0-4c22-8cbd-3aa02f12b193",
   "metadata": {},
   "outputs": [
    {
     "data": {
      "text/plain": [
       "array([3, 6, 9])"
      ]
     },
     "execution_count": 16,
     "metadata": {},
     "output_type": "execute_result"
    }
   ],
   "source": [
    "ar3=np.array([i for i in range(3,10,3)])\n",
    "ar3"
   ]
  },
  {
   "cell_type": "markdown",
   "id": "720e94d4-0116-42ec-8fe8-5c52bcceacb6",
   "metadata": {},
   "source": [
    "### 넘파이의 자료형\n",
    "- 배열 생성시 dtype으로 지정\n",
    "- 숫자는 생략 가능\n",
    "- 유니코드 문자열은 U1~8"
   ]
  },
  {
   "cell_type": "code",
   "execution_count": 29,
   "id": "0f8f7ba8-5738-4aec-afc4-86d233a6fc58",
   "metadata": {},
   "outputs": [
    {
     "name": "stdout",
     "output_type": "stream",
     "text": [
      "[2. 4. 6. 8.]\n",
      "float32\n"
     ]
    }
   ],
   "source": [
    "ar4=np.array([ i for i in range(2,10,2)],'f')\n",
    "print(ar4)\n",
    "print(ar4.dtype)"
   ]
  },
  {
   "cell_type": "code",
   "execution_count": 22,
   "id": "fec99952-7ca4-4e1f-9894-4fe9c4db58cd",
   "metadata": {},
   "outputs": [
    {
     "name": "stdout",
     "output_type": "stream",
     "text": [
      "['가나다라마 ' '가나다라마 ' '가나다라마 ' '가나다라마 ' '가나다라마 ']\n",
      "<U8\n"
     ]
    }
   ],
   "source": [
    "ar5 = np.array(['가나다라마 ' for i in range(5)],'U8')\n",
    "print(ar5)\n",
    "print(ar5.dtype)\n",
    "# <U8은 최대 8글자의 유니코드 자료형이다.\n",
    "# 시퀀스 자료형 중 제일 큰 값이 <U5이지만 <U8로 타입이 지정되었다."
   ]
  },
  {
   "cell_type": "code",
   "execution_count": 31,
   "id": "4a5ccd1d-d306-4026-8cf6-1e07d1d93ae8",
   "metadata": {},
   "outputs": [
    {
     "data": {
      "text/plain": [
       "dtype('float32')"
      ]
     },
     "execution_count": 31,
     "metadata": {},
     "output_type": "execute_result"
    }
   ],
   "source": [
    "x=np.array([1,2,3],dtype='f')\n",
    "x.dtype"
   ]
  },
  {
   "cell_type": "code",
   "execution_count": 32,
   "id": "608d3025-f498-45aa-bf9d-3202b416ce42",
   "metadata": {},
   "outputs": [
    {
     "data": {
      "text/plain": [
       "3.0"
      ]
     },
     "execution_count": 32,
     "metadata": {},
     "output_type": "execute_result"
    }
   ],
   "source": [
    "x[0]+x[1]"
   ]
  },
  {
   "cell_type": "code",
   "execution_count": 33,
   "id": "2a42472c-0d98-4a88-84d5-d60b612fa589",
   "metadata": {},
   "outputs": [
    {
     "data": {
      "text/plain": [
       "dtype('<U1')"
      ]
     },
     "execution_count": 33,
     "metadata": {},
     "output_type": "execute_result"
    }
   ],
   "source": [
    "x=np.array([1,2,3],dtype=\"U\")\n",
    "x.dtype"
   ]
  },
  {
   "cell_type": "code",
   "execution_count": 34,
   "id": "4bc8dd0b-044e-4be4-b780-e188c4fe2de7",
   "metadata": {},
   "outputs": [
    {
     "data": {
      "text/plain": [
       "'12'"
      ]
     },
     "execution_count": 34,
     "metadata": {},
     "output_type": "execute_result"
    }
   ],
   "source": [
    "x[0]+x[1]"
   ]
  },
  {
   "cell_type": "markdown",
   "id": "a2272984-79f3-428e-9e41-ce5f10738b2f",
   "metadata": {},
   "source": [
    "- 무한대를 표현하기 위한 np.inf\n",
    "- 정의할 수 없는 숫자를 나타내는 np.nan"
   ]
  },
  {
   "cell_type": "markdown",
   "id": "bc7d3daf-4d8c-4683-a89d-824271bfaefe",
   "metadata": {},
   "source": [
    "### 벡터화 연산\n",
    "- 배열의 각 요소에 대한 반복 연산을 하나의 명령어로 처리하는 '벡터화 연산' \n",
    "- 벡터화 연산을 사용하면 for 반복문 없이 간단하게 단 한번의 연산식으로 표현 가능"
   ]
  },
  {
   "cell_type": "code",
   "execution_count": 39,
   "id": "d58ba62a-8a68-4de5-9802-24bdc085f3d6",
   "metadata": {},
   "outputs": [
    {
     "data": {
      "text/plain": [
       "[0, 2, 4, 6, 8, 10, 12, 14, 16, 18]"
      ]
     },
     "execution_count": 39,
     "metadata": {},
     "output_type": "execute_result"
    }
   ],
   "source": [
    "data = [0,1,2,3,4,5,6,7,8,9]\n",
    "answer = [d*2 for d in data]\n",
    "answer"
   ]
  },
  {
   "cell_type": "code",
   "execution_count": 36,
   "id": "ccb40d2c-01ac-4d63-bf87-565de6d15e73",
   "metadata": {},
   "outputs": [
    {
     "data": {
      "text/plain": [
       "array([0, 1, 2, 3, 4, 5, 6, 7, 8, 9])"
      ]
     },
     "execution_count": 36,
     "metadata": {},
     "output_type": "execute_result"
    }
   ],
   "source": [
    "x=np.array(data)\n",
    "x"
   ]
  },
  {
   "cell_type": "code",
   "execution_count": 37,
   "id": "22c1f4b6-cc61-4c18-9484-626975bc9eda",
   "metadata": {},
   "outputs": [
    {
     "data": {
      "text/plain": [
       "array([ 0,  2,  4,  6,  8, 10, 12, 14, 16, 18])"
      ]
     },
     "execution_count": 37,
     "metadata": {},
     "output_type": "execute_result"
    }
   ],
   "source": [
    "2*x"
   ]
  },
  {
   "cell_type": "code",
   "execution_count": 47,
   "id": "8e1ac4f8-761e-42c2-82e2-3faa68a7c818",
   "metadata": {},
   "outputs": [
    {
     "name": "stdout",
     "output_type": "stream",
     "text": [
      "[0, 1, 2, 0, 1, 2, 0, 1, 2, 0, 1, 2, 0, 1, 2]\n"
     ]
    }
   ],
   "source": [
    "list_samp=[i for i in range(3)]\n",
    "print(list_samp * 5)"
   ]
  },
  {
   "cell_type": "code",
   "execution_count": 48,
   "id": "836b4dfd-440b-423a-8794-6d42e5d42fd8",
   "metadata": {},
   "outputs": [
    {
     "name": "stdout",
     "output_type": "stream",
     "text": [
      "[ 0  5 10]\n"
     ]
    }
   ],
   "source": [
    "arr_list_samp=np.array(list_samp)\n",
    "print(arr_list_samp*5)"
   ]
  },
  {
   "cell_type": "markdown",
   "id": "5bf0f8d0-cb8c-4994-9bd4-6cfbf6feedad",
   "metadata": {},
   "source": [
    "- 비교연산과 논리 연산을 포함한 모든 종류의 수학 연산에 대해 적용됨"
   ]
  },
  {
   "cell_type": "code",
   "execution_count": 42,
   "id": "0ed21867-2e20-4c40-9e41-959b69f25975",
   "metadata": {},
   "outputs": [],
   "source": [
    "a= np.array([1,2,3])\n",
    "b=np.array([10,20,30])"
   ]
  },
  {
   "cell_type": "code",
   "execution_count": 43,
   "id": "1c16ed9c-7b8a-40f3-bbf0-3fb70902a4a0",
   "metadata": {},
   "outputs": [
    {
     "data": {
      "text/plain": [
       "array([12, 24, 36])"
      ]
     },
     "execution_count": 43,
     "metadata": {},
     "output_type": "execute_result"
    }
   ],
   "source": [
    "2*a+b"
   ]
  },
  {
   "cell_type": "code",
   "execution_count": 44,
   "id": "bb9e1606-70bd-4f64-9042-07ff20f0cbc1",
   "metadata": {},
   "outputs": [
    {
     "data": {
      "text/plain": [
       "array([False,  True, False])"
      ]
     },
     "execution_count": 44,
     "metadata": {},
     "output_type": "execute_result"
    }
   ],
   "source": [
    "a == 2"
   ]
  },
  {
   "cell_type": "code",
   "execution_count": 45,
   "id": "33d59438-b364-439b-8f2f-2a0230df5498",
   "metadata": {},
   "outputs": [
    {
     "data": {
      "text/plain": [
       "array([False,  True,  True])"
      ]
     },
     "execution_count": 45,
     "metadata": {},
     "output_type": "execute_result"
    }
   ],
   "source": [
    "b > 10"
   ]
  },
  {
   "cell_type": "code",
   "execution_count": 46,
   "id": "6676fa1f-0fe0-4705-988a-d60b360cb0c1",
   "metadata": {},
   "outputs": [
    {
     "data": {
      "text/plain": [
       "array([False,  True, False])"
      ]
     },
     "execution_count": 46,
     "metadata": {},
     "output_type": "execute_result"
    }
   ],
   "source": [
    "(a==2)&(b>10)"
   ]
  },
  {
   "cell_type": "markdown",
   "id": "7b645a3f-d4ed-4ff0-942a-0d1048ddb271",
   "metadata": {},
   "source": [
    "### 2차원 배열(Matrix) 만들기"
   ]
  },
  {
   "cell_type": "code",
   "execution_count": 49,
   "id": "55ea801e-133a-47da-891e-6efdc05ad806",
   "metadata": {},
   "outputs": [
    {
     "data": {
      "text/plain": [
       "array([[0, 1, 2],\n",
       "       [3, 4, 5]])"
      ]
     },
     "execution_count": 49,
     "metadata": {},
     "output_type": "execute_result"
    }
   ],
   "source": [
    "c= np.array([[0,1,2],[3,4,5]])\n",
    "c"
   ]
  },
  {
   "cell_type": "code",
   "execution_count": 50,
   "id": "058c9b34-7e80-4309-b1dc-ab042a45625e",
   "metadata": {},
   "outputs": [
    {
     "data": {
      "text/plain": [
       "(2, 3)"
      ]
     },
     "execution_count": 50,
     "metadata": {},
     "output_type": "execute_result"
    }
   ],
   "source": [
    "c.shape"
   ]
  },
  {
   "cell_type": "code",
   "execution_count": 51,
   "id": "b9526c76-cb45-4bea-8288-5abb542fde68",
   "metadata": {},
   "outputs": [
    {
     "data": {
      "text/plain": [
       "2"
      ]
     },
     "execution_count": 51,
     "metadata": {},
     "output_type": "execute_result"
    }
   ],
   "source": [
    "len(c)"
   ]
  },
  {
   "cell_type": "code",
   "execution_count": 52,
   "id": "f545ea16-8561-4362-ad70-51dc61a95189",
   "metadata": {},
   "outputs": [
    {
     "data": {
      "text/plain": [
       "3"
      ]
     },
     "execution_count": 52,
     "metadata": {},
     "output_type": "execute_result"
    }
   ],
   "source": [
    "len(c[0])"
   ]
  },
  {
   "cell_type": "code",
   "execution_count": 81,
   "id": "85ffa662-83e2-46e7-8ca7-404aff050223",
   "metadata": {},
   "outputs": [
    {
     "data": {
      "text/plain": [
       "array([[10, 20, 30, 40],\n",
       "       [50, 60, 70, 80]])"
      ]
     },
     "execution_count": 81,
     "metadata": {},
     "output_type": "execute_result"
    }
   ],
   "source": [
    "arr=np.array([[10,20,30,40],[50,60,70,80]])\n",
    "arr"
   ]
  },
  {
   "cell_type": "markdown",
   "id": "d11f2df9-3aeb-4f91-b9ab-ccedb1036a59",
   "metadata": {},
   "source": [
    "### 3차원 배열 만들기\n",
    "- 깊이 x 행 x 열"
   ]
  },
  {
   "cell_type": "code",
   "execution_count": 59,
   "id": "9d6e3896-6da8-47f7-8148-4373c65da06d",
   "metadata": {},
   "outputs": [
    {
     "data": {
      "text/plain": [
       "array([[[ 1,  2,  3,  4],\n",
       "        [ 5,  6,  7,  8],\n",
       "        [ 9, 10, 11, 12]],\n",
       "\n",
       "       [[13, 14, 15, 16],\n",
       "        [17, 18, 19, 20],\n",
       "        [21, 22, 23, 24]]])"
      ]
     },
     "execution_count": 59,
     "metadata": {},
     "output_type": "execute_result"
    }
   ],
   "source": [
    "a=np.array([[[1,2,3,4],[5,6,7,8],[9,10,11,12]],[[13,14,15,16],[17,18,19,20],[21,22,23,24]]])\n",
    "a"
   ]
  },
  {
   "cell_type": "markdown",
   "id": "b47c2686-a30f-4b34-98f5-631cdc5b3149",
   "metadata": {},
   "source": [
    "### 배열의 차원과 크기 알아내기\n",
    "- 배열.ndim -> 배열의 차원 \n",
    "- 배열.shape -> 배열의 크기"
   ]
  },
  {
   "cell_type": "code",
   "execution_count": 61,
   "id": "7ccf569f-0000-4a22-8196-10e867e4de35",
   "metadata": {},
   "outputs": [
    {
     "data": {
      "text/plain": [
       "3"
      ]
     },
     "execution_count": 61,
     "metadata": {},
     "output_type": "execute_result"
    }
   ],
   "source": [
    "a.ndim"
   ]
  },
  {
   "cell_type": "code",
   "execution_count": 62,
   "id": "c722f344-3667-462e-9404-c885bc588086",
   "metadata": {},
   "outputs": [
    {
     "data": {
      "text/plain": [
       "(2, 3, 4)"
      ]
     },
     "execution_count": 62,
     "metadata": {},
     "output_type": "execute_result"
    }
   ],
   "source": [
    "a.shape"
   ]
  },
  {
   "cell_type": "markdown",
   "id": "cf7a900a-24d7-42e7-8be9-c476307288cf",
   "metadata": {},
   "source": [
    "### 배열의 인덱싱\n",
    "#### 1차원 배열"
   ]
  },
  {
   "cell_type": "code",
   "execution_count": 63,
   "id": "4377bc5e-c4b1-4422-b7b0-59f56fc48f67",
   "metadata": {},
   "outputs": [
    {
     "data": {
      "text/plain": [
       "array([0, 1, 2, 3, 4])"
      ]
     },
     "execution_count": 63,
     "metadata": {},
     "output_type": "execute_result"
    }
   ],
   "source": [
    "a=np.array([i for i in range(5)])\n",
    "a"
   ]
  },
  {
   "cell_type": "code",
   "execution_count": 64,
   "id": "860733d9-7890-4a22-b33b-e0938479531a",
   "metadata": {},
   "outputs": [
    {
     "data": {
      "text/plain": [
       "2"
      ]
     },
     "execution_count": 64,
     "metadata": {},
     "output_type": "execute_result"
    }
   ],
   "source": [
    "a[2]"
   ]
  },
  {
   "cell_type": "code",
   "execution_count": 65,
   "id": "c1bdb1b2-3dce-4701-ac22-1ec07aea9e1a",
   "metadata": {},
   "outputs": [
    {
     "data": {
      "text/plain": [
       "4"
      ]
     },
     "execution_count": 65,
     "metadata": {},
     "output_type": "execute_result"
    }
   ],
   "source": [
    "a[-1]"
   ]
  },
  {
   "cell_type": "markdown",
   "id": "b1c1d184-ef65-4332-befc-09365abcba82",
   "metadata": {},
   "source": [
    "#### 2차원 배열\n",
    "- 콤마(,)를 사용하여 접근(행,열)\n",
    "- 콤마로 구분된 차원을 축(axis)라고도 함\n",
    "- 그래프의 x축과 y축을 떠올리면 됨"
   ]
  },
  {
   "cell_type": "code",
   "execution_count": 77,
   "id": "57e4180f-020e-4f80-9e58-0f3ecaafdc9f",
   "metadata": {},
   "outputs": [
    {
     "data": {
      "text/plain": [
       "6"
      ]
     },
     "execution_count": 77,
     "metadata": {},
     "output_type": "execute_result"
    }
   ],
   "source": [
    "list_sample=[[1,2,3,4],[5,6,7,8]]\n",
    "list_sample[1][1]"
   ]
  },
  {
   "cell_type": "code",
   "execution_count": 78,
   "id": "52e1a936-aac9-4103-aadc-0bc21035f041",
   "metadata": {},
   "outputs": [
    {
     "name": "stdout",
     "output_type": "stream",
     "text": [
      "[[1 2 3 4]\n",
      " [5 6 7 8]]\n"
     ]
    },
    {
     "data": {
      "text/plain": [
       "6"
      ]
     },
     "execution_count": 78,
     "metadata": {},
     "output_type": "execute_result"
    }
   ],
   "source": [
    "b=np.array(list_sample)\n",
    "print(b)\n",
    "b[1,1]"
   ]
  },
  {
   "cell_type": "markdown",
   "id": "f898d73c-83a1-412c-8508-73b6c22bfa2d",
   "metadata": {},
   "source": [
    "- 다차원 배열 원소 중 복수 개를 접근하려면 슬라이싱과 콤마를 함께 사용"
   ]
  },
  {
   "cell_type": "code",
   "execution_count": 79,
   "id": "7e8e6aac-a45f-4f69-9898-4e5270cae9eb",
   "metadata": {},
   "outputs": [
    {
     "data": {
      "text/plain": [
       "array([1, 2, 3, 4])"
      ]
     },
     "execution_count": 79,
     "metadata": {},
     "output_type": "execute_result"
    }
   ],
   "source": [
    "b[0,:]"
   ]
  },
  {
   "cell_type": "code",
   "execution_count": 80,
   "id": "15407736-26a6-44b7-9f2e-fea4db4cd30f",
   "metadata": {},
   "outputs": [
    {
     "data": {
      "text/plain": [
       "array([1, 5])"
      ]
     },
     "execution_count": 80,
     "metadata": {},
     "output_type": "execute_result"
    }
   ],
   "source": [
    "b[:,0]"
   ]
  },
  {
   "cell_type": "code",
   "execution_count": 82,
   "id": "0b0e51eb-5c8c-40aa-b2ab-3a5ec422d196",
   "metadata": {},
   "outputs": [
    {
     "data": {
      "text/plain": [
       "array([6, 7, 8])"
      ]
     },
     "execution_count": 82,
     "metadata": {},
     "output_type": "execute_result"
    }
   ],
   "source": [
    "b[1,1:]"
   ]
  },
  {
   "cell_type": "code",
   "execution_count": 83,
   "id": "cbe61f51-7547-4748-80dc-184cedc33071",
   "metadata": {},
   "outputs": [
    {
     "data": {
      "text/plain": [
       "array([[1, 2],\n",
       "       [5, 6]])"
      ]
     },
     "execution_count": 83,
     "metadata": {},
     "output_type": "execute_result"
    }
   ],
   "source": [
    "b[:2,:2]"
   ]
  },
  {
   "cell_type": "code",
   "execution_count": 85,
   "id": "afe05480-ba45-4218-bf82-a4ec569c4e84",
   "metadata": {},
   "outputs": [
    {
     "data": {
      "text/plain": [
       "array([[1, 2, 3, 4],\n",
       "       [5, 6, 7, 8]])"
      ]
     },
     "execution_count": 85,
     "metadata": {},
     "output_type": "execute_result"
    }
   ],
   "source": [
    "b[:5,:5]"
   ]
  },
  {
   "cell_type": "code",
   "execution_count": 95,
   "id": "cb32948a-3ceb-42d4-b7e3-50d895893ba5",
   "metadata": {},
   "outputs": [
    {
     "name": "stdout",
     "output_type": "stream",
     "text": [
      "[[ 0  1  2  3  4]\n",
      " [ 5  6  7  8  9]\n",
      " [10 11 12 13 14]]\n",
      "7\n",
      "14\n",
      "[6 7]\n",
      "[ 7 12]\n",
      "[[3 4]\n",
      " [8 9]]\n"
     ]
    }
   ],
   "source": [
    "# m=np.array([[0,1,2,3,4],[5,6,7,8,9],[10,11,12,13,14]])\n",
    "m=np.array([i for i in range(15)]).reshape(3,5)\n",
    "print(m)\n",
    "\n",
    "print(m[1,2])\n",
    "print(m[2,4]) # m[2,-1]\n",
    "print(m[1,1:3])\n",
    "print(m[1:3,2])\n",
    "print(m[:2,3:5])"
   ]
  },
  {
   "cell_type": "markdown",
   "id": "036505eb-1cde-4e73-8408-4e0e7c9d111f",
   "metadata": {},
   "source": [
    "### 배열 생성 메서드\n",
    "- zeros, ones\n",
    "- xeros_like, ones_like\n",
    "- empty\n",
    "- arange\n",
    "- linspace, logspace"
   ]
  },
  {
   "cell_type": "markdown",
   "id": "518dda4f-505d-4493-943e-cbc524dffe66",
   "metadata": {},
   "source": [
    "#### zeros\n",
    "- 0으로 초기화된 배열 생성"
   ]
  },
  {
   "cell_type": "code",
   "execution_count": 96,
   "id": "750c8fae-aac2-4d4e-97b1-def3f20ecc30",
   "metadata": {},
   "outputs": [
    {
     "data": {
      "text/plain": [
       "array([0., 0., 0., 0., 0.])"
      ]
     },
     "execution_count": 96,
     "metadata": {},
     "output_type": "execute_result"
    }
   ],
   "source": [
    "a=np.zeros(5)\n",
    "a"
   ]
  },
  {
   "cell_type": "code",
   "execution_count": 97,
   "id": "07986710-642c-40df-b741-d7db9c31b8fd",
   "metadata": {},
   "outputs": [
    {
     "data": {
      "text/plain": [
       "array([[0, 0],\n",
       "       [0, 0],\n",
       "       [0, 0],\n",
       "       [0, 0],\n",
       "       [0, 0]], dtype=int32)"
      ]
     },
     "execution_count": 97,
     "metadata": {},
     "output_type": "execute_result"
    }
   ],
   "source": [
    "b=np.zeros((5,2),dtype='i')\n",
    "b"
   ]
  },
  {
   "cell_type": "code",
   "execution_count": 98,
   "id": "3e50cb13-519e-4f6e-81fd-60638b9bcabb",
   "metadata": {},
   "outputs": [
    {
     "data": {
      "text/plain": [
       "array(['', '', '', '', ''], dtype='<U4')"
      ]
     },
     "execution_count": 98,
     "metadata": {},
     "output_type": "execute_result"
    }
   ],
   "source": [
    "d=np.zeros(5,dtype='U4')\n",
    "d"
   ]
  },
  {
   "cell_type": "code",
   "execution_count": 100,
   "id": "37e70d40-4a6d-4646-b660-6f9f350a4e28",
   "metadata": {},
   "outputs": [
    {
     "data": {
      "text/plain": [
       "array(['abc', 'abcd', 'abcd', '', ''], dtype='<U4')"
      ]
     },
     "execution_count": 100,
     "metadata": {},
     "output_type": "execute_result"
    }
   ],
   "source": [
    "d[0]='abc'\n",
    "d[1]='abcd'\n",
    "d[2]='abcde' # 4글자 넘어서 짤림\n",
    "d"
   ]
  },
  {
   "cell_type": "markdown",
   "id": "42c91ea3-5c05-452f-bcaf-dc559d441ef2",
   "metadata": {},
   "source": [
    "#### ones\n",
    "- 0이 아닌 1로 초기화된 배열을 생성"
   ]
  },
  {
   "cell_type": "code",
   "execution_count": 102,
   "id": "b58eaf3f-af1f-4ec1-842a-407faaeced3d",
   "metadata": {},
   "outputs": [
    {
     "data": {
      "text/plain": [
       "array([[[1, 1, 1, 1],\n",
       "        [1, 1, 1, 1],\n",
       "        [1, 1, 1, 1]],\n",
       "\n",
       "       [[1, 1, 1, 1],\n",
       "        [1, 1, 1, 1],\n",
       "        [1, 1, 1, 1]]], dtype=int64)"
      ]
     },
     "execution_count": 102,
     "metadata": {},
     "output_type": "execute_result"
    }
   ],
   "source": [
    "a = np.ones((2,3,4),dtype='i8')\n",
    "a"
   ]
  },
  {
   "cell_type": "markdown",
   "id": "c226171a-db5e-482f-8f9d-cba60becc3e4",
   "metadata": {},
   "source": [
    "#### ones_like / zeros_like\n",
    "- 크기를 튜플로 명시하지 않고 **다른 배열과 같은 크기의 배열** 을 생성"
   ]
  },
  {
   "cell_type": "code",
   "execution_count": 103,
   "id": "f263bab6-7745-4c61-9bed-a800c025264e",
   "metadata": {},
   "outputs": [
    {
     "data": {
      "text/plain": [
       "array([[[1., 1., 1., 1.],\n",
       "        [1., 1., 1., 1.],\n",
       "        [1., 1., 1., 1.]],\n",
       "\n",
       "       [[1., 1., 1., 1.],\n",
       "        [1., 1., 1., 1.],\n",
       "        [1., 1., 1., 1.]]], dtype=float32)"
      ]
     },
     "execution_count": 103,
     "metadata": {},
     "output_type": "execute_result"
    }
   ],
   "source": [
    "b=np.ones_like(a,dtype='f')\n",
    "b"
   ]
  },
  {
   "cell_type": "markdown",
   "id": "409135e1-0256-47c8-87c5-4aa95c8597c9",
   "metadata": {},
   "source": [
    "#### empty \n",
    "- 배열을 생성만 하고 특정한 값으로 초기화 하지 않음"
   ]
  },
  {
   "cell_type": "code",
   "execution_count": 105,
   "id": "3f8b9f76-443f-4006-be27-6b585429f067",
   "metadata": {},
   "outputs": [
    {
     "data": {
      "text/plain": [
       "array([[0.0078125, 0.0078125, 0.0078125],\n",
       "       [0.0078125, 0.0078125, 0.0078125],\n",
       "       [0.0078125, 0.0078125, 0.0078125],\n",
       "       [0.0078125, 0.0078125, 0.0078125]])"
      ]
     },
     "execution_count": 105,
     "metadata": {},
     "output_type": "execute_result"
    }
   ],
   "source": [
    "g=np.empty((4,3))\n",
    "g"
   ]
  },
  {
   "cell_type": "markdown",
   "id": "d424533d-f187-4ba9-8124-2bbd4cde6f1c",
   "metadata": {
    "tags": []
   },
   "source": [
    "#### arange \n",
    "- 넘파이의 range 명령\n",
    "- 특정한 규칙에 따라 증가하는 수열 만듦"
   ]
  },
  {
   "cell_type": "code",
   "execution_count": 106,
   "id": "11fbafa2-8527-4b66-a908-8874a32200a9",
   "metadata": {},
   "outputs": [
    {
     "data": {
      "text/plain": [
       "array([0, 1, 2, 3, 4, 5, 6, 7, 8, 9])"
      ]
     },
     "execution_count": 106,
     "metadata": {},
     "output_type": "execute_result"
    }
   ],
   "source": [
    "np.arange(10)"
   ]
  },
  {
   "cell_type": "code",
   "execution_count": 107,
   "id": "a085f289-174f-4362-b148-854c69134b73",
   "metadata": {},
   "outputs": [
    {
     "data": {
      "text/plain": [
       "array([ 3,  5,  7,  9, 11, 13, 15, 17, 19])"
      ]
     },
     "execution_count": 107,
     "metadata": {},
     "output_type": "execute_result"
    }
   ],
   "source": [
    "np.arange(3,21,2)"
   ]
  },
  {
   "cell_type": "markdown",
   "id": "2262f92c-3d7d-46b6-9c6a-510537bd7c25",
   "metadata": {},
   "source": [
    "#### linspace, logspace\n",
    "- linspace(시,끝,n) -> 시작부터 끝까지 같은 간격으로 n만큼 나눠지도록 함"
   ]
  },
  {
   "cell_type": "code",
   "execution_count": 108,
   "id": "2269ad0b-0989-4e03-bc61-a28adc8a28e7",
   "metadata": {},
   "outputs": [
    {
     "data": {
      "text/plain": [
       "array([  0.        ,   5.26315789,  10.52631579,  15.78947368,\n",
       "        21.05263158,  26.31578947,  31.57894737,  36.84210526,\n",
       "        42.10526316,  47.36842105,  52.63157895,  57.89473684,\n",
       "        63.15789474,  68.42105263,  73.68421053,  78.94736842,\n",
       "        84.21052632,  89.47368421,  94.73684211, 100.        ])"
      ]
     },
     "execution_count": 108,
     "metadata": {},
     "output_type": "execute_result"
    }
   ],
   "source": [
    "ex = np.linspace(0,100,20)\n",
    "ex"
   ]
  },
  {
   "cell_type": "code",
   "execution_count": 109,
   "id": "e706ccb5-c321-4c9b-9950-f5a17b12e37f",
   "metadata": {},
   "outputs": [
    {
     "data": {
      "text/plain": [
       "array([1.e+000, 1.e+025, 1.e+050, 1.e+075, 1.e+100])"
      ]
     },
     "execution_count": 109,
     "metadata": {},
     "output_type": "execute_result"
    }
   ],
   "source": [
    "ex2=np.logspace(0,100,5)\n",
    "ex2"
   ]
  },
  {
   "cell_type": "markdown",
   "id": "2cb059eb-7b45-4ca4-b32c-6445dea163e3",
   "metadata": {},
   "source": [
    "### 전치 연산 (x,y)->(y,x)"
   ]
  },
  {
   "cell_type": "code",
   "execution_count": 110,
   "id": "05f372f3-0c74-4880-aef5-a828e11511e0",
   "metadata": {},
   "outputs": [
    {
     "data": {
      "text/plain": [
       "array([[1, 2, 3],\n",
       "       [4, 5, 6]])"
      ]
     },
     "execution_count": 110,
     "metadata": {},
     "output_type": "execute_result"
    }
   ],
   "source": [
    "A=np.array([[1,2,3],[4,5,6]])\n",
    "A"
   ]
  },
  {
   "cell_type": "code",
   "execution_count": 111,
   "id": "9a5d45d2-58ba-4396-af25-f1e6c2f795c3",
   "metadata": {},
   "outputs": [
    {
     "data": {
      "text/plain": [
       "array([[1, 4],\n",
       "       [2, 5],\n",
       "       [3, 6]])"
      ]
     },
     "execution_count": 111,
     "metadata": {},
     "output_type": "execute_result"
    }
   ],
   "source": [
    "A.T"
   ]
  },
  {
   "cell_type": "markdown",
   "id": "8b797b35-a6bf-406d-ad60-91585e1f9579",
   "metadata": {},
   "source": [
    "### 배열의 크기 변형 \n",
    "#### reshpape(행,열)"
   ]
  },
  {
   "cell_type": "code",
   "execution_count": 114,
   "id": "a04f94e2-b449-4c60-926f-b3180316d46e",
   "metadata": {},
   "outputs": [
    {
     "data": {
      "text/plain": [
       "array([[ 0,  1,  2,  3],\n",
       "       [ 4,  5,  6,  7],\n",
       "       [ 8,  9, 10, 11]])"
      ]
     },
     "execution_count": 114,
     "metadata": {},
     "output_type": "execute_result"
    }
   ],
   "source": [
    "ex=np.arange(12)\n",
    "ex.reshape(3,4)"
   ]
  },
  {
   "cell_type": "code",
   "execution_count": 116,
   "id": "342ea146-f02a-4e76-ad90-2aeb98bd0825",
   "metadata": {},
   "outputs": [
    {
     "data": {
      "text/plain": [
       "array([[ 0,  1,  2,  3,  4,  5],\n",
       "       [ 6,  7,  8,  9, 10, 11]])"
      ]
     },
     "execution_count": 116,
     "metadata": {},
     "output_type": "execute_result"
    }
   ],
   "source": [
    "# -1를 넣으면 동적으로 사용 가능\n",
    "ex.reshape(2,-1)"
   ]
  },
  {
   "cell_type": "code",
   "execution_count": 119,
   "id": "b07f0137-972e-45e0-b102-54c0e61617d6",
   "metadata": {},
   "outputs": [
    {
     "data": {
      "text/plain": [
       "array([[ 0,  1,  2],\n",
       "       [ 3,  4,  5],\n",
       "       [ 6,  7,  8],\n",
       "       [ 9, 10, 11]])"
      ]
     },
     "execution_count": 119,
     "metadata": {},
     "output_type": "execute_result"
    }
   ],
   "source": [
    "ex.reshape(-1,3)"
   ]
  },
  {
   "cell_type": "markdown",
   "id": "5beecfaa-47d1-43dc-b0bf-6e52b869db0a",
   "metadata": {},
   "source": [
    "#### flatten / ravel - 다차원 배열을 1차원으로 만들기"
   ]
  },
  {
   "cell_type": "code",
   "execution_count": 120,
   "id": "3a984a0f-3c95-4935-a792-6cac11c19642",
   "metadata": {},
   "outputs": [
    {
     "data": {
      "text/plain": [
       "array([ 0,  1,  2,  3,  4,  5,  6,  7,  8,  9, 10, 11])"
      ]
     },
     "execution_count": 120,
     "metadata": {},
     "output_type": "execute_result"
    }
   ],
   "source": [
    "ex.flatten()"
   ]
  },
  {
   "cell_type": "code",
   "execution_count": 121,
   "id": "f045cd97-f2c2-4d32-bf6d-ca9ff48e0147",
   "metadata": {},
   "outputs": [
    {
     "data": {
      "text/plain": [
       "array([[ 0,  1,  2],\n",
       "       [ 3,  4,  5],\n",
       "       [ 6,  7,  8],\n",
       "       [ 9, 10, 11]])"
      ]
     },
     "execution_count": 121,
     "metadata": {},
     "output_type": "execute_result"
    }
   ],
   "source": [
    "ex.reshape(4,-1)"
   ]
  },
  {
   "cell_type": "code",
   "execution_count": 124,
   "id": "c578988b-1fc6-45e6-855b-800b14a1026a",
   "metadata": {},
   "outputs": [
    {
     "data": {
      "text/plain": [
       "array([ 0,  1,  2,  3,  4,  5,  6,  7,  8,  9, 10, 11])"
      ]
     },
     "execution_count": 124,
     "metadata": {},
     "output_type": "execute_result"
    }
   ],
   "source": [
    "ex.ravel()"
   ]
  },
  {
   "cell_type": "markdown",
   "id": "a3161520-7421-4eb8-ba02-7f729bb93334",
   "metadata": {},
   "source": [
    "#### newaxis - 1차원 증가\n",
    "- 같은 배열에 대해 차원만 1차원 증가시키는 경우에는 newaxis 명령을 사용하기도 함"
   ]
  },
  {
   "cell_type": "code",
   "execution_count": 150,
   "id": "abf00b9a-fd1a-406b-a321-71e45997904a",
   "metadata": {},
   "outputs": [
    {
     "data": {
      "text/plain": [
       "array([[0],\n",
       "       [1],\n",
       "       [2],\n",
       "       [3],\n",
       "       [4]])"
      ]
     },
     "execution_count": 150,
     "metadata": {},
     "output_type": "execute_result"
    }
   ],
   "source": [
    "x=np.arange(5)\n",
    "x[:,np.newaxis]"
   ]
  },
  {
   "cell_type": "markdown",
   "id": "3387eb28-440e-4231-a173-87051b8f1232",
   "metadata": {},
   "source": [
    "### 배열 연결"
   ]
  },
  {
   "cell_type": "markdown",
   "id": "772e77e0-dfa5-471b-a474-342cb966b503",
   "metadata": {},
   "source": [
    "#### hstack\n",
    "- 행의 수가 같은 두 개 이상의 배열을 옆으로 연결하여 열의 수가 더 많아진 배열을 만듦\n",
    "- 연결할 배열은 하나의 리스트에 담아야 함"
   ]
  },
  {
   "cell_type": "markdown",
   "id": "86eb6869-dc97-4a13-9b92-980990eb3872",
   "metadata": {},
   "source": [
    "#### vstack\n",
    "- 열의 수가 같은 두 개 이상의 배열을 위아래로 연결하여 행의 수가 더 많아진 배열을 만듦\n",
    "- 연결할 배열은 하나의 리스트에 담아야 함 "
   ]
  },
  {
   "cell_type": "code",
   "execution_count": 127,
   "id": "b8ee66fe-fa50-4f7d-b078-61e8a5f8a7e3",
   "metadata": {},
   "outputs": [],
   "source": [
    "b1=np.ones((2,3))\n",
    "b2=np.zeros((3,3))"
   ]
  },
  {
   "cell_type": "code",
   "execution_count": 129,
   "id": "bf6d4128-468b-44e0-ae78-55ac04952736",
   "metadata": {},
   "outputs": [
    {
     "data": {
      "text/plain": [
       "array([[1., 1., 1.],\n",
       "       [1., 1., 1.],\n",
       "       [0., 0., 0.],\n",
       "       [0., 0., 0.],\n",
       "       [0., 0., 0.]])"
      ]
     },
     "execution_count": 129,
     "metadata": {},
     "output_type": "execute_result"
    }
   ],
   "source": [
    "b3=np.vstack([b1,b2])\n",
    "b3"
   ]
  },
  {
   "cell_type": "code",
   "execution_count": 130,
   "id": "6f9f5d1f-2d4a-43e1-8ee2-eb17fdc4a937",
   "metadata": {},
   "outputs": [
    {
     "data": {
      "text/plain": [
       "(5, 3)"
      ]
     },
     "execution_count": 130,
     "metadata": {},
     "output_type": "execute_result"
    }
   ],
   "source": [
    "b3.shape"
   ]
  },
  {
   "cell_type": "markdown",
   "id": "677f5d0c-36c8-46e9-975d-22a588bca54b",
   "metadata": {},
   "source": [
    "#### dstack\n",
    "- 깊이 방향으로 배열을 합침"
   ]
  },
  {
   "cell_type": "code",
   "execution_count": 131,
   "id": "dbad5350-f7c2-4e3e-a1cc-662fcf46526d",
   "metadata": {},
   "outputs": [
    {
     "data": {
      "text/plain": [
       "array([[1., 1., 1., 1.],\n",
       "       [1., 1., 1., 1.],\n",
       "       [1., 1., 1., 1.]])"
      ]
     },
     "execution_count": 131,
     "metadata": {},
     "output_type": "execute_result"
    }
   ],
   "source": [
    "c1=np.ones((3,4))\n",
    "c1"
   ]
  },
  {
   "cell_type": "code",
   "execution_count": 132,
   "id": "325b3aef-7d71-408c-885e-984d76713fe6",
   "metadata": {},
   "outputs": [
    {
     "data": {
      "text/plain": [
       "array([[0., 0., 0., 0.],\n",
       "       [0., 0., 0., 0.],\n",
       "       [0., 0., 0., 0.]])"
      ]
     },
     "execution_count": 132,
     "metadata": {},
     "output_type": "execute_result"
    }
   ],
   "source": [
    "c2=np.zeros((3,4))\n",
    "c2"
   ]
  },
  {
   "cell_type": "code",
   "execution_count": 134,
   "id": "20c78b68-5550-4a00-bb73-4bf13235116a",
   "metadata": {},
   "outputs": [
    {
     "data": {
      "text/plain": [
       "array([[[1., 0.],\n",
       "        [1., 0.],\n",
       "        [1., 0.],\n",
       "        [1., 0.]],\n",
       "\n",
       "       [[1., 0.],\n",
       "        [1., 0.],\n",
       "        [1., 0.],\n",
       "        [1., 0.]],\n",
       "\n",
       "       [[1., 0.],\n",
       "        [1., 0.],\n",
       "        [1., 0.],\n",
       "        [1., 0.]]])"
      ]
     },
     "execution_count": 134,
     "metadata": {},
     "output_type": "execute_result"
    }
   ],
   "source": [
    "c3= np.dstack([c1,c2])\n",
    "c3"
   ]
  },
  {
   "cell_type": "code",
   "execution_count": 135,
   "id": "1bb29afc-c83d-4b06-a237-54561a4eb78a",
   "metadata": {},
   "outputs": [
    {
     "data": {
      "text/plain": [
       "(3, 4, 2)"
      ]
     },
     "execution_count": 135,
     "metadata": {},
     "output_type": "execute_result"
    }
   ],
   "source": [
    "c3.shape"
   ]
  },
  {
   "cell_type": "markdown",
   "id": "a919c7e2-371d-4ecd-b41e-00698106ccfa",
   "metadata": {},
   "source": [
    "#### stack\n",
    "- 사용자가 지정한 차원(축으로) 배열을 연결\n",
    "- 디폴트 인수값은 axis=0이고 가장 앞쪽에 차원이 생성됨"
   ]
  },
  {
   "cell_type": "code",
   "execution_count": 137,
   "id": "a2d69480-9c5d-4a21-ae0a-c31a0fea8081",
   "metadata": {},
   "outputs": [
    {
     "data": {
      "text/plain": [
       "array([[[1., 1., 1., 1.],\n",
       "        [1., 1., 1., 1.],\n",
       "        [1., 1., 1., 1.]],\n",
       "\n",
       "       [[0., 0., 0., 0.],\n",
       "        [0., 0., 0., 0.],\n",
       "        [0., 0., 0., 0.]]])"
      ]
     },
     "execution_count": 137,
     "metadata": {},
     "output_type": "execute_result"
    }
   ],
   "source": [
    "c4=np.stack([c1,c2])\n",
    "c4"
   ]
  },
  {
   "cell_type": "code",
   "execution_count": 138,
   "id": "2e2929eb-4774-4c06-ba0e-b1022b326610",
   "metadata": {},
   "outputs": [
    {
     "data": {
      "text/plain": [
       "array([[[1., 1., 1., 1.],\n",
       "        [0., 0., 0., 0.]],\n",
       "\n",
       "       [[1., 1., 1., 1.],\n",
       "        [0., 0., 0., 0.]],\n",
       "\n",
       "       [[1., 1., 1., 1.],\n",
       "        [0., 0., 0., 0.]]])"
      ]
     },
     "execution_count": 138,
     "metadata": {},
     "output_type": "execute_result"
    }
   ],
   "source": [
    "c5=np.stack([c1,c2],axis=1)\n",
    "c5"
   ]
  },
  {
   "cell_type": "code",
   "execution_count": 139,
   "id": "515adba4-8872-4c04-a003-ecab6e1ffecc",
   "metadata": {},
   "outputs": [
    {
     "data": {
      "text/plain": [
       "array([[[1., 0.],\n",
       "        [1., 0.],\n",
       "        [1., 0.],\n",
       "        [1., 0.]],\n",
       "\n",
       "       [[1., 0.],\n",
       "        [1., 0.],\n",
       "        [1., 0.],\n",
       "        [1., 0.]],\n",
       "\n",
       "       [[1., 0.],\n",
       "        [1., 0.],\n",
       "        [1., 0.],\n",
       "        [1., 0.]]])"
      ]
     },
     "execution_count": 139,
     "metadata": {},
     "output_type": "execute_result"
    }
   ],
   "source": [
    "c6=np.stack([c1,c2],axis=2)\n",
    "c6"
   ]
  },
  {
   "cell_type": "markdown",
   "id": "3aa30f8d-9eb7-44e6-a219-11fc5bd3308a",
   "metadata": {},
   "source": [
    "#### r_ 메서드\n",
    "- hstack 명령과 비슷하게 배열을 좌우로 연결\n",
    "- 다만 메서드임에도 불구하고 소괄호()를 사용하지 않고 인덱싱과 같이 **대괄호[]** 를 사용\n",
    "- 이런 특수 메서드를 **인덱서**라고 함"
   ]
  },
  {
   "cell_type": "code",
   "execution_count": 140,
   "id": "d1d7aa88-d335-4406-b913-1ef010436e25",
   "metadata": {},
   "outputs": [
    {
     "data": {
      "text/plain": [
       "array([1, 2, 3, 4, 5, 6])"
      ]
     },
     "execution_count": 140,
     "metadata": {},
     "output_type": "execute_result"
    }
   ],
   "source": [
    "np.r_[np.array([1,2,3]), np.array([4,5,6])]"
   ]
  },
  {
   "cell_type": "markdown",
   "id": "40ca99a1-449e-4f33-bb46-8712ad99c54b",
   "metadata": {},
   "source": [
    "#### c_ 메서드\n",
    "- 배열의 차원을 증가시킨 후 좌우로 연결\n",
    "- 만약 1차원 배열을 연결하면 2차원 배열이 됨"
   ]
  },
  {
   "cell_type": "code",
   "execution_count": 141,
   "id": "143e32a6-5d8c-4a17-b8ca-5f794ed7e858",
   "metadata": {},
   "outputs": [
    {
     "data": {
      "text/plain": [
       "array([[1, 4],\n",
       "       [2, 5],\n",
       "       [3, 6]])"
      ]
     },
     "execution_count": 141,
     "metadata": {},
     "output_type": "execute_result"
    }
   ],
   "source": [
    "np.c_[np.array([1,2,3]),np.array([4,5,6])]"
   ]
  },
  {
   "cell_type": "markdown",
   "id": "e12c6ce3-8d8d-45fc-9cb7-44375a9576ab",
   "metadata": {},
   "source": [
    "#### tile\n",
    "- 동일한 배열을 반복하여 연결\""
   ]
  },
  {
   "cell_type": "code",
   "execution_count": 142,
   "id": "4c6baca2-705e-4306-be9b-e8ac0411c4bc",
   "metadata": {},
   "outputs": [
    {
     "data": {
      "text/plain": [
       "array([[0, 1, 2, 0, 1, 2],\n",
       "       [3, 4, 5, 3, 4, 5]])"
      ]
     },
     "execution_count": 142,
     "metadata": {},
     "output_type": "execute_result"
    }
   ],
   "source": [
    "a=np.array([[0,1,2],[3,4,5]])\n",
    "np.tile(a,2)"
   ]
  },
  {
   "cell_type": "code",
   "execution_count": 144,
   "id": "0f4c0220-46a3-40b5-88bc-a94db44286fb",
   "metadata": {},
   "outputs": [
    {
     "data": {
      "text/plain": [
       "array([[0, 1, 2, 0, 1, 2],\n",
       "       [3, 4, 5, 3, 4, 5],\n",
       "       [0, 1, 2, 0, 1, 2],\n",
       "       [3, 4, 5, 3, 4, 5],\n",
       "       [0, 1, 2, 0, 1, 2],\n",
       "       [3, 4, 5, 3, 4, 5]])"
      ]
     },
     "execution_count": 144,
     "metadata": {},
     "output_type": "execute_result"
    }
   ],
   "source": [
    "np.tile(a,(3,2))"
   ]
  },
  {
   "cell_type": "code",
   "execution_count": 148,
   "id": "32cafe6b-463b-4e5d-b011-4e73c0d938cf",
   "metadata": {},
   "outputs": [
    {
     "data": {
      "text/plain": [
       "array([[[  0,   0,   0,   1,   1],\n",
       "        [  0,   0,   0,   1,   1],\n",
       "        [  0,   0,   0,   1,   1],\n",
       "        [ 10,  20,  30,  40,  50],\n",
       "        [ 60,  70,  80,  90, 100],\n",
       "        [110, 120, 130, 140, 150]],\n",
       "\n",
       "       [[  0,   0,   0,   1,   1],\n",
       "        [  0,   0,   0,   1,   1],\n",
       "        [  0,   0,   0,   1,   1],\n",
       "        [ 10,  20,  30,  40,  50],\n",
       "        [ 60,  70,  80,  90, 100],\n",
       "        [110, 120, 130, 140, 150]]])"
      ]
     },
     "execution_count": 148,
     "metadata": {},
     "output_type": "execute_result"
    }
   ],
   "source": [
    "arr1=np.array([0,0,0,1,1])\n",
    "arr2=np.array([10,20,30,40,50])\n",
    "arr3=arr2+50\n",
    "arr4=arr3+50\n",
    "\n",
    "arr5=np.vstack([arr1,arr1,arr1,arr2,arr3,arr4])\n",
    "arr6=np.stack([arr5,arr5])\n",
    "arr6"
   ]
  },
  {
   "cell_type": "code",
   "execution_count": null,
   "id": "d6ed47c7-5037-4fb5-932f-42c4940ce2af",
   "metadata": {},
   "outputs": [],
   "source": []
  }
 ],
 "metadata": {
  "kernelspec": {
   "display_name": "Python 3 (ipykernel)",
   "language": "python",
   "name": "python3"
  },
  "language_info": {
   "codemirror_mode": {
    "name": "ipython",
    "version": 3
   },
   "file_extension": ".py",
   "mimetype": "text/x-python",
   "name": "python",
   "nbconvert_exporter": "python",
   "pygments_lexer": "ipython3",
   "version": "3.9.13"
  }
 },
 "nbformat": 4,
 "nbformat_minor": 5
}
