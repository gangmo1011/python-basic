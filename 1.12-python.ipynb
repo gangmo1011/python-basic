{
 "cells": [
  {
   "cell_type": "markdown",
   "id": "df1da395-4f27-4d56-97ac-bf339eab56de",
   "metadata": {},
   "source": [
    "# random 라이브러리\n",
    "\n",
    "- random 라이브러리의 randint(시작정수, 끝정수) 함수는 \n",
    "\n",
    "  시작정수 ~ 끝정수(포함) 사이의 수를 랜덤으로 생성\n"
   ]
  },
  {
   "cell_type": "code",
   "execution_count": 1,
   "id": "01de49d7-3199-46ba-95e0-f0c88366e321",
   "metadata": {},
   "outputs": [
    {
     "name": "stdout",
     "output_type": "stream",
     "text": [
      "[2, 1, 2, 1, 2, 2, 1, 2, 2, 2]\n"
     ]
    }
   ],
   "source": [
    "import random as rd\n",
    "random_list=[rd.randint(1,2) for i in range(10)]\n",
    "print(random_list)"
   ]
  },
  {
   "cell_type": "markdown",
   "id": "a30ad2af-26e6-481a-83b3-e0032c49e038",
   "metadata": {},
   "source": [
    "### 연습문제"
   ]
  },
  {
   "cell_type": "markdown",
   "id": "b205c90e-74c0-4714-8626-003fdb4380a0",
   "metadata": {},
   "source": [
    "```\n",
    "사용자가 원하는 개수만큼의 로또 번호 생성기를 만들고자 합니다. 로또 번호 규칙은\n",
    "다음과 같습니다.\n",
    "1. 번호의 범위는 1 ~ 45 사이입니다.\n",
    "2. 총 6개의 번호를 생성합니다.\n",
    "3. 생성된 번호는 오름 차순으로 정리합니다.\n",
    "4. 생성된 번호들에 중복이 있어선 안 됩니다.\n",
    "```"
   ]
  },
  {
   "cell_type": "code",
   "execution_count": 93,
   "id": "a44ba62d-b87e-47b0-af73-6a36fede8a20",
   "metadata": {},
   "outputs": [
    {
     "name": "stdin",
     "output_type": "stream",
     "text": [
      "로또 번호를 몇 개 드릴까요? 10\n"
     ]
    },
    {
     "name": "stdout",
     "output_type": "stream",
     "text": [
      "[4, 8, 19, 27, 32, 35]\n",
      "[11, 19, 28, 30, 32, 43]\n",
      "[7, 12, 14, 22, 24, 25]\n",
      "[12, 16, 20, 35, 37, 39]\n",
      "[27, 28, 32, 37, 38, 39]\n",
      "[15, 23, 29, 36, 40, 42]\n",
      "[2, 20, 27, 28, 32, 35]\n",
      "[5, 13, 26, 35, 36, 37]\n",
      "[2, 9, 21, 24, 32, 39]\n",
      "[15, 17, 29, 33, 38, 45]\n"
     ]
    }
   ],
   "source": [
    "# 1.세트형으로 만들어서 길이 확인 2.리스트 변환 후 정렬해서 출력 \n",
    "import random as rd\n",
    "count=int(input(\"로또 번호를 몇 개 드릴까요?\"))\n",
    "i=0\n",
    "lotto=set()\n",
    "while i<count:\n",
    "    lotto=list({rd.randint(1,45) for _ in range(6)})\n",
    "    if len(lotto) != 6:\n",
    "        continue\n",
    "    else:\n",
    "        i += 1\n",
    "    lotto.sort()\n",
    "    print(lotto)    "
   ]
  },
  {
   "cell_type": "code",
   "execution_count": 92,
   "id": "4d5652d0-6056-4583-86e4-d7106eda9669",
   "metadata": {},
   "outputs": [
    {
     "name": "stdin",
     "output_type": "stream",
     "text": [
      "로또 번호를 몇 개 드릴까요? 10\n"
     ]
    },
    {
     "name": "stdout",
     "output_type": "stream",
     "text": [
      "[1, 7, 11, 15, 30, 36]\n",
      "[1, 7, 12, 16, 38, 41]\n",
      "[12, 19, 19, 35, 37, 43]\n",
      "[1, 17, 24, 29, 40, 41]\n",
      "[2, 4, 11, 13, 31, 33]\n",
      "[13, 20, 22, 26, 30, 43]\n",
      "[1, 10, 12, 15, 42, 43]\n",
      "[5, 16, 17, 36, 42, 44]\n",
      "[10, 13, 16, 21, 30, 40]\n",
      "[9, 14, 20, 23, 37, 45]\n"
     ]
    }
   ],
   "source": [
    "# 잘못된 중복 제거 방식(양 옆 인덱스만 비교하면 서로 떨어져 있는 인덱스는 비교가 안되서 중복된 값 발생 가능)\n",
    "# 양옆으로 비교하려면 sort()한 것으로 비교 \n",
    "import random as rd\n",
    "count=int(input(\"로또 번호를 몇 개 드릴까요?\"))\n",
    "i=0\n",
    "lotto=[]\n",
    "while i<count:\n",
    "    i += 1\n",
    "    lotto=[rd.randint(1,45) for i in range(6)]\n",
    "    # 리스트 요소가 중복되면 제거 후 다시 값 받기\n",
    "    lotto.sort()\n",
    "    j=0\n",
    "    while j<5:\n",
    "        if lotto[j]==lotto[j+1]:\n",
    "            lotto[j+1]=rd.randint(1,45) \n",
    "            lotto.sort()\n",
    "            continue\n",
    "        else:\n",
    "            j +=1\n",
    "            lotto.sort()\n",
    "    print(lotto)"
   ]
  },
  {
   "cell_type": "code",
   "execution_count": 81,
   "id": "98931df5-7e66-47a9-83da-cfdc1e5bc8c0",
   "metadata": {},
   "outputs": [
    {
     "name": "stdin",
     "output_type": "stream",
     "text": [
      "로또 번호 몇 개 드릴까요? 10\n"
     ]
    },
    {
     "name": "stdout",
     "output_type": "stream",
     "text": [
      "[9, 15, 27, 35, 36, 43]\n",
      "[3, 6, 15, 25, 28, 29]\n",
      "[2, 7, 24, 39, 41, 44]\n",
      "[13, 14, 21, 41, 42, 44]\n",
      "[3, 13, 20, 27, 29, 30]\n",
      "[13, 27, 29, 30, 31, 43]\n",
      "[3, 14, 20, 26, 29, 36]\n",
      "[2, 14, 20, 21, 29, 43]\n",
      "[7, 16, 25, 30, 31, 33]\n",
      "[10, 16, 20, 23, 32, 35]\n"
     ]
    }
   ],
   "source": [
    "# lotto_number 생성 후 lotto 리스트에 없으면 추가\n",
    "count=int(input(\"로또 번호 몇 개 드릴까요?\"))\n",
    "\n",
    "for i in range(count):\n",
    "    lotto=[]\n",
    "    while len(lotto)<6:\n",
    "        lotto_number=rd.randint(1,45)\n",
    "        if lotto_number not in lotto:\n",
    "            lotto.append(lotto_number)\n",
    "    lotto.sort()\n",
    "    print(lotto)"
   ]
  },
  {
   "cell_type": "code",
   "execution_count": 85,
   "id": "8b8dcb12-83a0-49c7-9f19-57ba57b1a8d8",
   "metadata": {},
   "outputs": [
    {
     "name": "stdin",
     "output_type": "stream",
     "text": [
      "로또 번호 몇 개 드릴까요? 10\n"
     ]
    },
    {
     "name": "stdout",
     "output_type": "stream",
     "text": [
      "[6, 9, 17, 24, 34, 43]\n",
      "[6, 7, 9, 19, 28, 41]\n",
      "[8, 18, 27, 34, 35, 44]\n",
      "[6, 19, 40, 41, 43, 44]\n",
      "[6, 13, 24, 26, 29, 35]\n",
      "[6, 11, 14, 24, 33, 36]\n",
      "[16, 17, 26, 36, 38, 45]\n",
      "[9, 19, 31, 32, 33, 35]\n",
      "[2, 11, 25, 27, 29, 34]\n",
      "[3, 11, 23, 24, 29, 35]\n"
     ]
    }
   ],
   "source": [
    "# 1부터 45까지의 lotto 리스트를 만든 후 거기서 하나씩 빼서 lotto_numbers에 저장\n",
    "count=int(input(\"로또 번호 몇 개 드릴까요?\"))\n",
    "for i in range(count):\n",
    "    lotto=[j for j in range(1,46)] \n",
    "    lotto_numbers=[]\n",
    "    for _ in range(6):\n",
    "        lotto_number=lotto[rd.randint(0,len(lotto)-1)] \n",
    "        lotto_numbers.append(lotto_number)\n",
    "        lotto.remove(lotto_number)\n",
    "    lotto_numbers.sort()   \n",
    "    print(lotto_numbers)"
   ]
  },
  {
   "cell_type": "markdown",
   "id": "c543ed9c-49db-473e-8e26-814c9e38624d",
   "metadata": {},
   "source": [
    "# Set 자료형\n",
    "\n",
    "- 집합과 set 자료형은 맥락이 같음\n",
    "- 합집합, 교집합, 차집합과 같은 처리가 가능\n",
    "- {}로 묶음, 단 '{}'의 타입은 딕셔너리임 set() 함수로 생성\n",
    "- 인덱스를 갖지 않음(순서가 없음) \n",
    "- set 요소 내에 중복되는 값을 갖지 않음\n",
    "- 딕셔너리의 키만 있는 것과 유사"
   ]
  },
  {
   "cell_type": "code",
   "execution_count": 63,
   "id": "51040268-16f2-4813-93e3-ced3a92e206b",
   "metadata": {},
   "outputs": [
    {
     "data": {
      "text/plain": [
       "dict"
      ]
     },
     "execution_count": 63,
     "metadata": {},
     "output_type": "execute_result"
    }
   ],
   "source": [
    "a={}\n",
    "type(a)"
   ]
  },
  {
   "cell_type": "markdown",
   "id": "92c5974d-3c5c-431a-a107-74e892f9835d",
   "metadata": {},
   "source": [
    "## set comprehension\n",
    "\n",
    "- set_variable={expression for 변수 in ~}\n"
   ]
  },
  {
   "cell_type": "markdown",
   "id": "0da2ffef-ed13-4237-a19b-7b3790976b88",
   "metadata": {},
   "source": [
    "## set에 값 넣는 방법(add(요소))\n",
    "\n",
    "- 세트 자료형.add(요소)\n",
    "- add(요소) 메서드는 **한 번에 하나의 값**만 넣을 수 있음\n"
   ]
  },
  {
   "cell_type": "code",
   "execution_count": 66,
   "id": "a570db19-f7aa-4eb5-85b2-03667fa4a3ce",
   "metadata": {},
   "outputs": [
    {
     "data": {
      "text/plain": [
       "<function print>"
      ]
     },
     "execution_count": 66,
     "metadata": {},
     "output_type": "execute_result"
    }
   ],
   "source": [
    "set_variable=set()\n",
    "print"
   ]
  },
  {
   "cell_type": "markdown",
   "id": "c33b281c-b815-40c3-accb-fd3d916d6a78",
   "metadata": {},
   "source": [
    "## set의 요소 삭제하기 .remove(요소) vs .discard(요소)"
   ]
  },
  {
   "cell_type": "markdown",
   "id": "e4e9d421-a25c-4c92-96c6-ac61f46eca2e",
   "metadata": {},
   "source": [
    "\n",
    "- remove(요소)는 세트 안에 요소값이 없으면 에러 발생\n",
    "- discard(요소)는 세트 안에 요소값이 없어도 에러 발생하지 않음\n"
   ]
  },
  {
   "cell_type": "markdown",
   "id": "bcde21ef-2e0f-499f-8f03-8c3796a8efc3",
   "metadata": {},
   "source": [
    "## 요소 임의 접근 후 삭제하기 .pop()\n",
    "\n",
    "- pop()메서드는 삭제하려는 요소를 **'임의로 선택'** 하고 **'반환'** 한 뒤 **'삭제'** \n",
    "- 세트 자료형 내에서 더 이상 삭제할 요소가 없으면 KeyError를 발생\n"
   ]
  },
  {
   "cell_type": "markdown",
   "id": "8bd0a7de-6738-41fe-a6b8-cadea6a01c23",
   "metadata": {},
   "source": [
    "## set 전체 삭제하기 .clear()"
   ]
  },
  {
   "cell_type": "markdown",
   "id": "35ce5c21-ec5c-48f3-8ed3-e819e4372dbb",
   "metadata": {
    "tags": []
   },
   "source": [
    "## 합집합: set.union(set1, set2) or set1 | set2 \n",
    "\n",
    "- 세트1, 세트2 값을 합친 것에서 중복을 제거한 집합 반환"
   ]
  },
  {
   "cell_type": "code",
   "execution_count": 86,
   "id": "cd1abbbc-79da-4f94-b996-2e882e7578e5",
   "metadata": {},
   "outputs": [
    {
     "data": {
      "text/plain": [
       "{0, 1, 2, 3, 4, 5, 6, 7}"
      ]
     },
     "execution_count": 86,
     "metadata": {},
     "output_type": "execute_result"
    }
   ],
   "source": [
    "set1={i for i in range(0,5)}\n",
    "set2={i for i in range(0,8)}\n",
    "set.union(set1,set2)"
   ]
  },
  {
   "cell_type": "markdown",
   "id": "90528f94-71d4-443a-9766-1a01e8935a8b",
   "metadata": {},
   "source": [
    "## 교집합: set.intersection(set1, set2) or set1 & set2\n",
    "- 세트1, 세트2 값 중 중복된 집합 반환"
   ]
  },
  {
   "cell_type": "code",
   "execution_count": 87,
   "id": "e55da9b2-a903-4967-906d-17de5bbe53f4",
   "metadata": {},
   "outputs": [
    {
     "data": {
      "text/plain": [
       "{0, 1, 2, 3, 4}"
      ]
     },
     "execution_count": 87,
     "metadata": {},
     "output_type": "execute_result"
    }
   ],
   "source": [
    "set1={i for i in range(0,5)}\n",
    "set2={i for i in range(0,8)}\n",
    "set.intersection(set1,set2)"
   ]
  },
  {
   "cell_type": "markdown",
   "id": "f39664be-8dbc-4549-99e5-d74779806e00",
   "metadata": {
    "tags": []
   },
   "source": [
    "## 차집합: set.difference(set1, set2) or set1 - set2\n",
    "- set1에서 set2의 값을 뺀 집합을 반환"
   ]
  },
  {
   "cell_type": "code",
   "execution_count": 89,
   "id": "a7e03d0d-e187-4616-b9f0-ba273d65242c",
   "metadata": {},
   "outputs": [
    {
     "data": {
      "text/plain": [
       "{5, 6, 7}"
      ]
     },
     "execution_count": 89,
     "metadata": {},
     "output_type": "execute_result"
    }
   ],
   "source": [
    "set1={i for i in range(0,5)}\n",
    "set2={i for i in range(0,8)}\n",
    "set.difference(set2,set1)"
   ]
  },
  {
   "cell_type": "markdown",
   "id": "25306d08-2b67-40f7-848f-67da126986bc",
   "metadata": {
    "tags": []
   },
   "source": [
    "## 대칭차집합: set.symmetric_differnce(set1, set2) or set1 ^ set2\n",
    "- 세트1, 세트2 전체 중 중복되지 않는 부분의 집합 반환 "
   ]
  },
  {
   "cell_type": "code",
   "execution_count": 90,
   "id": "e5199eae-837c-4cd5-aa4d-6b6afb5f7dd9",
   "metadata": {},
   "outputs": [
    {
     "data": {
      "text/plain": [
       "{5, 6, 7}"
      ]
     },
     "execution_count": 90,
     "metadata": {},
     "output_type": "execute_result"
    }
   ],
   "source": [
    "set1={i for i in range(0,5)}\n",
    "set2={i for i in range(0,8)}\n",
    "set.symmetric_difference(set1,set2)"
   ]
  },
  {
   "cell_type": "markdown",
   "id": "539d0bae-d0ca-4b76-bc26-d355d4dca007",
   "metadata": {},
   "source": [
    "## 합집합의 결과를 대입: set1.update(set2) or set1 |= set2"
   ]
  },
  {
   "cell_type": "code",
   "execution_count": 2,
   "id": "c30937dc-c972-4f5c-99d7-26d5933fef3b",
   "metadata": {},
   "outputs": [
    {
     "name": "stdout",
     "output_type": "stream",
     "text": [
      "A: {1, 2, 3, 4}, B:{2, 4, 5}\n",
      "A.update(B): {1, 2, 3, 4, 5}\n"
     ]
    }
   ],
   "source": [
    "A={i for i in range(1,5)}\n",
    "B={i for i in range(2,6) if i != 3}\n",
    "print(f'A: {A}, B:{B}')\n",
    "A.update(B)\n",
    "print('A.update(B):',A)"
   ]
  },
  {
   "cell_type": "markdown",
   "id": "c55e413a-dc5f-457d-9077-9e26356f25ec",
   "metadata": {},
   "source": [
    "## 교집합의 결과를 대입: set1.intersection_update(set2) set &= set2"
   ]
  },
  {
   "cell_type": "code",
   "execution_count": 3,
   "id": "ef6f5bb1-2575-4723-b355-7f542f6cc15c",
   "metadata": {},
   "outputs": [
    {
     "name": "stdout",
     "output_type": "stream",
     "text": [
      "A: {1, 2, 3, 4}, B:{2, 4, 5}\n",
      "A.intersection_update(B): {2, 4}\n"
     ]
    }
   ],
   "source": [
    "A={i for i in range(1,5)}\n",
    "B={i for i in range(2,6) if i != 3}\n",
    "print(f'A: {A}, B:{B}')\n",
    "A.intersection_update(B)\n",
    "print('A.intersection_update(B):',A)"
   ]
  },
  {
   "cell_type": "markdown",
   "id": "98d382a1-5455-4d93-9ea2-b0a3950ead36",
   "metadata": {},
   "source": [
    "## 차집합의 결과를 대입: set1.difference_update(set2) or set1 -= set2"
   ]
  },
  {
   "cell_type": "code",
   "execution_count": 4,
   "id": "deeecf47-89cf-4fda-8a38-32a8bc5db807",
   "metadata": {},
   "outputs": [
    {
     "name": "stdout",
     "output_type": "stream",
     "text": [
      "A: {1, 2, 3, 4}, B:{2, 4, 5}\n",
      "A.difference_update(B): {1, 3}\n"
     ]
    }
   ],
   "source": [
    "A={i for i in range(1,5)}\n",
    "B={i for i in range(2,6) if i != 3}\n",
    "print(f'A: {A}, B:{B}')\n",
    "A.difference_update(B)\n",
    "print('A.difference_update(B):',A)"
   ]
  },
  {
   "cell_type": "markdown",
   "id": "eba38308-346a-4b48-ac33-85ab92710d8d",
   "metadata": {},
   "source": [
    "## 겹치지 않는 전체 요소를 대입: set.symmetric_difference_update()"
   ]
  },
  {
   "cell_type": "code",
   "execution_count": 5,
   "id": "8e46f41b-2e1d-4998-90da-4cc6154eceed",
   "metadata": {},
   "outputs": [
    {
     "name": "stdout",
     "output_type": "stream",
     "text": [
      "A: {1, 2, 3, 4}, B:{2, 4, 5}\n",
      "A.symmetric_difference_update(B): {1, 3, 5}\n"
     ]
    }
   ],
   "source": [
    "A={i for i in range(1,5)}\n",
    "B={i for i in range(2,6) if i != 3}\n",
    "print(f'A: {A}, B:{B}')\n",
    "A.symmetric_difference_update(B)\n",
    "print('A.symmetric_difference_update(B):',A)"
   ]
  },
  {
   "cell_type": "markdown",
   "id": "071886f4-bda0-451a-92ce-ff04391fbc49",
   "metadata": {},
   "source": [
    "## 부분집합: set1.issubset(set2) \n",
    "- 세트1이 세트2의 부분집합이면 True 아니면 False 반환"
   ]
  },
  {
   "cell_type": "code",
   "execution_count": 7,
   "id": "449cee13-3f2a-4478-926d-d05d73383c39",
   "metadata": {},
   "outputs": [
    {
     "name": "stdout",
     "output_type": "stream",
     "text": [
      "A:{0, 1, 2}, B:{0, 1, 2}\n",
      "A.issubset(B): True\n"
     ]
    }
   ],
   "source": [
    "A={i for i in range(0,3)}\n",
    "B={i for i in range(0,3)}\n",
    "print(f'A:{A}, B:{B}')\n",
    "print('A.issubset(B):',A.issubset(B))"
   ]
  },
  {
   "cell_type": "markdown",
   "id": "e901370b-6895-4ae9-a4de-d2948c2741a3",
   "metadata": {},
   "source": [
    "## 상위집합: set1.issuperset(set2) \n",
    "- 세트1이 세트2의 상위집합이면 True 아니면 False 반환"
   ]
  },
  {
   "cell_type": "code",
   "execution_count": 8,
   "id": "732e0b68-cec4-4b83-aca5-97a3f198ad4f",
   "metadata": {},
   "outputs": [
    {
     "name": "stdout",
     "output_type": "stream",
     "text": [
      "A:{0, 1, 2}, B:{0, 1, 2}\n",
      "A.issuperset(B): True\n"
     ]
    }
   ],
   "source": [
    "A={i for i in range(0,3)}\n",
    "B={i for i in range(0,3)}\n",
    "print(f'A:{A}, B:{B}')\n",
    "print('A.issuperset(B):',A.issuperset(B))"
   ]
  },
  {
   "cell_type": "code",
   "execution_count": 10,
   "id": "4398fd40-4c25-4a66-bbaf-2e1cc109295d",
   "metadata": {},
   "outputs": [
    {
     "name": "stdout",
     "output_type": "stream",
     "text": [
      "A:{0, 1, 2}, B:{0, 1}\n",
      "A.issuperset(B): True\n"
     ]
    }
   ],
   "source": [
    "A={i for i in range(0,3)}\n",
    "B={i for i in range(0,2)}\n",
    "print(f'A:{A}, B:{B}')\n",
    "print('A.issuperset(B):',A.issuperset(B))"
   ]
  },
  {
   "cell_type": "markdown",
   "id": "0ddd5433-3428-4019-888c-c398dbd78a81",
   "metadata": {},
   "source": [
    "## set1 < set2 or set1 > set2\n",
    "- 세트1이 세트2의 진부분집합인지 확인 / 세트1이 세트2의 진상위집합인지 확인\n",
    "- 진부분(상위)집합이란 부분(상위)집합이면서 같지 않을 때를 이야기함"
   ]
  },
  {
   "cell_type": "code",
   "execution_count": 11,
   "id": "b70c7ce0-dd10-45fa-8e3b-de04d623cd32",
   "metadata": {},
   "outputs": [
    {
     "name": "stdout",
     "output_type": "stream",
     "text": [
      "A:{0, 1, 2}, B:{0, 1, 2}\n",
      "A > B: False\n",
      "A < B: False\n"
     ]
    }
   ],
   "source": [
    "A={i for i in range(0,3)}\n",
    "B={i for i in range(0,3)}\n",
    "print(f'A:{A}, B:{B}')\n",
    "print('A > B:', A > B)\n",
    "print('A < B:', A < B)"
   ]
  },
  {
   "cell_type": "code",
   "execution_count": 12,
   "id": "e556c8c7-fbd5-4344-934f-4a25524374a5",
   "metadata": {},
   "outputs": [
    {
     "name": "stdout",
     "output_type": "stream",
     "text": [
      "A:{0, 1, 2}, B:{0, 1}\n",
      "A > B: True\n",
      "A < B: False\n"
     ]
    }
   ],
   "source": [
    "A={i for i in range(0,3)}\n",
    "B={i for i in range(0,2)}\n",
    "print(f'A:{A}, B:{B}')\n",
    "print('A > B:', A > B)\n",
    "print('A < B:', A < B)"
   ]
  },
  {
   "cell_type": "markdown",
   "id": "42f1cec5-6714-49c1-975a-104c355da8f5",
   "metadata": {
    "tags": []
   },
   "source": [
    "## set1 == set2 \n",
    "- 세트1과 세트2가 같은지 확인"
   ]
  },
  {
   "cell_type": "code",
   "execution_count": 13,
   "id": "aa407a7d-aafa-4408-92d3-dc70ee68ac47",
   "metadata": {},
   "outputs": [
    {
     "name": "stdout",
     "output_type": "stream",
     "text": [
      "A:{0, 1, 2}, B:{0, 1, 2}\n",
      "A == B: True\n"
     ]
    }
   ],
   "source": [
    "A={i for i in range(0,3)}\n",
    "B={i for i in range(0,3)}\n",
    "print(f'A:{A}, B:{B}')\n",
    "print('A == B:', A == B)"
   ]
  },
  {
   "cell_type": "markdown",
   "id": "40af2890-b49a-4ea2-a733-dcc182d0c38d",
   "metadata": {},
   "source": [
    "## 세트가 겹치지 않는지 확인: set1.isdisjoint(set2) \n",
    "- 세트1과 세트2의 교집합이 없으면 True 반환"
   ]
  },
  {
   "cell_type": "code",
   "execution_count": 14,
   "id": "cfaf88da-4cbe-46d6-a90f-6f067bff581f",
   "metadata": {},
   "outputs": [
    {
     "name": "stdout",
     "output_type": "stream",
     "text": [
      "A:{0, 1, 2}, B:{3, 4, 5}\n",
      "A.isdisjoint(B): True\n"
     ]
    }
   ],
   "source": [
    "A={i for i in range(0,3)}\n",
    "B={i for i in range(3,6)}\n",
    "print(f'A:{A}, B:{B}')\n",
    "print('A.isdisjoint(B):', A.isdisjoint(B))"
   ]
  },
  {
   "cell_type": "markdown",
   "id": "05024494-aa2a-4d15-93c2-44452986a523",
   "metadata": {},
   "source": [
    "### 연습문제"
   ]
  },
  {
   "cell_type": "markdown",
   "id": "c3148204-55c2-432a-bd17-4f42d5724a87",
   "metadata": {},
   "source": [
    "```\n",
    "아래와 같은 리스트가 있을 때 set 자료형을 통해 중복을 제거하고 출력해보세요.\n",
    "- list_sample = [1, 2, 2, 3, 3, 3, 4, 4, 4, 4]\n",
    "```"
   ]
  },
  {
   "cell_type": "code",
   "execution_count": 94,
   "id": "0e6b98da-34cf-4301-85a9-68a1cae74adb",
   "metadata": {},
   "outputs": [
    {
     "name": "stdout",
     "output_type": "stream",
     "text": [
      "{1, 2, 3, 4}\n"
     ]
    }
   ],
   "source": [
    "list_sample=[1,2,2,3,3,3,4,4,4,4]\n",
    "print(set(list_sample))"
   ]
  },
  {
   "cell_type": "markdown",
   "id": "4126110e-3873-445c-b4bf-6542cdbd3f58",
   "metadata": {},
   "source": [
    "```\n",
    "집합 컴프리헨션을 활용해서 1~100 사이의 3의 공배수를 구하고 set_3 변수에 담습니다.\n",
    "집합 컴프리헨션을 활용해서 1~100 사이의 5의 공배수를 구하고 set_5 변수에 담습니다.\n",
    "이들의 교집합을 구하고 result_set 변수에 담습니다. 그리고 그 result_set을 출력해보세요.\n",
    "- set의 특성상 출력된 값의 순서는 상관 없습니다.\n",
    "```"
   ]
  },
  {
   "cell_type": "code",
   "execution_count": 95,
   "id": "5f3f7674-c2a0-465a-9801-154e9c6daade",
   "metadata": {},
   "outputs": [
    {
     "name": "stdout",
     "output_type": "stream",
     "text": [
      "{75, 45, 15, 90, 60, 30}\n"
     ]
    }
   ],
   "source": [
    "set_3={i for i in range(1,101) if i%3==0}\n",
    "set_5={i for i in range(1,101) if i%5==0}\n",
    "\n",
    "result_set=set.intersection(set_3,set_5)\n",
    "print(result_set)"
   ]
  },
  {
   "cell_type": "markdown",
   "id": "f18deaea-a7f8-407d-bc2a-21ff5720dcbb",
   "metadata": {},
   "source": [
    "```\n",
    "시스템 관리자이자 겸직으로 인사팀에 있는 A 씨의 권한은 role_admin, role_hr,\n",
    "role_user를 갖습니다. 이때 권한마다 갖는 홈페이지 메뉴가 다음과 같습니다.\n",
    "- role_admin = (\"회계 관리\", \"인사 관리\", \"구매 관리\", \"시스템 관리\")\n",
    "- role_hr = (\"인사 관리\", \"개인정보 조회\", \"회계 관리\", \"근태 관리\")\n",
    "- role_user = (\"개인정보 조회\", \"근태 관리\")\n",
    "세 개 권한으로 부터 가질 수 있는 메뉴들를 중복 없이 오름차순으로 출력해보세요.\n",
    "```"
   ]
  },
  {
   "cell_type": "code",
   "execution_count": 110,
   "id": "337423fe-fa39-4d6e-b171-8ede74f0bcf1",
   "metadata": {},
   "outputs": [
    {
     "name": "stdout",
     "output_type": "stream",
     "text": [
      "개인정보 조회, 구매 관리, 근태 관리, 시스템 관리, 인사 관리, 회계 관리\n"
     ]
    },
    {
     "data": {
      "text/plain": [
       "\"\\nend_char=', '\\nfor item in menu:\\n    if menu[-1]==item:  \\n        end_char=''\\n    print(item, end=end_char)\\n\""
      ]
     },
     "execution_count": 110,
     "metadata": {},
     "output_type": "execute_result"
    }
   ],
   "source": [
    "role_admin=('회계 관리', '인사 관리', '구매 관리', '시스템 관리')\n",
    "role_hr=('인사 관리', '개인정보 조회', '회계 관리', '근태 관리')\n",
    "role_user=('개인정보 조회', '근태 관리')\n",
    "\n",
    "menu=list(set.union(set(role_admin),set(role_hr),set(role_user)))\n",
    "menu.sort()\n",
    "'''\n",
    "menu_set=set(role_admin+role_hr+role_user)\n",
    "menu_list=list(menu_set)\n",
    "menu_list.sort()\n",
    "'''\n",
    "for i in range(len(menu)):\n",
    "    if i == len(menu)-1:\n",
    "        print(menu[i])\n",
    "    else:\n",
    "        print(menu[i],end=', ')\n",
    "        \n",
    "'''\n",
    "end_char=', '\n",
    "for item in menu:\n",
    "    if item==menu[-1]:  \n",
    "        end_char=''\n",
    "    print(item, end=end_char)\n",
    "'''"
   ]
  },
  {
   "cell_type": "markdown",
   "id": "278b38c8-1306-4ea9-8a7f-eac7d4a50624",
   "metadata": {},
   "source": [
    "```\n",
    "2부터 입력 받은 수까지의 소수를 한줄에 7개씩 보여주는 프로그램을 작성하라.\n",
    "- 소수 : 1보다 큰 자연수 중 1과 그 수 자신만을 약수로 갖는 자연수\n",
    "- 모든 소수의 약수는 2개임\n",
    "```"
   ]
  },
  {
   "cell_type": "code",
   "execution_count": null,
   "id": "5d5e0d0c-b27a-447f-91a4-d74161f9fc45",
   "metadata": {},
   "outputs": [],
   "source": [
    "# 내가 푼 것\n",
    "print(\"2부터 입력하신 수까지의 모든 소수를 찾는 프로그램입니다.\")\n",
    "num=int(input(\"찾는 범위를 입력하세요 :\"))\n",
    "print(2,end=' ')\n",
    "count=1\n",
    "for i in range(2,num+1):\n",
    "    for j in range(2,i):\n",
    "        if i%j == 0:\n",
    "            break\n",
    "        else:\n",
    "            if j==i-1:\n",
    "                count +=1\n",
    "                if count%7==0:\n",
    "                    print(i)\n",
    "                else:\n",
    "                    print(i, end=' ')"
   ]
  },
  {
   "cell_type": "code",
   "execution_count": 4,
   "id": "8e939bce-f333-402a-98e2-bd52e63e4b98",
   "metadata": {},
   "outputs": [
    {
     "name": "stdout",
     "output_type": "stream",
     "text": [
      "2부터 입력하신 수까지의 모든 소수를 찾는 프로그램입니다.\n"
     ]
    },
    {
     "name": "stdin",
     "output_type": "stream",
     "text": [
      "찾는 범위를 입력하세요 : 100\n"
     ]
    },
    {
     "name": "stdout",
     "output_type": "stream",
     "text": [
      "2 3 5 7 11 13 17 \n",
      "19 23 29 31 37 41 43 \n",
      "47 53 59 61 67 71 73 \n",
      "79 83 89 97 "
     ]
    }
   ],
   "source": [
    "# 해답\n",
    "print(\"2부터 입력하신 수까지의 모든 소수를 찾는 프로그램입니다.\")\n",
    "inData=int(input(\"찾는 범위를 입력하세요 :\"))\n",
    "\n",
    "i=2\n",
    "line=0\n",
    "while i<=inData:\n",
    "    j=2\n",
    "    while j<=i:\n",
    "        if i%j ==0:\n",
    "            break\n",
    "        j +=1\n",
    "    if i==j:\n",
    "        print(i,end=' ')\n",
    "        line = line +1\n",
    "        if line == 7:\n",
    "            line =0\n",
    "            print()\n",
    "    i += 1"
   ]
  },
  {
   "cell_type": "code",
   "execution_count": 5,
   "id": "0332322c-0adc-4226-8455-652493cbcb0c",
   "metadata": {},
   "outputs": [
    {
     "name": "stdout",
     "output_type": "stream",
     "text": [
      "2부터 입력하신 수까지의 모든 소수를 찾는 프로그램입니다.\n"
     ]
    },
    {
     "name": "stdin",
     "output_type": "stream",
     "text": [
      "찾는 범위를 입력하세요 : 100\n"
     ]
    },
    {
     "name": "stdout",
     "output_type": "stream",
     "text": [
      "2 3 5 7 11 13 17 \n",
      "19 23 29 31 37 41 43 \n",
      "47 53 59 61 67 71 73 \n",
      "79 83 89 97 "
     ]
    }
   ],
   "source": [
    "print(\"2부터 입력하신 수까지의 모든 소수를 찾는 프로그램입니다.\")\n",
    "inData=int(input(\"찾는 범위를 입력하세요 :\"))\n",
    "line = 0\n",
    "for i in range(2,inData+1):\n",
    "    for j in range(2,i+1):\n",
    "        if i%j ==0:\n",
    "            break\n",
    "    if j==i: # i는 1과 자기자신으로 밖에 나누어 지지 않음\n",
    "        print(i,end=' ')\n",
    "        line += 1\n",
    "        if line ==7:\n",
    "            line =0\n",
    "            print()"
   ]
  },
  {
   "cell_type": "markdown",
   "id": "e05bd0a9-95d4-4238-a5cc-8424b5c8ee3a",
   "metadata": {},
   "source": [
    "# 함수(function)"
   ]
  },
  {
   "cell_type": "markdown",
   "id": "647d0136-f50c-4c96-9a22-4f3bdd18edf3",
   "metadata": {},
   "source": [
    "- 함수(function)은 독립적으로 설계된 프로그램 코드의 집합\n",
    "- 함수를 사용하면 반복적인 코드의 양을 줄여 '유지보수성'을 높여줌\n",
    "```\n",
    "* 함수 정의 *\n",
    "def 함수명(인자, 인자, ...):\n",
    "    함수 코드...\n",
    "    return 반환값\n",
    "    \n",
    "* 함수 호출 *\n",
    "함수명(인자, 인자)\n",
    "```"
   ]
  },
  {
   "cell_type": "markdown",
   "id": "495fb1cc-dae2-4a05-a554-0c6f877734e8",
   "metadata": {},
   "source": [
    "## 인자(parameter)\n",
    "- 함수 정의 부분에서 함수가 받을 수 있는 변수\n",
    "- 소괄호 안에 정의됨\n",
    "> 종류\n",
    "- 위치-키워드: 위치로 혹은 키워드로 전달될 수 있는 인자, 매개변수의 기본 형태\n",
    "- 위치 전용: / 문자를 기준으로 좌측에 위치한 인자\n",
    "- 키워드 전용: * 문자를 기준으로 우측에 위치한 인자\n",
    "- 가변위치: 위치 매개변수 외에 추가적인 위치 매개변수를 '개수에 상관없이' 받을 수 있음. 변수명 앞에 *를 앞에 하나 붙여 표기\n",
    "- 가변키워드: 키워드 매개변수 외에 추가적인 키워드 매개변수를 '개수에 상관없이' 받을 수 있음, 변수명 앞에 **를 두개 붙여 표기\n",
    "- cf)인수(arguments)는 함수 호출할 때 함수에 전달하는 실제 값을 말함"
   ]
  },
  {
   "cell_type": "code",
   "execution_count": 10,
   "id": "4804c0c2-6df8-4387-ab39-7a02e12f7bdf",
   "metadata": {},
   "outputs": [],
   "source": [
    "def function_name(positional,positional2,*args,keyword1=1,**kargs):\n",
    "    pass # body"
   ]
  },
  {
   "cell_type": "markdown",
   "id": "0be745cb-dce7-4253-a746-6d167c6b960f",
   "metadata": {},
   "source": [
    "### 위치-키워드 인자\n",
    "- 위치 인수(positional arguments) 또는 키워드 인수(keyword arguments)를 받을 수 있는 인자(parameter)"
   ]
  },
  {
   "cell_type": "code",
   "execution_count": 16,
   "id": "fa9ef446-8d97-49bf-b074-66e17ae14868",
   "metadata": {},
   "outputs": [],
   "source": [
    "def greeting(name,age):\n",
    "    print(f'{name}씨 안녕하세요. 약 {age*365.25}일 되었습니다.')"
   ]
  },
  {
   "cell_type": "code",
   "execution_count": 18,
   "id": "dd4b5072-e621-4456-86f8-6853b34774d2",
   "metadata": {},
   "outputs": [
    {
     "name": "stdout",
     "output_type": "stream",
     "text": [
      "python씨 안녕하세요. 약 11688.0일 되었습니다.\n"
     ]
    }
   ],
   "source": [
    "greeting(\"python\",32)"
   ]
  },
  {
   "cell_type": "code",
   "execution_count": 19,
   "id": "a2f9a084-d1a8-42db-8a50-4ec410b30797",
   "metadata": {},
   "outputs": [
    {
     "name": "stdout",
     "output_type": "stream",
     "text": [
      "python씨 안녕하세요. 약 11688.0일 되었습니다.\n"
     ]
    }
   ],
   "source": [
    "# 키워드인수를 활용하여 순서에 상관없이 호출 가능\n",
    "greeting(age=32,name='python')"
   ]
  },
  {
   "cell_type": "markdown",
   "id": "d195ddd6-3047-4d02-82f5-2f16dc187af2",
   "metadata": {},
   "source": [
    "### 위치 전용 인자\n",
    "- 오직 위치 인수(positional arguments)만 값의 전달이 가능합니다. \n",
    "- 위치 전용 인자를 선언하는 방법은 **슬래시(/)** 를 인자 값으로 넣고 **좌측 부분** 에 위치 전용 인자를 선언하면 됩니다."
   ]
  },
  {
   "cell_type": "code",
   "execution_count": 20,
   "id": "583e4cb6-46d0-4a69-bed7-4274b21c086c",
   "metadata": {},
   "outputs": [],
   "source": [
    "def posonly(posonly,/):\n",
    "    print(posonly)"
   ]
  },
  {
   "cell_type": "code",
   "execution_count": 21,
   "id": "241ed7f0-e00b-4d9e-a0ac-55c83e25f78b",
   "metadata": {},
   "outputs": [
    {
     "ename": "TypeError",
     "evalue": "posonly() got some positional-only arguments passed as keyword arguments: 'posonly'",
     "output_type": "error",
     "traceback": [
      "\u001b[1;31m---------------------------------------------------------------------------\u001b[0m",
      "\u001b[1;31mTypeError\u001b[0m                                 Traceback (most recent call last)",
      "\u001b[1;32m~\\AppData\\Local\\Temp\\ipykernel_17856\\4025050899.py\u001b[0m in \u001b[0;36m<module>\u001b[1;34m\u001b[0m\n\u001b[1;32m----> 1\u001b[1;33m \u001b[0mposonly\u001b[0m\u001b[1;33m(\u001b[0m\u001b[0mposonly\u001b[0m\u001b[1;33m=\u001b[0m\u001b[1;34m'키워드 인수로 전달하면 오류 발생!'\u001b[0m\u001b[1;33m)\u001b[0m\u001b[1;33m\u001b[0m\u001b[1;33m\u001b[0m\u001b[0m\n\u001b[0m",
      "\u001b[1;31mTypeError\u001b[0m: posonly() got some positional-only arguments passed as keyword arguments: 'posonly'"
     ]
    }
   ],
   "source": [
    "posonly(posonly='키워드 인수로 전달하면 오류 발생!')"
   ]
  },
  {
   "cell_type": "code",
   "execution_count": 25,
   "id": "6ac6c2a7-523f-4db9-9e74-bf5bcfc7c2cc",
   "metadata": {},
   "outputs": [
    {
     "name": "stdout",
     "output_type": "stream",
     "text": [
      "like this\n"
     ]
    }
   ],
   "source": [
    "posonly('like this')"
   ]
  },
  {
   "cell_type": "markdown",
   "id": "10fc31d8-9f31-4d62-b471-372c73147857",
   "metadata": {},
   "source": [
    "### 키워드 전용 인자\n",
    "- 오직 키워드 인수(keyword arguments)만 값의 전달이 가능합니다.\n",
    "- 키워드 전용 인자를 선언하는 방법은 **애스터리스크(*)** 를 인자값으로 넣고 **우측 부분** 에 키워드 전용 인자를 선언하면 됩니다."
   ]
  },
  {
   "cell_type": "code",
   "execution_count": 22,
   "id": "b5575c4e-8f4a-4b76-aa81-e9d9712364f4",
   "metadata": {},
   "outputs": [],
   "source": [
    "def keyonly(*,keyonly):\n",
    "    print(keyonly)"
   ]
  },
  {
   "cell_type": "code",
   "execution_count": 23,
   "id": "64b94416-ad87-4cc8-82ec-1a501814f335",
   "metadata": {},
   "outputs": [
    {
     "ename": "TypeError",
     "evalue": "keyonly() takes 0 positional arguments but 1 was given",
     "output_type": "error",
     "traceback": [
      "\u001b[1;31m---------------------------------------------------------------------------\u001b[0m",
      "\u001b[1;31mTypeError\u001b[0m                                 Traceback (most recent call last)",
      "\u001b[1;32m~\\AppData\\Local\\Temp\\ipykernel_17856\\1654419616.py\u001b[0m in \u001b[0;36m<module>\u001b[1;34m\u001b[0m\n\u001b[1;32m----> 1\u001b[1;33m \u001b[0mkeyonly\u001b[0m\u001b[1;33m(\u001b[0m\u001b[1;34m\"키워드로만 입력해야 합니다!\"\u001b[0m\u001b[1;33m)\u001b[0m\u001b[1;33m\u001b[0m\u001b[1;33m\u001b[0m\u001b[0m\n\u001b[0m",
      "\u001b[1;31mTypeError\u001b[0m: keyonly() takes 0 positional arguments but 1 was given"
     ]
    }
   ],
   "source": [
    "keyonly(\"키워드로만 입력해야 합니다!\")"
   ]
  },
  {
   "cell_type": "code",
   "execution_count": 26,
   "id": "92ea22ef-589a-4a04-9dd7-cbf5899a17d2",
   "metadata": {},
   "outputs": [
    {
     "name": "stdout",
     "output_type": "stream",
     "text": [
      "like this\n"
     ]
    }
   ],
   "source": [
    "keyonly(keyonly='like this')"
   ]
  },
  {
   "cell_type": "markdown",
   "id": "00bcf26b-f9bf-448b-b079-bcd36f9d5a4c",
   "metadata": {},
   "source": [
    "### 가변위치 인자\n",
    "- 명시된 인자 외에 추가적으로 위치 인수를 개수에 상관없이 유연하게 전달 받을 수 있습니다. \n",
    "- 가변 변수로 사용할 **변수명 앞에 '*'** 를 앞에 하나 붙여 표기합니다."
   ]
  },
  {
   "cell_type": "code",
   "execution_count": 32,
   "id": "662c76f9-075d-4da3-a652-c1f07ef570fa",
   "metadata": {},
   "outputs": [],
   "source": [
    "def var_positional(*args):\n",
    "    print(type(args))\n",
    "    return sum([i for i in args])"
   ]
  },
  {
   "cell_type": "markdown",
   "id": "b4cfae4d-14ca-46c9-ae7e-cee461490c06",
   "metadata": {},
   "source": [
    "- 가변-위치 인자에 전달할 위치 인수들(positional arguments)을 tuple로 packing한 뒤 전달합니다."
   ]
  },
  {
   "cell_type": "code",
   "execution_count": 33,
   "id": "c15759e9-cd9f-4eeb-8ecc-86452d076d56",
   "metadata": {},
   "outputs": [
    {
     "name": "stdout",
     "output_type": "stream",
     "text": [
      "<class 'tuple'>\n",
      "15\n"
     ]
    }
   ],
   "source": [
    "print(var_positional(1,2,3,4,5))"
   ]
  },
  {
   "cell_type": "code",
   "execution_count": 34,
   "id": "7a3e5064-9f0f-46cd-8a98-0eafa63bc147",
   "metadata": {},
   "outputs": [
    {
     "name": "stdout",
     "output_type": "stream",
     "text": [
      "<class 'tuple'>\n",
      "0\n"
     ]
    }
   ],
   "source": [
    "print(var_positional())"
   ]
  },
  {
   "cell_type": "code",
   "execution_count": 2,
   "id": "b4985e4b-f033-476b-9710-030ee8a50804",
   "metadata": {},
   "outputs": [],
   "source": [
    "# *args: var positional(가변위치) \n",
    "def test_func(a,b,c,*args):\n",
    "    print(f'a:{a} b:{b} c:{c}')\n",
    "    print(type(args))\n",
    "    print(args)"
   ]
  },
  {
   "cell_type": "code",
   "execution_count": 3,
   "id": "792df1b9-25f7-4a3c-a3cc-b19242b3c331",
   "metadata": {},
   "outputs": [
    {
     "name": "stdout",
     "output_type": "stream",
     "text": [
      "a:a 위치입니다. b:b 위치입니다. c:c 위치입니다.\n",
      "<class 'tuple'>\n",
      "([10, 20], range(1, 6))\n"
     ]
    }
   ],
   "source": [
    "test_func('a 위치입니다.','b 위치입니다.','c 위치입니다.',[10,20],range(1,6))"
   ]
  },
  {
   "cell_type": "markdown",
   "id": "1faf3e25-eba8-4858-b73f-39dcdab95d58",
   "metadata": {},
   "source": [
    "### 가변키워드 인자\n",
    "- 명시된 인자 외에 추가적으로 키워드 인수를 개수에 상관없이 유연하게 전달 받을 수 있습니다.\n",
    "- 가변 변수로 사용할 **변수명 앞에 '*'를 앞에 두개** 붙여 표기합니다."
   ]
  },
  {
   "cell_type": "code",
   "execution_count": 35,
   "id": "e3cf67b7-0f44-4653-8201-1c20a74d89b6",
   "metadata": {},
   "outputs": [],
   "source": [
    "def var_keyword(**kargs):\n",
    "    print(type(kargs))\n",
    "    return kargs"
   ]
  },
  {
   "cell_type": "markdown",
   "id": "961cf841-a2a4-4fd4-936f-e2d5e3bc65d0",
   "metadata": {},
   "source": [
    "- 가변-키워드 인자에 전달할 키워드 인수들(keyword arguments)을 dict로 packing한 뒤 전달합니다."
   ]
  },
  {
   "cell_type": "code",
   "execution_count": 36,
   "id": "e03123c4-046a-488c-8edf-2ad4e5f46d9f",
   "metadata": {},
   "outputs": [
    {
     "name": "stdout",
     "output_type": "stream",
     "text": [
      "<class 'dict'>\n",
      "{'key': 'value', 'key2': 'value2'}\n"
     ]
    }
   ],
   "source": [
    "print(var_keyword(key='value',key2='value2'))"
   ]
  },
  {
   "cell_type": "code",
   "execution_count": 47,
   "id": "fe9daa2a-3a92-4987-88a7-818e3f84e911",
   "metadata": {},
   "outputs": [
    {
     "name": "stdout",
     "output_type": "stream",
     "text": [
      "ab bc\n",
      "<class 'dict'>\n",
      "{'key1': 'value', 'key2': 'value2'}\n"
     ]
    }
   ],
   "source": [
    "# **kargs: var keyword(가변키워드) \n",
    "def test_func2(a='a',b='b',**kargs):\n",
    "    print(a,b)\n",
    "    print(type(kargs))\n",
    "    print(kargs)\n",
    "test_func2(a='ab',b='bc',key1='value',key2='value2')"
   ]
  },
  {
   "cell_type": "markdown",
   "id": "ab74e0b8-4f4c-4cfa-8dd2-c7ab449a067e",
   "metadata": {},
   "source": [
    "### 연습문제"
   ]
  },
  {
   "cell_type": "markdown",
   "id": "c2017b78-bfd0-442c-ac50-602b41fce958",
   "metadata": {},
   "source": [
    "```\n",
    "각 입력받은 정수를 10씩 더해서 반환하는 함수를 만들어보세요.\n",
    "- 함수명: plus_ten\n",
    "```"
   ]
  },
  {
   "cell_type": "code",
   "execution_count": 37,
   "id": "5470372c-c4b2-40fc-988a-087f36cc4354",
   "metadata": {
    "tags": []
   },
   "outputs": [
    {
     "name": "stdout",
     "output_type": "stream",
     "text": [
      "<class 'dict'>\n",
      "{}\n"
     ]
    }
   ],
   "source": [
    "print(var_keyword())"
   ]
  },
  {
   "cell_type": "code",
   "execution_count": 39,
   "id": "542abd2d-2802-4ffc-aac1-32e9ab6da5b7",
   "metadata": {},
   "outputs": [],
   "source": [
    "def plus_ten(num):\n",
    "    return num + 10"
   ]
  },
  {
   "cell_type": "code",
   "execution_count": 40,
   "id": "8e7fbb5b-9fb5-4bdd-ad03-feb8c94dbe7b",
   "metadata": {},
   "outputs": [
    {
     "data": {
      "text/plain": [
       "80"
      ]
     },
     "execution_count": 40,
     "metadata": {},
     "output_type": "execute_result"
    }
   ],
   "source": [
    "plus_ten(70)"
   ]
  },
  {
   "cell_type": "code",
   "execution_count": 42,
   "id": "ea4bf194-003a-4ad8-894c-d40595704b53",
   "metadata": {},
   "outputs": [],
   "source": [
    "# 위치-키워드 인자\n",
    "def string_line(str_value,/,str_len=70,*,sep='#'):\n",
    "    '''\n",
    "    str_value는 가운데 오는 텍스트입니다.\n",
    "    str_len은 텍스트의 설정할 길이입니다.\n",
    "    sep는 구분선을 그을 때 쓰는 문자입니다.\n",
    "    '''\n",
    "    print(str_value.center(str_len,sep))"
   ]
  },
  {
   "cell_type": "code",
   "execution_count": 43,
   "id": "8876f48e-a68f-43a7-b931-37010f7e2e4c",
   "metadata": {},
   "outputs": [
    {
     "name": "stdout",
     "output_type": "stream",
     "text": [
      "************************구분************************\n"
     ]
    }
   ],
   "source": [
    "string_line('구분',50,sep='*')"
   ]
  },
  {
   "cell_type": "code",
   "execution_count": 44,
   "id": "3d9760f6-9db4-4b40-9883-ae2f6e7352e6",
   "metadata": {},
   "outputs": [
    {
     "name": "stdout",
     "output_type": "stream",
     "text": [
      "------------------------------------------------절취선-------------------------------------------------\n"
     ]
    }
   ],
   "source": [
    "string_line('절취선',str_len=100,sep='-')"
   ]
  },
  {
   "cell_type": "markdown",
   "id": "d6e5336a-663b-47fb-9934-736a6ed98c6f",
   "metadata": {},
   "source": [
    "## Docs String \n",
    "- 함수에 대해 설명을 적음('''~~''')\n",
    "- 함수명.__doc__ 으로 호출 가능"
   ]
  },
  {
   "cell_type": "code",
   "execution_count": 7,
   "id": "70a48843-4190-4c23-b618-65b1fac982be",
   "metadata": {},
   "outputs": [
    {
     "name": "stdout",
     "output_type": "stream",
     "text": [
      "\n",
      "    Docs String 부분입니다.\n",
      "    이곳에 함수의 설명에 대해 적어놓으면 좋습니다.\n",
      "    \n"
     ]
    }
   ],
   "source": [
    "\n",
    "def function2():\n",
    "    '''\n",
    "    Docs String 부분입니다.\n",
    "    이곳에 함수의 설명에 대해 적어놓으면 좋습니다.\n",
    "    '''\n",
    "    pass\n",
    "\n",
    "print(function2.__doc__)"
   ]
  },
  {
   "cell_type": "code",
   "execution_count": 8,
   "id": "b2bc463c-a8ce-4cbf-8a45-934c2c212d7a",
   "metadata": {},
   "outputs": [
    {
     "name": "stdout",
     "output_type": "stream",
     "text": [
      "Built-in mutable sequence.\n",
      "\n",
      "If no argument is given, the constructor creates a new empty list.\n",
      "The argument must be an iterable if specified.\n"
     ]
    }
   ],
   "source": [
    "print(list.__doc__)"
   ]
  },
  {
   "cell_type": "markdown",
   "id": "6663a617-d299-4d90-a159-70a028c153ef",
   "metadata": {},
   "source": [
    "### 연습문제"
   ]
  },
  {
   "cell_type": "code",
   "execution_count": 12,
   "id": "49f9b50c-0c57-43d0-9388-f5362ba96260",
   "metadata": {},
   "outputs": [
    {
     "name": "stdout",
     "output_type": "stream",
     "text": [
      "A\n"
     ]
    }
   ],
   "source": [
    "def get_grade(score):\n",
    "    '''\n",
    "    숫자로 된 점수를 넣으시면 학점의 결과를 반환합니다.\n",
    "    '''\n",
    "    if 85 <= score <= 100:\n",
    "        return \"A\" \n",
    "    elif 70 <= score <= 84:\n",
    "        return \"B\"\n",
    "    elif 55 <= score <= 69:\n",
    "        return \"C\"\n",
    "    elif 40 <= score <= 54:\n",
    "        return \"D\"\n",
    "    elif 0 <= score <= 39:\n",
    "        return \"E\"\n",
    "\n",
    "result=get_grade(100)\n",
    "print(result)"
   ]
  },
  {
   "cell_type": "code",
   "execution_count": 15,
   "id": "3d1821ce-121a-4dad-9bc5-5f687b1c3c72",
   "metadata": {},
   "outputs": [
    {
     "name": "stdout",
     "output_type": "stream",
     "text": [
      "['E', 'A', 'E', 'B', 'D', 'A', 'E', 'C', 'C', 'E', 'B', 'E', 'D', 'A', 'E', 'E', 'B', 'E', 'B', 'E']\n"
     ]
    }
   ],
   "source": [
    "import random as rd\n",
    "\n",
    "scores=[rd.randint(1,100) for i in range(20)]\n",
    "grade=list(map(get_grade,scores))\n",
    "print(grade)"
   ]
  },
  {
   "cell_type": "code",
   "execution_count": 17,
   "id": "c5774ffd-4607-4145-8c2a-3ef69c9da4bb",
   "metadata": {},
   "outputs": [
    {
     "name": "stdout",
     "output_type": "stream",
     "text": [
      "\n",
      "    숫자로 된 점수를 넣으시면 학점의 결과를 반환합니다.\n",
      "    \n"
     ]
    }
   ],
   "source": [
    "print(get_grade.__doc__)"
   ]
  },
  {
   "cell_type": "code",
   "execution_count": 35,
   "id": "f4486ac1-1e0e-4340-b4e3-58edc0bb17c0",
   "metadata": {},
   "outputs": [
    {
     "name": "stdout",
     "output_type": "stream",
     "text": [
      "20162525, 이기수의 성적을 확인합니다.\n",
      "A\n",
      "20162525, 이기수의 성적을 확인합니다.\n",
      "A\n"
     ]
    }
   ],
   "source": [
    "def get_grade(score,student_id,name=\"허경모\"): # 기본값을 가진 인자는 맨 뒤에 \n",
    "    '''\n",
    "    숫자로 된 점수를 넣으시면 학점의 결과를 반환합니다.\n",
    "    '''\n",
    "    print(f'{student_id}, {name}의 성적을 확인합니다.')\n",
    "    if 85 <= score <= 100:\n",
    "        return \"A\" \n",
    "    elif 70 <= score <= 84:\n",
    "        return \"B\"\n",
    "    elif 55 <= score <= 69:\n",
    "        return \"C\"\n",
    "    elif 40 <= score <= 54:\n",
    "        return \"D\"\n",
    "    elif 0 <= score <= 39:\n",
    "        return \"E\"\n",
    "\n",
    "\n",
    "print(get_grade(100,20162525,\"이기수\"))\n",
    "print(get_grade(score=100,name=\"이기수\",student_id=20162525)) #위치-키워드 인자는 순서 없이 사용 가능 \n"
   ]
  }
 ],
 "metadata": {
  "kernelspec": {
   "display_name": "Python 3 (ipykernel)",
   "language": "python",
   "name": "python3"
  },
  "language_info": {
   "codemirror_mode": {
    "name": "ipython",
    "version": 3
   },
   "file_extension": ".py",
   "mimetype": "text/x-python",
   "name": "python",
   "nbconvert_exporter": "python",
   "pygments_lexer": "ipython3",
   "version": "3.9.13"
  }
 },
 "nbformat": 4,
 "nbformat_minor": 5
}
