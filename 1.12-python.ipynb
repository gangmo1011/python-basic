{
 "cells": [
  {
   "cell_type": "markdown",
   "id": "df1da395-4f27-4d56-97ac-bf339eab56de",
   "metadata": {},
   "source": [
    "# random 라이브러리\n",
    "```\n",
    "random 라이브러리의 randint(시작정수, 끝정수) 함수는\n",
    "시작정수 ~ 끝정수(포함) 사이의 수를 랜덤으로 생성\n",
    "```"
   ]
  },
  {
   "cell_type": "code",
   "execution_count": 1,
   "id": "01de49d7-3199-46ba-95e0-f0c88366e321",
   "metadata": {},
   "outputs": [
    {
     "name": "stdout",
     "output_type": "stream",
     "text": [
      "[2, 1, 2, 1, 2, 2, 1, 2, 2, 2]\n"
     ]
    }
   ],
   "source": [
    "import random as rd\n",
    "random_list=[rd.randint(1,2) for i in range(10)]\n",
    "print(random_list)"
   ]
  },
  {
   "cell_type": "markdown",
   "id": "a30ad2af-26e6-481a-83b3-e0032c49e038",
   "metadata": {},
   "source": [
    "### 연습문제"
   ]
  },
  {
   "cell_type": "code",
   "execution_count": 93,
   "id": "a44ba62d-b87e-47b0-af73-6a36fede8a20",
   "metadata": {},
   "outputs": [
    {
     "name": "stdin",
     "output_type": "stream",
     "text": [
      "로또 번호를 몇 개 드릴까요? 10\n"
     ]
    },
    {
     "name": "stdout",
     "output_type": "stream",
     "text": [
      "[4, 8, 19, 27, 32, 35]\n",
      "[11, 19, 28, 30, 32, 43]\n",
      "[7, 12, 14, 22, 24, 25]\n",
      "[12, 16, 20, 35, 37, 39]\n",
      "[27, 28, 32, 37, 38, 39]\n",
      "[15, 23, 29, 36, 40, 42]\n",
      "[2, 20, 27, 28, 32, 35]\n",
      "[5, 13, 26, 35, 36, 37]\n",
      "[2, 9, 21, 24, 32, 39]\n",
      "[15, 17, 29, 33, 38, 45]\n"
     ]
    }
   ],
   "source": [
    "# 1.세트형으로 만들어서 길이 확인 2.리스트 변환 후 정렬해서 출력 \n",
    "import random as rd\n",
    "count=int(input(\"로또 번호를 몇 개 드릴까요?\"))\n",
    "i=0\n",
    "lotto=set()\n",
    "while i<count:\n",
    "    lotto=list({rd.randint(1,45) for _ in range(6)})\n",
    "    if len(lotto) != 6:\n",
    "        continue\n",
    "    else:\n",
    "        i += 1\n",
    "    lotto.sort()\n",
    "    print(lotto)    "
   ]
  },
  {
   "cell_type": "code",
   "execution_count": 92,
   "id": "4d5652d0-6056-4583-86e4-d7106eda9669",
   "metadata": {},
   "outputs": [
    {
     "name": "stdin",
     "output_type": "stream",
     "text": [
      "로또 번호를 몇 개 드릴까요? 10\n"
     ]
    },
    {
     "name": "stdout",
     "output_type": "stream",
     "text": [
      "[1, 7, 11, 15, 30, 36]\n",
      "[1, 7, 12, 16, 38, 41]\n",
      "[12, 19, 19, 35, 37, 43]\n",
      "[1, 17, 24, 29, 40, 41]\n",
      "[2, 4, 11, 13, 31, 33]\n",
      "[13, 20, 22, 26, 30, 43]\n",
      "[1, 10, 12, 15, 42, 43]\n",
      "[5, 16, 17, 36, 42, 44]\n",
      "[10, 13, 16, 21, 30, 40]\n",
      "[9, 14, 20, 23, 37, 45]\n"
     ]
    }
   ],
   "source": [
    "# 잘못된 중복 제거 방식(양 옆 인덱스만 비교하면 서로 떨어져 있는 인덱스는 비교가 안되서 중복된 값 발생 가능)\n",
    "# 양옆으로 비교하려면 sort()한 것으로 비교 \n",
    "import random as rd\n",
    "count=int(input(\"로또 번호를 몇 개 드릴까요?\"))\n",
    "i=0\n",
    "lotto=[]\n",
    "while i<count:\n",
    "    i += 1\n",
    "    lotto=[rd.randint(1,45) for i in range(6)]\n",
    "    # 리스트 요소가 중복되면 제거 후 다시 값 받기\n",
    "    lotto.sort()\n",
    "    j=0\n",
    "    while j<5:\n",
    "        if lotto[j]==lotto[j+1]:\n",
    "            lotto[j+1]=rd.randint(1,45) \n",
    "            lotto.sort()\n",
    "            continue\n",
    "        else:\n",
    "            j +=1\n",
    "            lotto.sort()\n",
    "    print(lotto)"
   ]
  },
  {
   "cell_type": "code",
   "execution_count": 81,
   "id": "98931df5-7e66-47a9-83da-cfdc1e5bc8c0",
   "metadata": {},
   "outputs": [
    {
     "name": "stdin",
     "output_type": "stream",
     "text": [
      "로또 번호 몇 개 드릴까요? 10\n"
     ]
    },
    {
     "name": "stdout",
     "output_type": "stream",
     "text": [
      "[9, 15, 27, 35, 36, 43]\n",
      "[3, 6, 15, 25, 28, 29]\n",
      "[2, 7, 24, 39, 41, 44]\n",
      "[13, 14, 21, 41, 42, 44]\n",
      "[3, 13, 20, 27, 29, 30]\n",
      "[13, 27, 29, 30, 31, 43]\n",
      "[3, 14, 20, 26, 29, 36]\n",
      "[2, 14, 20, 21, 29, 43]\n",
      "[7, 16, 25, 30, 31, 33]\n",
      "[10, 16, 20, 23, 32, 35]\n"
     ]
    }
   ],
   "source": [
    "# lotto_number 생성 후 lotto 리스트에 없으면 추가\n",
    "count=int(input(\"로또 번호 몇 개 드릴까요?\"))\n",
    "\n",
    "for i in range(count):\n",
    "    lotto=[]\n",
    "    while len(lotto)<6:\n",
    "        lotto_number=rd.randint(1,45)\n",
    "        if lotto_number not in lotto:\n",
    "            lotto.append(lotto_number)\n",
    "    lotto.sort()\n",
    "    print(lotto)"
   ]
  },
  {
   "cell_type": "code",
   "execution_count": 85,
   "id": "8b8dcb12-83a0-49c7-9f19-57ba57b1a8d8",
   "metadata": {},
   "outputs": [
    {
     "name": "stdin",
     "output_type": "stream",
     "text": [
      "로또 번호 몇 개 드릴까요? 10\n"
     ]
    },
    {
     "name": "stdout",
     "output_type": "stream",
     "text": [
      "[6, 9, 17, 24, 34, 43]\n",
      "[6, 7, 9, 19, 28, 41]\n",
      "[8, 18, 27, 34, 35, 44]\n",
      "[6, 19, 40, 41, 43, 44]\n",
      "[6, 13, 24, 26, 29, 35]\n",
      "[6, 11, 14, 24, 33, 36]\n",
      "[16, 17, 26, 36, 38, 45]\n",
      "[9, 19, 31, 32, 33, 35]\n",
      "[2, 11, 25, 27, 29, 34]\n",
      "[3, 11, 23, 24, 29, 35]\n"
     ]
    }
   ],
   "source": [
    "# 1부터 45까지의 lotto 리스트를 만든 후 거기서 하나씩 빼서 lotto_numbers에 저장\n",
    "count=int(input(\"로또 번호 몇 개 드릴까요?\"))\n",
    "for i in range(count):\n",
    "    lotto=[j for j in range(1,46)] \n",
    "    lotto_numbers=[]\n",
    "    for _ in range(6):\n",
    "        lotto_number=lotto[rd.randint(0,len(lotto)-1)] \n",
    "        lotto_numbers.append(lotto_number)\n",
    "        lotto.remove(lotto_number)\n",
    "    lotto_numbers.sort()   \n",
    "    print(lotto_numbers)"
   ]
  },
  {
   "cell_type": "markdown",
   "id": "c543ed9c-49db-473e-8e26-814c9e38624d",
   "metadata": {},
   "source": [
    "# Set 자료형\n",
    "```\n",
    "집합과 set 자료형은 맥락이 같음\n",
    "합집합, 교집합, 차집합과 같은 처리가 가능\n",
    "{}로 묶음, 단 '{}'의 타입은 딕셔너리임 set() 함수로 생성\n",
    "인덱스를 갖지 않음(순서가 없음) set 요소 내에 중복되는 값을 갖지 않음\n",
    "딕셔너리의 키만 있는 것과 유사\n",
    "```"
   ]
  },
  {
   "cell_type": "code",
   "execution_count": 63,
   "id": "51040268-16f2-4813-93e3-ced3a92e206b",
   "metadata": {},
   "outputs": [
    {
     "data": {
      "text/plain": [
       "dict"
      ]
     },
     "execution_count": 63,
     "metadata": {},
     "output_type": "execute_result"
    }
   ],
   "source": [
    "a={}\n",
    "type(a)"
   ]
  },
  {
   "cell_type": "markdown",
   "id": "92c5974d-3c5c-431a-a107-74e892f9835d",
   "metadata": {},
   "source": [
    "## set comprehension\n",
    "```\n",
    "set_variable={expression for 변수 in ~}\n",
    "```"
   ]
  },
  {
   "cell_type": "markdown",
   "id": "0da2ffef-ed13-4237-a19b-7b3790976b88",
   "metadata": {},
   "source": [
    "## set에 값 넣는 방법(add(요소))\n",
    "```\n",
    "세트 자료형.add(요소)\n",
    "add(요소) 메서드는 한 번에 하나의 값만 넣을 수 있음\n",
    "```"
   ]
  },
  {
   "cell_type": "code",
   "execution_count": 66,
   "id": "a570db19-f7aa-4eb5-85b2-03667fa4a3ce",
   "metadata": {},
   "outputs": [
    {
     "data": {
      "text/plain": [
       "<function print>"
      ]
     },
     "execution_count": 66,
     "metadata": {},
     "output_type": "execute_result"
    }
   ],
   "source": [
    "set_variable=set()\n",
    "print"
   ]
  },
  {
   "cell_type": "markdown",
   "id": "c33b281c-b815-40c3-accb-fd3d916d6a78",
   "metadata": {},
   "source": [
    "## set의 요소 삭제하기 .remove(요소) vs .discard(요소)"
   ]
  },
  {
   "cell_type": "markdown",
   "id": "e4e9d421-a25c-4c92-96c6-ac61f46eca2e",
   "metadata": {},
   "source": [
    "```\n",
    "remove(요소)는 세트 안에 요소값이 없으면 에러 발생\n",
    "discard(요소)는 세트 안에 요소값이 없어도 에러 발생하지 않음\n",
    "```"
   ]
  },
  {
   "cell_type": "markdown",
   "id": "bcde21ef-2e0f-499f-8f03-8c3796a8efc3",
   "metadata": {},
   "source": [
    "## 요소 임의 접근 후 삭제하기 .pop()\n",
    "```\n",
    "pop()메서드는 삭제하려는 요소를 '임의로 선택'하고 '반환'한 뒤 '삭제'\n",
    "세트 자료형 내에서 더 이상 삭제할 요소가 없으면 KeyError를 발생\n",
    "```"
   ]
  },
  {
   "cell_type": "markdown",
   "id": "8bd0a7de-6738-41fe-a6b8-cadea6a01c23",
   "metadata": {},
   "source": [
    "## set 전체 삭제하기 .clear()"
   ]
  },
  {
   "cell_type": "markdown",
   "id": "35ce5c21-ec5c-48f3-8ed3-e819e4372dbb",
   "metadata": {
    "tags": []
   },
   "source": [
    "## 합집합: set.union(set1, set2) or set1 | set2 \n",
    "\n",
    "## -> 세트1, 세트2 값을 합친 것에서 중복을 제거한 집합 반환"
   ]
  },
  {
   "cell_type": "code",
   "execution_count": 86,
   "id": "cd1abbbc-79da-4f94-b996-2e882e7578e5",
   "metadata": {},
   "outputs": [
    {
     "data": {
      "text/plain": [
       "{0, 1, 2, 3, 4, 5, 6, 7}"
      ]
     },
     "execution_count": 86,
     "metadata": {},
     "output_type": "execute_result"
    }
   ],
   "source": [
    "set1={i for i in range(0,5)}\n",
    "set2={i for i in range(0,8)}\n",
    "set.union(set1,set2)"
   ]
  },
  {
   "cell_type": "markdown",
   "id": "90528f94-71d4-443a-9766-1a01e8935a8b",
   "metadata": {},
   "source": [
    "## 교집합: set.intersection(set1, set2) or set1 & set2\n",
    "## -> 세트1, 세트2 값 중 중복된 집합 반환"
   ]
  },
  {
   "cell_type": "code",
   "execution_count": 87,
   "id": "e55da9b2-a903-4967-906d-17de5bbe53f4",
   "metadata": {},
   "outputs": [
    {
     "data": {
      "text/plain": [
       "{0, 1, 2, 3, 4}"
      ]
     },
     "execution_count": 87,
     "metadata": {},
     "output_type": "execute_result"
    }
   ],
   "source": [
    "set1={i for i in range(0,5)}\n",
    "set2={i for i in range(0,8)}\n",
    "set.intersection(set1,set2)"
   ]
  },
  {
   "cell_type": "markdown",
   "id": "f39664be-8dbc-4549-99e5-d74779806e00",
   "metadata": {
    "tags": []
   },
   "source": [
    "## 차집합: set.difference(set1, set2) or set1 - set2\n",
    "## -> set1에서 set2의 값을 뺀 집합을 반환"
   ]
  },
  {
   "cell_type": "code",
   "execution_count": 89,
   "id": "a7e03d0d-e187-4616-b9f0-ba273d65242c",
   "metadata": {},
   "outputs": [
    {
     "data": {
      "text/plain": [
       "{5, 6, 7}"
      ]
     },
     "execution_count": 89,
     "metadata": {},
     "output_type": "execute_result"
    }
   ],
   "source": [
    "set1={i for i in range(0,5)}\n",
    "set2={i for i in range(0,8)}\n",
    "set.difference(set2,set1)"
   ]
  },
  {
   "cell_type": "markdown",
   "id": "25306d08-2b67-40f7-848f-67da126986bc",
   "metadata": {
    "tags": []
   },
   "source": [
    "## 대칭차집합: set.symmetric_differnce(set1, set2) or set1 ^ set2\n",
    "## -> 세트1, 세트2 전체 중 중복되지 않는 부분의 집합 반환 "
   ]
  },
  {
   "cell_type": "code",
   "execution_count": 90,
   "id": "e5199eae-837c-4cd5-aa4d-6b6afb5f7dd9",
   "metadata": {},
   "outputs": [
    {
     "data": {
      "text/plain": [
       "{5, 6, 7}"
      ]
     },
     "execution_count": 90,
     "metadata": {},
     "output_type": "execute_result"
    }
   ],
   "source": [
    "set1={i for i in range(0,5)}\n",
    "set2={i for i in range(0,8)}\n",
    "set.symmetric_difference(set1,set2)"
   ]
  },
  {
   "cell_type": "markdown",
   "id": "539d0bae-d0ca-4b76-bc26-d355d4dca007",
   "metadata": {},
   "source": [
    "## 합집합의 결과를 대입: set1.update(set2) or set1 |= set2"
   ]
  },
  {
   "cell_type": "markdown",
   "id": "c55e413a-dc5f-457d-9077-9e26356f25ec",
   "metadata": {},
   "source": [
    "## 교집합의 결과를 대입: set1.intersection_update(set2) set &= set2"
   ]
  },
  {
   "cell_type": "markdown",
   "id": "98d382a1-5455-4d93-9ea2-b0a3950ead36",
   "metadata": {},
   "source": [
    "## 차집합의 결과를 대입: set1.difference_update(set2) or set1 -= set2"
   ]
  },
  {
   "cell_type": "markdown",
   "id": "eba38308-346a-4b48-ac33-85ab92710d8d",
   "metadata": {},
   "source": [
    "## 겹치지 않는 전체 요소를 대입: set.symmetric_differnce_update()"
   ]
  },
  {
   "cell_type": "markdown",
   "id": "071886f4-bda0-451a-92ce-ff04391fbc49",
   "metadata": {},
   "source": [
    "## 부분집합: set1.issubset(set2) -> 세트1이 세트2의 부분집합이면 True 아니면 False 반환"
   ]
  },
  {
   "cell_type": "markdown",
   "id": "e901370b-6895-4ae9-a4de-d2948c2741a3",
   "metadata": {},
   "source": [
    "## 상위집합: set1.issuperset(set2) -> 세트1이 세트2의 상위집합이면 True 아니면 False 반환"
   ]
  },
  {
   "cell_type": "markdown",
   "id": "0ddd5433-3428-4019-888c-c398dbd78a81",
   "metadata": {},
   "source": [
    "## set1 < set2 -> 세트1이 세트2의 진부분집합인지 확인"
   ]
  },
  {
   "cell_type": "markdown",
   "id": "42f1cec5-6714-49c1-975a-104c355da8f5",
   "metadata": {},
   "source": [
    "## set1 == set2 -> 세트1과 세트2가 같은지 확인"
   ]
  },
  {
   "cell_type": "markdown",
   "id": "40af2890-b49a-4ea2-a733-dcc182d0c38d",
   "metadata": {},
   "source": [
    "## 세트가 겹치지 않는지 확인: set1.isdisjoint(set2) -> 세트1과 세트2의 교집합이 없으면 True 반환"
   ]
  },
  {
   "cell_type": "markdown",
   "id": "05024494-aa2a-4d15-93c2-44452986a523",
   "metadata": {},
   "source": [
    "### 연습문제"
   ]
  },
  {
   "cell_type": "code",
   "execution_count": 94,
   "id": "0e6b98da-34cf-4301-85a9-68a1cae74adb",
   "metadata": {},
   "outputs": [
    {
     "name": "stdout",
     "output_type": "stream",
     "text": [
      "{1, 2, 3, 4}\n"
     ]
    }
   ],
   "source": [
    "list_sample=[1,2,2,3,3,3,4,4,4,4]\n",
    "print(set(list_sample))"
   ]
  },
  {
   "cell_type": "code",
   "execution_count": 95,
   "id": "5f3f7674-c2a0-465a-9801-154e9c6daade",
   "metadata": {},
   "outputs": [
    {
     "name": "stdout",
     "output_type": "stream",
     "text": [
      "{75, 45, 15, 90, 60, 30}\n"
     ]
    }
   ],
   "source": [
    "set_3={i for i in range(1,101) if i%3==0}\n",
    "set_5={i for i in range(1,101) if i%5==0}\n",
    "\n",
    "result_set=set.intersection(set_3,set_5)\n",
    "print(result_set)"
   ]
  },
  {
   "cell_type": "code",
   "execution_count": 110,
   "id": "337423fe-fa39-4d6e-b171-8ede74f0bcf1",
   "metadata": {},
   "outputs": [
    {
     "name": "stdout",
     "output_type": "stream",
     "text": [
      "개인정보 조회, 구매 관리, 근태 관리, 시스템 관리, 인사 관리, 회계 관리\n"
     ]
    },
    {
     "data": {
      "text/plain": [
       "\"\\nend_char=', '\\nfor item in menu:\\n    if menu[-1]==item:  \\n        end_char=''\\n    print(item, end=end_char)\\n\""
      ]
     },
     "execution_count": 110,
     "metadata": {},
     "output_type": "execute_result"
    }
   ],
   "source": [
    "role_admin=('회계 관리', '인사 관리', '구매 관리', '시스템 관리')\n",
    "role_hr=('인사 관리', '개인정보 조회', '회계 관리', '근태 관리')\n",
    "role_user=('개인정보 조회', '근태 관리')\n",
    "\n",
    "menu=list(set.union(set(role_admin),set(role_hr),set(role_user)))\n",
    "menu.sort()\n",
    "'''\n",
    "menu_set=set(role_admin+role_hr+role_user)\n",
    "menu_list=list(menu_set)\n",
    "menu_list.sort()\n",
    "'''\n",
    "for i in range(len(menu)):\n",
    "    if i == len(menu)-1:\n",
    "        print(menu[i])\n",
    "    else:\n",
    "        print(menu[i],end=', ')\n",
    "        \n",
    "'''\n",
    "end_char=', '\n",
    "for item in menu:\n",
    "    if item==menu[-1]:  \n",
    "        end_char=''\n",
    "    print(item, end=end_char)\n",
    "'''"
   ]
  },
  {
   "cell_type": "code",
   "execution_count": null,
   "id": "1f264aff-829c-4765-bc9f-de56565b56b7",
   "metadata": {},
   "outputs": [],
   "source": []
  },
  {
   "cell_type": "code",
   "execution_count": null,
   "id": "8e939bce-f333-402a-98e2-bd52e63e4b98",
   "metadata": {},
   "outputs": [],
   "source": []
  }
 ],
 "metadata": {
  "kernelspec": {
   "display_name": "Python 3 (ipykernel)",
   "language": "python",
   "name": "python3"
  },
  "language_info": {
   "codemirror_mode": {
    "name": "ipython",
    "version": 3
   },
   "file_extension": ".py",
   "mimetype": "text/x-python",
   "name": "python",
   "nbconvert_exporter": "python",
   "pygments_lexer": "ipython3",
   "version": "3.9.13"
  }
 },
 "nbformat": 4,
 "nbformat_minor": 5
}
