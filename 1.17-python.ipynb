{
 "cells": [
  {
   "cell_type": "markdown",
   "id": "2f413602-1bfb-48da-8f6f-d776bf05c9d7",
   "metadata": {},
   "source": [
    "### 복습"
   ]
  },
  {
   "cell_type": "markdown",
   "id": "3ec1bd15-93fc-43b2-b631-d2c3650a0332",
   "metadata": {},
   "source": [
    "```\n",
    "현재까지 계산한 값을 속성 value로 갖는 계산기 클래스를 만들고자 합니다.\n",
    "- value 속성의 초기값은 0으로 갖습니다.\n",
    "- add 메서드는 value 값에 인수로 받은 값을 가산합니다.\n",
    "- minus 메서드는 value 값에 인수로 받은 값을 감산합니다.\n",
    "- show_value 메서드는 다음과 같이 현재 값을 출력합니다.\n",
    "“현재 값은 000입니다.”\n",
    "- add와 minus는 가변 인자를 활용하여 시퀀스도 처리합니다.\n",
    "- 인수가 없는 경우 “숫자를 입력해주세요\"라고 출력합니다.\n",
    "- 숫자가 아닌 값에 대해서 처리는 따로 하지 않습니다.\n",
    "```"
   ]
  },
  {
   "cell_type": "code",
   "execution_count": 254,
   "id": "15ee3fbe-6c78-4e91-97c4-d31205b065aa",
   "metadata": {},
   "outputs": [],
   "source": [
    "import numpy as np\n",
    "# np.sum 으로 해결 \n",
    "class Calculator:\n",
    "    def __init__(self):\n",
    "        self.value=0\n",
    "        \n",
    "    def add(self,*numbers):\n",
    "        if len(numbers)==0:\n",
    "            print('숫자를 입력해주세요.')\n",
    "        self.value += np.sum(numbers)\n",
    "        \n",
    "    def minus(self,*numbers):\n",
    "        if len(numbers)==0:\n",
    "            print('숫자를 입력해주세요.')\n",
    "        self.value -= np.sum(numbers)\n",
    "        \n",
    "    def show_value(self):\n",
    "        print(f'현재 값은 {int(self.value)}입니다.')"
   ]
  },
  {
   "cell_type": "code",
   "execution_count": 308,
   "id": "81acc311-10b1-443e-aaef-2203318a9c02",
   "metadata": {},
   "outputs": [],
   "source": [
    "import numpy as np\n",
    "# 반복문으로 해결\n",
    "class Calculator:\n",
    "    def __init__(self):\n",
    "        self.value=0\n",
    "        \n",
    "    def add(self,*numbers):\n",
    "        if len(numbers)==0:\n",
    "            print('숫자를 입력해주세요.')\n",
    "        for i in numbers:\n",
    "            if type(i)==int:\n",
    "                self.value += i\n",
    "            else:\n",
    "                self.value += sum(i)\n",
    "        \n",
    "    def minus(self,*numbers):\n",
    "        if len(numbers)==0:\n",
    "            print('숫자를 입력해주세요.')\n",
    "        for i in numbers:\n",
    "            if type(i)==int:\n",
    "                self.value -= i\n",
    "            else:\n",
    "                self.value -= sum(i)\n",
    "        \n",
    "    def show_value(self):\n",
    "        print(f'현재 값은 {int(self.value)}입니다.')"
   ]
  },
  {
   "cell_type": "code",
   "execution_count": 428,
   "id": "f8da78f8-0989-46bf-be3b-16e1c4a32975",
   "metadata": {},
   "outputs": [],
   "source": [
    "# 답안\n",
    "import numpy as np\n",
    "class  Calculator:\n",
    "    def __init__(self):\n",
    "        self.value=0\n",
    "    \n",
    "    def add(self, *number):\n",
    "        if len(number)>0:\n",
    "            num = np.array(number) # 시퀀스 안에 시퀀스가 여러 개 있으면 2차원 배열로 만들어짐 (튜플 안에 리스트)\n",
    "            self.value += np.sum(num)\n",
    "        else:\n",
    "            print('숫자 입력')\n",
    "            \n",
    "    def minus(self, *number):\n",
    "        if len(number) > 0:\n",
    "            num = np.array(number)\n",
    "            self.value -= np.sum(num)\n",
    "        else:\n",
    "            print('숫자 입력')\n",
    "            \n",
    "    def show_value(self):\n",
    "        print(f'현재 값은 {self.value}입니다.')"
   ]
  },
  {
   "cell_type": "code",
   "execution_count": 429,
   "id": "b2057f71-0fa2-4612-8753-86fea0912766",
   "metadata": {},
   "outputs": [],
   "source": [
    "c=Calculator()"
   ]
  },
  {
   "cell_type": "code",
   "execution_count": 430,
   "id": "5ddf2b33-97dc-489c-b580-172011922ee0",
   "metadata": {},
   "outputs": [],
   "source": [
    "c.add(100)"
   ]
  },
  {
   "cell_type": "code",
   "execution_count": 431,
   "id": "38f02134-d380-4185-8333-f520aab226af",
   "metadata": {},
   "outputs": [],
   "source": [
    "c.minus(20)"
   ]
  },
  {
   "cell_type": "code",
   "execution_count": 432,
   "id": "c8b14eac-f84d-4cfe-aa6c-a1d3608fa09a",
   "metadata": {},
   "outputs": [
    {
     "name": "stdout",
     "output_type": "stream",
     "text": [
      "현재 값은 80입니다.\n"
     ]
    }
   ],
   "source": [
    "c.show_value()"
   ]
  },
  {
   "cell_type": "code",
   "execution_count": 433,
   "id": "2956b0a1-91b4-4f08-986e-97a16031de4e",
   "metadata": {},
   "outputs": [
    {
     "name": "stdout",
     "output_type": "stream",
     "text": [
      "숫자 입력\n"
     ]
    }
   ],
   "source": [
    "c.add()"
   ]
  },
  {
   "cell_type": "code",
   "execution_count": 434,
   "id": "92f3654e-dfbc-430a-8656-acc75d200685",
   "metadata": {},
   "outputs": [],
   "source": [
    "c.minus([10,20])"
   ]
  },
  {
   "cell_type": "code",
   "execution_count": 435,
   "id": "3662b05d-dfd8-4ae7-8219-8d2887323fce",
   "metadata": {},
   "outputs": [
    {
     "name": "stdout",
     "output_type": "stream",
     "text": [
      "현재 값은 50입니다.\n"
     ]
    }
   ],
   "source": [
    "c.show_value()"
   ]
  },
  {
   "cell_type": "code",
   "execution_count": 436,
   "id": "bf9dd974-a089-4eab-9b30-4be2c820c6ff",
   "metadata": {},
   "outputs": [],
   "source": [
    "c.add(range(1,6))"
   ]
  },
  {
   "cell_type": "code",
   "execution_count": 437,
   "id": "db253371-5d7b-492b-ba61-fdd9b003a8d5",
   "metadata": {},
   "outputs": [
    {
     "name": "stdout",
     "output_type": "stream",
     "text": [
      "현재 값은 65입니다.\n"
     ]
    }
   ],
   "source": [
    "c.show_value()"
   ]
  },
  {
   "cell_type": "markdown",
   "id": "4a1def1c-bd14-46ce-a572-5b7780217b56",
   "metadata": {
    "tags": []
   },
   "source": [
    "# Numpy"
   ]
  },
  {
   "cell_type": "markdown",
   "id": "8887c3a6-cd0d-41fa-aa38-eb53ada60dbc",
   "metadata": {},
   "source": [
    "## 브로드캐스팅\n",
    "- 모양이 다른 배열 간의 연산이 가능하도록 배열의 크기를 변환\n",
    "- 더 작은 배열이 더 큰 배열에 호환되는 모양으로 확장하는 식으로 진행\n",
    "- 모든 경우에 브로드캐스팅이 되는 것은 아님 \n",
    "> 확장이 가능한 경우를 확인하는 규칙\n",
    "- 넘파이 배열의 shape을 우측 정렬하고 각 차원별로 숫자를 비교\n",
    "- 비교하는 모든 차원이 두 조건 중 하나에 충족되어야 함\n",
    "- 해당 차원 간의 숫자가 동일하거나, 해당 차원 중 하나가 1인 경우\n",
    "- ex) 3x4x5 / 4x1 -> 3x4x5 로 확장\n",
    "- ex) 3x4x5 / 3x2 -> 불가능"
   ]
  },
  {
   "cell_type": "code",
   "execution_count": 438,
   "id": "6808bab3-a5b1-4a57-9068-0568281e0da8",
   "metadata": {},
   "outputs": [
    {
     "data": {
      "text/plain": [
       "array([2., 4., 6.])"
      ]
     },
     "execution_count": 438,
     "metadata": {},
     "output_type": "execute_result"
    }
   ],
   "source": [
    "#배열과 스칼라 값이 연산에서 결합될 때 \n",
    "a=np.array([1.0,2.0,3.0])\n",
    "b=2.0\n",
    "a*b"
   ]
  },
  {
   "cell_type": "code",
   "execution_count": 439,
   "id": "bf975c90-16b0-4292-ba57-864a88e8e7ef",
   "metadata": {},
   "outputs": [
    {
     "name": "stdout",
     "output_type": "stream",
     "text": [
      "[0 1 2 3 4]\n",
      "[1 1 1 1 1]\n",
      "[1 2 3 4 5]\n",
      "[1 2 3 4 5]\n"
     ]
    }
   ],
   "source": [
    "x=np.arange(5)\n",
    "print(x)\n",
    "y=np.ones_like(x)\n",
    "print(y)\n",
    "print(x+y)\n",
    "print(x+1)"
   ]
  },
  {
   "cell_type": "markdown",
   "id": "7383db63-9628-4a8a-8d30-f3892b160e4b",
   "metadata": {},
   "source": [
    "## 차원 축소 연산\n",
    "- 하나의 행에 있는 원소들을 하나의 데이터 집합으로 보고 그 집합의 평균을 구하면 각 행에 대해 하나의 숫자가 나오게 됨\n",
    "- 예를 들어 (10,5) 크기의 2차원 배열에 대해 행-평균을 구하면 10개의 숫자를 가진 1차원 벡터가 나오게 됨\n",
    "- 이러한 연산을 차원 축소(dimension reduction) 연산이라고 함\n",
    "> 축소 연산 메서드\n",
    "- 최대/최소: min, max, argmin, argmax\n",
    "- 통계: sum, mean, median, std, var\n",
    "- 불리언: all, any"
   ]
  },
  {
   "cell_type": "markdown",
   "id": "7b41adf2-9b21-4325-be4e-d1bd57a778be",
   "metadata": {},
   "source": [
    "### sum()\n",
    "- 해당 배열의 합산 결과를 반환\n",
    "- 연산 대상이 2차원 이상일 때에는 axis 키워드 인수를 사용\n",
    "- 2차원일 경우 axis=0은 행 간(세로)의 연산 / axis=1은 열 간(가로)의 연산"
   ]
  },
  {
   "cell_type": "code",
   "execution_count": 328,
   "id": "33f0542d-0c4d-4988-9cb5-bf7547818ab6",
   "metadata": {},
   "outputs": [
    {
     "name": "stdout",
     "output_type": "stream",
     "text": [
      "10\n",
      "10\n"
     ]
    }
   ],
   "source": [
    "x=np.array([1,2,3,4])\n",
    "print(np.sum(x))\n",
    "print(x.sum())"
   ]
  },
  {
   "cell_type": "code",
   "execution_count": 327,
   "id": "74a18705-1d5b-418e-9a30-0d52cf9a5c7c",
   "metadata": {},
   "outputs": [
    {
     "name": "stdout",
     "output_type": "stream",
     "text": [
      "[[ 0  1  2  3]\n",
      " [ 4  5  6  7]\n",
      " [ 8  9 10 11]]\n",
      "[12 15 18 21]\n",
      "[ 6 22 38]\n"
     ]
    }
   ],
   "source": [
    "x=np.arange(12).reshape(3,-1)\n",
    "print(x)\n",
    "print(x.sum(axis=0)) \n",
    "print(x.sum(axis=1))"
   ]
  },
  {
   "cell_type": "markdown",
   "id": "51d412ec-e097-41ff-a83a-7d400b006e3b",
   "metadata": {},
   "source": [
    "### min() / max()\n",
    "- 해당 배열의 가장 작은(큰) 값의 결과를 반환\n",
    "- 연산 대상이 2차원 이상일 때에는 axis 키워드 인수를 사용 (2차원 일때 axis=0- 행, 1- 열 // 3차원 일때 axis=0- 깊이, 1- 행, 2-열)\n"
   ]
  },
  {
   "cell_type": "code",
   "execution_count": 329,
   "id": "1d582b26-f4b4-4c5b-906f-e393cc7c0a95",
   "metadata": {},
   "outputs": [
    {
     "data": {
      "text/plain": [
       "array([[[ 0,  1],\n",
       "        [ 2,  3],\n",
       "        [ 4,  5],\n",
       "        [ 6,  7],\n",
       "        [ 8,  9]],\n",
       "\n",
       "       [[10, 11],\n",
       "        [12, 13],\n",
       "        [14, 15],\n",
       "        [16, 17],\n",
       "        [18, 19]]])"
      ]
     },
     "execution_count": 329,
     "metadata": {},
     "output_type": "execute_result"
    }
   ],
   "source": [
    "x=np.arange(20).reshape(2,5,-1)\n",
    "x"
   ]
  },
  {
   "cell_type": "code",
   "execution_count": 330,
   "id": "99bb929b-6d25-4fa4-a347-393307a08b0d",
   "metadata": {},
   "outputs": [
    {
     "data": {
      "text/plain": [
       "0"
      ]
     },
     "execution_count": 330,
     "metadata": {},
     "output_type": "execute_result"
    }
   ],
   "source": [
    "x.min()"
   ]
  },
  {
   "cell_type": "code",
   "execution_count": 331,
   "id": "726b61cc-6572-44a8-89bc-8c87221f774c",
   "metadata": {},
   "outputs": [
    {
     "data": {
      "text/plain": [
       "0"
      ]
     },
     "execution_count": 331,
     "metadata": {},
     "output_type": "execute_result"
    }
   ],
   "source": [
    "np.min(x)"
   ]
  },
  {
   "cell_type": "code",
   "execution_count": 332,
   "id": "a22e5703-e295-496b-aeb7-624d2ae9c811",
   "metadata": {},
   "outputs": [
    {
     "data": {
      "text/plain": [
       "array([[0, 1],\n",
       "       [2, 3],\n",
       "       [4, 5],\n",
       "       [6, 7],\n",
       "       [8, 9]])"
      ]
     },
     "execution_count": 332,
     "metadata": {},
     "output_type": "execute_result"
    }
   ],
   "source": [
    "x.min(axis=0)"
   ]
  },
  {
   "cell_type": "code",
   "execution_count": 333,
   "id": "d1cf472b-cf1b-40e1-ad0c-042433da8afc",
   "metadata": {},
   "outputs": [
    {
     "data": {
      "text/plain": [
       "array([[ 0,  1],\n",
       "       [10, 11]])"
      ]
     },
     "execution_count": 333,
     "metadata": {},
     "output_type": "execute_result"
    }
   ],
   "source": [
    "np.min(x,axis=1)"
   ]
  },
  {
   "cell_type": "code",
   "execution_count": 334,
   "id": "3f1a40b4-8f81-474e-8e6c-efe9ad182eed",
   "metadata": {},
   "outputs": [
    {
     "data": {
      "text/plain": [
       "array([[ 0,  2,  4,  6,  8],\n",
       "       [10, 12, 14, 16, 18]])"
      ]
     },
     "execution_count": 334,
     "metadata": {},
     "output_type": "execute_result"
    }
   ],
   "source": [
    "x.min(axis=2)"
   ]
  },
  {
   "cell_type": "markdown",
   "id": "1e6fe8ad-39e7-4132-8254-fa7ebb09360a",
   "metadata": {},
   "source": [
    "### argmin() / argmax()\n",
    "- 해당 배열의 제일 작은(큰) 값의 **인덱스**를 반환\n",
    "- 연산 대상이 2차원 이상일 때에는 axis 키워드 인수를 사용"
   ]
  },
  {
   "cell_type": "code",
   "execution_count": 335,
   "id": "cbc52cde-20a3-4fbf-9b19-382fd0873fc4",
   "metadata": {},
   "outputs": [
    {
     "data": {
      "text/plain": [
       "array([[[ 0,  1],\n",
       "        [ 2,  3],\n",
       "        [ 4,  5],\n",
       "        [ 6,  7],\n",
       "        [ 8,  9]],\n",
       "\n",
       "       [[10, 11],\n",
       "        [12, 13],\n",
       "        [14, 15],\n",
       "        [16, 17],\n",
       "        [18, 19]]])"
      ]
     },
     "execution_count": 335,
     "metadata": {},
     "output_type": "execute_result"
    }
   ],
   "source": [
    "x=np.arange(20).reshape(2,5,-1)\n",
    "x"
   ]
  },
  {
   "cell_type": "code",
   "execution_count": 336,
   "id": "abaa029d-a1c3-486a-ac80-c34d6b8529cc",
   "metadata": {},
   "outputs": [
    {
     "data": {
      "text/plain": [
       "0"
      ]
     },
     "execution_count": 336,
     "metadata": {},
     "output_type": "execute_result"
    }
   ],
   "source": [
    "x.argmin()"
   ]
  },
  {
   "cell_type": "markdown",
   "id": "14692e57-a185-4f21-a786-b3c5352a68d4",
   "metadata": {},
   "source": [
    "np.argmin(x)"
   ]
  },
  {
   "cell_type": "code",
   "execution_count": 338,
   "id": "642bae82-805d-459b-b261-dfb24214a027",
   "metadata": {},
   "outputs": [
    {
     "data": {
      "text/plain": [
       "array([[0, 0],\n",
       "       [0, 0],\n",
       "       [0, 0],\n",
       "       [0, 0],\n",
       "       [0, 0]], dtype=int64)"
      ]
     },
     "execution_count": 338,
     "metadata": {},
     "output_type": "execute_result"
    }
   ],
   "source": [
    "x.argmin(axis=0)"
   ]
  },
  {
   "cell_type": "code",
   "execution_count": 339,
   "id": "0b33be60-2f65-42a7-be25-3c04d2d1ebda",
   "metadata": {},
   "outputs": [
    {
     "data": {
      "text/plain": [
       "array([[0, 0],\n",
       "       [0, 0]], dtype=int64)"
      ]
     },
     "execution_count": 339,
     "metadata": {},
     "output_type": "execute_result"
    }
   ],
   "source": [
    "np.argmin(x,axis=1)"
   ]
  },
  {
   "cell_type": "code",
   "execution_count": 340,
   "id": "fb53a66c-138c-4e74-9fc3-16896adc1199",
   "metadata": {},
   "outputs": [
    {
     "data": {
      "text/plain": [
       "array([[0, 0, 0, 0, 0],\n",
       "       [0, 0, 0, 0, 0]], dtype=int64)"
      ]
     },
     "execution_count": 340,
     "metadata": {},
     "output_type": "execute_result"
    }
   ],
   "source": [
    "np.argmin(x,axis=2)"
   ]
  },
  {
   "cell_type": "markdown",
   "id": "bdc36cfd-3022-4815-9bbe-18aa61a1d63d",
   "metadata": {
    "tags": []
   },
   "source": [
    "### mean(), median(), np.all(), np.any()\n",
    "- mean(): 평균\n",
    "- median(): 중앙값\n",
    "- np.all(): 배열요소가 모두 True이면 True 반환\n",
    "- np.any(): 배열요소가 하나라도 True면 True 반환"
   ]
  },
  {
   "cell_type": "code",
   "execution_count": 341,
   "id": "94438367-4db7-4833-92c2-f129d4fd0aae",
   "metadata": {},
   "outputs": [],
   "source": [
    "x=np.array([1,2,3,1])"
   ]
  },
  {
   "cell_type": "code",
   "execution_count": 342,
   "id": "b1eff1b7-6c50-4129-8add-a91a0bf4a6a9",
   "metadata": {},
   "outputs": [
    {
     "data": {
      "text/plain": [
       "1.75"
      ]
     },
     "execution_count": 342,
     "metadata": {},
     "output_type": "execute_result"
    }
   ],
   "source": [
    "x.mean()"
   ]
  },
  {
   "cell_type": "code",
   "execution_count": 343,
   "id": "802c20f9-cda2-4c03-b558-a8ed1a4d38b2",
   "metadata": {},
   "outputs": [
    {
     "data": {
      "text/plain": [
       "1.5"
      ]
     },
     "execution_count": 343,
     "metadata": {},
     "output_type": "execute_result"
    }
   ],
   "source": [
    "np.median(x)"
   ]
  },
  {
   "cell_type": "markdown",
   "id": "f4996658-8602-4286-b9de-c396ef69598b",
   "metadata": {},
   "source": [
    "### 연습문제"
   ]
  },
  {
   "cell_type": "markdown",
   "id": "cab82772-f97c-4001-b34f-7f1ad3c19f9f",
   "metadata": {},
   "source": [
    "```\n",
    "실수로 이루어진 5 x 6 형태의 데이터 행렬을 만들고 이 데이터에 대해 다음과 같은 값을\n",
    "구한다.\n",
    "1. 전체의 최대값\n",
    "2. 행 간의 합\n",
    "3. 행 간의 최대값\n",
    "4. 열 간의 평균\n",
    "5. 열 간의 최소값\n",
    "```"
   ]
  },
  {
   "cell_type": "code",
   "execution_count": 347,
   "id": "da478599-2c7a-423a-b0c3-9c6bcb85eb32",
   "metadata": {},
   "outputs": [
    {
     "name": "stdout",
     "output_type": "stream",
     "text": [
      "9.0\n",
      "[20.1 27.  23.6 26.  28.2 26.5]\n",
      "[8.2 8.8 8.  9.  7.7 8.9]\n",
      "[5.33333333 5.11666667 5.71666667 4.11666667 4.95      ]\n",
      "[1.1 2.7 0.7 0.2 2.7]\n"
     ]
    }
   ],
   "source": [
    "practice = np.array([[1.1, 7.1, 8.0, 2.1, 6.5, 7.2],\n",
    "                     [2.7, 5.2, 3.3, 9.0, 7.7, 2.8],\n",
    "                     [0.7, 8.8, 4.2, 8.9, 4.3, 7.4],\n",
    "                     [8.2, 1.1, 5.4, 2.9, 6.9, 0.2],\n",
    "                     [7.4, 4.8, 2.7, 3.1, 2.8, 8.9]])\n",
    "\n",
    "print(practice.max())\n",
    "print(practice.sum(axis=0))\n",
    "print(practice.max(axis=0))\n",
    "print(practice.mean(axis=1))\n",
    "print(practice.min(axis=1))"
   ]
  },
  {
   "cell_type": "markdown",
   "id": "78ef825a-c92d-4673-8322-a2d6c9c8575f",
   "metadata": {},
   "source": [
    "## 정렬 sort()\n",
    "- 배열 안의 원소를 크기에 따라 정렬하여 새로운 배열을 만듦\n",
    "- 2차원 이상인 경우에는 axis 키워드 인수를 사용\n",
    "- ndarray.sort() 메서드는 **해당 객체의 자료 자체가 변화**하는 자체변화 메서드이므로 사용시 주의!!"
   ]
  },
  {
   "cell_type": "code",
   "execution_count": 354,
   "id": "76457ce8-0692-4b27-9d54-ba262ca79348",
   "metadata": {},
   "outputs": [
    {
     "name": "stdout",
     "output_type": "stream",
     "text": [
      "[[2 3 8 9]\n",
      " [2 3 5 6]\n",
      " [1 7 8 9]]\n",
      "[[3 1 6 2]\n",
      " [5 2 8 7]\n",
      " [9 3 8 9]]\n"
     ]
    }
   ],
   "source": [
    "a=np.array([[3,2,8,9],\n",
    "           [5,3,6,2],\n",
    "           [9,1,8,7]])\n",
    "print(np.sort(a,axis=1))\n",
    "print(np.sort(a,axis=0))"
   ]
  },
  {
   "cell_type": "markdown",
   "id": "d9572bf2-f87e-4799-ab6f-685eed43f738",
   "metadata": {},
   "source": [
    "### argsort()\n",
    "- 오름차순대로의 인덱스 순서를 가져옴"
   ]
  },
  {
   "cell_type": "code",
   "execution_count": 355,
   "id": "890e7f5b-1f6a-4aa9-8669-d42236784ab8",
   "metadata": {},
   "outputs": [
    {
     "data": {
      "text/plain": [
       "array([2, 3, 1, 0], dtype=int64)"
      ]
     },
     "execution_count": 355,
     "metadata": {},
     "output_type": "execute_result"
    }
   ],
   "source": [
    "a=np.array([42,38,12,25])\n",
    "j=np.argsort(a)\n",
    "j"
   ]
  },
  {
   "cell_type": "markdown",
   "id": "bcac2796-cf16-493a-a1ef-b56caa671850",
   "metadata": {},
   "source": [
    "a[j]"
   ]
  },
  {
   "cell_type": "code",
   "execution_count": 357,
   "id": "43f45db1-294c-4b94-b3d5-3b4bed655b24",
   "metadata": {},
   "outputs": [
    {
     "data": {
      "text/plain": [
       "array([12, 25, 38, 42])"
      ]
     },
     "execution_count": 357,
     "metadata": {},
     "output_type": "execute_result"
    }
   ],
   "source": [
    "a[[2,3,1,0]]"
   ]
  },
  {
   "cell_type": "markdown",
   "id": "72263173-53a2-4104-ab5c-ea8af27fee19",
   "metadata": {},
   "source": [
    "## 고급 인덱싱"
   ]
  },
  {
   "cell_type": "markdown",
   "id": "fa645523-c82a-439e-a33b-b5952084c385",
   "metadata": {},
   "source": [
    "### 연습문제"
   ]
  },
  {
   "cell_type": "code",
   "execution_count": 395,
   "id": "e2f8788c-8bf2-4fab-bca9-0ea088ed510b",
   "metadata": {},
   "outputs": [
    {
     "data": {
      "text/plain": [
       "array([0, 3, 1, 2], dtype=int64)"
      ]
     },
     "execution_count": 395,
     "metadata": {},
     "output_type": "execute_result"
    }
   ],
   "source": [
    "scores=np.array([[1,  2,  3,  4],\n",
    "                [46, 99, 100, 71],\n",
    "                [81, 59, 90, 100]])\n",
    "eng_ranking=np.argsort(scores[1,:])\n",
    "eng_ranking"
   ]
  },
  {
   "cell_type": "code",
   "execution_count": 396,
   "id": "0b3b7a86-683e-4b58-a91c-4501e2228db2",
   "metadata": {},
   "outputs": [
    {
     "data": {
      "text/plain": [
       "array([[  1,   4,   2,   3],\n",
       "       [ 46,  71,  99, 100],\n",
       "       [ 81, 100,  59,  90]])"
      ]
     },
     "execution_count": 396,
     "metadata": {},
     "output_type": "execute_result"
    }
   ],
   "source": [
    "scores[:,eng_ranking]"
   ]
  },
  {
   "cell_type": "markdown",
   "id": "e58e9d6f-44fd-413f-98ae-e572c7cef04c",
   "metadata": {},
   "source": [
    "## 기술 통계\n",
    "### 표본평균: 표본들의 평균 \n",
    "### 표본분산: 표본들이 표본평균과 떨어져 있는 정도\n",
    "### 표준편차: 표본 분산의 양의 제곱근 값 \n",
    "### 사분위수: percentile(array,percent)"
   ]
  },
  {
   "cell_type": "markdown",
   "id": "73433ff5-b7d8-467f-b45d-4b8f30980ce6",
   "metadata": {},
   "source": [
    "## 난수 발생과 카운팅\n",
    "- Numpy의 random 서브패키지 (표준 라이브러리인 random과 다름)"
   ]
  },
  {
   "cell_type": "markdown",
   "id": "670a27ce-2cf3-4d4d-bfd9-7d8683389698",
   "metadata": {},
   "source": [
    "### 시드 설정하기\n",
    "- seed 인수로는 0과 같거나 큰 정수를 넣어줌"
   ]
  },
  {
   "cell_type": "code",
   "execution_count": 399,
   "id": "d26e7d4c-6ea8-4e39-90c3-748381ff740f",
   "metadata": {},
   "outputs": [
    {
     "data": {
      "text/plain": [
       "array([0.5488135 , 0.71518937, 0.60276338, 0.54488318, 0.4236548 ])"
      ]
     },
     "execution_count": 399,
     "metadata": {},
     "output_type": "execute_result"
    }
   ],
   "source": [
    "np.random.seed(0)\n",
    "# rand 함수는 0~1 사이의 난수 발생\n",
    "np.random.rand(5)"
   ]
  },
  {
   "cell_type": "code",
   "execution_count": 400,
   "id": "28c48936-3075-41d5-a14f-68cb60bea4e4",
   "metadata": {},
   "outputs": [
    {
     "data": {
      "text/plain": [
       "array([0.64589411, 0.43758721, 0.891773  , 0.96366276, 0.38344152,\n",
       "       0.79172504, 0.52889492, 0.56804456, 0.92559664, 0.07103606])"
      ]
     },
     "execution_count": 400,
     "metadata": {},
     "output_type": "execute_result"
    }
   ],
   "source": [
    "np.random.rand(10)"
   ]
  },
  {
   "cell_type": "code",
   "execution_count": 401,
   "id": "78ce0ae8-9883-48bf-a61b-eebf3ac7e04a",
   "metadata": {},
   "outputs": [],
   "source": [
    "np.random.seed(0)"
   ]
  },
  {
   "cell_type": "code",
   "execution_count": 402,
   "id": "77fb146a-6837-421a-b85c-dcc50f7e314f",
   "metadata": {},
   "outputs": [
    {
     "data": {
      "text/plain": [
       "array([0.5488135 , 0.71518937, 0.60276338, 0.54488318, 0.4236548 ])"
      ]
     },
     "execution_count": 402,
     "metadata": {},
     "output_type": "execute_result"
    }
   ],
   "source": [
    "np.random.rand(5)"
   ]
  },
  {
   "cell_type": "code",
   "execution_count": 403,
   "id": "131d5724-e5f0-4f16-ada1-4846e953e63a",
   "metadata": {},
   "outputs": [
    {
     "data": {
      "text/plain": [
       "array([0.64589411, 0.43758721, 0.891773  , 0.96366276, 0.38344152,\n",
       "       0.79172504, 0.52889492, 0.56804456, 0.92559664, 0.07103606])"
      ]
     },
     "execution_count": 403,
     "metadata": {},
     "output_type": "execute_result"
    }
   ],
   "source": [
    "np.random.rand(10)"
   ]
  },
  {
   "cell_type": "markdown",
   "id": "e71153d2-37ef-4344-94d6-0a0eded37d83",
   "metadata": {},
   "source": [
    "### 데이터의 순서 바꾸기\n",
    "- shuffle()\n",
    "- 자체 변환(in-place)함수로 한 번 사용하면 변수의 값이 바뀜"
   ]
  },
  {
   "cell_type": "markdown",
   "id": "39319124-e349-4e08-a59c-f4c33354197b",
   "metadata": {},
   "source": [
    "#### 데이터 샘플링\n",
    "- 표본에서 일부를 무작위로 선택하는 것을 sampling이라고 함\n",
    "- choice()\n",
    "> numpy.random.choice(a, size=None, replace=True, p=None)\n",
    "- a: 배열이면 원래의 데이터, 정수이면 arange(a) 명령으로 데이터 생성\n",
    "- size: 정수, 샘플 숫자\n",
    "- replace: 불리언, True이면 한 번 선택한 데이터를 다시 선택 가능\n",
    "- p: 배열, 각 데이터가 선택될 수 있는 확률"
   ]
  },
  {
   "cell_type": "code",
   "execution_count": 405,
   "id": "40c9b49b-6bbd-499a-afcf-9acc927b0385",
   "metadata": {},
   "outputs": [
    {
     "data": {
      "text/plain": [
       "array([2, 4, 3, 0, 1])"
      ]
     },
     "execution_count": 405,
     "metadata": {},
     "output_type": "execute_result"
    }
   ],
   "source": [
    "np.random.choice(5,5,replace=False)"
   ]
  },
  {
   "cell_type": "code",
   "execution_count": 406,
   "id": "1992d1b3-6fe2-47d5-ac1b-0522bc27167a",
   "metadata": {},
   "outputs": [
    {
     "data": {
      "text/plain": [
       "array([3, 1, 4])"
      ]
     },
     "execution_count": 406,
     "metadata": {},
     "output_type": "execute_result"
    }
   ],
   "source": [
    "np.random.choice(5,3,replace=False)"
   ]
  },
  {
   "cell_type": "code",
   "execution_count": 408,
   "id": "2d80a7c4-5f55-4b10-9d33-f5a84142f60b",
   "metadata": {},
   "outputs": [
    {
     "data": {
      "text/plain": [
       "array([3, 3, 0, 1, 1, 1, 0, 2, 4, 3])"
      ]
     },
     "execution_count": 408,
     "metadata": {},
     "output_type": "execute_result"
    }
   ],
   "source": [
    "np.random.choice(5,10)"
   ]
  },
  {
   "cell_type": "code",
   "execution_count": 412,
   "id": "af787689-f0ec-4190-8a6b-8d0c1e2c4488",
   "metadata": {},
   "outputs": [
    {
     "data": {
      "text/plain": [
       "array([2, 3, 2, 2, 2, 2, 2, 2, 3, 3])"
      ]
     },
     "execution_count": 412,
     "metadata": {},
     "output_type": "execute_result"
    }
   ],
   "source": [
    "np.random.choice(5,10,p=[0.1,0,0.3,0.6,0])"
   ]
  },
  {
   "cell_type": "markdown",
   "id": "2d16792f-f302-42d2-a693-a1e0e2be3ba8",
   "metadata": {},
   "source": [
    "### 난수 생성\n",
    "- rand: 0부터 1사이의 균일 분포\n",
    "- randn: 표본 정규 분포\n",
    "- randint: 균일 분포의 정수 난수 "
   ]
  },
  {
   "cell_type": "markdown",
   "id": "37919d0d-23ad-4f76-8543-8eb8bc884193",
   "metadata": {},
   "source": [
    "#### rand()"
   ]
  },
  {
   "cell_type": "code",
   "execution_count": 413,
   "id": "85f7facf-94ad-431b-873d-0bf9dc908f3f",
   "metadata": {},
   "outputs": [
    {
     "data": {
      "text/plain": [
       "array([0.61306346, 0.90234858, 0.09928035, 0.96980907, 0.65314004,\n",
       "       0.17090959, 0.35815217, 0.75068614, 0.60783067, 0.32504723])"
      ]
     },
     "execution_count": 413,
     "metadata": {},
     "output_type": "execute_result"
    }
   ],
   "source": [
    "np.random.rand(10)"
   ]
  },
  {
   "cell_type": "code",
   "execution_count": 414,
   "id": "0718c0a6-c4a6-4fbb-832f-e52df381e6bc",
   "metadata": {},
   "outputs": [
    {
     "data": {
      "text/plain": [
       "array([[0.03842543, 0.63427406, 0.95894927, 0.65279032, 0.63505887],\n",
       "       [0.99529957, 0.58185033, 0.41436859, 0.4746975 , 0.6235101 ],\n",
       "       [0.33800761, 0.67475232, 0.31720174, 0.77834548, 0.94957105]])"
      ]
     },
     "execution_count": 414,
     "metadata": {},
     "output_type": "execute_result"
    }
   ],
   "source": [
    "np.random.rand(3,5)"
   ]
  },
  {
   "cell_type": "markdown",
   "id": "b154cfd1-ce60-4265-84a2-7a7bef5b61b9",
   "metadata": {},
   "source": [
    "#### randn()\n",
    "- 기댓값이 0이고 표준편차가 1인 표준 정규 분포를 따르는 난수를 생성"
   ]
  },
  {
   "cell_type": "code",
   "execution_count": 415,
   "id": "18e87c25-53be-4f18-9496-eef09ee58c01",
   "metadata": {},
   "outputs": [
    {
     "data": {
      "text/plain": [
       "array([ 1.50944508,  1.06777513, -0.68658948,  0.01487332, -0.3756659 ,\n",
       "       -0.03822364,  0.36797447, -0.0447237 , -0.30237513, -2.2244036 ])"
      ]
     },
     "execution_count": 415,
     "metadata": {},
     "output_type": "execute_result"
    }
   ],
   "source": [
    "np.random.randn(10)"
   ]
  },
  {
   "cell_type": "markdown",
   "id": "32423e69-3900-49fe-a597-57ceb4608bad",
   "metadata": {},
   "source": [
    "#### randint()\n",
    "> numpy.random.randint(low, high=None, size= None)\n",
    "- 표준 라이브러리와 다른점: 최댓값 포함을 하지 않음\n",
    "- high를 입력하지 않으면 0과 low 사이의 숫자\n",
    "- high를 입력하면 low와 high 사이의 숫자"
   ]
  },
  {
   "cell_type": "code",
   "execution_count": 416,
   "id": "cd0f4ca4-b6dc-45a7-b8b7-fa8e87746979",
   "metadata": {},
   "outputs": [
    {
     "data": {
      "text/plain": [
       "array([1, 1, 1, 1, 1, 1, 1, 1, 1, 1, 1, 1, 1, 1, 1, 1, 1, 1, 1, 1, 1, 1,\n",
       "       1, 1, 1, 1, 1, 1, 1, 1, 1, 1, 1, 1, 1, 1, 1, 1, 1, 1, 1, 1, 1, 1,\n",
       "       1, 1, 1, 1, 1, 1, 1, 1, 1, 1, 1, 1, 1, 1, 1, 1, 1, 1, 1, 1, 1, 1,\n",
       "       1, 1, 1, 1, 1, 1, 1, 1, 1, 1, 1, 1, 1, 1, 1, 1, 1, 1, 1, 1, 1, 1,\n",
       "       1, 1, 1, 1, 1, 1, 1, 1, 1, 1, 1, 1])"
      ]
     },
     "execution_count": 416,
     "metadata": {},
     "output_type": "execute_result"
    }
   ],
   "source": [
    "np.random.randint(1,2,100)"
   ]
  },
  {
   "cell_type": "markdown",
   "id": "74242378-bec9-46fd-ad16-465caab51478",
   "metadata": {},
   "source": [
    "### 연습문제"
   ]
  },
  {
   "cell_type": "code",
   "execution_count": 422,
   "id": "ab9881d0-90fe-4761-9d3c-f61886817dc9",
   "metadata": {},
   "outputs": [
    {
     "data": {
      "text/plain": [
       "0.56"
      ]
     },
     "execution_count": 422,
     "metadata": {},
     "output_type": "execute_result"
    }
   ],
   "source": [
    "np.random.seed(0)\n",
    "side=np.random.randint(0,2,100)\n",
    "\n",
    "np.mean(side)\n"
   ]
  },
  {
   "cell_type": "code",
   "execution_count": 425,
   "id": "e3fc67cc-9d75-4b0a-b526-2ecb4c2f389e",
   "metadata": {},
   "outputs": [
    {
     "data": {
      "text/plain": [
       "3.42"
      ]
     },
     "execution_count": 425,
     "metadata": {},
     "output_type": "execute_result"
    }
   ],
   "source": [
    "np.random.seed(0)\n",
    "dice=np.random.randint(1,7,100)\n",
    "np.mean(dice)"
   ]
  },
  {
   "cell_type": "markdown",
   "id": "27ec7d08-8c8b-4447-a256-00f33a5566b5",
   "metadata": {},
   "source": [
    "## 정수 데이터 카운팅\n",
    "- 난수가 정수값이면 unique 명령이나 bincount 명령으로 데이터 값을 분석 가능\n",
    "- unique(): 데이터에서 중복된 값을 제거, 중복되지 않는 값의 리스트 출력\n",
    "- return_counts 인수를 True를 설정하면 각 값의 데이터 개수도 출력\n",
    "- unique 함수는 데이터에 존재하는 값에 대해서만 개수를 세므로, 특정 범위안의 수인 경우에는 bincount 함수에 minlength 인수를 설정하여 쓰는 것이 더 편리함 \n",
    "- bincount 함수는 0부터 minlength-1 까지의 숫자에 대해 각각 카운트를 하고, 해당 범위 내 데이터가 없을 경우에는 0으로 카운트함"
   ]
  },
  {
   "cell_type": "code",
   "execution_count": null,
   "id": "97e12e94-5d32-462b-b912-d4d85bc43cf0",
   "metadata": {},
   "outputs": [],
   "source": []
  }
 ],
 "metadata": {
  "kernelspec": {
   "display_name": "Python 3 (ipykernel)",
   "language": "python",
   "name": "python3"
  },
  "language_info": {
   "codemirror_mode": {
    "name": "ipython",
    "version": 3
   },
   "file_extension": ".py",
   "mimetype": "text/x-python",
   "name": "python",
   "nbconvert_exporter": "python",
   "pygments_lexer": "ipython3",
   "version": "3.9.13"
  }
 },
 "nbformat": 4,
 "nbformat_minor": 5
}
