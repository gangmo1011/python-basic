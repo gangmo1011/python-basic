{
 "cells": [
  {
   "cell_type": "code",
   "execution_count": 12,
   "id": "8e7fcee3-730c-4e24-8fa8-f71761d6b620",
   "metadata": {},
   "outputs": [
    {
     "data": {
      "text/html": [
       "<style>.container { width:80% !important; }</style>"
      ],
      "text/plain": [
       "<IPython.core.display.HTML object>"
      ]
     },
     "metadata": {},
     "output_type": "display_data"
    }
   ],
   "source": [
    "from IPython.core.display import display, HTML\n",
    "\n",
    "display(HTML(\"<style>.container { width:80% !important; }</style>\"))"
   ]
  },
  {
   "cell_type": "markdown",
   "id": "ee657326-70c0-4d27-90dd-b227274a7e08",
   "metadata": {
    "tags": []
   },
   "source": [
    "# 변수 여럿에 동시 할당하기 (Unpacking)"
   ]
  },
  {
   "cell_type": "code",
   "execution_count": 1,
   "id": "4f2eec96-5ac4-477f-9240-39f31474c1bb",
   "metadata": {},
   "outputs": [
    {
     "name": "stdout",
     "output_type": "stream",
     "text": [
      "text1\n",
      "text2\n"
     ]
    }
   ],
   "source": [
    "s1,s2='text1','text2'\n",
    "print(s1)\n",
    "print(s2)"
   ]
  },
  {
   "cell_type": "code",
   "execution_count": 2,
   "id": "6fac7aea-93e9-4e61-9c04-b1d548a809f1",
   "metadata": {},
   "outputs": [
    {
     "name": "stdout",
     "output_type": "stream",
     "text": [
      "이렇게 리스트도 가능합니다.\n"
     ]
    }
   ],
   "source": [
    "s3,s4,s5=['이렇게','리스트도','가능합니다.']\n",
    "print(s3,s4,s5)"
   ]
  },
  {
   "cell_type": "code",
   "execution_count": 3,
   "id": "fd5d92fa-214e-4847-ab90-5cde2e21a314",
   "metadata": {},
   "outputs": [
    {
     "name": "stdout",
     "output_type": "stream",
     "text": [
      "문 자 열 도\n"
     ]
    }
   ],
   "source": [
    "s6, s7, s8, s9='문자열도'\n",
    "print(s6,s7,s8,s9)"
   ]
  },
  {
   "cell_type": "markdown",
   "id": "1c7123ee-bef1-4276-a748-05fcae151caa",
   "metadata": {},
   "source": [
    "# 파이썬 입력(input) 사용해보기"
   ]
  },
  {
   "cell_type": "code",
   "execution_count": 4,
   "id": "c82b318b-494b-4405-99c5-83707d06028d",
   "metadata": {},
   "outputs": [
    {
     "name": "stdin",
     "output_type": "stream",
     "text": [
      "Message 1111\n"
     ]
    }
   ],
   "source": [
    "input_value=input('Message')"
   ]
  },
  {
   "cell_type": "code",
   "execution_count": 5,
   "id": "02f90f37-1a8d-44ae-989e-e36d6f8c6405",
   "metadata": {},
   "outputs": [
    {
     "name": "stdout",
     "output_type": "stream",
     "text": [
      "input_value: 1111 \n",
      "type: <class 'str'>\n"
     ]
    }
   ],
   "source": [
    "print(\"input_value:\",input_value,'\\ntype:',type(input_value))"
   ]
  },
  {
   "cell_type": "code",
   "execution_count": 7,
   "id": "52602df2-bcf9-469a-9139-7495a7a7a918",
   "metadata": {},
   "outputs": [
    {
     "name": "stdin",
     "output_type": "stream",
     "text": [
      "Message 1111\n"
     ]
    },
    {
     "name": "stdout",
     "output_type": "stream",
     "text": [
      "input_value: 1111 \n",
      "type: <class 'int'>\n"
     ]
    }
   ],
   "source": [
    "# 문자열 입력받아서 int로 형 변환하여 저장\n",
    "input_value=int(input('Message'))\n",
    "print(\"input_value:\",input_value,'\\ntype:',type(input_value))"
   ]
  },
  {
   "cell_type": "code",
   "execution_count": 8,
   "id": "c4414f6f-7f10-42af-9d17-667a436a8c55",
   "metadata": {},
   "outputs": [
    {
     "name": "stdin",
     "output_type": "stream",
     "text": [
      "Message 1.1\n"
     ]
    },
    {
     "ename": "ValueError",
     "evalue": "invalid literal for int() with base 10: '1.1'",
     "output_type": "error",
     "traceback": [
      "\u001b[1;31m---------------------------------------------------------------------------\u001b[0m",
      "\u001b[1;31mValueError\u001b[0m                                Traceback (most recent call last)",
      "\u001b[1;32m~\\AppData\\Local\\Temp\\ipykernel_1352\\1669331988.py\u001b[0m in \u001b[0;36m<module>\u001b[1;34m\u001b[0m\n\u001b[1;32m----> 1\u001b[1;33m \u001b[0minput_value\u001b[0m\u001b[1;33m=\u001b[0m\u001b[0mint\u001b[0m\u001b[1;33m(\u001b[0m\u001b[0minput\u001b[0m\u001b[1;33m(\u001b[0m\u001b[1;34m'Message'\u001b[0m\u001b[1;33m)\u001b[0m\u001b[1;33m)\u001b[0m\u001b[1;33m\u001b[0m\u001b[1;33m\u001b[0m\u001b[0m\n\u001b[0m\u001b[0;32m      2\u001b[0m \u001b[0mprint\u001b[0m\u001b[1;33m(\u001b[0m\u001b[1;34m\"input_value:\"\u001b[0m\u001b[1;33m,\u001b[0m\u001b[0minput_value\u001b[0m\u001b[1;33m,\u001b[0m\u001b[1;34m'\\ntype:'\u001b[0m\u001b[1;33m,\u001b[0m\u001b[0mtype\u001b[0m\u001b[1;33m(\u001b[0m\u001b[0minput_value\u001b[0m\u001b[1;33m)\u001b[0m\u001b[1;33m)\u001b[0m\u001b[1;33m\u001b[0m\u001b[1;33m\u001b[0m\u001b[0m\n",
      "\u001b[1;31mValueError\u001b[0m: invalid literal for int() with base 10: '1.1'"
     ]
    }
   ],
   "source": [
    "# 실수 형태로 입력받으면 int형으로 변환 불가\n",
    "input_value=int(input('Message'))\n",
    "print(\"input_value:\",input_value,'\\ntype:',type(input_value))"
   ]
  },
  {
   "cell_type": "code",
   "execution_count": 9,
   "id": "82f9d7d3-9e1f-49f4-95de-29bf221488bb",
   "metadata": {},
   "outputs": [
    {
     "name": "stdin",
     "output_type": "stream",
     "text": [
      "Message 1.1\n"
     ]
    },
    {
     "name": "stdout",
     "output_type": "stream",
     "text": [
      "input_value: 1 \n",
      "type: <class 'int'>\n"
     ]
    }
   ],
   "source": [
    "# 실수형으로 바꾼 후 int 형으로 바꿔야 함 \n",
    "input_value=float(input('Message'))\n",
    "input_value=int(input_value)\n",
    "print(\"input_value:\",input_value,'\\ntype:',type(input_value))"
   ]
  },
  {
   "cell_type": "markdown",
   "id": "4ca04645-2bd5-4322-9783-c200c7393303",
   "metadata": {},
   "source": [
    "### 연습문제"
   ]
  },
  {
   "cell_type": "code",
   "execution_count": 15,
   "id": "972f2587-382d-4c80-9993-fc7953701437",
   "metadata": {},
   "outputs": [
    {
     "name": "stdin",
     "output_type": "stream",
     "text": [
      "이름을 입력하시오: 엔코아\n"
     ]
    },
    {
     "name": "stdout",
     "output_type": "stream",
     "text": [
      "엔코아 씨, 안녕하세요?\n",
      "파이썬에 오신 것을 환영합니다.\n"
     ]
    },
    {
     "name": "stdin",
     "output_type": "stream",
     "text": [
      "첫 번째 정수를 입력하세요: 300\n",
      "두 번째 정수를 입력하세요: 400\n"
     ]
    },
    {
     "name": "stdout",
     "output_type": "stream",
     "text": [
      "300과 400의 합은 700 입니다.\n"
     ]
    }
   ],
   "source": [
    "name=input(\"이름을 입력하시오:\")\n",
    "print(name,\"씨, 안녕하세요?\\n파이썬에 오신 것을 환영합니다.\")\n",
    "first_num=int(input(\"첫 번째 정수를 입력하세요:\"))\n",
    "second_num=int(input(\"두 번째 정수를 입력하세요:\"))\n",
    "print(f'{first_num}과 {second_num}의 합은 {first_num+second_num} 입니다.')\n"
   ]
  },
  {
   "cell_type": "code",
   "execution_count": 6,
   "id": "c8a68d26-71eb-4bcb-9ccc-de3014e8b436",
   "metadata": {},
   "outputs": [
    {
     "name": "stdin",
     "output_type": "stream",
     "text": [
      "경기장은 어디입니까? 고척\n",
      "이긴 팀은 어디입니까? KT\n",
      "진 팀은 어디입니까? LG\n",
      "우수 선수는 누구입니까 강백호\n",
      "스코어는 몇대몇입니까? 10:9\n"
     ]
    },
    {
     "name": "stdout",
     "output_type": "stream",
     "text": [
      "\n",
      "\n",
      "[속보]KT가 10:9로 승리...\n",
      "오늘 고척 경기장에서 야구 경기가 있었습니다.\n",
      "KT와 LG는 치열한 공방전을 펼쳤습니다.\n",
      "이 경기에서 강백호가 맹활약을 했습니다.\n",
      "그 끝내 KT가 LG를 10:9로 승리하였습니다.\n",
      "기사 끝\n"
     ]
    }
   ],
   "source": [
    "stadium=input(\"경기장은 어디입니까?\")\n",
    "winner=input(\"이긴 팀은 어디입니까?\")\n",
    "loser=input(\"진 팀은 어디입니까?\")\n",
    "mvp=input(\"우수 선수는 누구입니까\")\n",
    "score=input(\"스코어는 몇대몇입니까?\")\n",
    "print(\"\\n\")\n",
    "print(f'[속보]{winner}가 {score}로 승리...\\n오늘 {stadium} 경기장에서 야구 경기가 있었습니다.\\n{winner}와 {loser}는 치열한 공방전을 펼쳤습니다.\\n이 경기에서 {mvp}가 맹활약을 했습니다.\\n그 끝내 {winner}가 {loser}를 {score}로 승리하였습니다.\\n기사 끝')"
   ]
  },
  {
   "cell_type": "markdown",
   "id": "ce50108f-3615-48e2-b0f3-753269b84a25",
   "metadata": {},
   "source": [
    "# 입력 값을 여러 개의 변수에 저장하기 (split)"
   ]
  },
  {
   "cell_type": "markdown",
   "id": "23e3e118-6b7e-4286-9ed7-d2406f2ab8bb",
   "metadata": {},
   "source": [
    "### 인자로 전달된 구분자를 활용하여 문자열을 쪼개고 그 결과를 list로 반환"
   ]
  },
  {
   "cell_type": "code",
   "execution_count": 7,
   "id": "45b9491e-e83f-461c-8c3e-8f3bf9b8cdf6",
   "metadata": {},
   "outputs": [
    {
     "name": "stdout",
     "output_type": "stream",
     "text": [
      "<class 'list'>\n",
      "['1', '2', '3']\n"
     ]
    }
   ],
   "source": [
    "result='1,2,3'.split(',')\n",
    "print(type(result))\n",
    "print(result)"
   ]
  },
  {
   "cell_type": "markdown",
   "id": "6798c34b-ad4d-493c-82b5-a17d9525346b",
   "metadata": {
    "tags": []
   },
   "source": [
    "### 연습문제"
   ]
  },
  {
   "cell_type": "code",
   "execution_count": 11,
   "id": "62bac00c-241f-41e7-8a98-1b2f7108b10b",
   "metadata": {},
   "outputs": [
    {
     "name": "stdin",
     "output_type": "stream",
     "text": [
      "hh:mm:ss의 형태로 시간을 입력해주세요 12:33:23\n"
     ]
    },
    {
     "name": "stdout",
     "output_type": "stream",
     "text": [
      "시: 12\n",
      "분: 33\n",
      "초: 23\n"
     ]
    }
   ],
   "source": [
    "time=input(\"hh:mm:ss의 형태로 시간을 입력해주세요\").split(':')\n",
    "\n",
    "print(f'시: {time[0]}\\n분: {time[1]}\\n초: {time[2]}')\n",
    "\n",
    "# h,m,s=input(\"~\").split(':')"
   ]
  },
  {
   "cell_type": "markdown",
   "id": "7440851e-da9e-45bc-bd99-3d38c93dfbcf",
   "metadata": {
    "tags": []
   },
   "source": [
    "# map() 내장 함수 \n",
    "### map(function,iterable) : iterable 한 객체에서 요소를 하나하나 꺼내어 function 인자로 전달"
   ]
  },
  {
   "cell_type": "code",
   "execution_count": 16,
   "id": "a4dfd349-86bd-41ad-abb6-e69ed1e65d07",
   "metadata": {},
   "outputs": [
    {
     "name": "stdout",
     "output_type": "stream",
     "text": [
      "[1, 2, 3, 4]\n"
     ]
    }
   ],
   "source": [
    "a=[1.2,2.5,3.7,4.6]\n",
    "a=list(map(int,a))\n",
    "print(a)"
   ]
  },
  {
   "cell_type": "markdown",
   "id": "0146ed54-e166-4ee3-b471-4845869b4af8",
   "metadata": {},
   "source": [
    "### 연습문제"
   ]
  },
  {
   "cell_type": "code",
   "execution_count": 18,
   "id": "cd10b412-0143-4f22-8c4f-c2b209423764",
   "metadata": {},
   "outputs": [
    {
     "name": "stdin",
     "output_type": "stream",
     "text": [
      "국어, 영어, 수학, 과학 점수를 입력해주세요. 98,100,96,100\n"
     ]
    },
    {
     "name": "stdout",
     "output_type": "stream",
     "text": [
      "평균 점수는 98.5점 입니다.\n"
     ]
    }
   ],
   "source": [
    "score=input(\"국어, 영어, 수학, 과학 점수를 입력해주세요.\").split(',')\n",
    "kor,eng,mat,sci=map(int,score)\n",
    "#kor,eng,mat,sci=map(int,input(\"국어, 영어, 수학, 과학 점수를 입력해주세요.\").split(','))\n",
    "\n",
    "print(f'평균 점수는 {(kor+eng+mat+sci)/4}점 입니다.')"
   ]
  },
  {
   "cell_type": "markdown",
   "id": "654fa215-a2a6-48f8-aca5-c2ed234bf73a",
   "metadata": {},
   "source": [
    "# 여러 값을 동시에 출력\n",
    "### print()함수를 여러 인자 값으로 사용할 경우에, \n",
    "### 맨 마지막에 sep='구분기호'를 작성하여 공백이 아닌 다른 문자로 값을 구분"
   ]
  },
  {
   "cell_type": "code",
   "execution_count": 20,
   "id": "67ded48f-dfdf-4c70-8017-af916c6ec8c7",
   "metadata": {},
   "outputs": [
    {
     "name": "stdout",
     "output_type": "stream",
     "text": [
      "value 1 1.1 [1, 2, 'text']\n"
     ]
    }
   ],
   "source": [
    "print(\"value\",1,1.1,[1,2,'text'])"
   ]
  },
  {
   "cell_type": "code",
   "execution_count": 21,
   "id": "77cd76f4-7394-4c96-9843-0d474d27103a",
   "metadata": {},
   "outputs": [
    {
     "name": "stdout",
     "output_type": "stream",
     "text": [
      "value,1,1.1,[1, 2, 'text']\n"
     ]
    }
   ],
   "source": [
    "print(\"value\",1,1.1,[1,2,'text'],sep=',')"
   ]
  },
  {
   "cell_type": "markdown",
   "id": "1088463f-82d5-4657-9f22-9d46bcafd178",
   "metadata": {},
   "source": [
    "# 맨 뒤 출력 문자 변경하기\n",
    "### print()함수마다 개행문자가 default로 들어가있음\n",
    "### end='문자열'을 작성하면 개행문자를 문자열로 변경가능"
   ]
  },
  {
   "cell_type": "code",
   "execution_count": 22,
   "id": "8bb15354-be8b-42b4-baa1-8dfeb12dc7ac",
   "metadata": {},
   "outputs": [
    {
     "name": "stdout",
     "output_type": "stream",
     "text": [
      "줄이 바뀌지 않습니다.그 이유는 end=\"\\n\"과 같이 기본 설정된 값을 빈 스트링으로 변경했기 때문입니다.\n",
      "sep, end는 맨 뒤에 써야하며 둘 간 순서는 상관없습니다.어떻게 사용하는지\n",
      "이해가 되시나요?"
     ]
    }
   ],
   "source": [
    "print(\"줄이 바뀌지 않습니다.\",end=\"\")\n",
    "print(\"그 이유는 end=\\\"\\\\n\\\"과 같이 기본 설정된 값을 빈 스트링으로 변경했기 때문입니다.\")\n",
    "print(\"sep\",\"end는 맨 뒤에 써야하며 둘 간 순서는 상관없습니다.\",sep=\", \", end=\"\")\n",
    "print(\"어떻게 사용하는지\",\"이해가 되시나요\",sep=\"\\n\",end=\"?\")"
   ]
  },
  {
   "cell_type": "markdown",
   "id": "24308067-e015-4046-b823-3a01155d8155",
   "metadata": {},
   "source": [
    "### 연습문제"
   ]
  },
  {
   "cell_type": "code",
   "execution_count": 23,
   "id": "30f2e4be-93cb-4c58-b87e-a1e8993cbe61",
   "metadata": {},
   "outputs": [
    {
     "name": "stdout",
     "output_type": "stream",
     "text": [
      "2021/02/03 18:33:23\n"
     ]
    }
   ],
   "source": [
    "year=\"2021\"\n",
    "month=\"02\"\n",
    "day=\"03\"\n",
    "hour=\"18\"\n",
    "minute=\"33\"\n",
    "second=\"23\"\n",
    "\n",
    "print(year,month,day,sep=\"/\",end=\" \")\n",
    "print(hour,minute,second,sep=\":\")"
   ]
  },
  {
   "cell_type": "code",
   "execution_count": 25,
   "id": "642af88c-7240-4d33-893e-8dfb9c024166",
   "metadata": {},
   "outputs": [
    {
     "name": "stdin",
     "output_type": "stream",
     "text": [
      "사과와 귤을 몇개 드릴까요? 10,20\n"
     ]
    },
    {
     "name": "stdout",
     "output_type": "stream",
     "text": [
      "총 가격은 14000원입니다.\n"
     ]
    }
   ],
   "source": [
    "apple,mandarine=map(int,input(\"사과와 귤을 몇개 드릴까요?\").split(','))\n",
    "print(\"총 가격은 \",apple*1000+mandarine*200,\"원입니다.\",sep=\"\")"
   ]
  },
  {
   "cell_type": "markdown",
   "id": "f816cace-4008-4051-b4c4-809664507b25",
   "metadata": {},
   "source": [
    "# If문"
   ]
  },
  {
   "cell_type": "code",
   "execution_count": 26,
   "id": "57760473-d525-4b40-8867-923d89406aa1",
   "metadata": {},
   "outputs": [
    {
     "name": "stdin",
     "output_type": "stream",
     "text": [
      "정수를 입력하세요. 5\n"
     ]
    },
    {
     "name": "stdout",
     "output_type": "stream",
     "text": [
      "Input_value4는 정수입니다.\n"
     ]
    }
   ],
   "source": [
    "input_value4=int(input(\"정수를 입력하세요.\"))\n",
    "if type(input_value4) is int:\n",
    "    print(\"Input_value4는 정수입니다.\")"
   ]
  },
  {
   "cell_type": "code",
   "execution_count": 27,
   "id": "a3b30aaa-266d-46b7-a36c-c2fff2202689",
   "metadata": {},
   "outputs": [
    {
     "name": "stdout",
     "output_type": "stream",
     "text": [
      "30대 입니다.\n",
      "감사합니다.\n"
     ]
    }
   ],
   "source": [
    "age=30\n",
    "\n",
    "if 20<=age<30:\n",
    "    print(\"20대 입니다.\")\n",
    "elif 30<=age<40:\n",
    "    print(\"30대 입니다.\")\n",
    "    \n",
    "print(\"감사합니다.\")"
   ]
  },
  {
   "cell_type": "markdown",
   "id": "aae425b4-3da0-4e49-8adf-62c2cbffa6ad",
   "metadata": {},
   "source": [
    "### 연습문제"
   ]
  },
  {
   "cell_type": "code",
   "execution_count": 34,
   "id": "5ea6dc4e-249e-4333-b258-b0636ba10bad",
   "metadata": {},
   "outputs": [
    {
     "name": "stdin",
     "output_type": "stream",
     "text": [
      "아이디를 입력하세요 : admin\n"
     ]
    },
    {
     "name": "stdout",
     "output_type": "stream",
     "text": [
      "최고관리자, 모든 권한을 갖습니다.\n"
     ]
    }
   ],
   "source": [
    "ID=input(\"아이디를 입력하세요 :\")\n",
    "if ID == \"admin\":\n",
    "    print(\"최고관리자, 모든 권한을 갖습니다.\")\n",
    "else:\n",
    "    grade=int(input(\"회원 등급을 입력해주세요 :\"))\n",
    "    if 1<= grade <=3:\n",
    "        print(\"제한적인 권한을 갖습니다.\")\n",
    "    else:\n",
    "        print(\"권한이 없습니다.\")"
   ]
  },
  {
   "cell_type": "code",
   "execution_count": null,
   "id": "cf42ee7a-25f5-4faf-a676-5cdec936105d",
   "metadata": {},
   "outputs": [],
   "source": []
  }
 ],
 "metadata": {
  "kernelspec": {
   "display_name": "Python 3 (ipykernel)",
   "language": "python",
   "name": "python3"
  },
  "language_info": {
   "codemirror_mode": {
    "name": "ipython",
    "version": 3
   },
   "file_extension": ".py",
   "mimetype": "text/x-python",
   "name": "python",
   "nbconvert_exporter": "python",
   "pygments_lexer": "ipython3",
   "version": "3.9.13"
  }
 },
 "nbformat": 4,
 "nbformat_minor": 5
}
