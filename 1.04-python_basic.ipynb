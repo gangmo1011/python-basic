{
 "cells": [
  {
   "cell_type": "code",
   "execution_count": 1,
   "id": "89de6b21-496d-4ee2-bc83-c80b32df737f",
   "metadata": {},
   "outputs": [],
   "source": [
    "# 주석 사용하기\n",
    "x=1 # 여기서 =(등호) 기호는 수학의 같다는 의미와는 다르다.\n",
    "    # ... 우측 변의 리터럴을 좌측 변의 변수에 대입한다는 의미다.\n",
    "    \n",
    "text=\"# 이것은 주석이 아닙니다. 따옴표 안은 문자열 리터럴입니다.\"\n"
   ]
  },
  {
   "cell_type": "code",
   "execution_count": 2,
   "id": "e9b27f06-8f9c-434e-80b9-3caf41dcb03d",
   "metadata": {},
   "outputs": [
    {
     "name": "stdout",
     "output_type": "stream",
     "text": [
      "1\n",
      "# 이것은 주석이 아닙니다. 따옴표 안은 문자열 리터럴입니다.\n"
     ]
    }
   ],
   "source": [
    "print(x)\n",
    "print(text)"
   ]
  },
  {
   "cell_type": "code",
   "execution_count": 3,
   "id": "3f3fd874-4b02-4b78-9c14-59e67671d895",
   "metadata": {},
   "outputs": [
    {
     "name": "stdout",
     "output_type": "stream",
     "text": [
      "Hello, world!\n",
      "Hello, world!\n",
      "Pyhthon Programming\n"
     ]
    }
   ],
   "source": [
    "print(\"Hello, world!\")\n",
    "print(\"Hello, world!\")\n",
    "print(\"Pyhthon Programming\")"
   ]
  },
  {
   "cell_type": "code",
   "execution_count": 7,
   "id": "bf4817df-523a-4eca-953f-f306a4b6e4fb",
   "metadata": {},
   "outputs": [
    {
     "data": {
      "text/plain": [
       "89"
      ]
     },
     "execution_count": 7,
     "metadata": {},
     "output_type": "execute_result"
    }
   ],
   "source": [
    "13+(22-3)*4"
   ]
  },
  {
   "cell_type": "code",
   "execution_count": 6,
   "id": "4fe15a09-464d-4db0-8f18-36b0d71894f5",
   "metadata": {},
   "outputs": [
    {
     "data": {
      "text/plain": [
       "28.2"
      ]
     },
     "execution_count": 6,
     "metadata": {},
     "output_type": "execute_result"
    }
   ],
   "source": [
    "13+((22-3)*4)/5"
   ]
  },
  {
   "cell_type": "code",
   "execution_count": 8,
   "id": "9dd386a9-9563-43b5-8928-e51f31f74eb8",
   "metadata": {},
   "outputs": [
    {
     "data": {
      "text/plain": [
       "128"
      ]
     },
     "execution_count": 8,
     "metadata": {},
     "output_type": "execute_result"
    }
   ],
   "source": [
    "2**7"
   ]
  },
  {
   "cell_type": "code",
   "execution_count": 9,
   "id": "c88a7f9b-ac64-410b-8985-d3a777301b66",
   "metadata": {},
   "outputs": [
    {
     "data": {
      "text/plain": [
       "1.7320508075688772"
      ]
     },
     "execution_count": 9,
     "metadata": {},
     "output_type": "execute_result"
    }
   ],
   "source": [
    "3**(1/2)"
   ]
  },
  {
   "cell_type": "code",
   "execution_count": 10,
   "id": "c3eec4f3-789f-449c-9cd5-5e79f927e252",
   "metadata": {},
   "outputs": [
    {
     "data": {
      "text/plain": [
       "2"
      ]
     },
     "execution_count": 10,
     "metadata": {},
     "output_type": "execute_result"
    }
   ],
   "source": [
    "int(5/2)"
   ]
  },
  {
   "cell_type": "code",
   "execution_count": 11,
   "id": "c2220b45-2838-42c8-ab7b-edf4c8ba2c2d",
   "metadata": {},
   "outputs": [
    {
     "data": {
      "text/plain": [
       "184"
      ]
     },
     "execution_count": 11,
     "metadata": {},
     "output_type": "execute_result"
    }
   ],
   "source": [
    "int('184')"
   ]
  },
  {
   "cell_type": "code",
   "execution_count": 13,
   "id": "f39c9928-58ac-4913-a17f-ae74745596e2",
   "metadata": {},
   "outputs": [
    {
     "data": {
      "text/plain": [
       "3"
      ]
     },
     "execution_count": 13,
     "metadata": {},
     "output_type": "execute_result"
    }
   ],
   "source": [
    "int(3.3)"
   ]
  },
  {
   "cell_type": "code",
   "execution_count": 14,
   "id": "cdf1cf3a-8459-4334-809c-71303049e56e",
   "metadata": {},
   "outputs": [
    {
     "data": {
      "text/plain": [
       "16.0"
      ]
     },
     "execution_count": 14,
     "metadata": {},
     "output_type": "execute_result"
    }
   ],
   "source": [
    "float(4*4)"
   ]
  },
  {
   "cell_type": "code",
   "execution_count": 15,
   "id": "3cf59238-e0cd-4270-9b4a-8918d32dc076",
   "metadata": {},
   "outputs": [
    {
     "data": {
      "text/plain": [
       "3.0"
      ]
     },
     "execution_count": 15,
     "metadata": {},
     "output_type": "execute_result"
    }
   ],
   "source": [
    "float(3)"
   ]
  },
  {
   "cell_type": "code",
   "execution_count": 16,
   "id": "3bb7bf44-bcd9-486d-a4de-c2b3e77c33b3",
   "metadata": {},
   "outputs": [
    {
     "data": {
      "text/plain": [
       "3.14"
      ]
     },
     "execution_count": 16,
     "metadata": {},
     "output_type": "execute_result"
    }
   ],
   "source": [
    "float(\"3.14\")"
   ]
  },
  {
   "cell_type": "code",
   "execution_count": 17,
   "id": "4c4f8c86-6385-4717-b214-d294d0b1ca3e",
   "metadata": {},
   "outputs": [
    {
     "data": {
      "text/plain": [
       "7"
      ]
     },
     "execution_count": 17,
     "metadata": {},
     "output_type": "execute_result"
    }
   ],
   "source": [
    "int(0.2467*12+4.159)"
   ]
  },
  {
   "cell_type": "code",
   "execution_count": 24,
   "id": "03adedda-a11a-48f4-84b1-a7aa1240fdb9",
   "metadata": {},
   "outputs": [
    {
     "name": "stdout",
     "output_type": "stream",
     "text": [
      "가장 시끄러운 층은 = 7 층\n"
     ]
    }
   ],
   "source": [
    "print(\"가장 시끄러운 층은 =\",int(0.2467*12+4.159),\"층\")"
   ]
  },
  {
   "cell_type": "code",
   "execution_count": 27,
   "id": "6b8751cf-fbac-4a61-8c10-84b42d025b83",
   "metadata": {},
   "outputs": [
    {
     "name": "stdout",
     "output_type": "stream",
     "text": [
      "냉장고 가격은 1272000 원 입니다.\n"
     ]
    }
   ],
   "source": [
    "print(\"냉장고 가격은\",53000*24,\"원 입니다.\")"
   ]
  },
  {
   "cell_type": "code",
   "execution_count": 32,
   "id": "b06d91eb-1868-484b-983f-a5038c78d430",
   "metadata": {},
   "outputs": [
    {
     "name": "stdout",
     "output_type": "stream",
     "text": [
      "총 지불 해야 할 금액은 16500000 원 입니다.\n"
     ]
    }
   ],
   "source": [
    "people=250\n",
    "tax=0.1\n",
    "\n",
    "print(\"총 지불 해야 할 금액은\",int((people*3*20000)*(1+tax)),\"원 입니다.\")"
   ]
  },
  {
   "cell_type": "code",
   "execution_count": 33,
   "id": "4972bce5-e8d0-46b4-b7ef-972858b1812e",
   "metadata": {},
   "outputs": [
    {
     "data": {
      "text/plain": [
       "12345000000.0"
      ]
     },
     "execution_count": 33,
     "metadata": {},
     "output_type": "execute_result"
    }
   ],
   "source": [
    "1.2345e10 # 1.2345* 10의 10승"
   ]
  },
  {
   "cell_type": "code",
   "execution_count": 35,
   "id": "6fbf3210-6aa4-4309-9ba5-4decd21a37b3",
   "metadata": {},
   "outputs": [
    {
     "data": {
      "text/plain": [
       "0.0012345"
      ]
     },
     "execution_count": 35,
     "metadata": {},
     "output_type": "execute_result"
    }
   ],
   "source": [
    "1.2345e-3 # 1.2345* 10의 -3승"
   ]
  },
  {
   "cell_type": "code",
   "execution_count": 36,
   "id": "761fd042-cd5e-404e-9166-2e77dbc06238",
   "metadata": {},
   "outputs": [
    {
     "data": {
      "text/plain": [
       "17"
      ]
     },
     "execution_count": 36,
     "metadata": {},
     "output_type": "execute_result"
    }
   ],
   "source": [
    "0b10001 # 이진수 앞에 0b 를 붙이면 십진수로 출력"
   ]
  },
  {
   "cell_type": "code",
   "execution_count": 37,
   "id": "96784bee-0cb5-4587-b20a-0089f3ea0b95",
   "metadata": {},
   "outputs": [
    {
     "data": {
      "text/plain": [
       "22"
      ]
     },
     "execution_count": 37,
     "metadata": {},
     "output_type": "execute_result"
    }
   ],
   "source": [
    "0b10110"
   ]
  },
  {
   "cell_type": "code",
   "execution_count": 38,
   "id": "c5864ff5-10f6-4309-a304-11e1acdd6d50",
   "metadata": {},
   "outputs": [
    {
     "data": {
      "text/plain": [
       "'0b10001'"
      ]
     },
     "execution_count": 38,
     "metadata": {},
     "output_type": "execute_result"
    }
   ],
   "source": [
    "bin(17) # binary 함수"
   ]
  },
  {
   "cell_type": "code",
   "execution_count": 39,
   "id": "958fd894-a35c-492f-a615-432d6e3224ca",
   "metadata": {},
   "outputs": [
    {
     "data": {
      "text/plain": [
       "'0b10110'"
      ]
     },
     "execution_count": 39,
     "metadata": {},
     "output_type": "execute_result"
    }
   ],
   "source": [
    "bin(22) "
   ]
  },
  {
   "cell_type": "code",
   "execution_count": 40,
   "id": "3c68dda8-9fcd-494b-b97a-f3994e2e961c",
   "metadata": {},
   "outputs": [
    {
     "data": {
      "text/plain": [
       "17"
      ]
     },
     "execution_count": 40,
     "metadata": {},
     "output_type": "execute_result"
    }
   ],
   "source": [
    "0o21 # 8진수 앞에 0o를 붙이면 십진수로 출력"
   ]
  },
  {
   "cell_type": "code",
   "execution_count": 41,
   "id": "91ca5e09-ce5d-4013-b936-f054a946be8b",
   "metadata": {},
   "outputs": [
    {
     "data": {
      "text/plain": [
       "22"
      ]
     },
     "execution_count": 41,
     "metadata": {},
     "output_type": "execute_result"
    }
   ],
   "source": [
    "0o26"
   ]
  },
  {
   "cell_type": "code",
   "execution_count": 42,
   "id": "08aa7a9b-1dd8-4a93-8971-e7a71b86ae6f",
   "metadata": {},
   "outputs": [
    {
     "data": {
      "text/plain": [
       "'0o21'"
      ]
     },
     "execution_count": 42,
     "metadata": {},
     "output_type": "execute_result"
    }
   ],
   "source": [
    "oct(17)"
   ]
  },
  {
   "cell_type": "code",
   "execution_count": 43,
   "id": "60b7072b-7cf4-4df9-ab30-140edf717ea8",
   "metadata": {},
   "outputs": [
    {
     "data": {
      "text/plain": [
       "'0o26'"
      ]
     },
     "execution_count": 43,
     "metadata": {},
     "output_type": "execute_result"
    }
   ],
   "source": [
    "oct(22)"
   ]
  },
  {
   "cell_type": "code",
   "execution_count": 44,
   "id": "6f034610-5b11-4081-bd09-3a302961a40f",
   "metadata": {},
   "outputs": [
    {
     "data": {
      "text/plain": [
       "31"
      ]
     },
     "execution_count": 44,
     "metadata": {},
     "output_type": "execute_result"
    }
   ],
   "source": [
    "0x1f # 16진수 앞에 0x 붙이면 십진수로 출력 "
   ]
  },
  {
   "cell_type": "code",
   "execution_count": 45,
   "id": "6c2b88ea-b84c-4daa-a16d-1372e446a008",
   "metadata": {},
   "outputs": [
    {
     "data": {
      "text/plain": [
       "22"
      ]
     },
     "execution_count": 45,
     "metadata": {},
     "output_type": "execute_result"
    }
   ],
   "source": [
    "0x16"
   ]
  },
  {
   "cell_type": "code",
   "execution_count": 46,
   "id": "5e8d7ee0-6f82-4069-87c6-626d200878a0",
   "metadata": {},
   "outputs": [
    {
     "data": {
      "text/plain": [
       "'0x1f'"
      ]
     },
     "execution_count": 46,
     "metadata": {},
     "output_type": "execute_result"
    }
   ],
   "source": [
    "hex(31)"
   ]
  },
  {
   "cell_type": "code",
   "execution_count": 47,
   "id": "9c503302-9701-4f22-92b1-3721443dca4f",
   "metadata": {},
   "outputs": [
    {
     "data": {
      "text/plain": [
       "'0x16'"
      ]
     },
     "execution_count": 47,
     "metadata": {},
     "output_type": "execute_result"
    }
   ],
   "source": [
    "hex(22)"
   ]
  },
  {
   "cell_type": "code",
   "execution_count": 51,
   "id": "3cbc4a5d-1181-4406-80ad-3fce847452e3",
   "metadata": {},
   "outputs": [
    {
     "data": {
      "text/plain": [
       "453.0"
      ]
     },
     "execution_count": 51,
     "metadata": {},
     "output_type": "execute_result"
    }
   ],
   "source": [
    "380*0.6+225"
   ]
  },
  {
   "cell_type": "code",
   "execution_count": 52,
   "id": "f0089742-4967-429c-a7fd-1e5dd5d00592",
   "metadata": {},
   "outputs": [
    {
     "name": "stdout",
     "output_type": "stream",
     "text": [
      "30\n"
     ]
    }
   ],
   "source": [
    "a=10\n",
    "a=a+20\n",
    "print(a)"
   ]
  },
  {
   "cell_type": "code",
   "execution_count": 53,
   "id": "8154502c-267c-4919-a446-29c078407a4d",
   "metadata": {},
   "outputs": [
    {
     "ename": "NameError",
     "evalue": "name 'a' is not defined",
     "output_type": "error",
     "traceback": [
      "\u001b[1;31m---------------------------------------------------------------------------\u001b[0m",
      "\u001b[1;31mNameError\u001b[0m                                 Traceback (most recent call last)",
      "\u001b[1;32m~\\AppData\\Local\\Temp\\ipykernel_9640\\1497285116.py\u001b[0m in \u001b[0;36m<module>\u001b[1;34m\u001b[0m\n\u001b[0;32m      1\u001b[0m \u001b[1;32mdel\u001b[0m \u001b[0ma\u001b[0m\u001b[1;33m\u001b[0m\u001b[1;33m\u001b[0m\u001b[0m\n\u001b[1;32m----> 2\u001b[1;33m \u001b[0mprint\u001b[0m\u001b[1;33m(\u001b[0m\u001b[0ma\u001b[0m\u001b[1;33m)\u001b[0m\u001b[1;33m\u001b[0m\u001b[1;33m\u001b[0m\u001b[0m\n\u001b[0m",
      "\u001b[1;31mNameError\u001b[0m: name 'a' is not defined"
     ]
    }
   ],
   "source": [
    "del a\n",
    "print(a)"
   ]
  },
  {
   "cell_type": "code",
   "execution_count": 58,
   "id": "d3a2eb67-85f4-470f-8864-64ba6b68899f",
   "metadata": {},
   "outputs": [
    {
     "name": "stdout",
     "output_type": "stream",
     "text": [
      "10\n",
      "30\n"
     ]
    }
   ],
   "source": [
    "a=10\n",
    "a+20\n",
    "print(a)\n",
    "\n",
    "a+=20\n",
    "print(a)"
   ]
  },
  {
   "cell_type": "code",
   "execution_count": 59,
   "id": "f8683739-3c29-4ca3-bd1c-d1f6ba10b7ab",
   "metadata": {},
   "outputs": [
    {
     "name": "stdout",
     "output_type": "stream",
     "text": [
      "None\n"
     ]
    }
   ],
   "source": [
    "a=None\n",
    "\n",
    "print(a)"
   ]
  },
  {
   "cell_type": "code",
   "execution_count": 60,
   "id": "5f3fe37d-d10f-44da-895e-c9218feabc96",
   "metadata": {},
   "outputs": [
    {
     "data": {
      "text/plain": [
       "True"
      ]
     },
     "execution_count": 60,
     "metadata": {},
     "output_type": "execute_result"
    }
   ],
   "source": [
    "True"
   ]
  },
  {
   "cell_type": "code",
   "execution_count": 63,
   "id": "00e9708e-cad6-4f58-898a-3219d9d8dd10",
   "metadata": {},
   "outputs": [
    {
     "data": {
      "text/plain": [
       "bool"
      ]
     },
     "execution_count": 63,
     "metadata": {},
     "output_type": "execute_result"
    }
   ],
   "source": [
    "type(True)"
   ]
  },
  {
   "cell_type": "code",
   "execution_count": 71,
   "id": "4e25703e-bcfe-4653-b907-41e6bb140247",
   "metadata": {},
   "outputs": [
    {
     "name": "stdout",
     "output_type": "stream",
     "text": [
      "이것은 문장열입니다.\n",
      "<class 'str'>\n",
      "이것은 문자열입니다.\n",
      "<class 'str'>\n"
     ]
    }
   ],
   "source": [
    "text='이것은 문장열입니다.'\n",
    "text2=\"이것은 문자열입니다.\"\n",
    "\n",
    "print(text)\n",
    "print(type(text))\n",
    "\n",
    "print(text2)\n",
    "print(type(text2))"
   ]
  },
  {
   "cell_type": "code",
   "execution_count": 73,
   "id": "df26021c-86f7-4f9e-a8c6-c2e5bc630896",
   "metadata": {},
   "outputs": [
    {
     "name": "stdout",
     "output_type": "stream",
     "text": [
      "don't do that\n",
      "don't do that\n"
     ]
    }
   ],
   "source": [
    "str='don\\'t do that' \n",
    "str2=\"don't do that\"\n",
    "print(str)\n",
    "print(str2)"
   ]
  },
  {
   "cell_type": "code",
   "execution_count": 74,
   "id": "bb382543-622a-4c02-a8bf-6aa607ea070e",
   "metadata": {},
   "outputs": [
    {
     "name": "stdout",
     "output_type": "stream",
     "text": [
      "\"안녕?\"이라는 그 인사를 듣고 나는 '누구지?'라고 생각했다.\n"
     ]
    }
   ],
   "source": [
    "print('\"안녕?\"이라는 그 인사를 듣고 나는 \\'누구지?\\'라고 생각했다.')"
   ]
  },
  {
   "cell_type": "code",
   "execution_count": 76,
   "id": "acb16241-b297-4b30-900d-e662fd9c87e4",
   "metadata": {},
   "outputs": [
    {
     "name": "stdout",
     "output_type": "stream",
     "text": [
      "First line.\n",
      "Second line.\n"
     ]
    }
   ],
   "source": [
    "s=\"First line.\\nSecond line.\"\n",
    "print(s)"
   ]
  },
  {
   "cell_type": "code",
   "execution_count": 77,
   "id": "6618183b-3618-43eb-ab6e-846c62b855bb",
   "metadata": {},
   "outputs": [
    {
     "name": "stdout",
     "output_type": "stream",
     "text": [
      "c:\\name\n",
      "c:\\name\n"
     ]
    }
   ],
   "source": [
    "s1=r'c:\\name' #raw string으로 출력\n",
    "s2='c:\\\\name'\n",
    "\n",
    "print(s1)\n",
    "print(s2)"
   ]
  },
  {
   "cell_type": "code",
   "execution_count": 80,
   "id": "261a8586-8fae-4e5c-b5ec-c598d7019c02",
   "metadata": {},
   "outputs": [
    {
     "name": "stdout",
     "output_type": "stream",
     "text": [
      "      \n",
      "안녕하세요.\n",
      "나는 파이썬을 공부하고 있습니다. \n",
      "반갑습니다.\n",
      "\n"
     ]
    }
   ],
   "source": [
    " # 함수나 메소드를 정의할때 삼중 따옴표 사용\n",
    "s3=\"\"\"      \n",
    "안녕하세요.\n",
    "나는 파이썬을 공부하고 있습니다. \n",
    "반갑습니다.\n",
    "\"\"\"\n",
    "print(s3)"
   ]
  },
  {
   "cell_type": "code",
   "execution_count": 86,
   "id": "b9d9a96b-8561-4d42-87c0-fa23ae941d6b",
   "metadata": {},
   "outputs": [
    {
     "name": "stdout",
     "output_type": "stream",
     "text": [
      "안녕하세요.\n",
      "나는 파이썬을 공부하고 있습니다. \n",
      "반갑습니다.\n",
      "\n"
     ]
    }
   ],
   "source": [
    "# \\를 사용해서 줄 바꿈을 방지\n",
    "s4=\"\"\"\\\n",
    "안녕하세요.\n",
    "나는 파이썬을 공부하고 있습니다. \n",
    "반갑습니다.\n",
    "\"\"\"\n",
    "print(s4)"
   ]
  },
  {
   "cell_type": "code",
   "execution_count": 83,
   "id": "29bec640-24b8-4c86-b7d7-5f8a16a32fec",
   "metadata": {},
   "outputs": [
    {
     "name": "stdout",
     "output_type": "stream",
     "text": [
      "안녕하세요.\n",
      "나는 파이썬을 공부하고 있습니다.\n",
      "반갑습니다.\n"
     ]
    }
   ],
   "source": [
    "s5=\"\"\"\\\n",
    "안녕하세요.\n",
    "나는 파이썬을 공부하고 있습니다.\n",
    "반갑습니다.\\\n",
    "\"\"\"\n",
    "\n",
    "print(s5)"
   ]
  },
  {
   "cell_type": "code",
   "execution_count": 88,
   "id": "a752fd27-aa27-47bd-b3cf-b5b5dd52e4ec",
   "metadata": {},
   "outputs": [
    {
     "name": "stdout",
     "output_type": "stream",
     "text": [
      "\"안녕하세요.\"\n",
      "나는 파이썬을 공부하고 있습니다.\n",
      "반갑습니다.\n"
     ]
    }
   ],
   "source": [
    "s6=\"\"\"\\\n",
    "\"안녕하세요.\"\n",
    "나는 파이썬을 공부하고 있습니다.\n",
    "반갑습니다.\\\n",
    "\"\"\"\n",
    "\n",
    "print(s6)"
   ]
  },
  {
   "cell_type": "code",
   "execution_count": 94,
   "id": "9e510b29-94dd-4506-82b4-7a382088a151",
   "metadata": {},
   "outputs": [
    {
     "name": "stdout",
     "output_type": "stream",
     "text": [
      "너무 너무 너무 너무 너무 너무 너무 파이썬 공부가 즐겁습니다.\n"
     ]
    }
   ],
   "source": [
    "very=\"너무 \"\n",
    "print(very*7+\"파이썬 공부가 즐겁습니다.\") # +는 문자열의 결합"
   ]
  },
  {
   "cell_type": "code",
   "execution_count": 95,
   "id": "0d3e4a53-24a9-4424-b7f4-1bfd2ea9aacb",
   "metadata": {},
   "outputs": [
    {
     "name": "stdout",
     "output_type": "stream",
     "text": [
      "P\n",
      "n\n",
      "n\n",
      "P\n"
     ]
    }
   ],
   "source": [
    "word =\"Python\"\n",
    "print(word[0])\n",
    "print(word[5])\n",
    "print(word[-1])\n",
    "print(word[-6])"
   ]
  },
  {
   "cell_type": "code",
   "execution_count": 96,
   "id": "78bd686e-ef7a-49fa-84e9-154531ad88e6",
   "metadata": {},
   "outputs": [
    {
     "name": "stdout",
     "output_type": "stream",
     "text": [
      "꺾\n"
     ]
    }
   ],
   "source": [
    "sentence=\"중요한 것은 꺾이지 않는 마음\"\n",
    "print(sentence[7])"
   ]
  },
  {
   "cell_type": "code",
   "execution_count": 98,
   "id": "dcc89265-302d-40fe-add6-a87b349879e2",
   "metadata": {},
   "outputs": [
    {
     "name": "stdout",
     "output_type": "stream",
     "text": [
      "Py\n",
      "Py\n",
      "Py\n",
      "on\n",
      "on\n",
      "on\n",
      "yt\n",
      "yt\n"
     ]
    }
   ],
   "source": [
    "word='Python'\n",
    "print(word[0:2])\n",
    "print(word[:2])\n",
    "print(word[:-4])\n",
    "print(word[4:6])\n",
    "print(word[4:])\n",
    "print(word[-2:])\n",
    "print(word[1:3])\n",
    "print(word[-5:-3])"
   ]
  },
  {
   "cell_type": "code",
   "execution_count": 99,
   "id": "b9ab7281-7c73-4f9e-b59f-65c014972584",
   "metadata": {},
   "outputs": [
    {
     "name": "stdout",
     "output_type": "stream",
     "text": [
      "\n"
     ]
    }
   ],
   "source": [
    "sentence=\"중요한 것은 꺾이지 않는 마음\"\n",
    "print(sentence[42:])"
   ]
  },
  {
   "cell_type": "code",
   "execution_count": 106,
   "id": "e9d0f465-52c3-4750-9087-264a8be5979b",
   "metadata": {},
   "outputs": [
    {
     "name": "stdout",
     "output_type": "stream",
     "text": [
      "한 것은 꺾이지 않는 마음\n"
     ]
    }
   ],
   "source": [
    "print(sentence[2:42])"
   ]
  },
  {
   "cell_type": "code",
   "execution_count": 105,
   "id": "e3867740-cfbf-4ff0-aa32-3b13d82ea32e",
   "metadata": {},
   "outputs": [
    {
     "name": "stdout",
     "output_type": "stream",
     "text": [
      "꺾이지 않는 마음\n"
     ]
    }
   ],
   "source": [
    "print(sentence[7:])"
   ]
  },
  {
   "cell_type": "code",
   "execution_count": 104,
   "id": "74e4965f-c5fb-40cd-87f0-d8fbdcab0a93",
   "metadata": {},
   "outputs": [
    {
     "name": "stdout",
     "output_type": "stream",
     "text": [
      "한요중\n"
     ]
    }
   ],
   "source": [
    "print(sentence[-14::-1])"
   ]
  },
  {
   "cell_type": "code",
   "execution_count": 109,
   "id": "7fb7e158-81bf-4a3d-b33b-76cdabe99f10",
   "metadata": {},
   "outputs": [
    {
     "ename": "NameError",
     "evalue": "name 'senetence' is not defined",
     "output_type": "error",
     "traceback": [
      "\u001b[1;31m---------------------------------------------------------------------------\u001b[0m",
      "\u001b[1;31mNameError\u001b[0m                                 Traceback (most recent call last)",
      "\u001b[1;32m~\\AppData\\Local\\Temp\\ipykernel_9640\\16618632.py\u001b[0m in \u001b[0;36m<module>\u001b[1;34m\u001b[0m\n\u001b[1;32m----> 1\u001b[1;33m \u001b[0msenetence\u001b[0m\u001b[1;33m[\u001b[0m\u001b[1;36m0\u001b[0m\u001b[1;33m:\u001b[0m\u001b[1;36m3\u001b[0m\u001b[1;33m]\u001b[0m\u001b[1;33m=\u001b[0m\u001b[1;34m'대단한'\u001b[0m\u001b[1;33m\u001b[0m\u001b[1;33m\u001b[0m\u001b[0m\n\u001b[0m",
      "\u001b[1;31mNameError\u001b[0m: name 'senetence' is not defined"
     ]
    }
   ],
   "source": [
    "senetence[0:3]='대단한'"
   ]
  },
  {
   "cell_type": "code",
   "execution_count": 110,
   "id": "7887bf78-8879-472a-abe4-9046476182aa",
   "metadata": {},
   "outputs": [
    {
     "name": "stdout",
     "output_type": "stream",
     "text": [
      "대단한 것은 꺾이지 않는 마음\n"
     ]
    }
   ],
   "source": [
    "sentence=\"대단한\"+sentence[3:]\n",
    "print(sentence)"
   ]
  },
  {
   "cell_type": "code",
   "execution_count": 111,
   "id": "0ab00f07-699e-40bb-a171-d0e63b6509b6",
   "metadata": {},
   "outputs": [
    {
     "name": "stdout",
     "output_type": "stream",
     "text": [
      "재밌어요재밌어요재밌어요재밌어요재밌어요재밌어요재밌어요재밌어요재밌어요재밌어요\n",
      "40\n"
     ]
    }
   ],
   "source": [
    "s7=\"재밌어요\"*10\n",
    "print(s7)\n",
    "print(len(s7))"
   ]
  },
  {
   "cell_type": "code",
   "execution_count": 112,
   "id": "cee6a3b0-f440-43e1-aec3-37bc6fe7f46e",
   "metadata": {},
   "outputs": [
    {
     "name": "stdout",
     "output_type": "stream",
     "text": [
      "[1, 4, 9, 16, 25]\n"
     ]
    }
   ],
   "source": [
    "squares=[1**2,2**2,3**2,4**2,5**2]\n",
    "print(squares)"
   ]
  },
  {
   "cell_type": "code",
   "execution_count": 113,
   "id": "a4874964-253e-44e6-a390-02cbae2ef68e",
   "metadata": {},
   "outputs": [
    {
     "name": "stdout",
     "output_type": "stream",
     "text": [
      "1\n",
      "25\n"
     ]
    }
   ],
   "source": [
    "print(squares[0])\n",
    "print(squares[-1])"
   ]
  },
  {
   "cell_type": "code",
   "execution_count": 114,
   "id": "3cb88edf-176b-4fe9-b2a9-e813c36e51d5",
   "metadata": {},
   "outputs": [
    {
     "name": "stdout",
     "output_type": "stream",
     "text": [
      "[9, 16, 25]\n"
     ]
    }
   ],
   "source": [
    "print(squares[-3:])"
   ]
  },
  {
   "cell_type": "code",
   "execution_count": 115,
   "id": "06ffe604-dcdf-48b4-b185-17abca37f4d4",
   "metadata": {},
   "outputs": [
    {
     "name": "stdout",
     "output_type": "stream",
     "text": [
      "[1, 4, 9, 16, 25, 36, 49, 64, 81, 100]\n"
     ]
    }
   ],
   "source": [
    "print(squares+[36,49,64,81,100])"
   ]
  },
  {
   "cell_type": "code",
   "execution_count": 116,
   "id": "5c080b7b-adaa-454d-b6b6-5a132282db33",
   "metadata": {},
   "outputs": [
    {
     "name": "stdout",
     "output_type": "stream",
     "text": [
      "['a', 'b', 'c', 'd', 'e', 'a', 'b', 'c', 'd', 'e', 'a', 'b', 'c', 'd', 'e']\n"
     ]
    }
   ],
   "source": [
    "letters=['a','b','c','d','e']\n",
    "print(letters*3)"
   ]
  },
  {
   "cell_type": "code",
   "execution_count": 117,
   "id": "080117be-e8e6-4a1e-84e9-16cac3894ae8",
   "metadata": {},
   "outputs": [
    {
     "name": "stdout",
     "output_type": "stream",
     "text": [
      "[1, 8, 27, 64, 125]\n"
     ]
    }
   ],
   "source": [
    "cubes=[1,8,27,65,125]  # list는 mutable\n",
    "cubes[3]=64\n",
    "print(cubes)"
   ]
  },
  {
   "cell_type": "code",
   "execution_count": 118,
   "id": "d6ddbba0-09f4-4cca-94e5-c9bcb8b78f73",
   "metadata": {},
   "outputs": [
    {
     "name": "stdout",
     "output_type": "stream",
     "text": [
      "['a', 'b', 'C', 'D', 'E']\n"
     ]
    }
   ],
   "source": [
    "letters[2:5]=['C','D','E']\n",
    "print(letters)"
   ]
  },
  {
   "cell_type": "code",
   "execution_count": 119,
   "id": "3774dd9f-f89a-4e29-aa1f-a3cb8d9cc0d1",
   "metadata": {},
   "outputs": [
    {
     "name": "stdout",
     "output_type": "stream",
     "text": [
      "5\n"
     ]
    }
   ],
   "source": [
    "print(len(letters))"
   ]
  },
  {
   "cell_type": "code",
   "execution_count": 120,
   "id": "c64ecef6-317d-48f5-bcc7-0d3a54bdebc2",
   "metadata": {},
   "outputs": [
    {
     "name": "stdout",
     "output_type": "stream",
     "text": [
      "[['a', 'b', 'c'], [1, 2, 3]]\n"
     ]
    }
   ],
   "source": [
    "a=['a','b','c']\n",
    "n=[1,2,3]\n",
    "x=[a,n]\n",
    "print(x)"
   ]
  },
  {
   "cell_type": "code",
   "execution_count": 121,
   "id": "952f2ccb-bf5f-432f-865e-3d3533840b96",
   "metadata": {},
   "outputs": [
    {
     "name": "stdout",
     "output_type": "stream",
     "text": [
      "['a', 'b', 'c']\n"
     ]
    }
   ],
   "source": [
    "print(x[0])"
   ]
  },
  {
   "cell_type": "code",
   "execution_count": 122,
   "id": "3e715e56-f4e8-4e25-ae5c-0fc40d3c4aa0",
   "metadata": {},
   "outputs": [
    {
     "name": "stdout",
     "output_type": "stream",
     "text": [
      "a\n"
     ]
    }
   ],
   "source": [
    "print(x[0][0])"
   ]
  },
  {
   "cell_type": "code",
   "execution_count": 123,
   "id": "34239a0d-292c-44f6-9e58-cbd20ed69528",
   "metadata": {},
   "outputs": [
    {
     "name": "stdout",
     "output_type": "stream",
     "text": [
      "[1, 2, 3]\n"
     ]
    }
   ],
   "source": [
    "print(x[1])"
   ]
  },
  {
   "cell_type": "code",
   "execution_count": 124,
   "id": "99692cec-2040-4428-8d01-3a70b31844f6",
   "metadata": {},
   "outputs": [
    {
     "name": "stdout",
     "output_type": "stream",
     "text": [
      "3\n"
     ]
    }
   ],
   "source": [
    "print(x[1][2])"
   ]
  },
  {
   "cell_type": "code",
   "execution_count": 125,
   "id": "d4c387b8-1753-49be-971f-e3efc8a42dc9",
   "metadata": {},
   "outputs": [
    {
     "name": "stdout",
     "output_type": "stream",
     "text": [
      "True\n",
      "False\n"
     ]
    }
   ],
   "source": [
    "numbers=[1,2,3,4,5,6,7]\n",
    "print(5 in numbers)\n",
    "print(10 in numbers)"
   ]
  },
  {
   "cell_type": "code",
   "execution_count": 126,
   "id": "7ff38e14-9b13-488f-8fa1-d8199d9bc03e",
   "metadata": {},
   "outputs": [
    {
     "name": "stdout",
     "output_type": "stream",
     "text": [
      "True\n"
     ]
    }
   ],
   "source": [
    "print(\"한\" in sentence)"
   ]
  },
  {
   "cell_type": "code",
   "execution_count": null,
   "id": "9e06ca26-31a1-4ace-8e3c-1e7b851056b7",
   "metadata": {},
   "outputs": [],
   "source": []
  }
 ],
 "metadata": {
  "kernelspec": {
   "display_name": "Python 3 (ipykernel)",
   "language": "python",
   "name": "python3"
  },
  "language_info": {
   "codemirror_mode": {
    "name": "ipython",
    "version": 3
   },
   "file_extension": ".py",
   "mimetype": "text/x-python",
   "name": "python",
   "nbconvert_exporter": "python",
   "pygments_lexer": "ipython3",
   "version": "3.9.13"
  }
 },
 "nbformat": 4,
 "nbformat_minor": 5
}
