{
 "cells": [
  {
   "cell_type": "markdown",
   "id": "6b34426d-8db6-45a5-9ec4-946beb3a8326",
   "metadata": {},
   "source": [
    "# 복습"
   ]
  },
  {
   "cell_type": "code",
   "execution_count": 7,
   "id": "3a97af51-7260-4252-9ce6-607a26345ccf",
   "metadata": {},
   "outputs": [
    {
     "name": "stdout",
     "output_type": "stream",
     "text": [
      "{'': 0, '전정국': 0, '김남준': 0, '박지민': 0, '정호석': 0, '김태형': 0}\n",
      "김태형 후보가 총 4표를 얻어 당선되었습니다.\n"
     ]
    }
   ],
   "source": [
    "votes=[2,5,3,4,1,5,1,5,5,3]\n",
    "candidates=['','전정국','김남준','박지민','정호석','김태형']\n",
    "\n",
    "result=dict(zip(candidates,[0,0,0,0,0,0]))\n",
    "         \n",
    "for i in votes:\n",
    "    if i==0:\n",
    "        result[''] += 1\n",
    "    elif i==1:\n",
    "        result['전정국'] +=1\n",
    "    elif i==2:\n",
    "        result['김남준'] +=1\n",
    "    elif i==3:\n",
    "        result['박지민'] +=1\n",
    "    elif i==4:\n",
    "        result['정호석'] +=1\n",
    "    else :\n",
    "        result['김태형'] +=1\n",
    "\n",
    "winner_name=''\n",
    "winner_get=result[winner_name]\n",
    "\n",
    "for name, get in result.items():\n",
    "    if get>winner_get:\n",
    "        winner_get=get\n",
    "        winner_name=name\n",
    "print(f'{winner_name} 후보가 총 {winner_get}표를 얻어 당선되었습니다.')"
   ]
  },
  {
   "cell_type": "code",
   "execution_count": 11,
   "id": "d35cb491-5ed0-4991-9810-c750a70c4032",
   "metadata": {},
   "outputs": [
    {
     "name": "stdout",
     "output_type": "stream",
     "text": [
      "김태형 후보가 총 4를 얻어 당선되었습니다.\n"
     ]
    }
   ],
   "source": [
    "votes=[2,5,3,4,1,5,1,5,5,3]\n",
    "candidates=['','전정국','김남준','박지민','정호석','김태형']\n",
    "\n",
    "# 집계용 리스트 생성(가변)\n",
    "counts=[0]*len(candidates)\n",
    "\n",
    "# 인덱스에 맞춰서 votes가 제공되었기 때문에 \n",
    "for vote in votes:\n",
    "    counts[vote] +=1\n",
    "    \n",
    "'''i=1\n",
    "max_count=0 \n",
    "elected_person=0\n",
    "while i< len(counts):\n",
    "    if max_count < counts[i]:\n",
    "        max_count = counts[i]\n",
    "        elected_person = i\n",
    "    i += 1'''   \n",
    "\n",
    "max_count= max(counts)\n",
    "elected_person_index=counts.index(max_count)\n",
    "\n",
    "print(f'{candidates[elected_person_index]} 후보가 총 {max_count}를 얻어 당선되었습니다.')"
   ]
  },
  {
   "cell_type": "code",
   "execution_count": null,
   "id": "687c3a82-5c7b-4df9-b060-8805d1c42513",
   "metadata": {},
   "outputs": [],
   "source": []
  }
 ],
 "metadata": {
  "kernelspec": {
   "display_name": "Python 3 (ipykernel)",
   "language": "python",
   "name": "python3"
  },
  "language_info": {
   "codemirror_mode": {
    "name": "ipython",
    "version": 3
   },
   "file_extension": ".py",
   "mimetype": "text/x-python",
   "name": "python",
   "nbconvert_exporter": "python",
   "pygments_lexer": "ipython3",
   "version": "3.9.13"
  }
 },
 "nbformat": 4,
 "nbformat_minor": 5
}
