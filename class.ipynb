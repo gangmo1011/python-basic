{
 "cells": [
  {
   "cell_type": "markdown",
   "id": "7fbdb6b9-7b4e-4a00-87ac-dd53f778a71b",
   "metadata": {},
   "source": [
    "\n",
    "**팀(Team) 객체를 생성할 수 있는 클래스를 만들어보세요**\n",
    "\n",
    "**클래스 속성**\n",
    "\n",
    "count (default 0)\n",
    "\n",
    "order (default 빈 리스트)\n",
    "\n",
    "**인스턴스 속성**\n",
    "\n",
    "number (필수)\n",
    "\n",
    "name (default None)\n",
    "\n",
    "**비공개 인스턴스 속성**\n",
    "\n",
    "member (default 빈 set)\n",
    "\n",
    "**메서드**\n",
    "\n",
    "add_member(): 이름을 인자로 받고 해당 이름이 member 요소로 있는 지 확인하고 있으면 “000 님은 이미 팀에 있습니다.”를 출력하고 없으면 member에 추가하고 “000 님을 {self.number} 팀에 추가했습니다.” 출력합니다.\n",
    "\n",
    "rm_member(): 이름을 인자로 받고 해당 이름이 member 요소로 있는 지 확인하고 있으면 member 요소에서 삭제하고 “000님을 {self.number} 팀에서 삭제했습니다.” 출력합니다. 없으면 “000 님은 해당 팀에 없습니다.” 출력하고 메서드를 종료합니다.\n",
    "\n",
    "get_count(), get_order()는 각각 count와 order의 값을 반환합니다.\n",
    "\n",
    "set_order()는 숫자를 하나 인자로 받아와서 그 값을 order 맨 뒤에 추가합니다. 이때 이미 값이 있는 경우 앞의 값은 전부 지우고 맨 뒤에 값을 추가합니다.\n"
   ]
  },
  {
   "cell_type": "code",
   "execution_count": 2,
   "id": "8623ba94-c0c9-47f1-9f7d-3cb60e5ee15b",
   "metadata": {},
   "outputs": [],
   "source": [
    "class Team:\n",
    "    ''' 팀 객체를 만듭니다. '''\n",
    "    count =0 # Team 클래스로부터 초기화된 인스턴스의 갯수\n",
    "    order =[]\n",
    "    def __init__(self,number,name=None):\n",
    "        self.number = number\n",
    "        self.name = name\n",
    "        self.__member=set()\n",
    "        Team.count += 1 # 인스턴스가 하나 생성될 때마다 하나씩 증가 \n",
    "        \n",
    "    def add_member(self,name):\n",
    "        if name not in self.__member:\n",
    "            self.__member.add(name)\n",
    "            print(f'{name} 님을 {self.number}팀에 추가했습니다.')\n",
    "        else:\n",
    "            print(f'{name} 님은 이미 팀에 있습니다.')\n",
    "    \n",
    "    def rm_member(self,name):\n",
    "        if name not in self.__member:\n",
    "            print(f'{name} 님은 해당 팀에 없습니다.')\n",
    "        else:\n",
    "            self.__member.remove(name)\n",
    "            print(f'{name} 님을 {self.number}팀에서 삭제했습니다.')\n",
    "            \n",
    "    def set_order(self,num):\n",
    "        while True:\n",
    "            if num in self.order:\n",
    "                self.order.remove(num)\n",
    "            else:\n",
    "                self.order.append(num)\n",
    "                break\n",
    "                \n",
    "    def get_count(self):\n",
    "        return self.count\n",
    "    \n",
    "    def get_order(self):\n",
    "        return self.order\n",
    "    \n",
    "    # 내장 함수(Built-in-function) len(Team()) ==> 파이썬이 __len__(self)f를 찾아서 실행 \n",
    "    def __len__(self):\n",
    "        return len(self.__member)"
   ]
  },
  {
   "cell_type": "code",
   "execution_count": 2,
   "id": "1bd2fcd3-a9f2-4a85-8e33-5c63fa482729",
   "metadata": {},
   "outputs": [],
   "source": [
    "t1=Team(1)"
   ]
  },
  {
   "cell_type": "code",
   "execution_count": null,
   "id": "6f5ef266-6050-465a-82dc-435d6d0f402d",
   "metadata": {},
   "outputs": [],
   "source": [
    "class TeamBuilder:\n",
    "    '''\n",
    "    1번에 1개의 팀의 정보를 갖고 있는 클래스입니다.\n",
    "    '''\n",
    "    has_team=False\n",
    "    teams=[]\n",
    "    def __init__(self,members,team_count):\n",
    "        self.members=members\n",
    "        self.team_count=team_count\n",
    "        has_team=True\n",
    "        \n",
    "    def create_team(self):\n",
    "        for i in range(1, "
   ]
  }
 ],
 "metadata": {
  "kernelspec": {
   "display_name": "Python 3 (ipykernel)",
   "language": "python",
   "name": "python3"
  },
  "language_info": {
   "codemirror_mode": {
    "name": "ipython",
    "version": 3
   },
   "file_extension": ".py",
   "mimetype": "text/x-python",
   "name": "python",
   "nbconvert_exporter": "python",
   "pygments_lexer": "ipython3",
   "version": "3.9.13"
  }
 },
 "nbformat": 4,
 "nbformat_minor": 5
}
