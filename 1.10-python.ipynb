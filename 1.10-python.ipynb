{
 "cells": [
  {
   "cell_type": "markdown",
   "id": "b977f444-b201-4bb3-8881-a5febecb0c78",
   "metadata": {
    "tags": []
   },
   "source": [
    "# 복습"
   ]
  },
  {
   "cell_type": "markdown",
   "id": "2cddca8a-d169-4d55-be11-59ea9495b8c5",
   "metadata": {},
   "source": [
    "```\n",
    "5명의 시험관이 채점한 어느 학생의 실기 시험 점수를 입력받아 Scores라는 list를\n",
    "만듭니다.(split(), map(), list() 사용)\n",
    "공정성을 위해 최고 점수와 최저점수는 제외하고 나머지 점수들의 합계를 총점으로\n",
    "반영합니다.\n",
    "이 학생의 최종 실기 평균을 구하세요.(아래 프로그램 구조에 따라)\n",
    "```"
   ]
  },
  {
   "cell_type": "code",
   "execution_count": null,
   "id": "5e99ba5e-48af-4b47-aaf8-ca6d1efd89f4",
   "metadata": {},
   "outputs": [
    {
     "name": "stdin",
     "output_type": "stream",
     "text": [
      "실기점수를 입력하세요 : 70 68 55 80 90\n"
     ]
    },
    {
     "name": "stdout",
     "output_type": "stream",
     "text": [
      "이 학생의 평균 점수는 72.66666666666667입니다.\n"
     ]
    }
   ],
   "source": [
    "scores=list(map(int,input(\"실기점수를 입력하세요 :\").split(' ')))\n",
    "min =scores[0]; max=scores[0]\n",
    "for i in scores:\n",
    "    if min>i:\n",
    "        min=i\n",
    "    if max<i:\n",
    "        max=i\n",
    "\n",
    "total=0\n",
    "for i in scores:\n",
    "    total += i\n",
    "    \n",
    "total2=total-(min+max)\n",
    "\n",
    "print(f'이 학생의 평균 점수는 {total2/(len(scores)-2)}입니다.')"
   ]
  },
  {
   "cell_type": "markdown",
   "id": "8a20f71e-ee73-4790-8f65-ac405f10d60c",
   "metadata": {},
   "source": [
    "```\n",
    "파이썬대학교에서는 다음과 같이 학생들의 점수에 따라 학점을 부여합니다.\n",
    "● 85점 ~ 100점: A 학점\n",
    "● 70점 ~ 84점: B학점\n",
    "● 55점 ~ 69점: C학점\n",
    "● 40점 ~ 54점: D학점\n",
    "● 0점 ~ 39점: F학점\n",
    "A학점, B학점, C학점, D학점, F학점을\n",
    "받은 학생들의 수로 grade_counter라는\n",
    "이름의 리스트를 만들어 출력할 수 있도록\n",
    "다음의 코드를 완성하세요.\n",
    "점수 리스트 [86,72,98,60,45]\n",
    "```"
   ]
  },
  {
   "cell_type": "code",
   "execution_count": 1,
   "id": "3b2504c3-7df3-4367-8b68-81239ce16c6a",
   "metadata": {},
   "outputs": [
    {
     "name": "stdout",
     "output_type": "stream",
     "text": [
      "[2, 1, 1, 1, 0]\n"
     ]
    }
   ],
   "source": [
    "score=[86,72,98,60,45]\n",
    "\n",
    "grade_counter=[0,0,0,0,0]\n",
    "\n",
    "for i in score:\n",
    "    if 85<= i <= 100:\n",
    "        grade_counter[0] +=1\n",
    "    elif 70<= i:\n",
    "        grade_counter[1] +=1\n",
    "    elif 55<= i:\n",
    "        grade_counter[2] +=1\n",
    "    elif 40<= i:\n",
    "        grade_counter[3] +=1\n",
    "    else:\n",
    "        grade_counter[4] +=1\n",
    "        \n",
    "print(grade_counter)   "
   ]
  },
  {
   "cell_type": "markdown",
   "id": "39bce2f0-a811-4cc0-823b-39c07d6a254a",
   "metadata": {},
   "source": [
    "```\n",
    "FizzBuzz 문제\n",
    "- 1 ~ 100까지의 범위를 갖습니다.\n",
    "- 3의 배수는 Fizz를 출력합니다.\n",
    "- 5의 배수는 Buzz를 출력합니다.\n",
    "- 3과 5의 배수는 FizzBuzz를 출력합니다.\n",
    "```"
   ]
  },
  {
   "cell_type": "code",
   "execution_count": 13,
   "id": "860f5a6a-d842-4289-aaee-94368519e66b",
   "metadata": {},
   "outputs": [
    {
     "name": "stdout",
     "output_type": "stream",
     "text": [
      "1\t2\tFizz\t4\tBuzz\tFizz\t7\t8\tFizz\tBuzz\t11\tFizz\t13\t14\tFizzBuzz\t16\t17\tFizz\t19\tBuzz\tFizz\t22\t23\tFizz\tBuzz\t26\tFizz\t28\t29\tFizzBuzz\t31\t32\tFizz\t34\tBuzz\tFizz\t37\t38\tFizz\tBuzz\t41\tFizz\t43\t44\tFizzBuzz\t46\t47\tFizz\t49\tBuzz\tFizz\t52\t53\tFizz\tBuzz\t56\tFizz\t58\t59\tFizzBuzz\t61\t62\tFizz\t64\tBuzz\tFizz\t67\t68\tFizz\tBuzz\t71\tFizz\t73\t74\tFizzBuzz\t76\t77\tFizz\t79\tBuzz\tFizz\t82\t83\tFizz\tBuzz\t86\tFizz\t88\t89\tFizzBuzz\t91\t92\tFizz\t94\tBuzz\tFizz\t97\t98\tFizz\tBuzz\t"
     ]
    }
   ],
   "source": [
    "for i in range(1,101):\n",
    "    if i%3==0 and i%5==0:\n",
    "        print('FizzBuzz',end='\\t')\n",
    "    elif i%3==0:\n",
    "        print('Fizz',end='\\t')\n",
    "    elif i%5==0:\n",
    "        print('Buzz',end='\\t')\n",
    "    else:\n",
    "        print(i, end='\\t')"
   ]
  },
  {
   "cell_type": "code",
   "execution_count": 2,
   "id": "f4e75fbc-2675-4888-a230-86c8df6bb44b",
   "metadata": {},
   "outputs": [
    {
     "name": "stdout",
     "output_type": "stream",
     "text": [
      "1\t2\tFizz\t4\tBuzz\tFizz\t7\t8\tFizz\tBuzz\t11\tFizz\t13\t14\tFizzBuzz\t16\t17\tFizz\t19\tBuzz\tFizz\t22\t23\tFizz\tBuzz\t26\tFizz\t28\t29\tFizzBuzz\t31\t32\tFizz\t34\tBuzz\tFizz\t37\t38\tFizz\tBuzz\t41\tFizz\t43\t44\tFizzBuzz\t46\t47\tFizz\t49\tBuzz\tFizz\t52\t53\tFizz\tBuzz\t56\tFizz\t58\t59\tFizzBuzz\t61\t62\tFizz\t64\tBuzz\tFizz\t67\t68\tFizz\tBuzz\t71\tFizz\t73\t74\tFizzBuzz\t76\t77\tFizz\t79\tBuzz\tFizz\t82\t83\tFizz\tBuzz\t86\tFizz\t88\t89\tFizzBuzz\t91\t92\tFizz\t94\tBuzz\tFizz\t97\t98\tFizz\tBuzz\t"
     ]
    }
   ],
   "source": [
    "# Ture, False의 정수 값을 응용\n",
    "for i in range(1,101):\n",
    "    print('Fizz'*(i%3==0) + 'Buzz'*(i%5==0) or i, end='\\t')"
   ]
  },
  {
   "cell_type": "markdown",
   "id": "ff81417b-8339-43c5-87bf-c6a25edd5254",
   "metadata": {},
   "source": [
    "```\n",
    "학생들의 이름이 들어있는 명단이 name_list라는 리스트 형태로 주어질 때 이름에 ‘m’\n",
    "또는 ‘h’가 들어있는 학생의 수를 구하려고 합니다.\n",
    "예를 들어 john 에는 h가 들어가 있으며, matthew 에는 m 과 h가 모두 들어있습니다.\n",
    "(m과 h 모두 들어있는 이름은 하나로 취급함)\n",
    "- name_list = [‘matthew’, ‘mark’, ‘luke’, ‘john’, ‘paul’, ‘peter’]\n",
    "```"
   ]
  },
  {
   "cell_type": "code",
   "execution_count": 13,
   "id": "71e945e9-0077-4d12-b4b0-71a6375c72e3",
   "metadata": {},
   "outputs": [
    {
     "name": "stdout",
     "output_type": "stream",
     "text": [
      "m 또는 h가 이름에 포함된 사람은 3명 입니다.\n"
     ]
    }
   ],
   "source": [
    "name_list=['matthew','mark','luke','john','paul','peter']\n",
    "num=0\n",
    "for name in name_list:\n",
    "    for i in name:\n",
    "        if i =='m' or i=='h':\n",
    "            num +=1\n",
    "            break\n",
    "print(f'm 또는 h가 이름에 포함된 사람은 {num}명 입니다.')"
   ]
  },
  {
   "cell_type": "code",
   "execution_count": 11,
   "id": "7b5a5df8-f346-461d-81c1-d4a8a95a2ca8",
   "metadata": {},
   "outputs": [
    {
     "name": "stdout",
     "output_type": "stream",
     "text": [
      "m 또는 h가 이름에 포함된 사람은 3명 입니다.\n"
     ]
    }
   ],
   "source": [
    "# in을 사용\n",
    "name_list=['matthew','mark','luke','john','paul','peter']\n",
    "num=0\n",
    "for i in name_list:\n",
    "    if ('m' in i) or ('h' in i) :\n",
    "        num += 1\n",
    "print(f'm 또는 h가 이름에 포함된 사람은 {num}명 입니다.')"
   ]
  },
  {
   "cell_type": "markdown",
   "id": "1e944b6b-4ac5-47a7-941c-1c37c34ad9da",
   "metadata": {},
   "source": [
    "```\n",
    "총 5명의 학생이 시험을 보았습니다. 시험 점수가 60점을 넘어 합격한 사람에게만 축하\n",
    "메시지를 보내는 프로그램을 구현합니다.(불합격자에게는 메시지를 띄우지 않습니다.)\n",
    "(for / while 모두 작성, continue 활용)\n",
    "- marks = [90, 25, 67, 45, 80]\n",
    "```"
   ]
  },
  {
   "cell_type": "code",
   "execution_count": 19,
   "id": "642a08e9-a865-418b-8840-bf17c513ce44",
   "metadata": {},
   "outputs": [
    {
     "name": "stdout",
     "output_type": "stream",
     "text": [
      "1번 학생 축하합니다. 합격입니다.\n",
      "3번 학생 축하합니다. 합격입니다.\n",
      "5번 학생 축하합니다. 합격입니다.\n",
      "\n",
      "\n",
      "1번 학생 축하합니다. 합격입니다.\n",
      "3번 학생 축하합니다. 합격입니다.\n",
      "5번 학생 축하합니다. 합격입니다.\n"
     ]
    }
   ],
   "source": [
    "marks=[90,25,67,45,80]\n",
    "#for문\n",
    "for i in range(len(marks)):\n",
    "    if marks[i]<60:\n",
    "        continue\n",
    "    print(f'{i+1}번 학생 축하합니다. 합격입니다.')\n",
    "        \n",
    "\n",
    "print('\\n')\n",
    "\n",
    "#while문\n",
    "i=0\n",
    "while i<len(marks):\n",
    "    if marks[i]<60:\n",
    "        i+=1\n",
    "        continue\n",
    "    print(f'{i+1}번 학생 축하합니다. 합격입니다.')\n",
    "    i+=1\n",
    "   \n"
   ]
  },
  {
   "cell_type": "markdown",
   "id": "ebf5d6c2-de6e-4ac0-a769-29853b97e707",
   "metadata": {},
   "source": [
    "```\n",
    "주어진 리스트의 순서를 뒤집으려고 합니다. 주어진 리스트는 [1,4,2,3]이며, 순서를\n",
    "뒤집은 리스트 [3, 2, 4, 1] 입니다.\n",
    "정수가 들어있는 리스트 arr을 뒤집어서 인쇄하도록 빈칸을 채워 전체 코드를\n",
    "완성해주세요.\n",
    "```"
   ]
  },
  {
   "cell_type": "code",
   "execution_count": 28,
   "id": "8b901dd3-60dc-4757-8fda-7b56f9fa62fe",
   "metadata": {},
   "outputs": [
    {
     "name": "stdout",
     "output_type": "stream",
     "text": [
      "2.5\n",
      "변환된 arr은 [5, 3, 2, 4, 1]입니다\"\n"
     ]
    }
   ],
   "source": [
    "arr=[1,4,2,3,5]\n",
    "left, right=0,len(arr)-1\n",
    "\n",
    "while left<len(arr)/2:\n",
    "    arr[left],arr[right]=arr[right],arr[left]\n",
    "    left +=1\n",
    "    right -=1\n",
    "print(f'변환된 arr은 {arr}입니다\"')"
   ]
  },
  {
   "cell_type": "markdown",
   "id": "77c3b47b-c2ce-4ad4-a872-748bd088d84f",
   "metadata": {},
   "source": [
    "```\n",
    "<구구단>반복문을 사용하여 아래와 같이 구구단 전체를 화면에 프린트해 주세요.\n",
    "for/while 모두 작성\n",
    "```"
   ]
  },
  {
   "cell_type": "code",
   "execution_count": 34,
   "id": "9105b298-e7b3-4898-884b-13388553e25d",
   "metadata": {},
   "outputs": [
    {
     "name": "stdout",
     "output_type": "stream",
     "text": [
      "2X1=2\t3X1=3\t4X1=4\t5X1=5\t6X1=6\t7X1=7\t8X1=8\t9X1=9\t\n",
      "2X2=4\t3X2=6\t4X2=8\t5X2=10\t6X2=12\t7X2=14\t8X2=16\t9X2=18\t\n",
      "2X3=6\t3X3=9\t4X3=12\t5X3=15\t6X3=18\t7X3=21\t8X3=24\t9X3=27\t\n",
      "2X4=8\t3X4=12\t4X4=16\t5X4=20\t6X4=24\t7X4=28\t8X4=32\t9X4=36\t\n",
      "2X5=10\t3X5=15\t4X5=20\t5X5=25\t6X5=30\t7X5=35\t8X5=40\t9X5=45\t\n",
      "2X6=12\t3X6=18\t4X6=24\t5X6=30\t6X6=36\t7X6=42\t8X6=48\t9X6=54\t\n",
      "2X7=14\t3X7=21\t4X7=28\t5X7=35\t6X7=42\t7X7=49\t8X7=56\t9X7=63\t\n",
      "2X8=16\t3X8=24\t4X8=32\t5X8=40\t6X8=48\t7X8=56\t8X8=64\t9X8=72\t\n",
      "2X9=18\t3X9=27\t4X9=36\t5X9=45\t6X9=54\t7X9=63\t8X9=72\t9X9=81\t\n",
      "\n",
      "\n",
      "2X1=2\t3X1=3\t4X1=4\t5X1=5\t6X1=6\t7X1=7\t8X1=8\t9X1=9\t\n",
      "2X2=4\t3X2=6\t4X2=8\t5X2=10\t6X2=12\t7X2=14\t8X2=16\t9X2=18\t\n",
      "2X3=6\t3X3=9\t4X3=12\t5X3=15\t6X3=18\t7X3=21\t8X3=24\t9X3=27\t\n",
      "2X4=8\t3X4=12\t4X4=16\t5X4=20\t6X4=24\t7X4=28\t8X4=32\t9X4=36\t\n",
      "2X5=10\t3X5=15\t4X5=20\t5X5=25\t6X5=30\t7X5=35\t8X5=40\t9X5=45\t\n",
      "2X6=12\t3X6=18\t4X6=24\t5X6=30\t6X6=36\t7X6=42\t8X6=48\t9X6=54\t\n",
      "2X7=14\t3X7=21\t4X7=28\t5X7=35\t6X7=42\t7X7=49\t8X7=56\t9X7=63\t\n",
      "2X8=16\t3X8=24\t4X8=32\t5X8=40\t6X8=48\t7X8=56\t8X8=64\t9X8=72\t\n",
      "2X9=18\t3X9=27\t4X9=36\t5X9=45\t6X9=54\t7X9=63\t8X9=72\t9X9=81\t\n"
     ]
    }
   ],
   "source": [
    "#for문\n",
    "for i in range(1,10):\n",
    "    for j in range(2,10):\n",
    "        print(f'{j}X{i}={j*i}',end='\\t')\n",
    "    print('')\n",
    "\n",
    "#while문\n",
    "print('\\n') \n",
    "i=1; \n",
    "while i <10:\n",
    "    j=2\n",
    "    while j <10:\n",
    "        print(f'{j}X{i}={j*i}',end='\\t')\n",
    "        j +=1\n",
    "    i+=1\n",
    "    print('')"
   ]
  },
  {
   "cell_type": "markdown",
   "id": "59108ad3-6a7a-4c1d-92ed-7696303c3795",
   "metadata": {},
   "source": [
    "# 딕셔너리(Dictionary)\n",
    "```\n",
    "비 시퀀스형 자료형\n",
    "인덱스를 갖지 않는 대신에 고유한 키(key)값을 가짐\n",
    "키(key)는 1대1로 매칭되는 값(value)를 가짐\n",
    "key-value pair는 딕셔너리 자료형의 특징\n",
    "```"
   ]
  },
  {
   "cell_type": "markdown",
   "id": "5b93f218-17fe-4c0e-a017-876e46b3c9d3",
   "metadata": {},
   "source": [
    "```\n",
    "키(key)에는 문자열, 정수, 실수, 불, 튜플 사용 가능\n",
    "단, 리스트(list), 딕셔너리(dictionary), 집합(set)을 사용할 수 없음\n",
    "\n",
    "키(key)는 고유한 값을 가져야 함 \n",
    "\n",
    "\n",
    "```"
   ]
  },
  {
   "cell_type": "markdown",
   "id": "b014f95c-9a7a-4760-b931-225ef78b38c2",
   "metadata": {},
   "source": [
    "## 딕셔너리 생성\n",
    "```\n",
    "dict()함수 사용 또는 {'key':value ...} 형식으로 생성\n",
    "```"
   ]
  },
  {
   "cell_type": "code",
   "execution_count": 72,
   "id": "58a15c99-933f-4713-81e7-abb9d46b096d",
   "metadata": {},
   "outputs": [
    {
     "name": "stdout",
     "output_type": "stream",
     "text": [
      "{'key': 1, 'key2': 2, 'key3': 3}\n"
     ]
    }
   ],
   "source": [
    "dict_a=dict(key=1,key2=2,key3=3) #인자로 전달된 키는 문자열 아니더라도 문자열로 변환\n",
    "print(dict_a)"
   ]
  },
  {
   "cell_type": "markdown",
   "id": "3440609a-9d21-40e3-b02e-f56a62c12558",
   "metadata": {},
   "source": [
    "## zip() 함수\n",
    "```\n",
    "zip()함수를 통하여 키와 값 한 쌍을 갖는 튜플을 요소로 갖는 객체로 딕셔너리 자료형을 생성 가능\n",
    "\n",
    "```\n"
   ]
  },
  {
   "cell_type": "code",
   "execution_count": 66,
   "id": "4bd5352b-c741-44c6-8fc6-6decd3d58a57",
   "metadata": {},
   "outputs": [
    {
     "name": "stdout",
     "output_type": "stream",
     "text": [
      "[('key', 'value'), ('key2', 'value2'), ('key3', 'value3')]\n",
      "{'key': 'value', 'key2': 'value2', 'key3': 'value3'}\n"
     ]
    }
   ],
   "source": [
    "print(list(zip(['key','key2','key3'],['value','value2','value3'])))\n",
    "dict_b=dict(zip(['key','key2','key3'],['value','value2','value3']))\n",
    "print(dict_b)\n"
   ]
  },
  {
   "cell_type": "markdown",
   "id": "af5d06ff-34e8-4de9-bae1-5fe6a12c36e6",
   "metadata": {},
   "source": [
    "```\n",
    "갯수가 맞지 않으면 갯수가 적은 것에 맞춰서 생성\n",
    "```"
   ]
  },
  {
   "cell_type": "code",
   "execution_count": 40,
   "id": "99feab82-41c0-4074-829a-e8e9b8fa2d17",
   "metadata": {},
   "outputs": [
    {
     "name": "stdout",
     "output_type": "stream",
     "text": [
      "{'1': 1, '2': 2, '3': 3, '4': 4}\n"
     ]
    }
   ],
   "source": [
    "dict_c=dict(zip(['1','2','3','4','5'],[1,2,3,4]))\n",
    "print(dict_c)"
   ]
  },
  {
   "cell_type": "markdown",
   "id": "e7faf413-3999-4859-9f6c-a839da520e76",
   "metadata": {},
   "source": [
    "## 키로 값에 접근하기\n",
    "```\n",
    "키를 활용하여 해당 값에 접근\n",
    "```"
   ]
  },
  {
   "cell_type": "code",
   "execution_count": 36,
   "id": "8f7e921c-38b8-42a6-9ffd-5efbe4a0e45b",
   "metadata": {},
   "outputs": [
    {
     "name": "stdout",
     "output_type": "stream",
     "text": [
      "value\n"
     ]
    }
   ],
   "source": [
    "print(dict_b['key'])"
   ]
  },
  {
   "cell_type": "markdown",
   "id": "dc539e49-763c-43fd-a779-95934ba84c7f",
   "metadata": {},
   "source": [
    "## 키로 값 변경하기\n",
    "```\n",
    "키로 해당 값에 접근 후 새로운 값 저장\n",
    "```"
   ]
  },
  {
   "cell_type": "code",
   "execution_count": 42,
   "id": "deb94780-30cc-4016-82f8-400d52a178c4",
   "metadata": {},
   "outputs": [
    {
     "name": "stdout",
     "output_type": "stream",
     "text": [
      "{'key': 'value', 'key2': 'value2', 'key3': 'value3'}\n",
      "{'key': 'super value', 'key2': 'value2', 'key3': 'value3'}\n"
     ]
    }
   ],
   "source": [
    "print(dict_b)\n",
    "dict_b['key']='super value'\n",
    "print(dict_b)"
   ]
  },
  {
   "cell_type": "markdown",
   "id": "00b03c47-8a6b-452f-a4b0-b15ae8b7b27d",
   "metadata": {},
   "source": [
    "## 키와 값 추가하기\n",
    "``` \n",
    "기존에 없는 키를 인덱스로 하여 새로운 값 저장\n",
    "단, 없는 키를 접근하면 keyError가 발생\n",
    "```"
   ]
  },
  {
   "cell_type": "code",
   "execution_count": 43,
   "id": "52f9ade5-e006-483a-9856-6d5a97c7ebdd",
   "metadata": {},
   "outputs": [
    {
     "name": "stdout",
     "output_type": "stream",
     "text": [
      "{'key': 'super value', 'key2': 'value2', 'key3': 'value3'}\n",
      "{'key': 'super value', 'key2': 'value2', 'key3': 'value3', 'new one': 'new value'}\n"
     ]
    }
   ],
   "source": [
    "print(dict_b)\n",
    "dict_b['new one']='new value'\n",
    "print(dict_b)"
   ]
  },
  {
   "cell_type": "markdown",
   "id": "c2f2580e-97a8-42fb-ad80-4a2eef1238f0",
   "metadata": {},
   "source": [
    "## 특정 키가 딕셔너리 자료형에 있나 확인\n",
    "```\n",
    "in 연산자를 활용\n",
    "```"
   ]
  },
  {
   "cell_type": "code",
   "execution_count": 46,
   "id": "f714d952-a31c-4e71-ab9f-df4369c1dad0",
   "metadata": {},
   "outputs": [
    {
     "name": "stdout",
     "output_type": "stream",
     "text": [
      "{'key': 'super value', 'key2': 'value2', 'key3': 'value3', 'new one': 'new value'}\n",
      "True\n",
      "False\n"
     ]
    }
   ],
   "source": [
    "print(dict_b)\n",
    "print('key' in dict_b)\n",
    "print ('key4' in dict_b)"
   ]
  },
  {
   "cell_type": "markdown",
   "id": "2ebc7e00-0d46-4c4e-8b80-c2302e7abbbb",
   "metadata": {},
   "source": [
    "## 특정 키와 값의 쌍을 삭제하기\n",
    "```\n",
    "del 키워드를 활용하여 삭제\n",
    "```"
   ]
  },
  {
   "cell_type": "code",
   "execution_count": 48,
   "id": "5f6e11fd-cdbd-4c98-91cb-1a7f6d2ca6b7",
   "metadata": {},
   "outputs": [
    {
     "name": "stdout",
     "output_type": "stream",
     "text": [
      "{'key': 'super value', 'key2': 'value2', 'key3': 'value3', 'new one': 'new value'}\n",
      "{'key': 'super value', 'key2': 'value2', 'key3': 'value3'}\n"
     ]
    }
   ],
   "source": [
    "print(dict_b)\n",
    "del dict_b['new one']\n",
    "print(dict_b)"
   ]
  },
  {
   "cell_type": "markdown",
   "id": "0c20b385-59b7-497e-bd9b-2c2b0f83f6db",
   "metadata": {},
   "source": [
    "## 키와 값의 쌍 개수 구하기\n",
    "```\n",
    "len()함수를 통해 딕셔너리 자료형의 크기를 구하면 그건 키의 크기이기도 하고 값의 크기이기도 함(key-value pair) \n",
    "```"
   ]
  },
  {
   "cell_type": "code",
   "execution_count": 54,
   "id": "22d8ed74-8739-4c65-b267-506a4aba6a48",
   "metadata": {},
   "outputs": [
    {
     "name": "stdout",
     "output_type": "stream",
     "text": [
      "{'key': 'super value', 'key2': 'value2', 'key3': 'value3'}\n"
     ]
    },
    {
     "data": {
      "text/plain": [
       "3"
      ]
     },
     "execution_count": 54,
     "metadata": {},
     "output_type": "execute_result"
    }
   ],
   "source": [
    "print(dict_b)\n",
    "len(dict_b)"
   ]
  },
  {
   "cell_type": "markdown",
   "id": "608c2f16-2d6f-4ee2-805c-5ca9814d6af0",
   "metadata": {},
   "source": [
    "### 연습문제"
   ]
  },
  {
   "cell_type": "markdown",
   "id": "6de2d9bf-8483-4a2d-8774-9709e70edb27",
   "metadata": {},
   "source": [
    "```\n",
    "input() 함수를 통해 원하는 과일 이름을 입력하면 가격이 출력되는 프로그램을\n",
    "구현해봅시다. 과일 이름(str)을 key로 만들고 가격(int)을 value로 해서 딕셔너리\n",
    "자료형을 만듭니다.\n",
    "- 사과은 1000원, 바나나는 700원, 오렌지는 1500원, 파인애플은 2000원\n",
    "```"
   ]
  },
  {
   "cell_type": "code",
   "execution_count": 59,
   "id": "328fab4e-3660-4eaf-904f-6f52b63fb361",
   "metadata": {},
   "outputs": [
    {
     "name": "stdin",
     "output_type": "stream",
     "text": [
      "과일 이름을 입력하세요. 바나나\n"
     ]
    },
    {
     "name": "stdout",
     "output_type": "stream",
     "text": [
      "바나나의 가격은 700원입니다.\n"
     ]
    }
   ],
   "source": [
    "fruit=dict(zip(['사과','바나나','오렌지','파인애플'],[1000,700,1500,2000]))\n",
    "fruit_name=input('과일 이름을 입력하세요.')\n",
    "print(f'{fruit_name}의 가격은 {fruit[fruit_name]}원입니다.')"
   ]
  },
  {
   "cell_type": "markdown",
   "id": "c56f8e76-af82-4ff4-8f80-4913c9055050",
   "metadata": {},
   "source": [
    "```\n",
    "input() 함수를 통해 이름 값 여럿을 입력 받습니다. 이름을 입력 받고 난 후에 이름\n",
    "순서와 개수를 동일하게 몸무게 값을 입력 받습니다.\n",
    "이름(str)을 키(key)로 몸무게(float)를 값(value)으로 하는 딕셔너리 자료형을 만들고 그\n",
    "결과를 출력해보세요.\n",
    "```"
   ]
  },
  {
   "cell_type": "code",
   "execution_count": 80,
   "id": "39e759fd-025c-41be-af73-55e23fa4d8a0",
   "metadata": {},
   "outputs": [
    {
     "name": "stdin",
     "output_type": "stream",
     "text": [
      "이름을 기입해주세요. 뽀로로 루피 크롱 스누피\n",
      "몸무게를 입력해주세요. 20.4 16.2 22.3 5.2\n"
     ]
    },
    {
     "name": "stdout",
     "output_type": "stream",
     "text": [
      "{'뽀로로': 20.4, '루피': 16.2, '크롱': 22.3, '스누피': 5.2}\n"
     ]
    }
   ],
   "source": [
    "name=list(input('이름을 기입해주세요.').split(' '))                # split()함수는 list 반환하기 때문에 list() 함수 꼭 필요 x\n",
    "weight=list(map(float,input('몸무게를 입력해주세요.').split(' '))) # map()함수는 list 반환하지 않기 때문에 list() 함수 필요\n",
    "                                                                 #리스트 요소를 실수 또는 정수로 변환하기 위해서는 map 함수 이용 \n",
    "name_weight_dict=dict(zip(name,weight))\n",
    "print(name_weight_dict)\n"
   ]
  },
  {
   "cell_type": "markdown",
   "id": "d4d25933-c69a-43e1-88d4-8486912f7d41",
   "metadata": {},
   "source": [
    "# list Comprehension\n",
    "```\n",
    "1. 반복가능한 객체(iterable)로부터 값을 하나 꺼내와서 변수에 담음\n",
    "2. \n",
    "```"
   ]
  },
  {
   "cell_type": "markdown",
   "id": "d5fbf36f-ada7-463c-bba1-a30fe17032ee",
   "metadata": {},
   "source": [
    "### 연습문제"
   ]
  },
  {
   "cell_type": "code",
   "execution_count": 91,
   "id": "9b040bc8-ca59-441e-8ebd-49651659b951",
   "metadata": {},
   "outputs": [
    {
     "name": "stdout",
     "output_type": "stream",
     "text": [
      "<class 'list'>\n",
      "[1, 4, 9, 16, 25, 36, 49, 64, 81]\n"
     ]
    }
   ],
   "source": [
    "prac_result=list(i**2 for i in range(1,10))\n",
    "print(type(prac_result))\n",
    "print(prac_result)"
   ]
  },
  {
   "cell_type": "code",
   "execution_count": 1,
   "id": "5fb1073b-d17b-4bba-acc2-28ae50dc331c",
   "metadata": {},
   "outputs": [
    {
     "name": "stdout",
     "output_type": "stream",
     "text": [
      "[1, 3, 5, 7, 9]\n"
     ]
    }
   ],
   "source": [
    "prac_result2=list(i for i in range(1,10,2))\n",
    "print(prac_result2)"
   ]
  },
  {
   "cell_type": "code",
   "execution_count": 4,
   "id": "aabff25d-29df-46af-a810-20778836aa51",
   "metadata": {},
   "outputs": [
    {
     "name": "stdout",
     "output_type": "stream",
     "text": [
      "[1, 3, 5, 7, 9]\n"
     ]
    }
   ],
   "source": [
    "prac_result2=list(i for i in range(1,10) if i%2==1)\n",
    "print(prac_result2)"
   ]
  },
  {
   "cell_type": "code",
   "execution_count": 5,
   "id": "ad4e9e25-0a28-45ce-8031-689a4a1b92f2",
   "metadata": {},
   "outputs": [
    {
     "name": "stdout",
     "output_type": "stream",
     "text": [
      "['a', 'b', 'c', 'd', 'e', 'f', 'g', 'h', 'i', 'j', 'k', 'l', 'm', 'n', 'o', 'p', 'q', 'r', 's', 't', 'u', 'v', 'w', 'x', 'y', 'z']\n"
     ]
    }
   ],
   "source": [
    "prac_result3=list(i for i in 'abcdefghijklmnopqrstuvwxyz')\n",
    "print(prac_result3)"
   ]
  },
  {
   "cell_type": "code",
   "execution_count": 6,
   "id": "5b285652-c57b-4dbb-97f8-f4e73b5d65c9",
   "metadata": {},
   "outputs": [
    {
     "name": "stdout",
     "output_type": "stream",
     "text": [
      "['2', '3', '4', '5', '6', '7', '8', '9', '10', 'J', 'Q', 'K', 'A']\n"
     ]
    }
   ],
   "source": [
    "prac_result4=list(str(i) for i in range(2,11))+list(i for i in \"JQKA\")\n",
    "print(prac_result4)"
   ]
  },
  {
   "cell_type": "code",
   "execution_count": null,
   "id": "d5eee8a4-4fb7-4cfe-a595-9a62ee6ae98a",
   "metadata": {},
   "outputs": [],
   "source": []
  },
  {
   "cell_type": "markdown",
   "id": "dc7c56c9-afb6-41b3-8c61-2da540ec47bf",
   "metadata": {},
   "source": [
    "# 복습"
   ]
  },
  {
   "cell_type": "markdown",
   "id": "ffa6c2c6-99ba-46b7-9d16-98611ec53e59",
   "metadata": {},
   "source": [
    "```\n",
    "5명의 시험관이 채점한 어느 학생의 실기 시험 점수를 입력받아 Scores라는 list를\n",
    "만듭니다.(split(), map(), list() 사용)\n",
    "공정성을 위해 최고 점수와 최저점수는 제외하고 나머지 점수들의 합계를 총점으로\n",
    "반영합니다.\n",
    "이 학생의 최종 실기 평균을 구하세요.(아래 프로그램 구조에 따라)\n",
    "```"
   ]
  },
  {
   "cell_type": "code",
   "execution_count": 2,
   "id": "28b25c7b-9490-4c08-af6f-b1b1b3efb40c",
   "metadata": {},
   "outputs": [
    {
     "name": "stdin",
     "output_type": "stream",
     "text": [
      "실기점수를 입력하세요 : 70 68 55 80 90\n"
     ]
    },
    {
     "name": "stdout",
     "output_type": "stream",
     "text": [
      "이 학생의 평균 점수는 72.66666666666667입니다.\n"
     ]
    }
   ],
   "source": [
    "scores=list(map(int,input(\"실기점수를 입력하세요 :\").split(' ')))\n",
    "min =scores[0]; max=scores[0]\n",
    "for i in scores:\n",
    "    if min>i:\n",
    "        min=i\n",
    "    if max<i:\n",
    "        max=i\n",
    "\n",
    "total=0\n",
    "for i in scores:\n",
    "    total += i\n",
    "    \n",
    "total2=total-(min+max)\n",
    "\n",
    "print(f'이 학생의 평균 점수는 {total2/(len(scores)-2)}입니다.')"
   ]
  },
  {
   "cell_type": "markdown",
   "id": "89c57e0d-ac27-43d5-b029-79ece77739e2",
   "metadata": {},
   "source": [
    "```\n",
    "파이썬대학교에서는 다음과 같이 학생들의 점수에 따라 학점을 부여합니다.\n",
    "● 85점 ~ 100점: A 학점\n",
    "● 70점 ~ 84점: B학점\n",
    "● 55점 ~ 69점: C학점\n",
    "● 40점 ~ 54점: D학점\n",
    "● 0점 ~ 39점: F학점\n",
    "A학점, B학점, C학점, D학점, F학점을\n",
    "받은 학생들의 수로 grade_counter라는\n",
    "이름의 리스트를 만들어 출력할 수 있도록\n",
    "다음의 코드를 완성하세요.\n",
    "점수 리스트 [86,72,98,60,45]\n",
    "```"
   ]
  },
  {
   "cell_type": "code",
   "execution_count": 1,
   "id": "bf26bfe8-dbb9-4a58-9458-3011e9d7227e",
   "metadata": {},
   "outputs": [
    {
     "name": "stdout",
     "output_type": "stream",
     "text": [
      "[2, 1, 1, 1, 0]\n"
     ]
    }
   ],
   "source": [
    "score=[86,72,98,60,45]\n",
    "\n",
    "grade_counter=[0,0,0,0,0]\n",
    "\n",
    "for i in score:\n",
    "    if 85<= i <= 100:\n",
    "        grade_counter[0] +=1\n",
    "    elif 70<= i:\n",
    "        grade_counter[1] +=1\n",
    "    elif 55<= i:\n",
    "        grade_counter[2] +=1\n",
    "    elif 40<= i:\n",
    "        grade_counter[3] +=1\n",
    "    else:\n",
    "        grade_counter[4] +=1\n",
    "        \n",
    "print(grade_counter)   "
   ]
  },
  {
   "cell_type": "markdown",
   "id": "0364715e-7a55-49a5-b3db-60db4b7f9000",
   "metadata": {},
   "source": [
    "```\n",
    "FizzBuzz 문제\n",
    "- 1 ~ 100까지의 범위를 갖습니다.\n",
    "- 3의 배수는 Fizz를 출력합니다.\n",
    "- 5의 배수는 Buzz를 출력합니다.\n",
    "- 3과 5의 배수는 FizzBuzz를 출력합니다.\n",
    "```"
   ]
  },
  {
   "cell_type": "code",
   "execution_count": 13,
   "id": "d1a0a0c4-3ff3-4380-9540-e772675b7f79",
   "metadata": {},
   "outputs": [
    {
     "name": "stdout",
     "output_type": "stream",
     "text": [
      "1\t2\tFizz\t4\tBuzz\tFizz\t7\t8\tFizz\tBuzz\t11\tFizz\t13\t14\tFizzBuzz\t16\t17\tFizz\t19\tBuzz\tFizz\t22\t23\tFizz\tBuzz\t26\tFizz\t28\t29\tFizzBuzz\t31\t32\tFizz\t34\tBuzz\tFizz\t37\t38\tFizz\tBuzz\t41\tFizz\t43\t44\tFizzBuzz\t46\t47\tFizz\t49\tBuzz\tFizz\t52\t53\tFizz\tBuzz\t56\tFizz\t58\t59\tFizzBuzz\t61\t62\tFizz\t64\tBuzz\tFizz\t67\t68\tFizz\tBuzz\t71\tFizz\t73\t74\tFizzBuzz\t76\t77\tFizz\t79\tBuzz\tFizz\t82\t83\tFizz\tBuzz\t86\tFizz\t88\t89\tFizzBuzz\t91\t92\tFizz\t94\tBuzz\tFizz\t97\t98\tFizz\tBuzz\t"
     ]
    }
   ],
   "source": [
    "for i in range(1,101):\n",
    "    if i%3==0 and i%5==0:\n",
    "        print('FizzBuzz',end='\\t')\n",
    "    elif i%3==0:\n",
    "        print('Fizz',end='\\t')\n",
    "    elif i%5==0:\n",
    "        print('Buzz',end='\\t')\n",
    "    else:\n",
    "        print(i, end='\\t')"
   ]
  },
  {
   "cell_type": "code",
   "execution_count": 2,
   "id": "0db5a30b-a4ce-4d79-ad4c-0e8a4f6414b3",
   "metadata": {},
   "outputs": [
    {
     "name": "stdout",
     "output_type": "stream",
     "text": [
      "1\t2\tFizz\t4\tBuzz\tFizz\t7\t8\tFizz\tBuzz\t11\tFizz\t13\t14\tFizzBuzz\t16\t17\tFizz\t19\tBuzz\tFizz\t22\t23\tFizz\tBuzz\t26\tFizz\t28\t29\tFizzBuzz\t31\t32\tFizz\t34\tBuzz\tFizz\t37\t38\tFizz\tBuzz\t41\tFizz\t43\t44\tFizzBuzz\t46\t47\tFizz\t49\tBuzz\tFizz\t52\t53\tFizz\tBuzz\t56\tFizz\t58\t59\tFizzBuzz\t61\t62\tFizz\t64\tBuzz\tFizz\t67\t68\tFizz\tBuzz\t71\tFizz\t73\t74\tFizzBuzz\t76\t77\tFizz\t79\tBuzz\tFizz\t82\t83\tFizz\tBuzz\t86\tFizz\t88\t89\tFizzBuzz\t91\t92\tFizz\t94\tBuzz\tFizz\t97\t98\tFizz\tBuzz\t"
     ]
    }
   ],
   "source": [
    "# Ture, False의 정수 값을 응용\n",
    "for i in range(1,101):\n",
    "    print('Fizz'*(i%3==0) + 'Buzz'*(i%5==0) or i, end='\\t')"
   ]
  },
  {
   "cell_type": "markdown",
   "id": "68d0aa1b-5075-43a3-b4d8-58cfdf4cae6d",
   "metadata": {},
   "source": [
    "```\n",
    "학생들의 이름이 들어있는 명단이 name_list라는 리스트 형태로 주어질 때 이름에 ‘m’\n",
    "또는 ‘h’가 들어있는 학생의 수를 구하려고 합니다.\n",
    "예를 들어 john 에는 h가 들어가 있으며, matthew 에는 m 과 h가 모두 들어있습니다.\n",
    "(m과 h 모두 들어있는 이름은 하나로 취급함)\n",
    "- name_list = [‘matthew’, ‘mark’, ‘luke’, ‘john’, ‘paul’, ‘peter’]\n",
    "```"
   ]
  },
  {
   "cell_type": "code",
   "execution_count": 13,
   "id": "45446b22-a90c-4e5d-80bb-bc82d86bb6d4",
   "metadata": {},
   "outputs": [
    {
     "name": "stdout",
     "output_type": "stream",
     "text": [
      "m 또는 h가 이름에 포함된 사람은 3명 입니다.\n"
     ]
    }
   ],
   "source": [
    "name_list=['matthew','mark','luke','john','paul','peter']\n",
    "num=0\n",
    "for name in name_list:\n",
    "    for i in name:\n",
    "        if i =='m' or i=='h':\n",
    "            num +=1\n",
    "            break\n",
    "print(f'm 또는 h가 이름에 포함된 사람은 {num}명 입니다.')"
   ]
  },
  {
   "cell_type": "code",
   "execution_count": 11,
   "id": "74cd2e21-4459-4b8a-b85a-16596d7d3fc5",
   "metadata": {},
   "outputs": [
    {
     "name": "stdout",
     "output_type": "stream",
     "text": [
      "m 또는 h가 이름에 포함된 사람은 3명 입니다.\n"
     ]
    }
   ],
   "source": [
    "# in을 사용\n",
    "name_list=['matthew','mark','luke','john','paul','peter']\n",
    "num=0\n",
    "for i in name_list:\n",
    "    if ('m' in i) or ('h' in i) :\n",
    "        num += 1\n",
    "print(f'm 또는 h가 이름에 포함된 사람은 {num}명 입니다.')"
   ]
  },
  {
   "cell_type": "markdown",
   "id": "7b32ddb1-407e-47e0-a4e0-be8f75cf1311",
   "metadata": {},
   "source": [
    "```\n",
    "총 5명의 학생이 시험을 보았습니다. 시험 점수가 60점을 넘어 합격한 사람에게만 축하\n",
    "메시지를 보내는 프로그램을 구현합니다.(불합격자에게는 메시지를 띄우지 않습니다.)\n",
    "(for / while 모두 작성, continue 활용)\n",
    "- marks = [90, 25, 67, 45, 80]\n",
    "```"
   ]
  },
  {
   "cell_type": "code",
   "execution_count": 19,
   "id": "191168b6-bcd7-43cb-97c1-34e8e54f11ee",
   "metadata": {},
   "outputs": [
    {
     "name": "stdout",
     "output_type": "stream",
     "text": [
      "1번 학생 축하합니다. 합격입니다.\n",
      "3번 학생 축하합니다. 합격입니다.\n",
      "5번 학생 축하합니다. 합격입니다.\n",
      "\n",
      "\n",
      "1번 학생 축하합니다. 합격입니다.\n",
      "3번 학생 축하합니다. 합격입니다.\n",
      "5번 학생 축하합니다. 합격입니다.\n"
     ]
    }
   ],
   "source": [
    "marks=[90,25,67,45,80]\n",
    "#for문\n",
    "for i in range(len(marks)):\n",
    "    if marks[i]<60:\n",
    "        continue\n",
    "    print(f'{i+1}번 학생 축하합니다. 합격입니다.')\n",
    "        \n",
    "\n",
    "print('\\n')\n",
    "\n",
    "#while문\n",
    "i=0\n",
    "while i<len(marks):\n",
    "    if marks[i]<60:\n",
    "        i+=1\n",
    "        continue\n",
    "    print(f'{i+1}번 학생 축하합니다. 합격입니다.')\n",
    "    i+=1\n",
    "   \n"
   ]
  },
  {
   "cell_type": "markdown",
   "id": "501b8e11-1b18-4726-97c1-a4635c13a7bd",
   "metadata": {},
   "source": [
    "```\n",
    "주어진 리스트의 순서를 뒤집으려고 합니다. 주어진 리스트는 [1,4,2,3]이며, 순서를\n",
    "뒤집은 리스트 [3, 2, 4, 1] 입니다.\n",
    "정수가 들어있는 리스트 arr을 뒤집어서 인쇄하도록 빈칸을 채워 전체 코드를\n",
    "완성해주세요.\n",
    "```"
   ]
  },
  {
   "cell_type": "code",
   "execution_count": 28,
   "id": "66672806-cfb8-4d23-b1bf-31090dfbfdbc",
   "metadata": {},
   "outputs": [
    {
     "name": "stdout",
     "output_type": "stream",
     "text": [
      "2.5\n",
      "변환된 arr은 [5, 3, 2, 4, 1]입니다\"\n"
     ]
    }
   ],
   "source": [
    "arr=[1,4,2,3,5]\n",
    "left, right=0,len(arr)-1\n",
    "\n",
    "while left<len(arr)/2:\n",
    "    arr[left],arr[right]=arr[right],arr[left]\n",
    "    left +=1\n",
    "    right -=1\n",
    "print(f'변환된 arr은 {arr}입니다\"')"
   ]
  },
  {
   "cell_type": "markdown",
   "id": "b43696d2-c186-4a36-8d3c-422d9eed66bd",
   "metadata": {},
   "source": [
    "```\n",
    "<구구단>반복문을 사용하여 아래와 같이 구구단 전체를 화면에 프린트해 주세요.\n",
    "for/while 모두 작성\n",
    "```"
   ]
  },
  {
   "cell_type": "code",
   "execution_count": 34,
   "id": "fc6ffaf8-0fe6-4e63-a801-b19255c8f899",
   "metadata": {},
   "outputs": [
    {
     "name": "stdout",
     "output_type": "stream",
     "text": [
      "2X1=2\t3X1=3\t4X1=4\t5X1=5\t6X1=6\t7X1=7\t8X1=8\t9X1=9\t\n",
      "2X2=4\t3X2=6\t4X2=8\t5X2=10\t6X2=12\t7X2=14\t8X2=16\t9X2=18\t\n",
      "2X3=6\t3X3=9\t4X3=12\t5X3=15\t6X3=18\t7X3=21\t8X3=24\t9X3=27\t\n",
      "2X4=8\t3X4=12\t4X4=16\t5X4=20\t6X4=24\t7X4=28\t8X4=32\t9X4=36\t\n",
      "2X5=10\t3X5=15\t4X5=20\t5X5=25\t6X5=30\t7X5=35\t8X5=40\t9X5=45\t\n",
      "2X6=12\t3X6=18\t4X6=24\t5X6=30\t6X6=36\t7X6=42\t8X6=48\t9X6=54\t\n",
      "2X7=14\t3X7=21\t4X7=28\t5X7=35\t6X7=42\t7X7=49\t8X7=56\t9X7=63\t\n",
      "2X8=16\t3X8=24\t4X8=32\t5X8=40\t6X8=48\t7X8=56\t8X8=64\t9X8=72\t\n",
      "2X9=18\t3X9=27\t4X9=36\t5X9=45\t6X9=54\t7X9=63\t8X9=72\t9X9=81\t\n",
      "\n",
      "\n",
      "2X1=2\t3X1=3\t4X1=4\t5X1=5\t6X1=6\t7X1=7\t8X1=8\t9X1=9\t\n",
      "2X2=4\t3X2=6\t4X2=8\t5X2=10\t6X2=12\t7X2=14\t8X2=16\t9X2=18\t\n",
      "2X3=6\t3X3=9\t4X3=12\t5X3=15\t6X3=18\t7X3=21\t8X3=24\t9X3=27\t\n",
      "2X4=8\t3X4=12\t4X4=16\t5X4=20\t6X4=24\t7X4=28\t8X4=32\t9X4=36\t\n",
      "2X5=10\t3X5=15\t4X5=20\t5X5=25\t6X5=30\t7X5=35\t8X5=40\t9X5=45\t\n",
      "2X6=12\t3X6=18\t4X6=24\t5X6=30\t6X6=36\t7X6=42\t8X6=48\t9X6=54\t\n",
      "2X7=14\t3X7=21\t4X7=28\t5X7=35\t6X7=42\t7X7=49\t8X7=56\t9X7=63\t\n",
      "2X8=16\t3X8=24\t4X8=32\t5X8=40\t6X8=48\t7X8=56\t8X8=64\t9X8=72\t\n",
      "2X9=18\t3X9=27\t4X9=36\t5X9=45\t6X9=54\t7X9=63\t8X9=72\t9X9=81\t\n"
     ]
    }
   ],
   "source": [
    "#for문\n",
    "for i in range(1,10):\n",
    "    for j in range(2,10):\n",
    "        print(f'{j}X{i}={j*i}',end='\\t')\n",
    "    print('')\n",
    "\n",
    "#while문\n",
    "print('\\n') \n",
    "i=1; \n",
    "while i <10:\n",
    "    j=2\n",
    "    while j <10:\n",
    "        print(f'{j}X{i}={j*i}',end='\\t')\n",
    "        j +=1\n",
    "    i+=1\n",
    "    print('')"
   ]
  },
  {
   "cell_type": "markdown",
   "id": "ae570a53-2050-4e71-bc06-c4095ee47154",
   "metadata": {},
   "source": [
    "# 딕셔너리(Dictionary)\n",
    "```\n",
    "비 시퀀스형 자료형\n",
    "인덱스를 갖지 않는 대신에 고유한 키(key)값을 가짐\n",
    "키(key)는 1대1로 매칭되는 값(value)를 가짐\n",
    "key-value pair는 딕셔너리 자료형의 특징\n",
    "```"
   ]
  },
  {
   "cell_type": "markdown",
   "id": "c734c23f-956c-47e8-b571-e2e4e676e51f",
   "metadata": {},
   "source": [
    "```\n",
    "키(key)에는 문자열, 정수, 실수, 불, 튜플 사용 가능\n",
    "단, 리스트(list), 딕셔너리(dictionary), 집합(set)을 사용할 수 없음\n",
    "\n",
    "키(key)는 고유한 값을 가져야 함 \n",
    "\n",
    "\n",
    "```"
   ]
  },
  {
   "cell_type": "markdown",
   "id": "56e15336-3e50-4af7-a210-79dabce16bb2",
   "metadata": {},
   "source": [
    "## 딕셔너리 생성\n",
    "```\n",
    "dict()함수 사용 또는 {'key':value ...} 형식으로 생성\n",
    "```"
   ]
  },
  {
   "cell_type": "code",
   "execution_count": 72,
   "id": "d353971b-c872-4cc8-b1be-0d424002b452",
   "metadata": {},
   "outputs": [
    {
     "name": "stdout",
     "output_type": "stream",
     "text": [
      "{'key': 1, 'key2': 2, 'key3': 3}\n"
     ]
    }
   ],
   "source": [
    "dict_a=dict(key=1,key2=2,key3=3) #인자로 전달된 키는 문자열 아니더라도 문자열로 변환\n",
    "print(dict_a)"
   ]
  },
  {
   "cell_type": "markdown",
   "id": "26bc860f-384b-4776-8bf8-d07029ed64fa",
   "metadata": {},
   "source": [
    "## zip() 함수\n",
    "```\n",
    "zip()함수를 통하여 키와 값 한 쌍을 갖는 튜플을 요소로 갖는 객체로 딕셔너리 자료형을 생성 가능\n",
    "\n",
    "```\n"
   ]
  },
  {
   "cell_type": "code",
   "execution_count": 66,
   "id": "b8dd6879-7d21-417f-a701-395eb2929d5e",
   "metadata": {},
   "outputs": [
    {
     "name": "stdout",
     "output_type": "stream",
     "text": [
      "[('key', 'value'), ('key2', 'value2'), ('key3', 'value3')]\n",
      "{'key': 'value', 'key2': 'value2', 'key3': 'value3'}\n"
     ]
    }
   ],
   "source": [
    "print(list(zip(['key','key2','key3'],['value','value2','value3'])))\n",
    "dict_b=dict(zip(['key','key2','key3'],['value','value2','value3']))\n",
    "print(dict_b)\n"
   ]
  },
  {
   "cell_type": "markdown",
   "id": "7700b287-19b7-420c-bfc2-f401c0f6fd63",
   "metadata": {},
   "source": [
    "```\n",
    "갯수가 맞지 않으면 갯수가 적은 것에 맞춰서 생성\n",
    "```"
   ]
  },
  {
   "cell_type": "code",
   "execution_count": 40,
   "id": "f7e2824e-1f24-4295-8b22-19c582f8643d",
   "metadata": {},
   "outputs": [
    {
     "name": "stdout",
     "output_type": "stream",
     "text": [
      "{'1': 1, '2': 2, '3': 3, '4': 4}\n"
     ]
    }
   ],
   "source": [
    "dict_c=dict(zip(['1','2','3','4','5'],[1,2,3,4]))\n",
    "print(dict_c)"
   ]
  },
  {
   "cell_type": "markdown",
   "id": "a9692913-3037-4545-a741-1125b5c0d578",
   "metadata": {},
   "source": [
    "## 키로 값에 접근하기\n",
    "```\n",
    "키를 활용하여 해당 값에 접근\n",
    "```"
   ]
  },
  {
   "cell_type": "code",
   "execution_count": 36,
   "id": "8c56ae31-36a0-48db-9716-7bd6434b05f2",
   "metadata": {},
   "outputs": [
    {
     "name": "stdout",
     "output_type": "stream",
     "text": [
      "value\n"
     ]
    }
   ],
   "source": [
    "print(dict_b['key'])"
   ]
  },
  {
   "cell_type": "markdown",
   "id": "e4d1dc23-d19f-446b-a866-55ab83df23f8",
   "metadata": {},
   "source": [
    "## 키로 값 변경하기\n",
    "```\n",
    "키로 해당 값에 접근 후 새로운 값 저장\n",
    "```"
   ]
  },
  {
   "cell_type": "code",
   "execution_count": 42,
   "id": "cee26c06-2661-407f-ba8d-4d154cf8745a",
   "metadata": {},
   "outputs": [
    {
     "name": "stdout",
     "output_type": "stream",
     "text": [
      "{'key': 'value', 'key2': 'value2', 'key3': 'value3'}\n",
      "{'key': 'super value', 'key2': 'value2', 'key3': 'value3'}\n"
     ]
    }
   ],
   "source": [
    "print(dict_b)\n",
    "dict_b['key']='super value'\n",
    "print(dict_b)"
   ]
  },
  {
   "cell_type": "markdown",
   "id": "65ac6a45-c58d-4400-a575-9fa86f533c88",
   "metadata": {},
   "source": [
    "## 키와 값 추가하기\n",
    "``` \n",
    "기존에 없는 키를 인덱스로 하여 새로운 값 저장\n",
    "단, 없는 키를 접근하면 keyError가 발생\n",
    "```"
   ]
  },
  {
   "cell_type": "code",
   "execution_count": 43,
   "id": "d3fc73de-a9c5-44d3-b15f-b5c9e65f4204",
   "metadata": {},
   "outputs": [
    {
     "name": "stdout",
     "output_type": "stream",
     "text": [
      "{'key': 'super value', 'key2': 'value2', 'key3': 'value3'}\n",
      "{'key': 'super value', 'key2': 'value2', 'key3': 'value3', 'new one': 'new value'}\n"
     ]
    }
   ],
   "source": [
    "print(dict_b)\n",
    "dict_b['new one']='new value'\n",
    "print(dict_b)"
   ]
  },
  {
   "cell_type": "markdown",
   "id": "72fb5cad-da8e-4a29-a5fe-6b5e5715d36c",
   "metadata": {},
   "source": [
    "## 특정 키가 딕셔너리 자료형에 있나 확인\n",
    "```\n",
    "in 연산자를 활용\n",
    "```"
   ]
  },
  {
   "cell_type": "code",
   "execution_count": 46,
   "id": "bb2e27d9-e39f-4ef6-9dbf-8d9266d7e4be",
   "metadata": {},
   "outputs": [
    {
     "name": "stdout",
     "output_type": "stream",
     "text": [
      "{'key': 'super value', 'key2': 'value2', 'key3': 'value3', 'new one': 'new value'}\n",
      "True\n",
      "False\n"
     ]
    }
   ],
   "source": [
    "print(dict_b)\n",
    "print('key' in dict_b)\n",
    "print ('key4' in dict_b)"
   ]
  },
  {
   "cell_type": "markdown",
   "id": "66c235fe-7f11-4786-8887-97661b999fbe",
   "metadata": {},
   "source": [
    "## 특정 키와 값의 쌍을 삭제하기\n",
    "```\n",
    "del 키워드를 활용하여 삭제\n",
    "```"
   ]
  },
  {
   "cell_type": "code",
   "execution_count": 48,
   "id": "9916a476-d52a-42b5-bf04-15d40f0bb08d",
   "metadata": {},
   "outputs": [
    {
     "name": "stdout",
     "output_type": "stream",
     "text": [
      "{'key': 'super value', 'key2': 'value2', 'key3': 'value3', 'new one': 'new value'}\n",
      "{'key': 'super value', 'key2': 'value2', 'key3': 'value3'}\n"
     ]
    }
   ],
   "source": [
    "print(dict_b)\n",
    "del dict_b['new one']\n",
    "print(dict_b)"
   ]
  },
  {
   "cell_type": "markdown",
   "id": "51bbb780-1fa4-48bc-9278-f3fb3a1bdb41",
   "metadata": {},
   "source": [
    "## 키와 값의 쌍 개수 구하기\n",
    "```\n",
    "len()함수를 통해 딕셔너리 자료형의 크기를 구하면 그건 키의 크기이기도 하고 값의 크기이기도 함(key-value pair) \n",
    "```"
   ]
  },
  {
   "cell_type": "code",
   "execution_count": 54,
   "id": "dc546ae2-55d8-439d-b548-a89f4e5ecd93",
   "metadata": {},
   "outputs": [
    {
     "name": "stdout",
     "output_type": "stream",
     "text": [
      "{'key': 'super value', 'key2': 'value2', 'key3': 'value3'}\n"
     ]
    },
    {
     "data": {
      "text/plain": [
       "3"
      ]
     },
     "execution_count": 54,
     "metadata": {},
     "output_type": "execute_result"
    }
   ],
   "source": [
    "print(dict_b)\n",
    "len(dict_b)"
   ]
  },
  {
   "cell_type": "markdown",
   "id": "269c6602-56ab-4952-a760-7111e4dc4087",
   "metadata": {},
   "source": [
    "### 연습문제"
   ]
  },
  {
   "cell_type": "markdown",
   "id": "cd9cfb61-79dd-4bba-a8ed-b6c98c04aa3f",
   "metadata": {},
   "source": [
    "```\n",
    "input() 함수를 통해 원하는 과일 이름을 입력하면 가격이 출력되는 프로그램을\n",
    "구현해봅시다. 과일 이름(str)을 key로 만들고 가격(int)을 value로 해서 딕셔너리\n",
    "자료형을 만듭니다.\n",
    "- 사과은 1000원, 바나나는 700원, 오렌지는 1500원, 파인애플은 2000원\n",
    "```"
   ]
  },
  {
   "cell_type": "code",
   "execution_count": 59,
   "id": "fc8bde2f-2861-4b59-8862-5910286a87dc",
   "metadata": {},
   "outputs": [
    {
     "name": "stdin",
     "output_type": "stream",
     "text": [
      "과일 이름을 입력하세요. 바나나\n"
     ]
    },
    {
     "name": "stdout",
     "output_type": "stream",
     "text": [
      "바나나의 가격은 700원입니다.\n"
     ]
    }
   ],
   "source": [
    "fruit=dict(zip(['사과','바나나','오렌지','파인애플'],[1000,700,1500,2000]))\n",
    "fruit_name=input('과일 이름을 입력하세요.')\n",
    "print(f'{fruit_name}의 가격은 {fruit[fruit_name]}원입니다.')"
   ]
  },
  {
   "cell_type": "markdown",
   "id": "3fad0542-175f-472f-bc5d-d63960cf0668",
   "metadata": {},
   "source": [
    "```\n",
    "input() 함수를 통해 이름 값 여럿을 입력 받습니다. 이름을 입력 받고 난 후에 이름\n",
    "순서와 개수를 동일하게 몸무게 값을 입력 받습니다.\n",
    "이름(str)을 키(key)로 몸무게(float)를 값(value)으로 하는 딕셔너리 자료형을 만들고 그\n",
    "결과를 출력해보세요.\n",
    "```"
   ]
  },
  {
   "cell_type": "code",
   "execution_count": 80,
   "id": "46aaf7fd-9a12-4660-b937-8504102a2ec1",
   "metadata": {},
   "outputs": [
    {
     "name": "stdin",
     "output_type": "stream",
     "text": [
      "이름을 기입해주세요. 뽀로로 루피 크롱 스누피\n",
      "몸무게를 입력해주세요. 20.4 16.2 22.3 5.2\n"
     ]
    },
    {
     "name": "stdout",
     "output_type": "stream",
     "text": [
      "{'뽀로로': 20.4, '루피': 16.2, '크롱': 22.3, '스누피': 5.2}\n"
     ]
    }
   ],
   "source": [
    "name=list(input('이름을 기입해주세요.').split(' '))                # split()함수는 list 반환하기 때문에 list() 함수 꼭 필요 x\n",
    "weight=list(map(float,input('몸무게를 입력해주세요.').split(' '))) # map()함수는 list 반환하지 않기 때문에 list() 함수 필요\n",
    "                                                                 #리스트 요소를 실수 또는 정수로 변환하기 위해서는 map 함수 이용 \n",
    "name_weight_dict=dict(zip(name,weight))\n",
    "print(name_weight_dict)\n"
   ]
  },
  {
   "cell_type": "markdown",
   "id": "a6da79b4-d8f8-4b06-91b8-05c853738ef6",
   "metadata": {},
   "source": [
    "# list Comprehension\n",
    "```\n",
    "1. 반복가능한 객체(iterable)로부터 값을 하나 꺼내와서 변수에 담음\n",
    "2. \n",
    "```"
   ]
  },
  {
   "cell_type": "markdown",
   "id": "f4724976-de2a-408c-ba00-8f03167e8f5d",
   "metadata": {},
   "source": [
    "### 연습문제"
   ]
  },
  {
   "cell_type": "code",
   "execution_count": 91,
   "id": "66ec109a-200d-4d4c-bac6-bc0dc97cfda0",
   "metadata": {},
   "outputs": [
    {
     "name": "stdout",
     "output_type": "stream",
     "text": [
      "<class 'list'>\n",
      "[1, 4, 9, 16, 25, 36, 49, 64, 81]\n"
     ]
    }
   ],
   "source": [
    "prac_result=list(i**2 for i in range(1,10))\n",
    "print(type(prac_result))\n",
    "print(prac_result)"
   ]
  },
  {
   "cell_type": "code",
   "execution_count": 1,
   "id": "5e0e510e-1ce1-4ece-b1ac-638464d4f010",
   "metadata": {},
   "outputs": [
    {
     "name": "stdout",
     "output_type": "stream",
     "text": [
      "[1, 3, 5, 7, 9]\n"
     ]
    }
   ],
   "source": [
    "prac_result2=list(i for i in range(1,10,2))\n",
    "print(prac_result2)"
   ]
  },
  {
   "cell_type": "code",
   "execution_count": 4,
   "id": "4c9525f2-13b4-4a77-bc73-88181db4dbd6",
   "metadata": {},
   "outputs": [
    {
     "name": "stdout",
     "output_type": "stream",
     "text": [
      "[1, 3, 5, 7, 9]\n"
     ]
    }
   ],
   "source": [
    "prac_result2=list(i for i in range(1,10) if i%2==1)\n",
    "print(prac_result2)"
   ]
  },
  {
   "cell_type": "code",
   "execution_count": 5,
   "id": "9705973c-88f4-4bf5-bc0d-3fd2e5cf9c3c",
   "metadata": {},
   "outputs": [
    {
     "name": "stdout",
     "output_type": "stream",
     "text": [
      "['a', 'b', 'c', 'd', 'e', 'f', 'g', 'h', 'i', 'j', 'k', 'l', 'm', 'n', 'o', 'p', 'q', 'r', 's', 't', 'u', 'v', 'w', 'x', 'y', 'z']\n"
     ]
    }
   ],
   "source": [
    "prac_result3=list(i for i in 'abcdefghijklmnopqrstuvwxyz')\n",
    "print(prac_result3)"
   ]
  },
  {
   "cell_type": "code",
   "execution_count": 10,
   "id": "6bec1cbf-6e57-451e-a586-fd71e073ab3f",
   "metadata": {},
   "outputs": [
    {
     "name": "stdout",
     "output_type": "stream",
     "text": [
      "['2', '3', '4', '5', '6', '7', '8', '9', '10', 'J', 'Q', 'K', 'A']\n"
     ]
    }
   ],
   "source": [
    "prac_result4=[str(i) for i in range(2,11)]+[i for i in \"JQKA\"]\n",
    "print(prac_result4)"
   ]
  },
  {
   "cell_type": "code",
   "execution_count": 11,
   "id": "c9b1f3d3-0ce4-4a09-87d1-8f130c43f8f0",
   "metadata": {},
   "outputs": [
    {
     "name": "stdout",
     "output_type": "stream",
     "text": [
      "[['2', '3', '4', '5', '6', '7', '8', '9', '10', 'J', 'Q', 'K', 'A'], ['2', '3', '4', '5', '6', '7', '8', '9', '10', 'J', 'Q', 'K', 'A'], ['2', '3', '4', '5', '6', '7', '8', '9', '10', 'J', 'Q', 'K', 'A'], ['2', '3', '4', '5', '6', '7', '8', '9', '10', 'J', 'Q', 'K', 'A']]\n"
     ]
    }
   ],
   "source": [
    "prac_result5=[prac_result4 for i in range(4)]\n",
    "print(prac_result5)"
   ]
  },
  {
   "cell_type": "code",
   "execution_count": 12,
   "id": "d2197bb0-b3fc-4ee7-9ee7-ab63c2378665",
   "metadata": {},
   "outputs": [
    {
     "name": "stdout",
     "output_type": "stream",
     "text": [
      "['two', '3', '4', '5', '6', '7', '8', '9', '10', 'J', 'Q', 'K', 'A']\n"
     ]
    }
   ],
   "source": [
    "prac_result4[0]='two'\n",
    "print(prac_result4)"
   ]
  },
  {
   "cell_type": "code",
   "execution_count": 13,
   "id": "c765ce73-1b82-4f8d-b685-fcf57f97354c",
   "metadata": {},
   "outputs": [
    {
     "name": "stdout",
     "output_type": "stream",
     "text": [
      "[['two', '3', '4', '5', '6', '7', '8', '9', '10', 'J', 'Q', 'K', 'A'], ['two', '3', '4', '5', '6', '7', '8', '9', '10', 'J', 'Q', 'K', 'A'], ['two', '3', '4', '5', '6', '7', '8', '9', '10', 'J', 'Q', 'K', 'A'], ['two', '3', '4', '5', '6', '7', '8', '9', '10', 'J', 'Q', 'K', 'A']]\n"
     ]
    }
   ],
   "source": [
    "print(prac_result5)"
   ]
  },
  {
   "cell_type": "code",
   "execution_count": null,
   "id": "864c2082-500d-4173-86b3-5bee4b6e70e4",
   "metadata": {},
   "outputs": [],
   "source": []
  }
 ],
 "metadata": {
  "kernelspec": {
   "display_name": "Python 3 (ipykernel)",
   "language": "python",
   "name": "python3"
  },
  "language_info": {
   "codemirror_mode": {
    "name": "ipython",
    "version": 3
   },
   "file_extension": ".py",
   "mimetype": "text/x-python",
   "name": "python",
   "nbconvert_exporter": "python",
   "pygments_lexer": "ipython3",
   "version": "3.9.13"
  }
 },
 "nbformat": 4,
 "nbformat_minor": 5
}
