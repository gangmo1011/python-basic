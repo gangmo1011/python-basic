{
 "cells": [
  {
   "cell_type": "markdown",
   "id": "2cfcf3f5-b8b5-4ab9-9013-7adbb0d139bb",
   "metadata": {},
   "source": [
    "# 복습"
   ]
  },
  {
   "cell_type": "markdown",
   "id": "757f41d2-27ab-45d6-b528-eac6db9bd13d",
   "metadata": {},
   "source": [
    "```\n",
    "5명의 시험관이 채점한 어느 학생의 실기 시험 점수를 입력받아 Scores라는 list를\n",
    "만듭니다.(split(), map(), list() 사용)\n",
    "공정성을 위해 최고 점수와 최저점수는 제외하고 나머지 점수들의 합계를 총점으로\n",
    "반영합니다.\n",
    "이 학생의 최종 실기 평균을 구하세요.(아래 프로그램 구조에 따라)\n",
    "```"
   ]
  },
  {
   "cell_type": "code",
   "execution_count": 2,
   "id": "88200a72-5f8f-48ce-b70d-f07a1a29b51a",
   "metadata": {},
   "outputs": [
    {
     "name": "stdin",
     "output_type": "stream",
     "text": [
      "실기점수를 입력하세요 : 70 68 55 80 90\n"
     ]
    },
    {
     "name": "stdout",
     "output_type": "stream",
     "text": [
      "이 학생의 평균 점수는 72.66666666666667입니다.\n"
     ]
    }
   ],
   "source": [
    "scores=list(map(int,input(\"실기점수를 입력하세요 :\").split(' ')))\n",
    "min =scores[0]; max=scores[0]\n",
    "for i in scores:\n",
    "    if min>i:\n",
    "        min=i\n",
    "    if max<i:\n",
    "        max=i\n",
    "\n",
    "total=0\n",
    "for i in scores:\n",
    "    total += i\n",
    "    \n",
    "total2=total-(min+max)\n",
    "\n",
    "print(f'이 학생의 평균 점수는 {total2/(len(scores)-2)}입니다.')"
   ]
  },
  {
   "cell_type": "markdown",
   "id": "70537669-5924-4d9e-8015-8ad983d7112d",
   "metadata": {},
   "source": [
    "```\n",
    "파이썬대학교에서는 다음과 같이 학생들의 점수에 따라 학점을 부여합니다.\n",
    "● 85점 ~ 100점: A 학점\n",
    "● 70점 ~ 84점: B학점\n",
    "● 55점 ~ 69점: C학점\n",
    "● 40점 ~ 54점: D학점\n",
    "● 0점 ~ 39점: F학점\n",
    "A학점, B학점, C학점, D학점, F학점을\n",
    "받은 학생들의 수로 grade_counter라는\n",
    "이름의 리스트를 만들어 출력할 수 있도록\n",
    "다음의 코드를 완성하세요.\n",
    "점수 리스트 [86,72,98,60,45]\n",
    "```"
   ]
  },
  {
   "cell_type": "code",
   "execution_count": 1,
   "id": "16e1bb6a-07a8-4e97-8e9c-3e8045e64938",
   "metadata": {},
   "outputs": [
    {
     "name": "stdout",
     "output_type": "stream",
     "text": [
      "[2, 1, 1, 1, 0]\n"
     ]
    }
   ],
   "source": [
    "score=[86,72,98,60,45]\n",
    "\n",
    "grade_counter=[0,0,0,0,0]\n",
    "\n",
    "for i in score:\n",
    "    if 85<= i <= 100:\n",
    "        grade_counter[0] +=1\n",
    "    elif 70<= i:\n",
    "        grade_counter[1] +=1\n",
    "    elif 55<= i:\n",
    "        grade_counter[2] +=1\n",
    "    elif 40<= i:\n",
    "        grade_counter[3] +=1\n",
    "    else:\n",
    "        grade_counter[4] +=1\n",
    "        \n",
    "print(grade_counter)   "
   ]
  },
  {
   "cell_type": "markdown",
   "id": "9f2e2797-d8d9-4946-9f86-d9371940d5ac",
   "metadata": {},
   "source": [
    "```\n",
    "FizzBuzz 문제\n",
    "- 1 ~ 100까지의 범위를 갖습니다.\n",
    "- 3의 배수는 Fizz를 출력합니다.\n",
    "- 5의 배수는 Buzz를 출력합니다.\n",
    "- 3과 5의 배수는 FizzBuzz를 출력합니다.\n",
    "```"
   ]
  },
  {
   "cell_type": "code",
   "execution_count": 13,
   "id": "47d39103-bd77-428e-a066-9989a3966f46",
   "metadata": {},
   "outputs": [
    {
     "name": "stdout",
     "output_type": "stream",
     "text": [
      "1\t2\tFizz\t4\tBuzz\tFizz\t7\t8\tFizz\tBuzz\t11\tFizz\t13\t14\tFizzBuzz\t16\t17\tFizz\t19\tBuzz\tFizz\t22\t23\tFizz\tBuzz\t26\tFizz\t28\t29\tFizzBuzz\t31\t32\tFizz\t34\tBuzz\tFizz\t37\t38\tFizz\tBuzz\t41\tFizz\t43\t44\tFizzBuzz\t46\t47\tFizz\t49\tBuzz\tFizz\t52\t53\tFizz\tBuzz\t56\tFizz\t58\t59\tFizzBuzz\t61\t62\tFizz\t64\tBuzz\tFizz\t67\t68\tFizz\tBuzz\t71\tFizz\t73\t74\tFizzBuzz\t76\t77\tFizz\t79\tBuzz\tFizz\t82\t83\tFizz\tBuzz\t86\tFizz\t88\t89\tFizzBuzz\t91\t92\tFizz\t94\tBuzz\tFizz\t97\t98\tFizz\tBuzz\t"
     ]
    }
   ],
   "source": [
    "for i in range(1,101):\n",
    "    if i%3==0 and i%5==0:\n",
    "        print('FizzBuzz',end='\\t')\n",
    "    elif i%3==0:\n",
    "        print('Fizz',end='\\t')\n",
    "    elif i%5==0:\n",
    "        print('Buzz',end='\\t')\n",
    "    else:\n",
    "        print(i, end='\\t')"
   ]
  },
  {
   "cell_type": "code",
   "execution_count": 2,
   "id": "baf5bc89-2c15-491e-8aa8-a95cc8c84bd6",
   "metadata": {},
   "outputs": [
    {
     "name": "stdout",
     "output_type": "stream",
     "text": [
      "1\t2\tFizz\t4\tBuzz\tFizz\t7\t8\tFizz\tBuzz\t11\tFizz\t13\t14\tFizzBuzz\t16\t17\tFizz\t19\tBuzz\tFizz\t22\t23\tFizz\tBuzz\t26\tFizz\t28\t29\tFizzBuzz\t31\t32\tFizz\t34\tBuzz\tFizz\t37\t38\tFizz\tBuzz\t41\tFizz\t43\t44\tFizzBuzz\t46\t47\tFizz\t49\tBuzz\tFizz\t52\t53\tFizz\tBuzz\t56\tFizz\t58\t59\tFizzBuzz\t61\t62\tFizz\t64\tBuzz\tFizz\t67\t68\tFizz\tBuzz\t71\tFizz\t73\t74\tFizzBuzz\t76\t77\tFizz\t79\tBuzz\tFizz\t82\t83\tFizz\tBuzz\t86\tFizz\t88\t89\tFizzBuzz\t91\t92\tFizz\t94\tBuzz\tFizz\t97\t98\tFizz\tBuzz\t"
     ]
    }
   ],
   "source": [
    "# Ture, False의 정수 값을 응용\n",
    "for i in range(1,101):\n",
    "    print('Fizz'*(i%3==0) + 'Buzz'*(i%5==0) or i, end='\\t')"
   ]
  },
  {
   "cell_type": "markdown",
   "id": "2af01ba8-0e7f-46f4-a80d-cd3eaaa64848",
   "metadata": {},
   "source": [
    "```\n",
    "학생들의 이름이 들어있는 명단이 name_list라는 리스트 형태로 주어질 때 이름에 ‘m’\n",
    "또는 ‘h’가 들어있는 학생의 수를 구하려고 합니다.\n",
    "예를 들어 john 에는 h가 들어가 있으며, matthew 에는 m 과 h가 모두 들어있습니다.\n",
    "(m과 h 모두 들어있는 이름은 하나로 취급함)\n",
    "- name_list = [‘matthew’, ‘mark’, ‘luke’, ‘john’, ‘paul’, ‘peter’]\n",
    "```"
   ]
  },
  {
   "cell_type": "code",
   "execution_count": 13,
   "id": "adfdb192-2a5e-4c83-bb7f-c5febe1e0a12",
   "metadata": {},
   "outputs": [
    {
     "name": "stdout",
     "output_type": "stream",
     "text": [
      "m 또는 h가 이름에 포함된 사람은 3명 입니다.\n"
     ]
    }
   ],
   "source": [
    "name_list=['matthew','mark','luke','john','paul','peter']\n",
    "num=0\n",
    "for name in name_list:\n",
    "    for i in name:\n",
    "        if i =='m' or i=='h':\n",
    "            num +=1\n",
    "            break\n",
    "print(f'm 또는 h가 이름에 포함된 사람은 {num}명 입니다.')"
   ]
  },
  {
   "cell_type": "code",
   "execution_count": 11,
   "id": "739c89c2-b751-45d3-a604-43f0a8ccd0af",
   "metadata": {},
   "outputs": [
    {
     "name": "stdout",
     "output_type": "stream",
     "text": [
      "m 또는 h가 이름에 포함된 사람은 3명 입니다.\n"
     ]
    }
   ],
   "source": [
    "# in을 사용\n",
    "name_list=['matthew','mark','luke','john','paul','peter']\n",
    "num=0\n",
    "for i in name_list:\n",
    "    if ('m' in i) or ('h' in i) :\n",
    "        num += 1\n",
    "print(f'm 또는 h가 이름에 포함된 사람은 {num}명 입니다.')"
   ]
  },
  {
   "cell_type": "markdown",
   "id": "c77d65f3-c3cc-4378-bec1-a7c1ed7ad7c0",
   "metadata": {},
   "source": [
    "```\n",
    "총 5명의 학생이 시험을 보았습니다. 시험 점수가 60점을 넘어 합격한 사람에게만 축하\n",
    "메시지를 보내는 프로그램을 구현합니다.(불합격자에게는 메시지를 띄우지 않습니다.)\n",
    "(for / while 모두 작성, continue 활용)\n",
    "- marks = [90, 25, 67, 45, 80]\n",
    "```"
   ]
  },
  {
   "cell_type": "code",
   "execution_count": 19,
   "id": "58bfc7da-4cb2-49d7-b98c-349a8138a671",
   "metadata": {},
   "outputs": [
    {
     "name": "stdout",
     "output_type": "stream",
     "text": [
      "1번 학생 축하합니다. 합격입니다.\n",
      "3번 학생 축하합니다. 합격입니다.\n",
      "5번 학생 축하합니다. 합격입니다.\n",
      "\n",
      "\n",
      "1번 학생 축하합니다. 합격입니다.\n",
      "3번 학생 축하합니다. 합격입니다.\n",
      "5번 학생 축하합니다. 합격입니다.\n"
     ]
    }
   ],
   "source": [
    "marks=[90,25,67,45,80]\n",
    "#for문\n",
    "for i in range(len(marks)):\n",
    "    if marks[i]<60:\n",
    "        continue\n",
    "    print(f'{i+1}번 학생 축하합니다. 합격입니다.')\n",
    "        \n",
    "\n",
    "print('\\n')\n",
    "\n",
    "#while문\n",
    "i=0\n",
    "while i<len(marks):\n",
    "    if marks[i]<60:\n",
    "        i+=1\n",
    "        continue\n",
    "    print(f'{i+1}번 학생 축하합니다. 합격입니다.')\n",
    "    i+=1\n",
    "   \n"
   ]
  },
  {
   "cell_type": "markdown",
   "id": "734de257-527f-408d-8380-268ce2e16c8b",
   "metadata": {},
   "source": [
    "```\n",
    "주어진 리스트의 순서를 뒤집으려고 합니다. 주어진 리스트는 [1,4,2,3]이며, 순서를\n",
    "뒤집은 리스트 [3, 2, 4, 1] 입니다.\n",
    "정수가 들어있는 리스트 arr을 뒤집어서 인쇄하도록 빈칸을 채워 전체 코드를\n",
    "완성해주세요.\n",
    "```"
   ]
  },
  {
   "cell_type": "code",
   "execution_count": 28,
   "id": "ad479f73-e988-415e-a2fa-5e1244e42239",
   "metadata": {},
   "outputs": [
    {
     "name": "stdout",
     "output_type": "stream",
     "text": [
      "2.5\n",
      "변환된 arr은 [5, 3, 2, 4, 1]입니다\"\n"
     ]
    }
   ],
   "source": [
    "arr=[1,4,2,3,5]\n",
    "left, right=0,len(arr)-1\n",
    "\n",
    "while left<len(arr)/2:\n",
    "    arr[left],arr[right]=arr[right],arr[left]\n",
    "    left +=1\n",
    "    right -=1\n",
    "print(f'변환된 arr은 {arr}입니다\"')"
   ]
  },
  {
   "cell_type": "markdown",
   "id": "265e6e1b-0c07-40b3-8e96-30ed53ce4150",
   "metadata": {},
   "source": [
    "```\n",
    "<구구단>반복문을 사용하여 아래와 같이 구구단 전체를 화면에 프린트해 주세요.\n",
    "for/while 모두 작성\n",
    "```"
   ]
  },
  {
   "cell_type": "code",
   "execution_count": 34,
   "id": "efd506d5-03ad-4184-b88e-a7e619ba074a",
   "metadata": {},
   "outputs": [
    {
     "name": "stdout",
     "output_type": "stream",
     "text": [
      "2X1=2\t3X1=3\t4X1=4\t5X1=5\t6X1=6\t7X1=7\t8X1=8\t9X1=9\t\n",
      "2X2=4\t3X2=6\t4X2=8\t5X2=10\t6X2=12\t7X2=14\t8X2=16\t9X2=18\t\n",
      "2X3=6\t3X3=9\t4X3=12\t5X3=15\t6X3=18\t7X3=21\t8X3=24\t9X3=27\t\n",
      "2X4=8\t3X4=12\t4X4=16\t5X4=20\t6X4=24\t7X4=28\t8X4=32\t9X4=36\t\n",
      "2X5=10\t3X5=15\t4X5=20\t5X5=25\t6X5=30\t7X5=35\t8X5=40\t9X5=45\t\n",
      "2X6=12\t3X6=18\t4X6=24\t5X6=30\t6X6=36\t7X6=42\t8X6=48\t9X6=54\t\n",
      "2X7=14\t3X7=21\t4X7=28\t5X7=35\t6X7=42\t7X7=49\t8X7=56\t9X7=63\t\n",
      "2X8=16\t3X8=24\t4X8=32\t5X8=40\t6X8=48\t7X8=56\t8X8=64\t9X8=72\t\n",
      "2X9=18\t3X9=27\t4X9=36\t5X9=45\t6X9=54\t7X9=63\t8X9=72\t9X9=81\t\n",
      "\n",
      "\n",
      "2X1=2\t3X1=3\t4X1=4\t5X1=5\t6X1=6\t7X1=7\t8X1=8\t9X1=9\t\n",
      "2X2=4\t3X2=6\t4X2=8\t5X2=10\t6X2=12\t7X2=14\t8X2=16\t9X2=18\t\n",
      "2X3=6\t3X3=9\t4X3=12\t5X3=15\t6X3=18\t7X3=21\t8X3=24\t9X3=27\t\n",
      "2X4=8\t3X4=12\t4X4=16\t5X4=20\t6X4=24\t7X4=28\t8X4=32\t9X4=36\t\n",
      "2X5=10\t3X5=15\t4X5=20\t5X5=25\t6X5=30\t7X5=35\t8X5=40\t9X5=45\t\n",
      "2X6=12\t3X6=18\t4X6=24\t5X6=30\t6X6=36\t7X6=42\t8X6=48\t9X6=54\t\n",
      "2X7=14\t3X7=21\t4X7=28\t5X7=35\t6X7=42\t7X7=49\t8X7=56\t9X7=63\t\n",
      "2X8=16\t3X8=24\t4X8=32\t5X8=40\t6X8=48\t7X8=56\t8X8=64\t9X8=72\t\n",
      "2X9=18\t3X9=27\t4X9=36\t5X9=45\t6X9=54\t7X9=63\t8X9=72\t9X9=81\t\n"
     ]
    }
   ],
   "source": [
    "#for문\n",
    "for i in range(1,10):\n",
    "    for j in range(2,10):\n",
    "        print(f'{j}X{i}={j*i}',end='\\t')\n",
    "    print('')\n",
    "\n",
    "#while문\n",
    "print('\\n') \n",
    "i=1; \n",
    "while i <10:\n",
    "    j=2\n",
    "    while j <10:\n",
    "        print(f'{j}X{i}={j*i}',end='\\t')\n",
    "        j +=1\n",
    "    i+=1\n",
    "    print('')"
   ]
  },
  {
   "cell_type": "markdown",
   "id": "452eef9f-d571-46ea-bb01-1c0821710d5a",
   "metadata": {},
   "source": [
    "# 딕셔너리(Dictionary)\n",
    "```\n",
    "비 시퀀스형 자료형\n",
    "인덱스를 갖지 않는 대신에 고유한 키(key)값을 가짐\n",
    "키(key)는 1대1로 매칭되는 값(value)를 가짐\n",
    "key-value pair는 딕셔너리 자료형의 특징\n",
    "```"
   ]
  },
  {
   "cell_type": "markdown",
   "id": "538fb060-2753-4b24-80f7-324136162f4d",
   "metadata": {},
   "source": [
    "```\n",
    "키(key)에는 문자열, 정수, 실수, 불, 튜플 사용 가능\n",
    "단, 리스트(list), 딕셔너리(dictionary), 집합(set)을 사용할 수 없음\n",
    "\n",
    "키(key)는 고유한 값을 가져야 함 \n",
    "\n",
    "\n",
    "```"
   ]
  },
  {
   "cell_type": "markdown",
   "id": "5c30f5cc-fff8-4278-b15c-0d6cb42c0fa9",
   "metadata": {},
   "source": [
    "## 딕셔너리 생성\n",
    "```\n",
    "dict()함수 사용 또는 {'key':value ...} 형식으로 생성\n",
    "```"
   ]
  },
  {
   "cell_type": "code",
   "execution_count": 72,
   "id": "749d702d-0c19-4e49-b69a-cacbf290d96d",
   "metadata": {},
   "outputs": [
    {
     "name": "stdout",
     "output_type": "stream",
     "text": [
      "{'key': 1, 'key2': 2, 'key3': 3}\n"
     ]
    }
   ],
   "source": [
    "dict_a=dict(key=1,key2=2,key3=3) #인자로 전달된 키는 문자열 아니더라도 문자열로 변환\n",
    "print(dict_a)"
   ]
  },
  {
   "cell_type": "markdown",
   "id": "b9a5dd18-8995-467f-97c7-44a0856667ed",
   "metadata": {},
   "source": [
    "## zip() 함수\n",
    "```\n",
    "zip()함수를 통하여 키와 값 한 쌍을 갖는 튜플을 요소로 갖는 객체로 딕셔너리 자료형을 생성 가능\n",
    "\n",
    "```\n"
   ]
  },
  {
   "cell_type": "code",
   "execution_count": 66,
   "id": "b42c9a12-9632-430f-ace6-f6cef612eda4",
   "metadata": {},
   "outputs": [
    {
     "name": "stdout",
     "output_type": "stream",
     "text": [
      "[('key', 'value'), ('key2', 'value2'), ('key3', 'value3')]\n",
      "{'key': 'value', 'key2': 'value2', 'key3': 'value3'}\n"
     ]
    }
   ],
   "source": [
    "print(list(zip(['key','key2','key3'],['value','value2','value3'])))\n",
    "dict_b=dict(zip(['key','key2','key3'],['value','value2','value3']))\n",
    "print(dict_b)\n"
   ]
  },
  {
   "cell_type": "markdown",
   "id": "3d386924-e732-449b-9413-86a22f449cb3",
   "metadata": {},
   "source": [
    "```\n",
    "갯수가 맞지 않으면 갯수가 적은 것에 맞춰서 생성\n",
    "```"
   ]
  },
  {
   "cell_type": "code",
   "execution_count": 40,
   "id": "32262a00-a279-49f7-acc6-3d9dcc2a37d4",
   "metadata": {},
   "outputs": [
    {
     "name": "stdout",
     "output_type": "stream",
     "text": [
      "{'1': 1, '2': 2, '3': 3, '4': 4}\n"
     ]
    }
   ],
   "source": [
    "dict_c=dict(zip(['1','2','3','4','5'],[1,2,3,4]))\n",
    "print(dict_c)"
   ]
  },
  {
   "cell_type": "markdown",
   "id": "1830cf0b-774a-4281-bcb2-5fae1c469e52",
   "metadata": {},
   "source": [
    "## 키로 값에 접근하기\n",
    "```\n",
    "키를 활용하여 해당 값에 접근\n",
    "```"
   ]
  },
  {
   "cell_type": "code",
   "execution_count": 36,
   "id": "c641cc59-3442-4ac6-a5f2-f8c4c15ca4c8",
   "metadata": {},
   "outputs": [
    {
     "name": "stdout",
     "output_type": "stream",
     "text": [
      "value\n"
     ]
    }
   ],
   "source": [
    "print(dict_b['key'])"
   ]
  },
  {
   "cell_type": "markdown",
   "id": "4af9d45d-13a0-428f-8fd6-c7844f111029",
   "metadata": {},
   "source": [
    "## 키로 값 변경하기\n",
    "```\n",
    "키로 해당 값에 접근 후 새로운 값 저장\n",
    "```"
   ]
  },
  {
   "cell_type": "code",
   "execution_count": 42,
   "id": "20e91a1b-d508-4505-a3a5-3209d44322c5",
   "metadata": {},
   "outputs": [
    {
     "name": "stdout",
     "output_type": "stream",
     "text": [
      "{'key': 'value', 'key2': 'value2', 'key3': 'value3'}\n",
      "{'key': 'super value', 'key2': 'value2', 'key3': 'value3'}\n"
     ]
    }
   ],
   "source": [
    "print(dict_b)\n",
    "dict_b['key']='super value'\n",
    "print(dict_b)"
   ]
  },
  {
   "cell_type": "markdown",
   "id": "a6753257-8fe6-43f3-a25a-dd61fda93639",
   "metadata": {},
   "source": [
    "## 키와 값 추가하기\n",
    "``` \n",
    "기존에 없는 키를 인덱스로 하여 새로운 값 저장\n",
    "단, 없는 키를 접근하면 keyError가 발생\n",
    "```"
   ]
  },
  {
   "cell_type": "code",
   "execution_count": 43,
   "id": "2791ce82-8969-4b7f-8951-9bcb56812555",
   "metadata": {},
   "outputs": [
    {
     "name": "stdout",
     "output_type": "stream",
     "text": [
      "{'key': 'super value', 'key2': 'value2', 'key3': 'value3'}\n",
      "{'key': 'super value', 'key2': 'value2', 'key3': 'value3', 'new one': 'new value'}\n"
     ]
    }
   ],
   "source": [
    "print(dict_b)\n",
    "dict_b['new one']='new value'\n",
    "print(dict_b)"
   ]
  },
  {
   "cell_type": "markdown",
   "id": "cc8aca38-ba67-4809-bc7a-6dc5ee529584",
   "metadata": {},
   "source": [
    "## 특정 키가 딕셔너리 자료형에 있나 확인\n",
    "```\n",
    "in 연산자를 활용\n",
    "```"
   ]
  },
  {
   "cell_type": "code",
   "execution_count": 46,
   "id": "75188552-4e6f-4722-8d40-984c90a75f23",
   "metadata": {},
   "outputs": [
    {
     "name": "stdout",
     "output_type": "stream",
     "text": [
      "{'key': 'super value', 'key2': 'value2', 'key3': 'value3', 'new one': 'new value'}\n",
      "True\n",
      "False\n"
     ]
    }
   ],
   "source": [
    "print(dict_b)\n",
    "print('key' in dict_b)\n",
    "print ('key4' in dict_b)"
   ]
  },
  {
   "cell_type": "markdown",
   "id": "1d87cdc5-7456-4f45-9332-0838a2742726",
   "metadata": {},
   "source": [
    "## 특정 키와 값의 쌍을 삭제하기\n",
    "```\n",
    "del 키워드를 활용하여 삭제\n",
    "```"
   ]
  },
  {
   "cell_type": "code",
   "execution_count": 48,
   "id": "db73d748-8e88-46bc-91fb-aed102cf60d5",
   "metadata": {},
   "outputs": [
    {
     "name": "stdout",
     "output_type": "stream",
     "text": [
      "{'key': 'super value', 'key2': 'value2', 'key3': 'value3', 'new one': 'new value'}\n",
      "{'key': 'super value', 'key2': 'value2', 'key3': 'value3'}\n"
     ]
    }
   ],
   "source": [
    "print(dict_b)\n",
    "del dict_b['new one']\n",
    "print(dict_b)"
   ]
  },
  {
   "cell_type": "markdown",
   "id": "f330e3d6-c585-4622-bdc1-fc77e216ccc5",
   "metadata": {},
   "source": [
    "## 키와 값의 쌍 개수 구하기\n",
    "```\n",
    "len()함수를 통해 딕셔너리 자료형의 크기를 구하면 그건 키의 크기이기도 하고 값의 크기이기도 함(key-value pair) \n",
    "```"
   ]
  },
  {
   "cell_type": "code",
   "execution_count": 54,
   "id": "03538a65-16e6-4ec5-aa2f-f7968f257183",
   "metadata": {},
   "outputs": [
    {
     "name": "stdout",
     "output_type": "stream",
     "text": [
      "{'key': 'super value', 'key2': 'value2', 'key3': 'value3'}\n"
     ]
    },
    {
     "data": {
      "text/plain": [
       "3"
      ]
     },
     "execution_count": 54,
     "metadata": {},
     "output_type": "execute_result"
    }
   ],
   "source": [
    "print(dict_b)\n",
    "len(dict_b)"
   ]
  },
  {
   "cell_type": "markdown",
   "id": "5c57ac76-6687-49c1-9e3a-1f90c16b3ad7",
   "metadata": {},
   "source": [
    "### 연습문제"
   ]
  },
  {
   "cell_type": "markdown",
   "id": "88f6e316-5d2e-4ce1-aa52-79226510dbec",
   "metadata": {},
   "source": [
    "```\n",
    "input() 함수를 통해 원하는 과일 이름을 입력하면 가격이 출력되는 프로그램을\n",
    "구현해봅시다. 과일 이름(str)을 key로 만들고 가격(int)을 value로 해서 딕셔너리\n",
    "자료형을 만듭니다.\n",
    "- 사과은 1000원, 바나나는 700원, 오렌지는 1500원, 파인애플은 2000원\n",
    "```"
   ]
  },
  {
   "cell_type": "code",
   "execution_count": 59,
   "id": "3ce1c2a4-fbbc-4c80-9275-62520dc9c69b",
   "metadata": {},
   "outputs": [
    {
     "name": "stdin",
     "output_type": "stream",
     "text": [
      "과일 이름을 입력하세요. 바나나\n"
     ]
    },
    {
     "name": "stdout",
     "output_type": "stream",
     "text": [
      "바나나의 가격은 700원입니다.\n"
     ]
    }
   ],
   "source": [
    "fruit=dict(zip(['사과','바나나','오렌지','파인애플'],[1000,700,1500,2000]))\n",
    "fruit_name=input('과일 이름을 입력하세요.')\n",
    "print(f'{fruit_name}의 가격은 {fruit[fruit_name]}원입니다.')"
   ]
  },
  {
   "cell_type": "markdown",
   "id": "9ee1a02c-2578-421e-a2b7-5176ee068a1c",
   "metadata": {},
   "source": [
    "```\n",
    "input() 함수를 통해 이름 값 여럿을 입력 받습니다. 이름을 입력 받고 난 후에 이름\n",
    "순서와 개수를 동일하게 몸무게 값을 입력 받습니다.\n",
    "이름(str)을 키(key)로 몸무게(float)를 값(value)으로 하는 딕셔너리 자료형을 만들고 그\n",
    "결과를 출력해보세요.\n",
    "```"
   ]
  },
  {
   "cell_type": "code",
   "execution_count": 80,
   "id": "5a2e152d-8992-4626-bf6c-794b9792b1a4",
   "metadata": {},
   "outputs": [
    {
     "name": "stdin",
     "output_type": "stream",
     "text": [
      "이름을 기입해주세요. 뽀로로 루피 크롱 스누피\n",
      "몸무게를 입력해주세요. 20.4 16.2 22.3 5.2\n"
     ]
    },
    {
     "name": "stdout",
     "output_type": "stream",
     "text": [
      "{'뽀로로': 20.4, '루피': 16.2, '크롱': 22.3, '스누피': 5.2}\n"
     ]
    }
   ],
   "source": [
    "name=list(input('이름을 기입해주세요.').split(' '))                # split()함수는 list 반환하기 때문에 list() 함수 꼭 필요 x\n",
    "weight=list(map(float,input('몸무게를 입력해주세요.').split(' '))) # map()함수는 list 반환하지 않기 때문에 list() 함수 필요\n",
    "                                                                 #리스트 요소를 실수 또는 정수로 변환하기 위해서는 map 함수 이용 \n",
    "name_weight_dict=dict(zip(name,weight))\n",
    "print(name_weight_dict)\n"
   ]
  },
  {
   "cell_type": "markdown",
   "id": "9bf4d591-cfc4-4554-9497-47d32d687cd7",
   "metadata": {},
   "source": [
    "# list Comprehension\n",
    "```\n",
    "1. 반복가능한 객체(iterable)로부터 값을 하나 꺼내와서 변수에 담음\n",
    "2. \n",
    "```"
   ]
  },
  {
   "cell_type": "markdown",
   "id": "a386aa58-b2b9-42ae-9c7d-eef13369958b",
   "metadata": {},
   "source": [
    "### 연습문제"
   ]
  },
  {
   "cell_type": "code",
   "execution_count": 91,
   "id": "ee872ef8-7915-4ab8-83f4-bf12106201c1",
   "metadata": {},
   "outputs": [
    {
     "name": "stdout",
     "output_type": "stream",
     "text": [
      "<class 'list'>\n",
      "[1, 4, 9, 16, 25, 36, 49, 64, 81]\n"
     ]
    }
   ],
   "source": [
    "prac_result=list(i**2 for i in range(1,10))\n",
    "print(type(prac_result))\n",
    "print(prac_result)"
   ]
  },
  {
   "cell_type": "code",
   "execution_count": 1,
   "id": "8f652233-55db-42ed-b070-c62a20b0f143",
   "metadata": {},
   "outputs": [
    {
     "name": "stdout",
     "output_type": "stream",
     "text": [
      "[1, 3, 5, 7, 9]\n"
     ]
    }
   ],
   "source": [
    "prac_result2=list(i for i in range(1,10,2))\n",
    "print(prac_result2)"
   ]
  },
  {
   "cell_type": "code",
   "execution_count": 4,
   "id": "a6b42b10-f3c6-45f3-951f-93eae441b45d",
   "metadata": {},
   "outputs": [
    {
     "name": "stdout",
     "output_type": "stream",
     "text": [
      "[1, 3, 5, 7, 9]\n"
     ]
    }
   ],
   "source": [
    "prac_result2=list(i for i in range(1,10) if i%2==1)\n",
    "print(prac_result2)"
   ]
  },
  {
   "cell_type": "code",
   "execution_count": 5,
   "id": "da7ad7a4-9fc3-4dec-8de9-021b8e6102f1",
   "metadata": {},
   "outputs": [
    {
     "name": "stdout",
     "output_type": "stream",
     "text": [
      "['a', 'b', 'c', 'd', 'e', 'f', 'g', 'h', 'i', 'j', 'k', 'l', 'm', 'n', 'o', 'p', 'q', 'r', 's', 't', 'u', 'v', 'w', 'x', 'y', 'z']\n"
     ]
    }
   ],
   "source": [
    "prac_result3=list(i for i in 'abcdefghijklmnopqrstuvwxyz')\n",
    "print(prac_result3)"
   ]
  },
  {
   "cell_type": "code",
   "execution_count": 6,
   "id": "85ee8f69-89aa-4a12-a977-ce8a794a77bd",
   "metadata": {},
   "outputs": [
    {
     "name": "stdout",
     "output_type": "stream",
     "text": [
      "['2', '3', '4', '5', '6', '7', '8', '9', '10', 'J', 'Q', 'K', 'A']\n"
     ]
    }
   ],
   "source": [
    "prac_result4=list(str(i) for i in range(2,11))+list(i for i in \"JQKA\")\n",
    "print(prac_result4)"
   ]
  },
  {
   "cell_type": "code",
   "execution_count": null,
   "id": "da0427c1-aaca-4d0a-9048-5046f772f3e2",
   "metadata": {},
   "outputs": [],
   "source": []
  }
 ],
 "metadata": {
  "kernelspec": {
   "display_name": "Python 3 (ipykernel)",
   "language": "python",
   "name": "python3"
  },
  "language_info": {
   "codemirror_mode": {
    "name": "ipython",
    "version": 3
   },
   "file_extension": ".py",
   "mimetype": "text/x-python",
   "name": "python",
   "nbconvert_exporter": "python",
   "pygments_lexer": "ipython3",
   "version": "3.9.13"
  }
 },
 "nbformat": 4,
 "nbformat_minor": 5
}
