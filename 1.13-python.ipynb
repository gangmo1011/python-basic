{
 "cells": [
  {
   "cell_type": "markdown",
   "id": "5f6c0bf7-63a0-438e-b43c-6b2e70624ee9",
   "metadata": {},
   "source": [
    "# 문자열 메서드 join()"
   ]
  },
  {
   "cell_type": "markdown",
   "id": "656065eb-ff14-4489-b921-ea58c4fa9fe6",
   "metadata": {},
   "source": [
    "문자열로 이뤄진 리스트를 하나의 문자열로 만듬\n",
    "- 문자열과 문자열 사이에 채울 문자값.join(문자로 만들 리스트)"
   ]
  },
  {
   "cell_type": "code",
   "execution_count": 1,
   "id": "ff4541f6-d56b-41bc-b5ea-88eaef694ff8",
   "metadata": {},
   "outputs": [
    {
     "name": "stdout",
     "output_type": "stream",
     "text": [
      "list_strs=['a', 'b', 'c', 'd', 'e', 'f', 'g', 'h', 'i', 'j', 'k', 'l', 'm', 'n', 'o', 'p', 'q', 'r', 's', 't', 'u', 'v', 'w', 'x', 'y', 'z']\n",
      "\n",
      "whole_str=a*b*c*d*e*f*g*h*i*j*k*l*m*n*o*p*q*r*s*t*u*v*w*x*y*z\n"
     ]
    }
   ],
   "source": [
    "list_strs=[i for i in 'abcdefghijklmnopqrstuvwxyz']\n",
    "print(f'list_strs={list_strs}')\n",
    "\n",
    "whole_str='*'.join(list_strs)\n",
    "print(f'\\nwhole_str={whole_str}')"
   ]
  },
  {
   "cell_type": "markdown",
   "id": "de1ce1ae-5161-4181-be62-80a449a16e79",
   "metadata": {},
   "source": [
    "### 연습문제"
   ]
  },
  {
   "cell_type": "markdown",
   "id": "52c0449e-0bac-44e4-b24f-d186647fa5f5",
   "metadata": {},
   "source": [
    "```\n",
    "1부터 100까지 범위의 업다운 게임을 완성해보세요.\n",
    "1. 게임을 시작할 때 랜덤하게 숫자를 만듭니다.(PSL의 random.randint() 활용)\n",
    "2. 사용자로부터 값을 입력을 받습니다.\n",
    "a. 입력받은 값이 랜덤 숫자보다 크면 ‘그보다 작습니다.’를 출력합니다.\n",
    "b. 입력받은 값이 랜덤 숫자보다 작으면 ‘그보다 큽니다.’를 출력합니다.\n",
    "c. 범위를 벗어난 값을 입력하면 ‘1~100 사이의 숫자를 입력하세요.’를 출력합니다.\n",
    "d. 입력받은 값과 랜덤 숫자가 같다면 ‘맞췄습니다!’를 출력합니다.\n",
    "3. 몇 번만에 맞췄는지 출력합니다. ‘6번만에 맞추셨습니다.’\n",
    "4. 그동안 입력했던 숫자를 출력합니다.\n",
    "‘입력한 숫자는 다음과 같습니다. -1, 101, 50, 10, 5, 3’\n",
    "```"
   ]
  },
  {
   "cell_type": "code",
   "execution_count": 4,
   "id": "c0ee616e-b31a-4220-959a-1f61def07f26",
   "metadata": {},
   "outputs": [
    {
     "name": "stdin",
     "output_type": "stream",
     "text": [
      "값 입력 -1\n"
     ]
    },
    {
     "name": "stdout",
     "output_type": "stream",
     "text": [
      "1~100 사이의 숫자를 입력하세요.\n"
     ]
    },
    {
     "name": "stdin",
     "output_type": "stream",
     "text": [
      "값 입력 101\n"
     ]
    },
    {
     "name": "stdout",
     "output_type": "stream",
     "text": [
      "1~100 사이의 숫자를 입력하세요.\n"
     ]
    },
    {
     "name": "stdin",
     "output_type": "stream",
     "text": [
      "값 입력 50\n"
     ]
    },
    {
     "name": "stdout",
     "output_type": "stream",
     "text": [
      "그보다 큽니다.\n"
     ]
    },
    {
     "name": "stdin",
     "output_type": "stream",
     "text": [
      "값 입력 60\n"
     ]
    },
    {
     "name": "stdout",
     "output_type": "stream",
     "text": [
      "그보다 작습니다.\n"
     ]
    },
    {
     "name": "stdin",
     "output_type": "stream",
     "text": [
      "값 입력 55\n"
     ]
    },
    {
     "name": "stdout",
     "output_type": "stream",
     "text": [
      "그보다 큽니다.\n"
     ]
    },
    {
     "name": "stdin",
     "output_type": "stream",
     "text": [
      "값 입력 57\n"
     ]
    },
    {
     "name": "stdout",
     "output_type": "stream",
     "text": [
      "그보다 큽니다.\n"
     ]
    },
    {
     "name": "stdin",
     "output_type": "stream",
     "text": [
      "값 입력 59\n"
     ]
    },
    {
     "name": "stdout",
     "output_type": "stream",
     "text": [
      "그보다 작습니다.\n"
     ]
    },
    {
     "name": "stdin",
     "output_type": "stream",
     "text": [
      "값 입력 58\n"
     ]
    },
    {
     "name": "stdout",
     "output_type": "stream",
     "text": [
      "맞췄습니다!\n",
      "8번 만에 맞추셨습니다.\n",
      "입력한 숫자는 다음과 같습니다. -1, 101, 50, 60, 55, 57, 59, 58\n"
     ]
    }
   ],
   "source": [
    "import random as rd\n",
    "num=rd.randint(1,100)\n",
    "\n",
    "count=0\n",
    "num_list=[]\n",
    "while True:\n",
    "    input_num=int(input(\"값 입력\"))\n",
    "    if input_num == num:\n",
    "        count += 1\n",
    "        num_list.append(str(input_num))\n",
    "        print(\"맞췄습니다!\")\n",
    "        break\n",
    "    elif input_num < 1 or input_num > 100:\n",
    "        count += 1\n",
    "        num_list.append(str(input_num))\n",
    "        print(\"1~100 사이의 숫자를 입력하세요.\")\n",
    "        continue\n",
    "    elif input_num > num:\n",
    "        count += 1\n",
    "        num_list.append(str(input_num))\n",
    "        print(\"그보다 작습니다.\")\n",
    "        continue\n",
    "    elif input_num < num:\n",
    "        count += 1\n",
    "        num_list.append(str(input_num))\n",
    "        print(\"그보다 큽니다.\")\n",
    "        continue\n",
    "print(f'{count}번 만에 맞추셨습니다.')\n",
    "print('입력한 숫자는 다음과 같습니다.',', '.join(num_list))\n"
   ]
  },
  {
   "cell_type": "markdown",
   "id": "d8337909-17dd-49d6-a2b9-346ad1def5e4",
   "metadata": {},
   "source": [
    "```\n",
    "화씨 온도를 섭씨 온도로 변경하는 함수를 만들어보세요. 화씨 온도를 섭씨 온도로\n",
    "변경하는 공식은 아래와 같습니다.\n",
    "- °C = (°F − 32) × 5/9\n",
    "- 함수명: to_celsius\n",
    "- 인자: fahrenheit\n",
    "- 반환: 섭씨 온도\n",
    "```"
   ]
  },
  {
   "cell_type": "code",
   "execution_count": null,
   "id": "5b13bdba-05c6-4ca6-95ec-83a6b411ff79",
   "metadata": {},
   "outputs": [],
   "source": [
    "def to_celsius(fahrenheit):\n",
    "    return (fahrenheit-32)*(5/9)\n",
    "\n",
    "to_celsius(70)"
   ]
  },
  {
   "cell_type": "markdown",
   "id": "5d8cc564-8300-4f04-b212-bf1a9db8af4d",
   "metadata": {},
   "source": [
    "```\n",
    "자연수를 인수로 전달하면 짝수일 때 “짝수”라는 문자열을, 홀수일 때 “홀수”라는\n",
    "문자열을 반환하는 함수를 만들어보세요.\n",
    "- 자연수에 대해서만 “짝수”, “홀수” 반환합니다.\n",
    "- 자연수가 아닌 값이 들어왔을 때 반환값 없이 함수를 즉시 종료합니다.\n",
    "```"
   ]
  },
  {
   "cell_type": "code",
   "execution_count": 6,
   "id": "eb329817-c62b-4b84-b21a-c4b3df0c0f12",
   "metadata": {},
   "outputs": [
    {
     "name": "stdout",
     "output_type": "stream",
     "text": [
      "\n",
      "    number가 짝수면 \"짝수\", 홀수면 \"홀수\"를 반환합니다.\n",
      "    \n",
      "짝수\n",
      "홀수\n",
      "None\n",
      "None\n"
     ]
    }
   ],
   "source": [
    "def odd_even(number):\n",
    "    '''\n",
    "    number가 짝수면 \"짝수\", 홀수면 \"홀수\"를 반환합니다.\n",
    "    '''\n",
    "    if type(number) != int or number<1:\n",
    "        return \n",
    "    elif number %2 == 0:\n",
    "        return \"짝수\"\n",
    "    elif number %2 != 0:\n",
    "        return \"홀수\"\n",
    "    \n",
    "print(odd_even.__doc__)\n",
    "print(odd_even(10))\n",
    "print(odd_even(9))\n",
    "print(odd_even('가'))\n",
    "print(odd_even(-1))"
   ]
  },
  {
   "cell_type": "markdown",
   "id": "52174316-1b77-4d33-b171-3d2e76b1cd2b",
   "metadata": {},
   "source": [
    "```\n",
    "연도가 평년일 때 1월, 3월, 5월, 7월, 8월, 10월, 12월은 31일, 4월, 6월, 9월, 11월은\n",
    "30일, 2월은 28일입니다. 월을 나타내는 숫자를 인수로 전달하면 그 달의 날짜 개수를\n",
    "반환하는 함수 days 를 만들어보세요. 사용 예는 다음과 같다.\n",
    "```"
   ]
  },
  {
   "cell_type": "code",
   "execution_count": 7,
   "id": "bc51648e-c8f8-4157-b547-15cea948e887",
   "metadata": {},
   "outputs": [
    {
     "data": {
      "text/plain": [
       "29"
      ]
     },
     "execution_count": 7,
     "metadata": {},
     "output_type": "execute_result"
    }
   ],
   "source": [
    "def days(year,month,/):\n",
    "    if month in [4,6,9,11]:\n",
    "        return 30\n",
    "    elif month == 2:\n",
    "        if (year%4==0 and year%100==0 and year%400!=0)or year%4!=0:\n",
    "            return 28\n",
    "        else:\n",
    "            return 29\n",
    "    elif month in [1,3,5,7,8,10,12]:\n",
    "        return 31\n",
    "    else:\n",
    "        print('잘못된 달을 입력하였습니다.')\n",
    "\n",
    "days(2000,2)"
   ]
  },
  {
   "cell_type": "markdown",
   "id": "4ef8ab72-2ca6-441a-a4ad-85a2a6de0670",
   "metadata": {},
   "source": [
    "```\n",
    "몫과 나머지를 구하는 함수를 완성해보세요.\n",
    "```"
   ]
  },
  {
   "cell_type": "code",
   "execution_count": 8,
   "id": "da3005be-60d6-4ee5-a27d-61ff81986682",
   "metadata": {},
   "outputs": [
    {
     "name": "stdout",
     "output_type": "stream",
     "text": [
      "몫:3, 나머지:1\n"
     ]
    }
   ],
   "source": [
    "x=10; y=3\n",
    "def get_quotiont_remainder(num1,num2):\n",
    "    return num1//num2, num1%num2\n",
    "quitient, remainder = get_quotiont_remainder(x,y)\n",
    "print(f'몫:{quitient}, 나머지:{remainder}')\n",
    "\n",
    "## divmod(나눠질수, 나눌수) 내장함수 return도 몫, 나머지 "
   ]
  },
  {
   "cell_type": "markdown",
   "id": "f221038f-0f77-43c9-8911-0f8003dfad03",
   "metadata": {
    "tags": []
   },
   "source": [
    "# 변수의 범위"
   ]
  },
  {
   "cell_type": "markdown",
   "id": "d6b0321b-b62e-48c1-8517-918c2952c544",
   "metadata": {},
   "source": [
    "## 전역변수(global variable)\n",
    "- 전역 범위(들여쓰기 x)에서 선언한 변수\n",
    "- 어디서든 사용 가능"
   ]
  },
  {
   "cell_type": "markdown",
   "id": "615f4cda-5bdb-43dc-9f42-d1734e88024a",
   "metadata": {},
   "source": [
    "## 지역변수(local variable)\n",
    "- 함수 바디 안에서 생성한 변수\n",
    "- 지역변수를 만든 함수 안에서만 사용이 가능"
   ]
  },
  {
   "cell_type": "code",
   "execution_count": 9,
   "id": "26674654-5eef-4cdc-8db1-7c16e7e4098a",
   "metadata": {},
   "outputs": [
    {
     "name": "stdout",
     "output_type": "stream",
     "text": [
      "중요한 것은 꺾이지 않는 마음\n"
     ]
    }
   ],
   "source": [
    "# 함수 안에서 전역변수의 값을 바꾸려 했지만 바꿔지지 않음\n",
    "important_is_a_unbroken_heart = \"중요한 것은 꺾이지 않는 마음\"\n",
    "\n",
    "def HeartBreaker():\n",
    "    important_is_a_unbroken_heart=\"흔들흔들\"\n",
    "\n",
    "HeartBreaker()\n",
    "print(important_is_a_unbroken_heart)"
   ]
  },
  {
   "cell_type": "markdown",
   "id": "2ef0dcde-3a20-4370-8caf-742cf8d2b768",
   "metadata": {},
   "source": [
    "## global 키워드\n",
    "- 지역범위에서 전역변수를 변경하려면 global 키워드를 사용"
   ]
  },
  {
   "cell_type": "code",
   "execution_count": 10,
   "id": "480baac5-675e-49be-8aa3-5a4499da54c9",
   "metadata": {},
   "outputs": [
    {
     "name": "stdout",
     "output_type": "stream",
     "text": [
      "흔들흔들\n"
     ]
    }
   ],
   "source": [
    "\n",
    "important_is_a_unbroken_heart = \"중요한 것은 꺾이지 않는 마음\"\n",
    "\n",
    "def HeartBreaker():\n",
    "    global important_is_a_unbroken_heart\n",
    "    important_is_a_unbroken_heart=\"흔들흔들\"\n",
    "\n",
    "HeartBreaker()\n",
    "print(important_is_a_unbroken_heart)"
   ]
  },
  {
   "cell_type": "markdown",
   "id": "673c984d-5078-4a48-afc5-6f1989dd109d",
   "metadata": {},
   "source": [
    "## 함수 바디에 함수를 중첩시키기\n",
    "- 상위 함수에서 선언된 지역 변수는 하위 함수에서 사용이 가능"
   ]
  },
  {
   "cell_type": "code",
   "execution_count": 11,
   "id": "8714895f-c271-4660-a464-b420fc3bbe9c",
   "metadata": {},
   "outputs": [
    {
     "name": "stdout",
     "output_type": "stream",
     "text": [
      "This is level 1\n"
     ]
    }
   ],
   "source": [
    "def level1():\n",
    "    message=\"This is level 1\"\n",
    "    def level2():\n",
    "        print(message)\n",
    "    level2()\n",
    "    \n",
    "level1()"
   ]
  },
  {
   "cell_type": "markdown",
   "id": "6e7bc110-a033-4eeb-bf2c-6afc2c824477",
   "metadata": {},
   "source": [
    "## 하위 함수에서 상위 함수에 선언된 변수 변경하기"
   ]
  },
  {
   "cell_type": "code",
   "execution_count": 12,
   "id": "1692c26f-d74e-4001-be83-1c9c85064c7d",
   "metadata": {},
   "outputs": [
    {
     "name": "stdout",
     "output_type": "stream",
     "text": [
      "This is level 1\n"
     ]
    }
   ],
   "source": [
    "# 변경 실패\n",
    "def level1():\n",
    "    message=\"This is level 1\"\n",
    "    def level2():\n",
    "        message=\"level2 is better than level1\"\n",
    "    level2()\n",
    "    print(message)\n",
    "    \n",
    "level1()"
   ]
  },
  {
   "cell_type": "markdown",
   "id": "a0fcce2b-6544-4152-b2ff-baaaf04f5d9d",
   "metadata": {},
   "source": [
    "- nonlocal 키워드: 바깥 영역의 변수를 사용하겠다고 설정 "
   ]
  },
  {
   "cell_type": "code",
   "execution_count": 13,
   "id": "76e311c2-d971-4e26-9fcc-71fc6aa0ebb6",
   "metadata": {},
   "outputs": [
    {
     "name": "stdout",
     "output_type": "stream",
     "text": [
      "level2 is better than level1\n"
     ]
    }
   ],
   "source": [
    "def level1():\n",
    "    message=\"This is level 1\"\n",
    "    def level2():\n",
    "        nonlocal message \n",
    "        message=\"level2 is better than level1\"\n",
    "    level2()\n",
    "    print(message)\n",
    "    \n",
    "level1()"
   ]
  },
  {
   "cell_type": "markdown",
   "id": "9752e70d-7da8-448a-8804-f54475f67eb7",
   "metadata": {},
   "source": [
    "## global, nonloca 특징과 권고사항\n",
    "- global 키워드는 함수의 중첩정도와 상관없이 전역 범위의 변수를 매칭함\n",
    "- 중첩된 함수마다 같은 이름의 변수가 있다면 nonlocal 키워드는 제일 가까운 바깥 변수를 매칭\n",
    "- 가급적이면 함수마다 이름이 같은 변수를 사용하기보다 다른 변수명을 사용하는 것이 좋음"
   ]
  },
  {
   "cell_type": "markdown",
   "id": "f3896f44-22b9-4e54-b016-a684b745249c",
   "metadata": {},
   "source": [
    "## 변수 범위 정리\n",
    "\n",
    "- 함수 안에서 선언한 변수는 함수를 호출해 실행되는 동안만 사용할 수 있습니다.\n",
    "- 범위마다 같은 이름의 변수를 사용해도 각각 독립적으로 동작합니다.\n",
    "- 지역 변수(local variable)를 저장하는 이름 공간을 지역 영역(local scope)라고 합니다.\n",
    "- 전역 변수(global variable)를 저장하는 이름 공간을 전역 영역(global scope)라고 합니다.\n",
    "- 파이썬 자체에서 정의한 이름 공간을 내장 영역(built-in scope)이라고 합니다.\n",
    "- 함수에서 변수를 호출하면 지역 영역 → 전역 영역 → 내장 영역 순으로 해당하는 변수를 확인합니다."
   ]
  },
  {
   "cell_type": "markdown",
   "id": "e63e240d-d568-49e8-b973-f23a83a4063b",
   "metadata": {},
   "source": [
    "### 예제"
   ]
  },
  {
   "cell_type": "code",
   "execution_count": 14,
   "id": "adb17fc0-a216-44ef-a791-1c629220ab43",
   "metadata": {},
   "outputs": [
    {
     "name": "stdout",
     "output_type": "stream",
     "text": [
      "전역변수 입니다.\n"
     ]
    }
   ],
   "source": [
    "# 지역 범위(Local scope) 전역 변수(global variable)에 접근, 출력\n",
    "global_v=\"전역변수 입니다.\"\n",
    "def local_scope():\n",
    "    print(global_v)\n",
    "local_scope()"
   ]
  },
  {
   "cell_type": "code",
   "execution_count": 15,
   "id": "13c3ab9b-83cb-4d37-8669-323f7671c5db",
   "metadata": {},
   "outputs": [
    {
     "name": "stdout",
     "output_type": "stream",
     "text": [
      "지역 범위입니다.\n"
     ]
    }
   ],
   "source": [
    "# 지역 범위(Local scope) 전역 변수(global variable)에 접근, 변경\n",
    "global_v2=\"전역변수 입니다.\"\n",
    "def local_scope2():\n",
    "    global global_v2\n",
    "    global_v2 = \"지역 범위입니다.\"\n",
    "    print(global_v2)\n",
    "local_scope2()"
   ]
  },
  {
   "cell_type": "code",
   "execution_count": 16,
   "id": "48b25e68-6cd4-4874-b1fc-7eb1db055c9d",
   "metadata": {},
   "outputs": [
    {
     "name": "stdout",
     "output_type": "stream",
     "text": [
      "바깥 지역 범위입니다.\n"
     ]
    }
   ],
   "source": [
    "# 지역범위 안에 지역범위가 중첩되어 있을 경우\n",
    "# 비교적 바깥에 있는 지역 범위의 지역 변수에 접근하여 출력\n",
    "def local_scope3():\n",
    "    global_v4=\"바깥 지역 범위입니다.\"\n",
    "    def local_scope4():\n",
    "        print(global_v4)\n",
    "    local_scope4()\n",
    "    \n",
    "local_scope3()"
   ]
  },
  {
   "cell_type": "code",
   "execution_count": 17,
   "id": "ddf5453f-7f6d-4f37-9c7a-0445f2948f6f",
   "metadata": {},
   "outputs": [
    {
     "ename": "NameError",
     "evalue": "name 'global_v4' is not defined",
     "output_type": "error",
     "traceback": [
      "\u001b[1;31m---------------------------------------------------------------------------\u001b[0m",
      "\u001b[1;31mNameError\u001b[0m                                 Traceback (most recent call last)",
      "\u001b[1;32m~\\AppData\\Local\\Temp\\ipykernel_17056\\487890263.py\u001b[0m in \u001b[0;36m<module>\u001b[1;34m\u001b[0m\n\u001b[0;32m      6\u001b[0m \u001b[1;33m\u001b[0m\u001b[0m\n\u001b[0;32m      7\u001b[0m \u001b[1;31m# 지역 범위 안에 있는 지역변수는 그 함수 실행과 반환 사이동안만 살아있다.\u001b[0m\u001b[1;33m\u001b[0m\u001b[1;33m\u001b[0m\u001b[0m\n\u001b[1;32m----> 8\u001b[1;33m \u001b[0mprint\u001b[0m\u001b[1;33m(\u001b[0m\u001b[0mglobal_v4\u001b[0m\u001b[1;33m)\u001b[0m\u001b[1;33m\u001b[0m\u001b[1;33m\u001b[0m\u001b[0m\n\u001b[0m\u001b[0;32m      9\u001b[0m \u001b[0mlocal_scope3\u001b[0m\u001b[1;33m(\u001b[0m\u001b[1;33m)\u001b[0m\u001b[1;33m\u001b[0m\u001b[1;33m\u001b[0m\u001b[0m\n",
      "\u001b[1;31mNameError\u001b[0m: name 'global_v4' is not defined"
     ]
    }
   ],
   "source": [
    "def local_scope3():\n",
    "    global_v4=\"바깥 지역 범위입니다.\"\n",
    "    def local_scope4():\n",
    "        print(global_v4)\n",
    "    local_scope4()\n",
    "\n",
    "# 지역 범위 안에 있는 지역변수는 그 함수 실행과 반환 사이동안만 살아있다.\n",
    "print(global_v4)\n",
    "local_scope3()"
   ]
  },
  {
   "cell_type": "code",
   "execution_count": 18,
   "id": "280be2a6-9730-477f-8ce8-e9972aea45fd",
   "metadata": {},
   "outputs": [
    {
     "name": "stdout",
     "output_type": "stream",
     "text": [
      "바깥 지역 범위입니다.\n"
     ]
    }
   ],
   "source": [
    "# 지역범위 안에 지역범위가 중첩되어 있을 경우\n",
    "# 비교적 바깥에 있는 지역 범위의 지역 변수에 접근하여 출력\n",
    "def local_scope5():\n",
    "    global_v5=\"바깥 지역 범위입니다.\" # 더 넓은 범위의 로컬 변수로 선언\n",
    "    def local_scope6():\n",
    "        global_v5=\"안쪽 지역 범위입니다.\" # 더 좁은 범위의 로컬 변수로 선언\n",
    "    local_scope6()\n",
    "    print(global_v5)\n",
    "local_scope5()\n",
    "\n",
    "# local_scope5 범위의 global_v5는\n",
    "# local_scope6 범위의 global_v5와 각각 독립적으로 생성이 된 것임"
   ]
  },
  {
   "cell_type": "code",
   "execution_count": 19,
   "id": "290fa18d-7a94-4e1f-8c92-e5ab3d4d7030",
   "metadata": {},
   "outputs": [
    {
     "name": "stdout",
     "output_type": "stream",
     "text": [
      "안쪽 지역 범위입니다.\n"
     ]
    }
   ],
   "source": [
    "# 지역범위 안에 지역범위가 중첩되어 있을 경우\n",
    "# 비교적 바깥에 있는 지역 범위의 지역 변수에 접근하여 변경하여 출력\n",
    "def local_scope8():\n",
    "    global_v6=\"바깥 지역 범위입니다.\" \n",
    "    def local_scope9():\n",
    "        nonlocal global_v6 # 지금 로컬 영역의 바깥의 변수 global_v6를 찾아서 그 변수를 사용하겠다. \n",
    "        global_v6=\"안쪽 지역 범위입니다.\"\n",
    "    local_scope9()\n",
    "    print(global_v6)\n",
    "    \n",
    "local_scope8()"
   ]
  },
  {
   "cell_type": "markdown",
   "id": "3f6e30a2-3e97-467b-92bd-e281ca0dab2f",
   "metadata": {},
   "source": [
    "# 람다(Lamdba)\n",
    "- 호출될 때 값이 구해지는 하나의 표현식입니다. 또 이름이 없는 인라인 함수입니다.\n",
    "- lambda [parameters] : expression "
   ]
  },
  {
   "cell_type": "markdown",
   "id": "ae49340e-55d7-41d6-9c72-2662370218b2",
   "metadata": {},
   "source": [
    "## 람다함수 호출하는 법\n",
    "1. (lambda parameters: expression)(arguments)\n",
    "- 예) (lambda x: x+10)(10)\n",
    "\n",
    "2. variable=(lambda parameters: expression) /// variable(arguments)\n",
    "- 예) twice= (lambda x: x*2) /// twice(10)"
   ]
  },
  {
   "cell_type": "markdown",
   "id": "f9916ed1-badc-41ac-a0e2-5f3a225217d5",
   "metadata": {},
   "source": [
    "## 조건 표현식"
   ]
  },
  {
   "cell_type": "markdown",
   "id": "7a534375-8400-41de-a899-a6556f0d27cc",
   "metadata": {},
   "source": [
    "- [True일때 값] [if 조건식] [else] [False일때 값] "
   ]
  },
  {
   "cell_type": "code",
   "execution_count": 20,
   "id": "d8380d3a-a418-4800-a36e-d7a40fb74c4e",
   "metadata": {},
   "outputs": [
    {
     "data": {
      "text/plain": [
       "'B'"
      ]
     },
     "execution_count": 20,
     "metadata": {},
     "output_type": "execute_result"
    }
   ],
   "source": [
    "score=90\n",
    "'A' if 90<score<=100 else 'B' if 80<score else 'C'"
   ]
  },
  {
   "cell_type": "markdown",
   "id": "39e1d9e8-5005-41fe-9232-213c9df65907",
   "metadata": {},
   "source": [
    "## 람다 feat) map()\n",
    "- 람다와 map() 함수를 같이 쓸 때 다음과 같이 사용합니다. \n",
    "- 이때 필요에 따라parameter와 iterable의 개수를 맞춰서 사용하면 됩니다. \n",
    "- 어느 한쪽 iterable의 길이가 짧아도 상관없이 동작하며, 길이가 작은 쪽에 맞춰 값을 반환합니다.\n",
    "- map(lambda parameter1, parameter2, ... : expression, iterable1, iterable2, ...)"
   ]
  },
  {
   "cell_type": "code",
   "execution_count": 21,
   "id": "415459ce-22f7-4f44-a9bb-4e42905eba96",
   "metadata": {},
   "outputs": [
    {
     "name": "stdout",
     "output_type": "stream",
     "text": [
      "[2, 8, 18, 32, 50]\n"
     ]
    }
   ],
   "source": [
    "a= [i for i in range(1,6)]\n",
    "b= [i for i in range(2,11,2)]\n",
    "print(list(map(lambda x,y: x*y , a , b)))"
   ]
  },
  {
   "cell_type": "markdown",
   "id": "8dff4ead-a2d4-4ac1-a570-cfcb03421e22",
   "metadata": {},
   "source": [
    "## 람다 feat) filter()\n",
    "- 람다와 filter() 함수를 같이 쓸 때 다음과 같이 사용합니다. \n",
    "- filter의 첫 인수로 들어가는 함수의 반환 값이 True일 때만 해당 요소를 가져옵니다.\n",
    "- 리스트 컴프리헨션으로도 표현 가능한 부분입니다.(속도와 가독성 모두 리스트 컴프리헨션이 더 낫습니다.)"
   ]
  },
  {
   "cell_type": "code",
   "execution_count": 22,
   "id": "0f507785-6ea9-4c04-810b-3c4350176492",
   "metadata": {},
   "outputs": [
    {
     "name": "stdout",
     "output_type": "stream",
     "text": [
      "[3, 9, 9]\n",
      "[3, 9, 9]\n"
     ]
    }
   ],
   "source": [
    "a= [3, 2, 8, 22, 10, 7, 0, 11, 9, 9]\n",
    "print(list(filter(lambda x: x%3 == 0 and 0< x < 10, a)))\n",
    "# 리스트 컴프리헨션으로 표현 가능\n",
    "print([i for i in a if i%3 ==0 and 0<i<10])"
   ]
  },
  {
   "cell_type": "markdown",
   "id": "d18726ca-f0d2-47eb-8983-f72646ca217d",
   "metadata": {},
   "source": [
    "# 객체지향(Object Oriented) 프로그래밍\n",
    "- 객체지향 프로그래밍은 복잡한 문제를 잘게 나누어 객체로 만들고, 객체를 조합해서 문제를 해결합니다.\n",
    "- 현실 세계의 복잡한 문제를 처리하는데 유용하며 기능을 개선하고 발전시킬 때도 해당 클래스만 수정하면 되므로 큰 프로젝트의 유지보수에도 매우 효율적입니다.\n",
    "- 객체가 가진 데이터를 클래스의 속성(Attribute)이라 부르고 객체가 갖는 기능을 메서드 (Method)라고 부릅니다."
   ]
  },
  {
   "cell_type": "markdown",
   "id": "216c8831-6c14-4529-ad32-c151019bca4f",
   "metadata": {},
   "source": [
    "## 클래스(Class)\n",
    "- 클래스는 사용자 정의 객체를 만들기 위한 주형이라고 생각하면 됩니다. \n",
    "- 클래스 정의는 보통 클래스의 인스턴스를 대상으로 연산하는 메서드 정의를 포함하고 있습니다.\n",
    "```\n",
    "class ClassName:\n",
    "    '''\n",
    "    doc string\n",
    "    '''\n",
    "    def method_name(self):\n",
    "        method_body\n",
    "```        "
   ]
  },
  {
   "cell_type": "markdown",
   "id": "b52cdf49-e6c5-45fd-8650-cc0151aab5da",
   "metadata": {},
   "source": [
    "## 객체(object)? 인스턴스(instance)?\n",
    "- 객체를 언급할 땐 단어 하나만 활용하여 단지 ‘객체’라고 표현합니다. \n",
    "- 그와 달리 인스턴스(Instance)는 특정 클래스로부터 만들어진 실체로 언급을 많이 합니다. \n",
    "- 예를들어 인스턴스의 경우 ‘리스트 클래스로 만들어진 인스턴스다’라고 말할 수 있습니다. 부르는 구체적인 것은 조금 달라도 결국 둘은 같은 말입니다.\n",
    "- 인스턴스의 생성은 아래의 예제처럼 클래스명 오른편에 소괄호를 붙여서 만듭니다.\n",
    "\n",
    "- instance_variable = ClassName()"
   ]
  },
  {
   "cell_type": "code",
   "execution_count": 23,
   "id": "4270a50a-5566-41da-a354-3c96967d0a49",
   "metadata": {},
   "outputs": [],
   "source": [
    "class Person:\n",
    "    def __init__(self):\n",
    "        self.hello = \"안녕하세요.\"\n",
    "        \n",
    "    def greeting(self):\n",
    "        print(self.hello)\n",
    "    "
   ]
  },
  {
   "cell_type": "code",
   "execution_count": 1,
   "id": "20023d25-ee0b-47c6-8b0b-8a478c750da4",
   "metadata": {},
   "outputs": [
    {
     "ename": "NameError",
     "evalue": "name 'Person' is not defined",
     "output_type": "error",
     "traceback": [
      "\u001b[1;31m---------------------------------------------------------------------------\u001b[0m",
      "\u001b[1;31mNameError\u001b[0m                                 Traceback (most recent call last)",
      "\u001b[1;32m~\\AppData\\Local\\Temp\\ipykernel_17444\\693043332.py\u001b[0m in \u001b[0;36m<module>\u001b[1;34m\u001b[0m\n\u001b[1;32m----> 1\u001b[1;33m \u001b[0mjames\u001b[0m\u001b[1;33m=\u001b[0m\u001b[0mPerson\u001b[0m\u001b[1;33m(\u001b[0m\u001b[1;33m)\u001b[0m\u001b[1;33m\u001b[0m\u001b[1;33m\u001b[0m\u001b[0m\n\u001b[0m\u001b[0;32m      2\u001b[0m \u001b[0mjames\u001b[0m\u001b[1;33m.\u001b[0m\u001b[0mgreeting\u001b[0m\u001b[1;33m(\u001b[0m\u001b[1;33m)\u001b[0m\u001b[1;33m\u001b[0m\u001b[1;33m\u001b[0m\u001b[0m\n",
      "\u001b[1;31mNameError\u001b[0m: name 'Person' is not defined"
     ]
    }
   ],
   "source": [
    "james=Person()\n",
    "james.greeting()"
   ]
  },
  {
   "cell_type": "markdown",
   "id": "a16a1e3e-fa4b-427c-8a2a-3bf7f70b90a4",
   "metadata": {},
   "source": [
    "# 객체지향(Object Oriented) 프로그래밍\n",
    "## 메소드(Method)\n",
    "- 메서드(Method)는 클래스 바디 안에서 정의되는 함수입니다. \n",
    "- 클래스의 인스턴스의 어트리뷰트(attribute)로서 호출되면, 그 메서드는 첫 번째 인자로 인스턴스 객체(self)를 받습니다. \n",
    "- 첫 번째 인자를 설정 안 하면 에러가 발생합니다. 이 첫 번째 인자를 ‘self’라고 씁니다. \n",
    "```\n",
    "class ClassName:\n",
    "    def method_name(self):\n",
    "    method_body\n",
    "\n",
    "    class_body\n",
    "```"
   ]
  },
  {
   "cell_type": "markdown",
   "id": "d04d9f8c-ff70-4054-bcd9-243986ca19f5",
   "metadata": {},
   "source": [
    "## 속성(Attribute)\n",
    "- 클래스 속성(Attribute)를 만들 때는 _  _ _init_ _  _메서드 안에서 self.속성에 값을 할당하면 됩니다.\n",
    "```\n",
    "class ClassName:\n",
    "    def __init__(self):\n",
    "    self.속성 = 값\n",
    "```\n",
    "## _  _ _init_ _ _ 메서드\n",
    "- _  _ _init_ _  _ 메서드는 james = Person()처럼 클래스에 소괄호(())를 붙여서 인스턴스를 만들 때 호출되는 특별한 메서드(special method, magic method)입니다.\n",
    "- _  _ _init_ _  _은 initialize의 줄임말로 인스턴스(객체)를 초기화(메모리에 공간을 할당하고 값을 부여함)합니다.\n",
    "- 밑줄 두개(__ double under, 던더)가 양 옆으로 붙어있는 메서드는 파이썬이 자동으로 호출하는 메서드입니다. \n",
    "- 스페셜 메서드(special method) 혹은 매직 메서드(magic method)라고 부릅니다. 던더 메서드로 불리기도 합니다. \n",
    "- 파이썬의 여러 가지 기능을 사용할 때 이 던더 메서드를 구현하는 식으로 사용하게 됩니다.\n",
    "- **속성은 _  _ _init_ _  _ 메서드에서 만든다는 점**과 **self에 마침표(.)를 붙여 속성명을 붙이고 값을 할당하는 점**을 기억해두세요.\n",
    "```\n",
    "class Person:\n",
    "    def __init__(self):\n",
    "        self.hello = \"안녕하세요.\"\n",
    "        \n",
    "    def greeting(self):\n",
    "        print(self.hello)\n",
    "    \n",
    "```\n",
    "## self 란??\n",
    "- self는 인스턴스 자기 자신을 의미합니다.\n",
    "- 위 예제에서 인스턴스가 생성될 때 self.hello = ‘안녕하세요’ 처럼 자기 자신에 속성을 추가하여 사용했었습니다.\n",
    "- _  _ _init_ _  _의 매개변수 self에 들어가는 값는 Person() 인스턴스라고 할 수 있습니다.\n",
    "- self가 완성된 후에는 변수인 james에 할당되었습니다.\n",
    "- 이후 메서드를 호출하면 현재 인스턴스가 자동으로 매개변수 self에 들어옵니다. \n",
    "- 그래서 greeting 메서드에서 print(self.hello)처럼 속성을 출력할 수 있었습니다."
   ]
  },
  {
   "cell_type": "markdown",
   "id": "1440c594-482b-42da-81a3-09576fdf7492",
   "metadata": {},
   "source": [
    "## 비공개 속성 사용하기\n",
    "- 인스턴스.속성 = 값을 통해 새롭게 인스턴스의 속성 값을 변경 못하도록 막고 싶을 때는 비공개 속성을 사용하면 됩니다.\n",
    "- 사용법은 해당하는 속성 앞에 던더(__)를 붙이면 비공개 속성이 됩니다."
   ]
  },
  {
   "cell_type": "code",
   "execution_count": 4,
   "id": "2dfdf39f-7ffd-4421-b2e2-c8f8dd3ef371",
   "metadata": {},
   "outputs": [],
   "source": [
    "class Person3:\n",
    "    def __init__(self, name, age, address,wallet):\n",
    "        self.hello='안녕'\n",
    "        self.name=name\n",
    "        self.age=age\n",
    "        self.address=address\n",
    "        self.__wallet=wallet # 비공개 속성은 밖에서 접근이 불가능\n",
    "        \n",
    "    def greeting(self):\n",
    "        print(f'{self.hello} 제 이름은 {self.name}입니다.')"
   ]
  },
  {
   "cell_type": "code",
   "execution_count": 5,
   "id": "1aa9e979-64f2-4539-8fa0-f6d1e29dec08",
   "metadata": {},
   "outputs": [],
   "source": [
    "hkm=Person3('허경모',27,'인천 서구',20000)"
   ]
  },
  {
   "cell_type": "code",
   "execution_count": 6,
   "id": "00aa382e-5c0f-411e-acb7-1b7a887ed2bd",
   "metadata": {},
   "outputs": [
    {
     "ename": "AttributeError",
     "evalue": "'Person3' object has no attribute 'wallet'",
     "output_type": "error",
     "traceback": [
      "\u001b[1;31m---------------------------------------------------------------------------\u001b[0m",
      "\u001b[1;31mAttributeError\u001b[0m                            Traceback (most recent call last)",
      "\u001b[1;32m~\\AppData\\Local\\Temp\\ipykernel_17444\\2699265973.py\u001b[0m in \u001b[0;36m<module>\u001b[1;34m\u001b[0m\n\u001b[1;32m----> 1\u001b[1;33m \u001b[0mprint\u001b[0m\u001b[1;33m(\u001b[0m\u001b[0mhkm\u001b[0m\u001b[1;33m.\u001b[0m\u001b[0mwallet\u001b[0m\u001b[1;33m)\u001b[0m\u001b[1;33m\u001b[0m\u001b[1;33m\u001b[0m\u001b[0m\n\u001b[0m",
      "\u001b[1;31mAttributeError\u001b[0m: 'Person3' object has no attribute 'wallet'"
     ]
    }
   ],
   "source": [
    "print(hkm.wallet)"
   ]
  },
  {
   "cell_type": "code",
   "execution_count": 7,
   "id": "74753dd6-9d6c-44ae-9989-0e9c4aaddb34",
   "metadata": {},
   "outputs": [
    {
     "ename": "AttributeError",
     "evalue": "'Person3' object has no attribute '__wallet'",
     "output_type": "error",
     "traceback": [
      "\u001b[1;31m---------------------------------------------------------------------------\u001b[0m",
      "\u001b[1;31mAttributeError\u001b[0m                            Traceback (most recent call last)",
      "\u001b[1;32m~\\AppData\\Local\\Temp\\ipykernel_17444\\4176946118.py\u001b[0m in \u001b[0;36m<module>\u001b[1;34m\u001b[0m\n\u001b[1;32m----> 1\u001b[1;33m \u001b[0mprint\u001b[0m\u001b[1;33m(\u001b[0m\u001b[0mhkm\u001b[0m\u001b[1;33m.\u001b[0m\u001b[0m__wallet\u001b[0m\u001b[1;33m)\u001b[0m\u001b[1;33m\u001b[0m\u001b[1;33m\u001b[0m\u001b[0m\n\u001b[0m",
      "\u001b[1;31mAttributeError\u001b[0m: 'Person3' object has no attribute '__wallet'"
     ]
    }
   ],
   "source": [
    "print(hkm.__wallet)"
   ]
  },
  {
   "cell_type": "code",
   "execution_count": 8,
   "id": "3778befb-cea3-471a-9c3f-4da34af37748",
   "metadata": {},
   "outputs": [],
   "source": [
    "class Person4:\n",
    "    def __init__(self, name, age, address,wallet):\n",
    "        self.hello='안녕'\n",
    "        self.name=name\n",
    "        self.age=age\n",
    "        self.address=address\n",
    "        self.__wallet=wallet # 비공개 속성은 밖에서 접근이 불가능\n",
    "        \n",
    "    def greeting(self):\n",
    "        print(f'{self.hello} 제 이름은 {self.name}입니다.')\n",
    "\n",
    "# 메소드를 이용하여 접근이 가능\n",
    "    def amount(self):\n",
    "        print(self.__wallet)"
   ]
  },
  {
   "cell_type": "code",
   "execution_count": 9,
   "id": "3544b35d-da64-4182-ac4a-95d1a3742d06",
   "metadata": {},
   "outputs": [
    {
     "name": "stdout",
     "output_type": "stream",
     "text": [
      "20000\n"
     ]
    }
   ],
   "source": [
    "hkm=Person4('허경모',27,'인천 서구',20000)\n",
    "hkm.amount()"
   ]
  },
  {
   "cell_type": "code",
   "execution_count": 10,
   "id": "3668ce8f-e7de-4526-899e-0e0b660c3abf",
   "metadata": {},
   "outputs": [],
   "source": [
    "class Person5:\n",
    "    def __init__(self, name, age, address,wallet):\n",
    "        self.hello='안녕'\n",
    "        self.name=name\n",
    "        self.age=age\n",
    "        self.address=address\n",
    "        self.__wallet=wallet # 비공개 속성은 밖에서 접근이 불가능\n",
    "    \n",
    "    def pay(self,amount):\n",
    "        if self.__wallet < amount:\n",
    "            print('돈이 모자랍니다.')\n",
    "            return \n",
    "        self.__wallet -= amount\n",
    "        print(f'{self.__wallet}원 남았습니다.')"
   ]
  },
  {
   "cell_type": "code",
   "execution_count": 11,
   "id": "b4f63680-558f-4938-b556-b47384e76633",
   "metadata": {},
   "outputs": [
    {
     "name": "stdout",
     "output_type": "stream",
     "text": [
      "10000원 남았습니다.\n"
     ]
    }
   ],
   "source": [
    "hkm=Person5('허경모',27,'인천 서구',20000)\n",
    "hkm.pay(10000)"
   ]
  },
  {
   "cell_type": "markdown",
   "id": "364d146a-57a3-4c7c-af44-e69444b305e9",
   "metadata": {},
   "source": [
    "```\n",
    "사용자로부터 체력, 마나, AP를 입력받아 옵니다. 주어진 코드에서 애니(Annie)\n",
    "클래스를 작성하고 티버(tibbers) 스킬의 피해량이 출력되게 만들어보세요. 티버의\n",
    "피해량은 AP * 0.65 + 400이며 AP(Ability Power, 주문력)는 마법 능력치를 뜻합니다.\n",
    "```"
   ]
  },
  {
   "cell_type": "code",
   "execution_count": 12,
   "id": "c669c3b9-c75e-4fe3-a8dd-2d3cb26097e3",
   "metadata": {},
   "outputs": [
    {
     "name": "stdin",
     "output_type": "stream",
     "text": [
      "체력, 마나, AP를 입력하세요. 15 51 84\n"
     ]
    },
    {
     "name": "stdout",
     "output_type": "stream",
     "text": [
      "티버: 피해량: 454.6\n"
     ]
    }
   ],
   "source": [
    "health, mana, ap= map(float,input('체력, 마나, AP를 입력하세요.').split(' '))\n",
    "\n",
    "class Annie:\n",
    "    def __init__(self,health,mana,ap):\n",
    "        self.healht=health\n",
    "        self.mana=mana\n",
    "        self.ap=ap\n",
    "        \n",
    "    def tibbers(self):\n",
    "        print(f'티버: 피해량: {self.ap*0.65 + 400}')\n",
    "        \n",
    "annie=Annie(health,mana,ap)\n",
    "annie.tibbers()"
   ]
  },
  {
   "cell_type": "code",
   "execution_count": 13,
   "id": "a6201d2f-4271-4328-ae78-b31a780f4987",
   "metadata": {},
   "outputs": [],
   "source": [
    "class Person5:\n",
    "    def __init__(self, name, age, address,wallet):\n",
    "        self.hello='안녕'\n",
    "        self.name=name\n",
    "        self.age=age\n",
    "        self.address=address\n",
    "        self.__wallet=wallet # 비공개 속성은 밖에서 접근이 불가능\n",
    "    \n",
    "    def pay(self,amount):\n",
    "        if self.__wallet < amount:\n",
    "            print('돈이 모자랍니다.')\n",
    "            return \n",
    "        self.__wallet -= amount\n",
    "        print(f'{self.__wallet}원 남았습니다.')\n",
    "        \n",
    "    @classmethod # cls 자체가 인자가 됨\n",
    "    def from_string(cls,string):\n",
    "        name,age,address,__wallet = string.split(',')\n",
    "        return cls(name, age, address, __wallet)\n",
    "    "
   ]
  }
 ],
 "metadata": {
  "kernelspec": {
   "display_name": "Python 3 (ipykernel)",
   "language": "python",
   "name": "python3"
  },
  "language_info": {
   "codemirror_mode": {
    "name": "ipython",
    "version": 3
   },
   "file_extension": ".py",
   "mimetype": "text/x-python",
   "name": "python",
   "nbconvert_exporter": "python",
   "pygments_lexer": "ipython3",
   "version": "3.9.13"
  }
 },
 "nbformat": 4,
 "nbformat_minor": 5
}
