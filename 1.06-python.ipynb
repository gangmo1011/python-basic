{
 "cells": [
  {
   "cell_type": "markdown",
   "id": "d00a7e36-ef85-499a-ae03-08d7513b27da",
   "metadata": {},
   "source": [
    "# IF문 "
   ]
  },
  {
   "cell_type": "markdown",
   "id": "9cab58bd-3f24-49e4-adfb-a317b184f030",
   "metadata": {},
   "source": [
    "```\n",
    "사용자로부터 자연수를 입력 받습니다. 그 숫자에서 50을 뺀 값을 출력하세요.\n",
    "- 단 출력 값의 범위는 0 이상입니다.\n",
    "- 50을 뺀 결과가 음수가 될 경우 0을 출력해야 합니다.\n",
    "```"
   ]
  },
  {
   "cell_type": "code",
   "execution_count": 1,
   "id": "46053bda-5375-406f-b1dd-bc883b04cee4",
   "metadata": {},
   "outputs": [
    {
     "name": "stdin",
     "output_type": "stream",
     "text": [
      "자연수 하나 입력해주세요: 60\n"
     ]
    },
    {
     "name": "stdout",
     "output_type": "stream",
     "text": [
      "10\n"
     ]
    }
   ],
   "source": [
    "\n",
    "\n",
    "num=int(input(\"자연수 하나 입력해주세요:\"))\n",
    "if (num-50)<0:\n",
    "    print(0)\n",
    "else:\n",
    "    print(num-50)"
   ]
  },
  {
   "cell_type": "code",
   "execution_count": 2,
   "id": "83037b50-7e87-4f4e-8f1c-3bd2f5443eaf",
   "metadata": {},
   "outputs": [
    {
     "name": "stdin",
     "output_type": "stream",
     "text": [
      "자연수 하나 입력해주세요: 60\n"
     ]
    },
    {
     "name": "stdout",
     "output_type": "stream",
     "text": [
      "10\n"
     ]
    }
   ],
   "source": [
    "num=int(input(\"자연수 하나 입력해주세요:\"))\n",
    "print(num-50) if (num-50)>=0 else print(0)"
   ]
  },
  {
   "cell_type": "markdown",
   "id": "53d75301-d962-477c-a1e4-48756857ad3c",
   "metadata": {},
   "source": [
    "```\n",
    "if문을 중첩해서 사용할 수 있습니다.\n",
    "이때 중첩될 수록 들여쓰기를 한 번 더\n",
    "해줍니다.\n",
    "예를 들어 우측의 코드를 보면 if문 안에\n",
    "첫 중첩되는 if문의 들여쓰기는 8칸 된\n",
    "것을 확인할 수 있습니다.\n",
    "중첩해갈 때마다 들여쓰기가 늘어남을\n",
    "알 수 있습니다.\n",
    "```"
   ]
  },
  {
   "cell_type": "code",
   "execution_count": 3,
   "id": "a1546175-ceda-4314-90dc-0ef6cc59624a",
   "metadata": {},
   "outputs": [
    {
     "name": "stdin",
     "output_type": "stream",
     "text": [
      "나이를 입력해주세요: 25\n"
     ]
    },
    {
     "name": "stdout",
     "output_type": "stream",
     "text": [
      "10살 이상입니다.\n",
      "20살 이상입니다.\n",
      "age>=20 구간입니다.\n",
      "age>=10 구간입니다.\n",
      "늘 출력되는 구간입니다.\n"
     ]
    }
   ],
   "source": [
    "age=int(input(\"나이를 입력해주세요:\"))\n",
    "\n",
    "if age>=10:\n",
    "    print(\"10살 이상입니다.\")\n",
    "    if age>=20:\n",
    "        print(\"20살 이상입니다.\")\n",
    "        if age>=30:\n",
    "            print(\"30살 이상입니다.\")\n",
    "            if age>=40:\n",
    "                print(\"40살 이상입니다.\")\n",
    "            print(\"age>=30 구간입니다.\")\n",
    "        print(\"age>=20 구간입니다.\")\n",
    "    print(\"age>=10 구간입니다.\")\n",
    "\n",
    "print(\"늘 출력되는 구간입니다.\")"
   ]
  },
  {
   "cell_type": "markdown",
   "id": "77fb6418-68c6-4af4-bbb7-dcea53c3f023",
   "metadata": {},
   "source": [
    "### 연습문제"
   ]
  },
  {
   "cell_type": "markdown",
   "id": "5c5ad6f0-2193-4ae8-a8c7-fddd204aef13",
   "metadata": {},
   "source": [
    "```\n",
    "사용자로부터 자연수를 입력 받습니다.\n",
    "값이 짝수인지 홀수인지 화면에 출력합니다.\n",
    "```"
   ]
  },
  {
   "cell_type": "code",
   "execution_count": 4,
   "id": "b406bf84-f849-413c-8054-eec68b360d7d",
   "metadata": {},
   "outputs": [
    {
     "name": "stdin",
     "output_type": "stream",
     "text": [
      "자연수 하나 입력해주세요: 8\n"
     ]
    },
    {
     "name": "stdout",
     "output_type": "stream",
     "text": [
      "짝수입니다.\n"
     ]
    }
   ],
   "source": [
    "num=int(input(\"자연수 하나 입력해주세요:\"))\n",
    "print(\"짝수입니다.\") if num%2==0 else print(\"홀수입니다.\")"
   ]
  },
  {
   "cell_type": "markdown",
   "id": "853b828a-e990-4115-8fa8-8d0a6edc6fab",
   "metadata": {},
   "source": [
    "```\n",
    "사용자로부터 소프트웨어 설계, 소프트웨어 개발, 데이터베이스 구축, 프로그래밍 언어\n",
    "활용, 정보시스템 구축관리 점수를 입력 받습니다. 과목 평균 점수가 60점 이상일 때\n",
    "합격입니다. 평균 점수에 따라 ‘합격’, ‘불합격’을 출력하는 프로그램을 만드세요.\n",
    "- 점수는 0점부터 100점까지만 유효합니다. 이를 벗어난 점수가 입력되면 “잘못된\n",
    "점수입니다.”를 출력하고 ‘합격’, ‘불합격’에 대해선 출력않고 프로그램을 종료합니다.\n",
    "- 과목별 점수는 일단 전부 입력 받습니다.\n",
    "```"
   ]
  },
  {
   "cell_type": "code",
   "execution_count": 5,
   "id": "6d7522de-bb56-4777-a95e-842273c46871",
   "metadata": {},
   "outputs": [
    {
     "name": "stdin",
     "output_type": "stream",
     "text": [
      "소프트웨어 설계 점수를 입력하세요. 60\n",
      "소프트웨어 개발 점수를 입력하세요. 60\n",
      "데이터베이스 구축 점수를 입력하세요. 60\n",
      "프로그래밍 언어 활용 점수를 입력하세요. 60\n",
      "정보시스템 구축관리 점수를 입력하세요. 60\n"
     ]
    },
    {
     "name": "stdout",
     "output_type": "stream",
     "text": [
      "합격\n"
     ]
    }
   ],
   "source": [
    "#내가 푼 것 (너무 복잡하게 생각함)\n",
    "sw_design=int(input(\"소프트웨어 설계 점수를 입력하세요.\"))\n",
    "sw_dev=int(input(\"소프트웨어 개발 점수를 입력하세요.\"))\n",
    "db=int(input(\"데이터베이스 구축 점수를 입력하세요.\"))\n",
    "pro_lang=int(input(\"프로그래밍 언어 활용 점수를 입력하세요.\"))\n",
    "sys=int(input(\"정보시스템 구축관리 점수를 입력하세요.\"))\n",
    "\n",
    "score_list=[sw_design,sw_dev,db,pro_lang,sys]\n",
    "sum=0\n",
    "a=0\n",
    "\n",
    "for i in score_list:\n",
    "    if i<0 or i>100:\n",
    "        print(\"잘못된 점수입니다.\")\n",
    "        break\n",
    "    else:\n",
    "        sum+=i\n",
    "        a+=1\n",
    "    if a==5:\n",
    "        if (sum/5)>=60:\n",
    "            print(\"합격\")\n",
    "        else:\n",
    "            print(\"불합격\")"
   ]
  },
  {
   "cell_type": "code",
   "execution_count": 6,
   "id": "4ef66d4b-05fd-4d5f-a05c-b20f0b6d5171",
   "metadata": {},
   "outputs": [
    {
     "name": "stdin",
     "output_type": "stream",
     "text": [
      "소프트웨어 설계 점수를 입력하세요. 60\n",
      "소프트웨어 개발 점수를 입력하세요. 60\n",
      "데이터베이스 구축 점수를 입력하세요. 60\n",
      "프로그래밍 언어 활용 점수를 입력하세요. 60\n",
      "정보시스템 구축관리 점수를 입력하세요. 60\n"
     ]
    },
    {
     "name": "stdout",
     "output_type": "stream",
     "text": [
      "합격\n"
     ]
    }
   ],
   "source": [
    "# 조건문만 사용\n",
    "sw_design=int(input(\"소프트웨어 설계 점수를 입력하세요.\"))\n",
    "sw_dev=int(input(\"소프트웨어 개발 점수를 입력하세요.\"))\n",
    "db=int(input(\"데이터베이스 구축 점수를 입력하세요.\"))\n",
    "pro_lang=int(input(\"프로그래밍 언어 활용 점수를 입력하세요.\"))\n",
    "sys=int(input(\"정보시스템 구축관리 점수를 입력하세요.\"))\n",
    "\n",
    "if (0<=sw_design<=100 and 0<=sw_dev<=100 and 0<=db<=100 and 0<=pro_lang<=100 and 0<=sys<=100):\n",
    "    if (sw_design+sw_dev+db+pro_lang+sys)/5>=60:\n",
    "        print(\"합격\")\n",
    "    else:\n",
    "        print(\"불합격\")\n",
    "else:\n",
    "    print(\"잘못된 점수입니다.\")"
   ]
  },
  {
   "cell_type": "markdown",
   "id": "2909d449-1d9f-4731-8ae5-02f19be484fe",
   "metadata": {},
   "source": [
    "## if, elif, else\n",
    "- if, elif, else를 모두 사용하는\n",
    "조건문에서 if와 else는 1번만 사용할\n",
    "수 있습니다.\n",
    "\n",
    "- 이와 대조되게 elif는 필요에 따라 여러\n",
    "차례 사용할 수 있습니다."
   ]
  },
  {
   "cell_type": "code",
   "execution_count": 7,
   "id": "d64fafb2-8c47-4543-9470-36829f0a853c",
   "metadata": {},
   "outputs": [
    {
     "name": "stdin",
     "output_type": "stream",
     "text": [
      "점수를 입력해주세요 :  78\n"
     ]
    },
    {
     "name": "stdout",
     "output_type": "stream",
     "text": [
      "성적을 알려드립니다.\n",
      "C입니다.\n",
      "안내를 종료합니다.\n"
     ]
    }
   ],
   "source": [
    "score=int(input(\"점수를 입력해주세요 : \"))\n",
    "print(\"성적을 알려드립니다.\")\n",
    "\n",
    "if score>=90:\n",
    "    print(\"A입니다.\")\n",
    "elif score>=80:\n",
    "    print(\"B입니다.\")\n",
    "elif score>=70:\n",
    "    print(\"C입니다.\")\n",
    "elif score>=60:\n",
    "    print(\"D입니다.\")\n",
    "else:\n",
    "    print(\"F입니다.\")\n",
    "\n",
    "print(\"안내를 종료합니다.\")\n",
    "    "
   ]
  },
  {
   "cell_type": "markdown",
   "id": "573fcc78-1a26-48ed-96b7-3a006f0f5e6a",
   "metadata": {},
   "source": [
    "### 연습문제"
   ]
  },
  {
   "cell_type": "markdown",
   "id": "9ef884fb-69db-45b6-9fbf-d291f623b3e1",
   "metadata": {},
   "source": [
    "```\n",
    "물의 온도에 따라 현재 상태를 출력하는 프로그램을 만들려고 합니다. 사용자로부터 물의\n",
    "온도가 몇인지 입력을 받고 100 이상이면 ‘기체로 예상됩니다.’를 출력합니다. 100보다\n",
    "작고 0 이상이면 ‘액체로 예상됩니다.’를 출력합니다. 0 보다 작으면 ‘고체로 예상됩니다.’\n",
    "를 출력합니다.\n",
    "```"
   ]
  },
  {
   "cell_type": "code",
   "execution_count": 8,
   "id": "90cc033a-b783-42bd-8a0a-e0d29482489b",
   "metadata": {},
   "outputs": [
    {
     "name": "stdin",
     "output_type": "stream",
     "text": [
      "현재 물의 온도를 입력해주세요. 101\n"
     ]
    },
    {
     "name": "stdout",
     "output_type": "stream",
     "text": [
      "기체로 예상됩니다.\n"
     ]
    }
   ],
   "source": [
    "temp=float(input(\"현재 물의 온도를 입력해주세요.\"))\n",
    "if temp>=100:\n",
    "    print(\"기체로 예상됩니다.\")\n",
    "elif 0<=temp:\n",
    "    print(\"액체로 예상됩니다.\")\n",
    "else:\n",
    "    print(\"고체로 예상됩니다.\")"
   ]
  },
  {
   "cell_type": "markdown",
   "id": "5c66ab74-bcf4-48a2-b2d8-99543ce3350a",
   "metadata": {},
   "source": [
    "```\n",
    "일반 시내 버스 요금을 받는 프로그램을 만들려고 합니다. 성인(19세 이상)이면 1500원\n",
    "청소년(12 ~ 18세)이면 1100원 어린이(6~11세)면 800원을 받고 미취학 아동은\n",
    "무료입니다. 사용자로부터 나이를 입력 받고 나이에 따른 일반 시내 버스 요금을\n",
    "출력하세요.\n",
    "```"
   ]
  },
  {
   "cell_type": "code",
   "execution_count": 9,
   "id": "41b7b2b9-d651-454f-a4be-491d07e6c688",
   "metadata": {},
   "outputs": [
    {
     "name": "stdin",
     "output_type": "stream",
     "text": [
      "자신의 나이를 입력하세요 27\n"
     ]
    },
    {
     "name": "stdout",
     "output_type": "stream",
     "text": [
      "1500원\n"
     ]
    }
   ],
   "source": [
    "age=int(input(\"자신의 나이를 입력하세요\"))\n",
    "\n",
    "if age>=19:\n",
    "    print(\"1500원\")\n",
    "elif age>=12:\n",
    "    print(\"1100원\")\n",
    "elif age>=6:\n",
    "    print(\"800원\")\n",
    "else:\n",
    "    print(\"무임승차입니다.\")"
   ]
  },
  {
   "cell_type": "markdown",
   "id": "e9b21984-36f5-47ca-8352-f65a1b1a8d86",
   "metadata": {},
   "source": [
    "```\n",
    "A사는 B사에서 C상품($10/개)을 납품합니다. 발주 수량에 따라 수량할인을 고려하여\n",
    "납품가가 달라집니다. 1000개 미만은 수량할인이 적용되지 않습니다. 1000개부터 1500개\n",
    "까지 5%, 1500개 초과 2000개까지 10%를 할인합니다. 2000개 초과부터는 20%를\n",
    "할인합니다. 발주 수량을 사용자로부터 입력 받고 총 발주금액을 출력하는 프로그램을\n",
    "작성해보세요.(소수점은 할인의 일환으로 버립니다.)\n",
    "```"
   ]
  },
  {
   "cell_type": "code",
   "execution_count": 10,
   "id": "5be291a1-2006-413b-8110-192b913251d9",
   "metadata": {},
   "outputs": [
    {
     "name": "stdin",
     "output_type": "stream",
     "text": [
      "발주 수량을 입력하세요: 2001\n"
     ]
    },
    {
     "name": "stdout",
     "output_type": "stream",
     "text": [
      "2001개를 주문하셨습니다.\n",
      "적용 할인율은 20%입니다.\n",
      "총 발주 금액은 $16008입니다.\n"
     ]
    }
   ],
   "source": [
    "\n",
    "volume=int(input(\"발주 수량을 입력하세요:\"))\n",
    "print(f'{volume}개를 주문하셨습니다.')\n",
    "if volume>2000:\n",
    "    discount=20\n",
    "elif volume>1500:\n",
    "    discount=10\n",
    "elif volume>=1000:\n",
    "    discount=5\n",
    "else:\n",
    "    discount=0\n",
    "print(f'적용 할인율은 {discount}%입니다.')\n",
    "print(f'총 발주 금액은 ${int(volume*10*((100-discount)/100))}입니다.')"
   ]
  },
  {
   "cell_type": "markdown",
   "id": "edad0afb-626d-4194-b380-25dc03af253e",
   "metadata": {},
   "source": [
    "```\n",
    "주민등록번호 뒷자리 7자리 중 맨 앞 번호가 1, 3인 경우는 남자이고 2, 4인 경우는\n",
    "여자를 의미합니다. 주민등록번호 뒷자리를 입력 받아 성별을 확인하는 프로그램을\n",
    "작성하세요.\n",
    "- 자리수가 7자리가 아니면 ‘자리수를 잘못 입력했습니다.”를 출력합니다.\n",
    "- 맨 앞 번호가 1, 2, 3, 4가 아니면 ‘잘못된 입력입니다.’를 출력합니다.\n",
    "```"
   ]
  },
  {
   "cell_type": "code",
   "execution_count": 11,
   "id": "882cb076-ac22-4da3-a91b-569cbe94ca2e",
   "metadata": {},
   "outputs": [
    {
     "name": "stdin",
     "output_type": "stream",
     "text": [
      "주민번호 뒷자리를 입력하세요:  4567891\n"
     ]
    },
    {
     "name": "stdout",
     "output_type": "stream",
     "text": [
      "여자\n"
     ]
    }
   ],
   "source": [
    "id=int(input(\"주민번호 뒷자리를 입력하세요: \"))\n",
    "if 1<=int(id/10**6)<=9:\n",
    "    if (int(id/10**6)==2 or int(id/10**6)==4):\n",
    "        print(\"여자\")\n",
    "    elif (int(id/10**6)==1 or int(id/10**6)==3):\n",
    "        print(\"남자\")\n",
    "    else:\n",
    "        print(\"잘못된 입력입니다.\")\n",
    "else:\n",
    "    print(\"자릿수를 잘못 입력했습니다.\")"
   ]
  },
  {
   "cell_type": "code",
   "execution_count": 12,
   "id": "34f7158c-1991-4bfb-a562-bc0197cb2e36",
   "metadata": {},
   "outputs": [
    {
     "name": "stdin",
     "output_type": "stream",
     "text": [
      "주민번호 뒷자리를 입력하세요:  4567891\n"
     ]
    },
    {
     "name": "stdout",
     "output_type": "stream",
     "text": [
      "여자\n"
     ]
    }
   ],
   "source": [
    "# 문자열 인덱스로 풀이\n",
    "id =input(\"주민번호 뒷자리를 입력하세요: \")\n",
    "if len(id)==7:\n",
    "    if (id[0]=='1' or id[0]=='3'):\n",
    "        print(\"남자\")\n",
    "    elif (id[0]=='2' or id[0]=='4'):\n",
    "        print(\"여자\")\n",
    "    else:\n",
    "        print(\"잘못된 입력입니다.\")\n",
    "else:\n",
    "    print(\"자릿수를 잘못 입력했습니다.\")"
   ]
  },
  {
   "cell_type": "markdown",
   "id": "c0616da4-820c-474b-a7d1-e482123191bc",
   "metadata": {},
   "source": [
    "```\n",
    "사용자로부터 연도 값을 입력받고 윤년인지 아닌지 결과를 출력하는 프로그램을 작성해보세요.\n",
    "- 연도가 4로 나누어 떨어지는 경우: 윤년, 그 밖의 해: 평년\n",
    "예외 규칙\n",
    "- 100으로 나누어 떨어지되 400으로 나누어 떨어지지 않는 해: 평년\n",
    "```"
   ]
  },
  {
   "cell_type": "code",
   "execution_count": 13,
   "id": "6e3d2d0b-10f9-40d5-80c2-dcff3bbe9e63",
   "metadata": {},
   "outputs": [
    {
     "name": "stdin",
     "output_type": "stream",
     "text": [
      "확인할 연도를 입력하세요:  1996\n"
     ]
    },
    {
     "name": "stdout",
     "output_type": "stream",
     "text": [
      "윤년입니다.\n"
     ]
    }
   ],
   "source": [
    "year=int(input(\"확인할 연도를 입력하세요: \"))\n",
    "if (year%4==0 and year%100==0 and year%400!=0)or year%4!=0:\n",
    "        print(\"평년입니다.\")\n",
    "else:\n",
    "    print(\"윤년입니다.\")"
   ]
  },
  {
   "cell_type": "markdown",
   "id": "a1b8b709-bbbf-462c-9a51-ff1ad507d3aa",
   "metadata": {},
   "source": [
    "# 반복문(for)"
   ]
  },
  {
   "cell_type": "markdown",
   "id": "36ca035d-7103-40fc-bce0-22426f2792e0",
   "metadata": {},
   "source": [
    "```\n",
    "for 요소를 담을 변수 in 반복 가능한 객체:\n",
    "     반복할 코드\n",
    "        \n",
    "for 변수 in range(횟수):\n",
    "     반복할 코드 \n",
    "```"
   ]
  },
  {
   "cell_type": "markdown",
   "id": "b329a13d-62f7-4031-aff8-79bf91ccc29c",
   "metadata": {},
   "source": [
    "## range() 함수\n",
    " \n",
    " 연속되는 숫자 요소들을 만들 때 활용하면 좋음\n",
    " \n",
    " range(시작, 끝, 증감크기)"
   ]
  },
  {
   "cell_type": "code",
   "execution_count": 14,
   "id": "19c23582-30ff-4230-9dc8-d3c24fbde8b8",
   "metadata": {},
   "outputs": [
    {
     "name": "stdout",
     "output_type": "stream",
     "text": [
      "[2, 4, 6, 8, 10, 12, 14, 16, 18, 20, 22, 24, 26, 28, 30, 32, 34, 36, 38, 40, 42, 44, 46, 48, 50, 52, 54, 56, 58, 60, 62, 64, 66, 68, 70, 72, 74, 76, 78, 80, 82, 84, 86, 88, 90, 92, 94, 96, 98]\n"
     ]
    }
   ],
   "source": [
    "# 반환받은 range 자료형을 list()를 활용하여 list로 변환 가능\n",
    "even_numbers=list(range(2,100,2))\n",
    "print(even_numbers)"
   ]
  },
  {
   "cell_type": "markdown",
   "id": "2ee1a137-de14-46e7-9584-ef4bcd433e58",
   "metadata": {},
   "source": [
    "range 객체는 필요할 때 그때그때 다음 요소를 만들어서 list보다 공간 효율적임"
   ]
  },
  {
   "cell_type": "markdown",
   "id": "be6887bf-b429-49f1-a1ca-570e16275d1b",
   "metadata": {},
   "source": [
    "### 연습문제"
   ]
  },
  {
   "cell_type": "code",
   "execution_count": 15,
   "id": "623b0f34-38af-4ccf-8cf8-fa57307140aa",
   "metadata": {},
   "outputs": [
    {
     "name": "stdout",
     "output_type": "stream",
     "text": [
      "Hello world 1\n",
      "Hello world 2\n",
      "Hello world 3\n",
      "Hello world 4\n",
      "Hello world 5\n",
      "Hello world 6\n",
      "Hello world 7\n",
      "Hello world 8\n"
     ]
    }
   ],
   "source": [
    "for i in range(1,9):\n",
    "    print(\"Hello world\",i)"
   ]
  },
  {
   "cell_type": "markdown",
   "id": "63926dc2-aa34-4f5f-80bc-a013ea5075bd",
   "metadata": {},
   "source": [
    "```\n",
    "사용자로부터 정수를 입력받고 입력받은 횟수만큼 “Hello world ”+ 숫자를 출력해보세요.\n",
    "```"
   ]
  },
  {
   "cell_type": "code",
   "execution_count": 16,
   "id": "5fbd1d2d-ae69-483a-9524-deb4135d480f",
   "metadata": {},
   "outputs": [
    {
     "name": "stdin",
     "output_type": "stream",
     "text": [
      "인사 몇 번 해드릴까요? 5\n"
     ]
    },
    {
     "name": "stdout",
     "output_type": "stream",
     "text": [
      "Hello world 1\n",
      "Hello world 2\n",
      "Hello world 3\n",
      "Hello world 4\n",
      "Hello world 5\n"
     ]
    }
   ],
   "source": [
    "num=int(input(\"인사 몇 번 해드릴까요?\"))\n",
    "for i in range(num):\n",
    "    print(\"Hello world\",i+1)"
   ]
  },
  {
   "cell_type": "markdown",
   "id": "4f4d697a-58bc-4afd-a68e-db78c53be0e3",
   "metadata": {},
   "source": [
    "```\n",
    "list()와 range()를 활용해서 구현해봅시다.\n",
    "```"
   ]
  },
  {
   "cell_type": "code",
   "execution_count": 17,
   "id": "ee85e3c0-bb4a-4d59-8d72-cc34ed5c8fc3",
   "metadata": {},
   "outputs": [
    {
     "name": "stdout",
     "output_type": "stream",
     "text": [
      "[5, 6, 7, 8, 9]\n",
      "[0, 3, 6, 9]\n",
      "[-10, -40, -70]\n"
     ]
    }
   ],
   "source": [
    "print(list(range(5,10)))\n",
    "print(list(range(0,10,3)))\n",
    "print(list(range(-10,-80,-30)))"
   ]
  },
  {
   "cell_type": "markdown",
   "id": "28bb4be9-c0bc-4549-bdac-fa72b323ec2e",
   "metadata": {},
   "source": [
    "```\n",
    "아래의 실행 결과처럼 나오도록 for문과 range()를 활용해서 구현해봅시다.\n",
    "- 숫자와 숫자 사이에 \\t를 사용합니다.\n",
    "```"
   ]
  },
  {
   "cell_type": "code",
   "execution_count": 18,
   "id": "3f3f40ea-7307-4fe0-bd95-25b40407143e",
   "metadata": {},
   "outputs": [
    {
     "name": "stdin",
     "output_type": "stream",
     "text": [
      "자연수 하나 입력해주세요: 6\n"
     ]
    },
    {
     "name": "stdout",
     "output_type": "stream",
     "text": [
      "6\t6\t6\t6\t6\t6\t\n",
      "\n",
      "5\t5\t5\t5\t5\t\n",
      "\n",
      "4\t4\t4\t4\t\n",
      "\n",
      "3\t3\t3\t\n",
      "\n",
      "2\t2\t\n",
      "\n",
      "1\t\n",
      "\n"
     ]
    }
   ],
   "source": [
    "num=int(input(\"자연수 하나 입력해주세요:\"))\n",
    "for i in range(num,0,-1):\n",
    "    for j in range(i):\n",
    "        print(i,end=\"\\t\")\n",
    "    print('\\n')\n",
    "    "
   ]
  },
  {
   "cell_type": "markdown",
   "id": "46f585c7-33c1-4eb3-89da-5a3fa209f974",
   "metadata": {},
   "source": [
    "```\n",
    "아래의 실행 결과처럼 나오도록 list()와 range()를 활용해서 구현해봅시다.\n",
    "- 첫 줄의 ‘* ‘의 개수는 10개입니다.\n",
    "```"
   ]
  },
  {
   "cell_type": "code",
   "execution_count": 19,
   "id": "8e4b8283-939e-4c8f-87c6-70878f4a3ff0",
   "metadata": {},
   "outputs": [
    {
     "name": "stdout",
     "output_type": "stream",
     "text": [
      "* * * * * * * * * * \n",
      "*                 *\n",
      "*                 *\n",
      "*                 *\n",
      "*                 *\n",
      "*                 *\n",
      "*                 *\n",
      "*                 *\n",
      "*                 *\n",
      "* * * * * * * * * * \n"
     ]
    }
   ],
   "source": [
    "print(\"* \"*10)\n",
    "for i in range(8):\n",
    "    print(\"* \"+\"  \"*8+\"*\")\n",
    "print(\"* \"*10)"
   ]
  },
  {
   "cell_type": "code",
   "execution_count": 20,
   "id": "8f544b0e-e66e-4887-b517-7d5f27da1e38",
   "metadata": {},
   "outputs": [
    {
     "name": "stdout",
     "output_type": "stream",
     "text": [
      "* * * * * * * * * * \n",
      "*                 * \n",
      "*                 * \n",
      "*                 * \n",
      "*                 * \n",
      "*                 * \n",
      "*                 * \n",
      "*                 * \n",
      "*                 * \n",
      "* * * * * * * * * * \n"
     ]
    }
   ],
   "source": [
    "# 다른 풀이\n",
    "for i in range(10):\n",
    "    if i==0 or i==9:\n",
    "        print(\"* \" * 10)\n",
    "    else:\n",
    "        print(\"* \"+\"  \"*8+\"* \")"
   ]
  },
  {
   "cell_type": "markdown",
   "id": "58ec1c32-d29b-484c-8bd2-a2a90730ae8e",
   "metadata": {},
   "source": [
    "```\n",
    "1부터 사용자로부터 입력 받은 자연수까지의 홀수의 합을 구합니다. 1부터 입력 받은\n",
    "수까지 홀수 전체를 각각 더하는 산식을 표현하고 그 계산식의 결과를 아래 실행결과와\n",
    "같이 출력되도록 구해보세요.\n",
    "```"
   ]
  },
  {
   "cell_type": "code",
   "execution_count": 21,
   "id": "3db570db-7a6b-45ae-887c-562e4afaf652",
   "metadata": {},
   "outputs": [
    {
     "name": "stdin",
     "output_type": "stream",
     "text": [
      "1부터 입력한 자연수까지의 모든 홀수의 합을 구합니다 100\n"
     ]
    },
    {
     "name": "stdout",
     "output_type": "stream",
     "text": [
      "1 + 3 + 5 + 7 + 9 + 11 + 13 + 15 + 17 + 19 + 21 + 23 + 25 + 27 + 29 + 31 + 33 + 35 + 37 + 39 + 41 + 43 + 45 + 47 + 49 + 51 + 53 + 55 + 57 + 59 + 61 + 63 + 65 + 67 + 69 + 71 + 73 + 75 + 77 + 79 + 81 + 83 + 85 + 87 + 89 + 91 + 93 + 95 + 97 + 99 = 2500\n"
     ]
    }
   ],
   "source": [
    "num=int(input(\"1부터 입력한 자연수까지의 모든 홀수의 합을 구합니다\" ))\n",
    "sum=0\n",
    "for i in range(1,num+1,2):\n",
    "    sum+=i\n",
    "    if i==num or i==num-1:\n",
    "        print(i,\"=\",sum)\n",
    "    else:\n",
    "        print(i,\"+ \",end=\"\")"
   ]
  },
  {
   "cell_type": "code",
   "execution_count": 22,
   "id": "0482ae67-6174-4dae-9662-da836d5ad98c",
   "metadata": {},
   "outputs": [
    {
     "name": "stdin",
     "output_type": "stream",
     "text": [
      "1부터 입력한 자연수까지의 모든 홀수의 합을 구합니다 100\n"
     ]
    },
    {
     "name": "stdout",
     "output_type": "stream",
     "text": [
      "1 + 3 + 5 + 7 + 9 + 11 + 13 + 15 + 17 + 19 + 21 + 23 + 25 + 27 + 29 + 31 + 33 + 35 + 37 + 39 + 41 + 43 + 45 + 47 + 49 + 51 + 53 + 55 + 57 + 59 + 61 + 63 + 65 + 67 + 69 + 71 + 73 + 75 + 77 + 79 + 81 + 83 + 85 + 87 + 89 + 91 + 93 + 95 + 97 + 99 = 2500\n"
     ]
    }
   ],
   "source": [
    "# 다른 풀이\n",
    "input_value=int(input(\"1부터 입력한 자연수까지의 모든 홀수의 합을 구합니다\"))\n",
    "result=0\n",
    "\n",
    "for i in range(1,input_value+1):\n",
    "    if i%2==1:\n",
    "        if (input_value-1)==i or input_value==i:\n",
    "            print(i,end=' = ')\n",
    "        else:\n",
    "            print(i,end=' + ')\n",
    "        result += i\n",
    "print(result)"
   ]
  },
  {
   "cell_type": "markdown",
   "id": "465adc1d-f475-4548-9324-b4fc3eb2cb73",
   "metadata": {},
   "source": [
    "```\n",
    "계승(Factorial)을 계산해보려합니다. 사용자로부터 정수를 하나 입력받습니다. 그리고\n",
    "입력받은 숫자까지의 계승을 for문을 활용하여 구한 뒤 출력해주세요.\n",
    "- 계승이란 1부터 n까지의 자연수를 모두 곱하는 것을 의미합니다.\n",
    "→ n! = 1 × 2 × 3 × ...... × (n-1) × n\n",
    "```"
   ]
  },
  {
   "cell_type": "code",
   "execution_count": 23,
   "id": "b1d1781c-2e94-4ca7-bc32-55dfe8299961",
   "metadata": {},
   "outputs": [
    {
     "name": "stdin",
     "output_type": "stream",
     "text": [
      "계승을 구할 숫자를 입력하세요.  4\n"
     ]
    },
    {
     "name": "stdout",
     "output_type": "stream",
     "text": [
      "24\n"
     ]
    }
   ],
   "source": [
    "num=int(input(\"계승을 구할 숫자를 입력하세요. \"))\n",
    "result=1\n",
    "for i in range(num,0,-1):\n",
    "    result*=i\n",
    "print(result)"
   ]
  },
  {
   "cell_type": "markdown",
   "id": "16b31d57-d423-43fe-bc63-8944b3961d42",
   "metadata": {},
   "source": [
    "## 시퀀스 객체로 반복하기"
   ]
  },
  {
   "cell_type": "markdown",
   "id": "693599bc-c9ee-49c3-b709-5008000b0129",
   "metadata": {},
   "source": [
    "```\n",
    "list,tuple,문자열을 개체로 for문 사용 가능\n",
    "*list의 경우 reversed()함수를 통해서 역순으로 변경 가능 - 반환값을 주지만 해당 시퀀스를 변경하지 않음\n",
    "cf) reverse()함수는 리스트 요소 순서를 뒤집어주며 반환값이 없음\n",
    "\n",
    "```"
   ]
  },
  {
   "cell_type": "code",
   "execution_count": 24,
   "id": "e16be660-126b-44cf-abaa-db74ebb6edef",
   "metadata": {},
   "outputs": [
    {
     "name": "stdout",
     "output_type": "stream",
     "text": [
      "십 구 팔 칠 육 오 사 삼 이 일 "
     ]
    }
   ],
   "source": [
    "for i in reversed(\"일이삼사오육칠팔구십\"):\n",
    "    print(i,end= \" \")"
   ]
  },
  {
   "cell_type": "markdown",
   "id": "195ee283-1d90-4bb7-9b6f-a32c8cc7eb28",
   "metadata": {},
   "source": [
    "### 연습문제"
   ]
  },
  {
   "cell_type": "markdown",
   "id": "599140e8-78c4-48ce-afb2-bf94b6f11b9a",
   "metadata": {},
   "source": [
    "```\n",
    "제시된 리스트의 값을 for문을 활용하여 10배씩 증가시킨 후 아래의 실행 결과와 같이\n",
    "출력해보세요.\n",
    "x = [10, -42, 25, 103, 21, 77, 24]\n",
    "```"
   ]
  },
  {
   "cell_type": "code",
   "execution_count": 25,
   "id": "75dcd427-e001-41d5-9c7d-544bc07ad902",
   "metadata": {},
   "outputs": [
    {
     "name": "stdout",
     "output_type": "stream",
     "text": [
      "100 -420 250 1030 210 770 240 "
     ]
    }
   ],
   "source": [
    "x=[10,-42,25,103,21,77,24]\n",
    "\n",
    "for i in x:\n",
    "    print(i*10,end=\" \")"
   ]
  },
  {
   "cell_type": "markdown",
   "id": "db7630d5-cd6e-412b-aaa2-ff9a1fc89d17",
   "metadata": {},
   "source": [
    "```\n",
    "사용자로부터 자연수를 입력받아옵니다. 그 숫자의 구구단을 출력하는 프로그램을\n",
    "구현해보세요. 아래의 실행 결과를 참고하세요.\n",
    "```"
   ]
  },
  {
   "cell_type": "code",
   "execution_count": 26,
   "id": "723e98ee-9058-4914-b6f3-5d2d4d951e9e",
   "metadata": {},
   "outputs": [
    {
     "name": "stdin",
     "output_type": "stream",
     "text": [
      "구구단을 알려드립니다. 숫자를 입력하세요 9\n"
     ]
    },
    {
     "name": "stdout",
     "output_type": "stream",
     "text": [
      "9 * 1 = 9\n",
      "9 * 2 = 18\n",
      "9 * 3 = 27\n",
      "9 * 4 = 36\n",
      "9 * 5 = 45\n",
      "9 * 6 = 54\n",
      "9 * 7 = 63\n",
      "9 * 8 = 72\n",
      "9 * 9 = 81\n"
     ]
    }
   ],
   "source": [
    "n=int(input(\"구구단을 알려드립니다. 숫자를 입력하세요\"))\n",
    "for i in range(1,10):\n",
    "    print(f'{n} * {i} = {n*i}') "
   ]
  },
  {
   "cell_type": "markdown",
   "id": "1c531bc8-a419-4189-88e7-0e440ca9bae6",
   "metadata": {},
   "source": [
    "```\n",
    "사용자로부터 자연수를 입력받아옵니다. 1부터 입력된 자연수까지의 합을 구하는\n",
    "프로그램을 구현해보세요.\n",
    "```"
   ]
  },
  {
   "cell_type": "code",
   "execution_count": 27,
   "id": "440f6468-9c7b-43e5-8494-00397268e9a7",
   "metadata": {},
   "outputs": [
    {
     "name": "stdin",
     "output_type": "stream",
     "text": [
      "자연수를 입력해주세요:  9\n"
     ]
    },
    {
     "name": "stdout",
     "output_type": "stream",
     "text": [
      "45\n"
     ]
    }
   ],
   "source": [
    "n=int(input(\"자연수를 입력해주세요: \"))\n",
    "sum=0\n",
    "for i in range(1,n+1):\n",
    "    sum+=i\n",
    "print(sum)"
   ]
  }
 ],
 "metadata": {
  "kernelspec": {
   "display_name": "Python 3 (ipykernel)",
   "language": "python",
   "name": "python3"
  },
  "language_info": {
   "codemirror_mode": {
    "name": "ipython",
    "version": 3
   },
   "file_extension": ".py",
   "mimetype": "text/x-python",
   "name": "python",
   "nbconvert_exporter": "python",
   "pygments_lexer": "ipython3",
   "version": "3.9.12"
  }
 },
 "nbformat": 4,
 "nbformat_minor": 5
}
