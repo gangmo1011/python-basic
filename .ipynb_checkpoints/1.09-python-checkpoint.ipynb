{
 "cells": [
  {
   "cell_type": "markdown",
   "id": "5257834f-5fe0-4b36-852b-026930c426e2",
   "metadata": {},
   "source": [
    "# 복습"
   ]
  },
  {
   "cell_type": "markdown",
   "id": "4173a0c8-7d99-4e0e-83f8-2260455444d5",
   "metadata": {},
   "source": [
    "```\n",
    "for문 안에 for문을 중첩하여 ‘*’ 문자로 5×5 사각형을 그려보세요.\n",
    "```"
   ]
  },
  {
   "cell_type": "code",
   "execution_count": 1,
   "id": "134c055a-7a41-4aa2-9516-09547560cd29",
   "metadata": {},
   "outputs": [
    {
     "name": "stdout",
     "output_type": "stream",
     "text": [
      "*****\n",
      "*****\n",
      "*****\n",
      "*****\n",
      "*****\n"
     ]
    }
   ],
   "source": [
    "for i in range(5):\n",
    "    for j in range(5):\n",
    "        print(\"*\",end=\"\")\n",
    "    print(\"\")\n"
   ]
  },
  {
   "cell_type": "code",
   "execution_count": 2,
   "id": "f9c2be43-1f1b-4904-93da-71991a08cbc4",
   "metadata": {},
   "outputs": [
    {
     "name": "stdout",
     "output_type": "stream",
     "text": [
      "*****\n",
      "*****\n",
      "*****\n",
      "*****\n",
      "*****\n"
     ]
    }
   ],
   "source": [
    "for i in range(5):\n",
    "    print(\"*\"*5)"
   ]
  },
  {
   "cell_type": "markdown",
   "id": "2d3cd987-e723-4426-bfde-5afa467b021d",
   "metadata": {},
   "source": [
    "# While문"
   ]
  },
  {
   "cell_type": "markdown",
   "id": "7c9e4d28-fdb6-454e-a210-75bd25ebdbbe",
   "metadata": {},
   "source": [
    "```\n",
    "while문은 조건식으로만 동작\n",
    "\n",
    "1. 조건식 판별\n",
    "2. 조건식이 True인 동안 내내 while문의 바디를 실행\n",
    "3. 조건식이 False가 되면 while문을 빠져나감\n",
    "\n",
    "i=0\n",
    "while i < 100:\n",
    "    print(\"Hello World!\")\n",
    "    i += 1\n",
    "```"
   ]
  },
  {
   "cell_type": "markdown",
   "id": "7762280f-825e-434e-b8fe-4b10c12d4655",
   "metadata": {},
   "source": [
    "### 연습문제"
   ]
  },
  {
   "cell_type": "markdown",
   "id": "e2e51159-15ea-4334-99e9-841c77c58076",
   "metadata": {},
   "source": [
    "```\n",
    "입력한 횟수대로 반복하는 예제입니다. 다만 숫자를 감소시켜서 제어하고 있습니다.\n",
    "```"
   ]
  },
  {
   "cell_type": "code",
   "execution_count": 3,
   "id": "584a6c7f-ac93-42c7-ba9f-8f935b0ff342",
   "metadata": {},
   "outputs": [
    {
     "name": "stdin",
     "output_type": "stream",
     "text": [
      "반복할 횟수를 입력하세요:  3\n"
     ]
    },
    {
     "name": "stdout",
     "output_type": "stream",
     "text": [
      "Hello world 3\n",
      "Hello world 2\n",
      "Hello world 1\n"
     ]
    }
   ],
   "source": [
    "count=int(input('반복할 횟수를 입력하세요: '))\n",
    "while count >0:\n",
    "    print('Hello world',count)\n",
    "    count -= 1"
   ]
  },
  {
   "cell_type": "markdown",
   "id": "9b5f93ff-53a2-4185-bb8f-e119a2aa660f",
   "metadata": {},
   "source": [
    "```\n",
    "while문을 사용하여 1이상 100 이하의 짝수를 ‘\\t’를 구분자로 해서 출력해보세요.\n",
    "```"
   ]
  },
  {
   "cell_type": "code",
   "execution_count": 4,
   "id": "9677dd2e-1521-4446-a2c7-d1a39a4f3e9d",
   "metadata": {},
   "outputs": [
    {
     "name": "stdout",
     "output_type": "stream",
     "text": [
      "2\t4\t6\t8\t10\t12\t14\t16\t18\t20\t22\t24\t26\t28\t30\t32\t34\t36\t38\t40\t42\t44\t46\t48\t50\t52\t54\t56\t58\t60\t62\t64\t66\t68\t70\t72\t74\t76\t78\t80\t82\t84\t86\t88\t90\t92\t94\t96\t98\t100\t"
     ]
    }
   ],
   "source": [
    "i=1\n",
    "while i < 101:\n",
    "    if i%2==0:\n",
    "        print(i,end='\\t')\n",
    "    i += 1"
   ]
  },
  {
   "cell_type": "markdown",
   "id": "0a0e32f4-6776-4255-a2a3-29ddd0a9d432",
   "metadata": {},
   "source": [
    "```\n",
    "사용자로부터 자연수를 입력받아옵니다. 그 숫자의 구구단을 출력하는 프로그램을\n",
    "구현해보세요. 아래의 실행 결과를 참고하세요.(while문 활용)\n",
    "```"
   ]
  },
  {
   "cell_type": "code",
   "execution_count": 5,
   "id": "bce1a658-a447-47bc-856e-5e1dad5c64f9",
   "metadata": {},
   "outputs": [
    {
     "name": "stdin",
     "output_type": "stream",
     "text": [
      "구구단을 알려드립니다. 숫자를 입력하세요.  9\n"
     ]
    },
    {
     "name": "stdout",
     "output_type": "stream",
     "text": [
      "9 * 1 = 9\n",
      "9 * 2 = 18\n",
      "9 * 3 = 27\n",
      "9 * 4 = 36\n",
      "9 * 5 = 45\n",
      "9 * 6 = 54\n",
      "9 * 7 = 63\n",
      "9 * 8 = 72\n",
      "9 * 9 = 81\n"
     ]
    }
   ],
   "source": [
    "num=int(input('구구단을 알려드립니다. 숫자를 입력하세요. '))\n",
    "i=1\n",
    "while i <10:\n",
    "    print(f'{num} * {i} = {num*i}')\n",
    "    i += 1"
   ]
  },
  {
   "cell_type": "markdown",
   "id": "fec5f6fa-f51c-41a3-8202-de272938fa2d",
   "metadata": {},
   "source": [
    "```\n",
    "사용자로부터 학생의 숫자와 학생 성적을 입력받습니다. 학생 성적 평균을 구하는\n",
    "프로그램을 while문으로 구현해보세요.\n",
    "```"
   ]
  },
  {
   "cell_type": "code",
   "execution_count": 2,
   "id": "608af68c-b089-4e4c-a4e8-f8765f31b908",
   "metadata": {},
   "outputs": [
    {
     "name": "stdin",
     "output_type": "stream",
     "text": [
      "학생의 수 : 3\n",
      "1번 학생의 점수: 77\n",
      "2번 학생의 점수: 88\n",
      "3번 학생의 점수: 99\n"
     ]
    },
    {
     "name": "stdout",
     "output_type": "stream",
     "text": [
      "평균 : 88.0점\n"
     ]
    }
   ],
   "source": [
    "st_num=int(input('학생의 수 :'))\n",
    "sum=0\n",
    "i=1\n",
    "while i<=st_num:\n",
    "    score=int(input(f'{i}번 학생의 점수:'))\n",
    "    sum += score\n",
    "    i += 1\n",
    "print(f'평균 : {sum/st_num}점')"
   ]
  },
  {
   "cell_type": "markdown",
   "id": "2c4278ad-dd5f-4b6b-8529-71c119603e13",
   "metadata": {},
   "source": [
    "```\n",
    "A학급의 수학 점수가 다음과 같을 때 while문 조건식에 len() 함수를 사용하여 이 학급의\n",
    "평균 점수를 구하는 프로그램을 구현해보세요.\n",
    "class_a = (70, 60, 55, 75, 95, 90, 80, 80, 85, 100)\n",
    "```"
   ]
  },
  {
   "cell_type": "code",
   "execution_count": 9,
   "id": "826c4e57-be15-4c85-9381-aac98a368145",
   "metadata": {},
   "outputs": [
    {
     "name": "stdout",
     "output_type": "stream",
     "text": [
      "79.0\n"
     ]
    }
   ],
   "source": [
    "class_a=(70,60,55,75,95,90,80,80,85,100)\n",
    "i=0\n",
    "total=0\n",
    "\n",
    "while i<len(class_a):\n",
    "    total +=class_a[i]\n",
    "    i+=1\n",
    "print(total/len(class_a))"
   ]
  },
  {
   "cell_type": "markdown",
   "id": "4dfe0f96-e5e6-4c61-bb70-feb95df97f1f",
   "metadata": {},
   "source": [
    "# break문"
   ]
  },
  {
   "cell_type": "markdown",
   "id": "7e005167-32bd-4d94-9c46-26b69a3aeb10",
   "metadata": {},
   "source": [
    "```\n",
    "for, while문에서 break는 해당 반복문을 완전히 빠져나감\n",
    "```"
   ]
  },
  {
   "cell_type": "markdown",
   "id": "00a0d9fd-dc64-4dcd-a24c-d69b4c3071f6",
   "metadata": {},
   "source": [
    "### 연습문제"
   ]
  },
  {
   "cell_type": "markdown",
   "id": "e58b57d9-7af0-44d6-ad80-d616489b50ed",
   "metadata": {},
   "source": [
    "```\n",
    "0부터 100까지 자연수의 총합을 구하는 프로그램을 구현해보세요.\n",
    "- while문과 break를 활용해서 작성해보세요.\n",
    "```"
   ]
  },
  {
   "cell_type": "code",
   "execution_count": 2,
   "id": "dee503ba-4b0a-4f57-95f8-6b9bcd29c9ad",
   "metadata": {},
   "outputs": [
    {
     "name": "stdout",
     "output_type": "stream",
     "text": [
      "5050\n"
     ]
    }
   ],
   "source": [
    "i =0\n",
    "total =0\n",
    "while True:\n",
    "    total += i\n",
    "    i +=1\n",
    "    if i>=101:\n",
    "        break;\n",
    "print(total)"
   ]
  },
  {
   "cell_type": "markdown",
   "id": "caf4f7df-2740-4397-8038-186e150beebf",
   "metadata": {},
   "source": [
    "```\n",
    "0부터 100 사이의 숫자 중 3으로 끝나는 숫자만 출력되게 만드세요.\n",
    "```"
   ]
  },
  {
   "cell_type": "code",
   "execution_count": 15,
   "id": "44ec2e4a-2067-413d-96b0-4fb220e77a9a",
   "metadata": {},
   "outputs": [
    {
     "name": "stdout",
     "output_type": "stream",
     "text": [
      "3 13 23 33 43 53 63 73 83 93 \n",
      "\n",
      "3 13 23 33 43 53 63 73 83 93 "
     ]
    }
   ],
   "source": [
    "i=0\n",
    "while True:\n",
    "    if i%10==3:\n",
    "        print(i,end=' ')\n",
    "    if i>100:\n",
    "        break\n",
    "    i+=1\n",
    "\n",
    "print('\\n')\n",
    "\n",
    "#continue문 사용\n",
    "i=0\n",
    "while True:\n",
    "    if i>100:\n",
    "        break\n",
    "    elif i%10!=3:\n",
    "        i += 1\n",
    "        continue\n",
    "    else:\n",
    "        print(i,end=' ')\n",
    "        i += 1"
   ]
  },
  {
   "cell_type": "markdown",
   "id": "23462278-4b7e-4397-aaee-27a1d8e987d3",
   "metadata": {},
   "source": [
    "# continue문"
   ]
  },
  {
   "cell_type": "markdown",
   "id": "4715cffd-74cb-4772-9d18-f99480ec24fd",
   "metadata": {},
   "source": [
    "```\n",
    "continue 는 제어흐름을 유지하되, 밑에 body 부분은 실행하지 않고 반복문 처음으로 돌아감\n",
    "```"
   ]
  },
  {
   "cell_type": "markdown",
   "id": "c5019910-94de-4970-8730-2e4a7ce2e606",
   "metadata": {},
   "source": [
    "### 연습문제"
   ]
  },
  {
   "cell_type": "markdown",
   "id": "f7023a85-ff25-494c-a490-5f41c66baa84",
   "metadata": {},
   "source": [
    "```\n",
    "1부터 10까지의 순서대로 줄을 바꾸지 않고 출력 값마다 뒤에 공백을 표시합니다.\n",
    "(for / while 모두 작성)\n",
    "```"
   ]
  },
  {
   "cell_type": "code",
   "execution_count": 19,
   "id": "d35074fd-add6-4f9e-ad9f-b91f85ff26f8",
   "metadata": {},
   "outputs": [
    {
     "name": "stdout",
     "output_type": "stream",
     "text": [
      "1 2 3 4 5 6 7 8 9 10 \n",
      "\n",
      "1 2 3 4 5 6 7 8 9 10 "
     ]
    }
   ],
   "source": [
    "#for문\n",
    "for i in range(1,11):\n",
    "    print(i,end=' ')\n",
    "    \n",
    "print('\\n')\n",
    "\n",
    "#while문\n",
    "i=0\n",
    "while i<10:\n",
    "    print(i+1,end=' ')\n",
    "    i += 1"
   ]
  },
  {
   "cell_type": "markdown",
   "id": "79faea95-b615-461e-b28e-06c07df5f327",
   "metadata": {},
   "source": [
    "```\n",
    "두 자연수 n부터 m을 입력받고, n부터 m 까지의 합을 구하는 프로그램을 작성하세요.\n",
    "(for / while 모두 작성)\n",
    "```"
   ]
  },
  {
   "cell_type": "code",
   "execution_count": 23,
   "id": "9931c343-dfdb-478d-b7ed-996e5154f025",
   "metadata": {},
   "outputs": [
    {
     "name": "stdin",
     "output_type": "stream",
     "text": [
      "시작하는 정수 입력 : 1\n",
      "끝나는 정수 입력 : 10\n"
     ]
    },
    {
     "name": "stdout",
     "output_type": "stream",
     "text": [
      "1부터 10까지의 합은 55입니다.\n",
      "\n",
      "\n"
     ]
    },
    {
     "name": "stdin",
     "output_type": "stream",
     "text": [
      "시작하는 정수 입력 : 1\n",
      "끝나는 정수 입력 : 10\n"
     ]
    },
    {
     "name": "stdout",
     "output_type": "stream",
     "text": [
      "1부터 10까지의 합은 55입니다.\n"
     ]
    }
   ],
   "source": [
    "#for문\n",
    "n=int(input('시작하는 정수 입력 :'))\n",
    "m=int(input('끝나는 정수 입력 :'))\n",
    "total=0\n",
    "for i in range(n,m+1):\n",
    "    total+=i\n",
    "print(f'{n}부터 {m}까지의 합은 {total}입니다.')\n",
    "\n",
    "print('\\n')\n",
    "\n",
    "#while문\n",
    "n=int(input('시작하는 정수 입력 :'))\n",
    "m=int(input('끝나는 정수 입력 :'))\n",
    "total=0\n",
    "\n",
    "while n<=m:\n",
    "    total+=n\n",
    "    n+=1\n",
    "print(f'{n-m}부터 {m}까지의 합은 {total}입니다.')"
   ]
  },
  {
   "cell_type": "markdown",
   "id": "7e0b5f3b-e59c-47c2-ac31-6cd469e658a5",
   "metadata": {},
   "source": [
    "```\n",
    "두 자연수 n부터 m을 입력받고, n부터 m 까지의 수 중 짝수들의 제곱의 합을 구하세요.\n",
    "(for / while 모두 작성)\n",
    "```"
   ]
  },
  {
   "cell_type": "code",
   "execution_count": 26,
   "id": "1d2ba783-ee68-48fa-92a3-f815520f9114",
   "metadata": {},
   "outputs": [
    {
     "name": "stdin",
     "output_type": "stream",
     "text": [
      "시작하는 정수 입력:  4\n",
      "끝나는 정수 입력:  7\n"
     ]
    },
    {
     "name": "stdout",
     "output_type": "stream",
     "text": [
      "4부터 7사이의 짝수 제곱의 합은 52입니다.\n",
      "\n",
      "\n"
     ]
    },
    {
     "name": "stdin",
     "output_type": "stream",
     "text": [
      "시작하는 정수 입력:  4\n",
      "끝나는 정수 입력:  7\n"
     ]
    },
    {
     "name": "stdout",
     "output_type": "stream",
     "text": [
      "1부터 7사이의 짝수 제곱의 합은 52입니다.\n"
     ]
    }
   ],
   "source": [
    "n=int(input('시작하는 정수 입력: '))\n",
    "m=int(input('끝나는 정수 입력: '))\n",
    "total=0\n",
    "#for문\n",
    "for i in range(n,m+1):\n",
    "    if i%2==0:\n",
    "        total += i*i\n",
    "print(f'{n}부터 {m}사이의 짝수 제곱의 합은 {total}입니다.')\n",
    "\n",
    "print('\\n')\n",
    "#while문\n",
    "n=int(input('시작하는 정수 입력: '))\n",
    "m=int(input('끝나는 정수 입력: '))\n",
    "total=0\n",
    "while n<=m:\n",
    "    if n%2==0:\n",
    "        total += n*n\n",
    "    n += 1\n",
    "print(f'{n-m}부터 {m}사이의 짝수 제곱의 합은 {total}입니다.')"
   ]
  },
  {
   "cell_type": "markdown",
   "id": "8e51c833-546f-441e-aa89-be28e28eecfb",
   "metadata": {},
   "source": [
    "```\n",
    "어떤 학급의 국어 점수가 다음과 같을 때 반복문을 이용하여 A학급의 평균 점수 구하기.\n",
    "(for / while 모두 작성)\n",
    "Kor = [70, 60, 55, 75, 95, 90, 80, 80, 85, 100]\n",
    "```"
   ]
  },
  {
   "cell_type": "code",
   "execution_count": 31,
   "id": "852932cc-622e-494b-8611-16e466bf0d8a",
   "metadata": {},
   "outputs": [
    {
     "name": "stdout",
     "output_type": "stream",
     "text": [
      "79.0\n",
      "79.0\n"
     ]
    }
   ],
   "source": [
    "kor=[70,60,55,75,95,90,80,80,85,100]\n",
    "#for문\n",
    "total=0\n",
    "for i in kor:\n",
    "    total+=i\n",
    "print(total/len(kor))\n",
    "\n",
    "#while문\n",
    "total=0\n",
    "i=0\n",
    "while i<len(kor):\n",
    "    total += kor[i]\n",
    "    i+=1\n",
    "print(total/len(kor))    "
   ]
  },
  {
   "cell_type": "markdown",
   "id": "ef8f55d6-be28-492d-8f19-f418adf09ca8",
   "metadata": {},
   "source": [
    "```\n",
    "10 미만의 자연수에서 3과 5의 배수를 구하면 3, 5, 6, 9 입니다.\n",
    "이들의 총합은 23 입니다.\n",
    "1000미만의 자연수에서 3의 배수와 5의 배수의 총합을 구하세요.\n",
    "(for / while 모두 작성)\n",
    "```"
   ]
  },
  {
   "cell_type": "code",
   "execution_count": 33,
   "id": "c9a1b69d-13f9-4679-9fb8-4adaefceb556",
   "metadata": {},
   "outputs": [
    {
     "name": "stdout",
     "output_type": "stream",
     "text": [
      "결과는 233168입니다.\n",
      "결과는 233168입니다.\n"
     ]
    }
   ],
   "source": [
    "#for문\n",
    "total=0\n",
    "for i in range(1000):\n",
    "    if i%3==0 or i%5==0:\n",
    "       total+=i\n",
    "print(f'결과는 {total}입니다.')\n",
    "\n",
    "#while문\n",
    "total=0\n",
    "i=0\n",
    "while i<1000:\n",
    "    if i%3==0 or i%5==0:\n",
    "        total +=i\n",
    "    i +=1\n",
    "print(f'결과는 {total}입니다.')"
   ]
  }
 ],
 "metadata": {
  "kernelspec": {
   "display_name": "Python 3 (ipykernel)",
   "language": "python",
   "name": "python3"
  },
  "language_info": {
   "codemirror_mode": {
    "name": "ipython",
    "version": 3
   },
   "file_extension": ".py",
   "mimetype": "text/x-python",
   "name": "python",
   "nbconvert_exporter": "python",
   "pygments_lexer": "ipython3",
   "version": "3.9.13"
  }
 },
 "nbformat": 4,
 "nbformat_minor": 5
}
