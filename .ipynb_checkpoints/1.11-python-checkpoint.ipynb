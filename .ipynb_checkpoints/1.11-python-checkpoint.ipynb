{
 "cells": [
  {
   "cell_type": "markdown",
   "id": "6b34426d-8db6-45a5-9ec4-946beb3a8326",
   "metadata": {},
   "source": [
    "# 복습"
   ]
  },
  {
   "cell_type": "markdown",
   "id": "31f3503b-cc5f-4261-8e28-6cc806dc65f7",
   "metadata": {},
   "source": [
    "```\n",
    "< 투표결과 집계 프로그램 >\n",
    "N명의 후보에 대해 투표한 결과가 들어있는 리스트 votes가 있습니다.\n",
    "예를들어 5명의 후보에 대해 투표를 진행한 결과가 [2, 5, 3, 4, 1, 5, 1, 5, 5, 3]이라면\n",
    "순서대로 [2번, 5번, 3번, 4번, 1번, 5번, 1번, 5번, 5번, 3번]후보에 투표했음을\n",
    "나타냅니다. 이때, 가장 많은 표를 얻은 후보는 누구이며 몇 표를 얻었는지 아래와 같이\n",
    "보여주는 프로그램을 작성하세요.\n",
    "주어진값\n",
    "- votes = [2, 5, 3, 4, 1, 5, 1, 5, 5, 3]\n",
    "- candidates = [“”, “전정국\", “김남준”, “박지민\", “정호석\", “김태형\"]\n",
    "```"
   ]
  },
  {
   "cell_type": "code",
   "execution_count": 7,
   "id": "3a97af51-7260-4252-9ce6-607a26345ccf",
   "metadata": {},
   "outputs": [
    {
     "name": "stdout",
     "output_type": "stream",
     "text": [
      "{'': 0, '전정국': 0, '김남준': 0, '박지민': 0, '정호석': 0, '김태형': 0}\n",
      "김태형 후보가 총 4표를 얻어 당선되었습니다.\n"
     ]
    }
   ],
   "source": [
    "votes=[2,5,3,4,1,5,1,5,5,3]\n",
    "candidates=['','전정국','김남준','박지민','정호석','김태형']\n",
    "\n",
    "result=dict(zip(candidates,[0,0,0,0,0,0]))\n",
    "         \n",
    "for i in votes:\n",
    "    if i==0:\n",
    "        result[''] += 1\n",
    "    elif i==1:\n",
    "        result['전정국'] +=1\n",
    "    elif i==2:\n",
    "        result['김남준'] +=1\n",
    "    elif i==3:\n",
    "        result['박지민'] +=1\n",
    "    elif i==4:\n",
    "        result['정호석'] +=1\n",
    "    else :\n",
    "        result['김태형'] +=1\n",
    "\n",
    "winner_name=''\n",
    "winner_get=result[winner_name]\n",
    "\n",
    "for name, get in result.items():\n",
    "    if get>winner_get:\n",
    "        winner_get=get\n",
    "        winner_name=name\n",
    "print(f'{winner_name} 후보가 총 {winner_get}표를 얻어 당선되었습니다.')"
   ]
  },
  {
   "cell_type": "code",
   "execution_count": 11,
   "id": "d35cb491-5ed0-4991-9810-c750a70c4032",
   "metadata": {},
   "outputs": [
    {
     "name": "stdout",
     "output_type": "stream",
     "text": [
      "김태형 후보가 총 4를 얻어 당선되었습니다.\n"
     ]
    }
   ],
   "source": [
    "votes=[2,5,3,4,1,5,1,5,5,3]\n",
    "candidates=['','전정국','김남준','박지민','정호석','김태형']\n",
    "\n",
    "# 집계용 리스트 생성(가변)\n",
    "counts=[0]*len(candidates)\n",
    "\n",
    "# 인덱스에 맞춰서 votes가 제공되었기 때문에 \n",
    "for vote in votes:\n",
    "    counts[vote] +=1\n",
    "    \n",
    "'''i=1\n",
    "max_count=0 \n",
    "elected_person=0\n",
    "while i< len(counts):\n",
    "    if max_count < counts[i]:\n",
    "        max_count = counts[i]\n",
    "        elected_person = i\n",
    "    i += 1'''   \n",
    "\n",
    "max_count= max(counts)\n",
    "elected_person_index=counts.index(max_count)\n",
    "\n",
    "print(f'{candidates[elected_person_index]} 후보가 총 {max_count}를 얻어 당선되었습니다.')"
   ]
  },
  {
   "cell_type": "markdown",
   "id": "e45d058e-16a1-4be8-9351-56d828411348",
   "metadata": {},
   "source": [
    "# list Comprehension\n",
    "\n",
    "## list_variable = [expression for 변수 in iterable]"
   ]
  },
  {
   "cell_type": "markdown",
   "id": "cda66204-9ae8-4ad2-b957-c76ece536d95",
   "metadata": {},
   "source": [
    "### 연습문제"
   ]
  },
  {
   "cell_type": "code",
   "execution_count": 1,
   "id": "136fcb0d-4890-4619-9cec-59c58b8aaf51",
   "metadata": {},
   "outputs": [
    {
     "name": "stdout",
     "output_type": "stream",
     "text": [
      "<class 'list'>\n",
      "[1, 4, 9, 16, 25, 36, 49, 64, 81]\n"
     ]
    }
   ],
   "source": [
    "prac_result=list(i**2 for i in range(1,10))\n",
    "print(type(prac_result))\n",
    "print(prac_result)"
   ]
  },
  {
   "cell_type": "code",
   "execution_count": 2,
   "id": "2d263d32-d21c-4bc0-aafd-495247756050",
   "metadata": {},
   "outputs": [
    {
     "name": "stdout",
     "output_type": "stream",
     "text": [
      "[1, 3, 5, 7, 9]\n"
     ]
    }
   ],
   "source": [
    "prac_result2=list(i for i in range(1,10,2))\n",
    "print(prac_result2)"
   ]
  },
  {
   "cell_type": "code",
   "execution_count": 3,
   "id": "664b7ea7-202e-4297-b6f7-89e4cb662178",
   "metadata": {},
   "outputs": [
    {
     "name": "stdout",
     "output_type": "stream",
     "text": [
      "[1, 3, 5, 7, 9]\n"
     ]
    }
   ],
   "source": [
    "prac_result2=list(i for i in range(1,10) if i%2==1)\n",
    "print(prac_result2)"
   ]
  },
  {
   "cell_type": "code",
   "execution_count": 4,
   "id": "29f810e4-a7fa-4f4f-b8a8-306c11902c64",
   "metadata": {},
   "outputs": [
    {
     "name": "stdout",
     "output_type": "stream",
     "text": [
      "['a', 'b', 'c', 'd', 'e', 'f', 'g', 'h', 'i', 'j', 'k', 'l', 'm', 'n', 'o', 'p', 'q', 'r', 's', 't', 'u', 'v', 'w', 'x', 'y', 'z']\n"
     ]
    }
   ],
   "source": [
    "prac_result3=list(i for i in 'abcdefghijklmnopqrstuvwxyz')\n",
    "print(prac_result3)"
   ]
  },
  {
   "cell_type": "code",
   "execution_count": 5,
   "id": "4a4f37dd-9dc7-4130-be47-44d9e9e4f782",
   "metadata": {},
   "outputs": [
    {
     "name": "stdout",
     "output_type": "stream",
     "text": [
      "['2', '3', '4', '5', '6', '7', '8', '9', '10', 'J', 'Q', 'K', 'A']\n"
     ]
    }
   ],
   "source": [
    "prac_result4=list(str(i) for i in range(2,11))+list(i for i in \"JQKA\")\n",
    "print(prac_result4)"
   ]
  },
  {
   "cell_type": "code",
   "execution_count": 6,
   "id": "9ae2e6ec-21df-4b2d-a414-50de1c5a399d",
   "metadata": {},
   "outputs": [
    {
     "name": "stdout",
     "output_type": "stream",
     "text": [
      "[['2', '3', '4', '5', '6', '7', '8', '9', '10', 'J', 'Q', 'K', 'A'], ['2', '3', '4', '5', '6', '7', '8', '9', '10', 'J', 'Q', 'K', 'A'], ['2', '3', '4', '5', '6', '7', '8', '9', '10', 'J', 'Q', 'K', 'A'], ['2', '3', '4', '5', '6', '7', '8', '9', '10', 'J', 'Q', 'K', 'A']]\n"
     ]
    }
   ],
   "source": [
    "prac_result5=[prac_result4 for i in range(4)]\n",
    "print(prac_result5)"
   ]
  },
  {
   "cell_type": "code",
   "execution_count": 7,
   "id": "0e29ec7c-929b-42f2-b11f-d9efa9aa081c",
   "metadata": {},
   "outputs": [
    {
     "name": "stdout",
     "output_type": "stream",
     "text": [
      "['two', '3', '4', '5', '6', '7', '8', '9', '10', 'J', 'Q', 'K', 'A']\n"
     ]
    }
   ],
   "source": [
    "prac_result4[0]='two'\n",
    "print(prac_result4)"
   ]
  },
  {
   "cell_type": "code",
   "execution_count": 9,
   "id": "9a981ce5-5afa-4a61-8011-6daae96bb3f7",
   "metadata": {},
   "outputs": [
    {
     "name": "stdout",
     "output_type": "stream",
     "text": [
      "[['two', '3', '4', '5', '6', '7', '8', '9', '10', 'J', 'Q', 'K', 'A'], ['two', '3', '4', '5', '6', '7', '8', '9', '10', 'J', 'Q', 'K', 'A'], ['two', '3', '4', '5', '6', '7', '8', '9', '10', 'J', 'Q', 'K', 'A'], ['two', '3', '4', '5', '6', '7', '8', '9', '10', 'J', 'Q', 'K', 'A']]\n"
     ]
    }
   ],
   "source": [
    "print(prac_result5)"
   ]
  },
  {
   "cell_type": "markdown",
   "id": "277fb5af-6030-4389-8a73-67d6a05918bd",
   "metadata": {},
   "source": [
    "# 변수의 주소값"
   ]
  },
  {
   "cell_type": "markdown",
   "id": "51b57e47-2290-466d-b483-56698b90d079",
   "metadata": {},
   "source": [
    " ```\n",
    " '리스트'를 슬라이싱 하면 기존의 리스트와 다른 주소값을 가진 리스트가 복사된다.\n",
    " ```"
   ]
  },
  {
   "cell_type": "code",
   "execution_count": 10,
   "id": "9b652639-8673-4832-b030-ae9cc84475d5",
   "metadata": {},
   "outputs": [
    {
     "name": "stdout",
     "output_type": "stream",
     "text": [
      "[0, 1, 2, 3, 4, 5, 6, 7, 8, 9]\n",
      "[0, 1, 2, 3, 4, 5, 6, 7, 8, 9]\n",
      "False\n",
      "True\n"
     ]
    }
   ],
   "source": [
    "old_list=list(range(10))\n",
    "new_list=old_list[:]\n",
    "\n",
    "print(old_list)\n",
    "print(new_list)\n",
    "print(old_list is new_list)\n",
    "print(old_list == new_list)"
   ]
  },
  {
   "cell_type": "markdown",
   "id": "f37af412-eee9-4924-904b-6aad096ef31a",
   "metadata": {},
   "source": [
    "```\n",
    "단, '문자열'이나 '튜플'은 슬라이싱을 하여도 복사가 되지 않는다.\n",
    "```"
   ]
  },
  {
   "cell_type": "code",
   "execution_count": 1,
   "id": "7d68564d-72dc-491c-b13b-cc1657048314",
   "metadata": {},
   "outputs": [
    {
     "name": "stdout",
     "output_type": "stream",
     "text": [
      "2978124686640\n",
      "2978124686640\n"
     ]
    }
   ],
   "source": [
    "str_sample='This is str.'\n",
    "str2=str_sample[:]\n",
    "\n",
    "print(id(str_sample))\n",
    "print(id(str2))"
   ]
  },
  {
   "cell_type": "markdown",
   "id": "731de55b-13c2-48c4-b688-24f4f8308e21",
   "metadata": {},
   "source": [
    "```\n",
    "참고!) Java에서의 == 연산자는 Python의 is와 같음\n",
    "값을 비교할 때는 equals()함수 사용\n",
    "```"
   ]
  },
  {
   "cell_type": "markdown",
   "id": "b0017da0-7206-4ee6-9845-b33f5fa33b0b",
   "metadata": {},
   "source": [
    "### 연습문제"
   ]
  },
  {
   "cell_type": "markdown",
   "id": "7158888c-06c8-470b-8d24-169dd35816ce",
   "metadata": {},
   "source": [
    "```\n",
    "<순환하는 광고판 만들기 >\n",
    "아래 예와 같이 순환할 숫자를 입력 받고 순환하는 광고판을 제작하세요.\n",
    "```"
   ]
  },
  {
   "cell_type": "code",
   "execution_count": 26,
   "id": "9b10e37c-d03d-4a62-8eff-a6f690c38ec3",
   "metadata": {},
   "outputs": [
    {
     "name": "stdin",
     "output_type": "stream",
     "text": [
      "순환할 숫자를 입력하세요: 10\n"
     ]
    },
    {
     "name": "stdout",
     "output_type": "stream",
     "text": [
      "1 2 3 4 5 6 7 8 9 10 \n",
      "2 3 4 5 6 7 8 9 10 1 \n",
      "3 4 5 6 7 8 9 10 1 2 \n",
      "4 5 6 7 8 9 10 1 2 3 \n",
      "5 6 7 8 9 10 1 2 3 4 \n",
      "6 7 8 9 10 1 2 3 4 5 \n",
      "7 8 9 10 1 2 3 4 5 6 \n",
      "8 9 10 1 2 3 4 5 6 7 \n",
      "9 10 1 2 3 4 5 6 7 8 \n",
      "10 1 2 3 4 5 6 7 8 9 \n",
      "\n"
     ]
    }
   ],
   "source": [
    "num=int(input(\"순환할 숫자를 입력하세요:\"))\n",
    "for i in range(0,num+1):\n",
    "    for j in range(i+1,num+1):\n",
    "        print(j,end=' ')\n",
    "        if j==num:\n",
    "            for k in range(1,i+1):\n",
    "                print(k,end=' ')\n",
    "    print('')"
   ]
  },
  {
   "cell_type": "code",
   "execution_count": 37,
   "id": "bcc7618e-4dd0-4f09-a61c-a13e247eed26",
   "metadata": {},
   "outputs": [
    {
     "name": "stdin",
     "output_type": "stream",
     "text": [
      "순환할 숫자를 입력하세요: 10\n"
     ]
    },
    {
     "name": "stdout",
     "output_type": "stream",
     "text": [
      "1 2 3 4 5 6 7 8 9 10 \n",
      "2 3 4 5 6 7 8 9 10 1 \n",
      "3 4 5 6 7 8 9 10 1 2 \n",
      "4 5 6 7 8 9 10 1 2 3 \n",
      "5 6 7 8 9 10 1 2 3 4 \n",
      "6 7 8 9 10 1 2 3 4 5 \n",
      "7 8 9 10 1 2 3 4 5 6 \n",
      "8 9 10 1 2 3 4 5 6 7 \n",
      "9 10 1 2 3 4 5 6 7 8 \n",
      "10 1 2 3 4 5 6 7 8 9 \n"
     ]
    }
   ],
   "source": [
    "num=int(input(\"순환할 숫자를 입력하세요:\"))\n",
    "\n",
    "for i in range(1,num+1):\n",
    "    for j in range(i,num+i):\n",
    "        if j %num ==0:\n",
    "            print(num,end=' ')\n",
    "        else:\n",
    "            print(j%num,end=' ')\n",
    "    print()\n",
    "    "
   ]
  },
  {
   "cell_type": "code",
   "execution_count": 36,
   "id": "f1b418df-b672-4aeb-950a-1f7aa688418d",
   "metadata": {},
   "outputs": [
    {
     "name": "stdin",
     "output_type": "stream",
     "text": [
      "순환할 숫자를 입력하세요: 10\n"
     ]
    },
    {
     "name": "stdout",
     "output_type": "stream",
     "text": [
      "1 2 3 4 5 6 7 8 9 10 \n",
      "2 3 4 5 6 7 8 9 10 1 \n",
      "3 4 5 6 7 8 9 10 1 2 \n",
      "4 5 6 7 8 9 10 1 2 3 \n",
      "5 6 7 8 9 10 1 2 3 4 \n",
      "6 7 8 9 10 1 2 3 4 5 \n",
      "7 8 9 10 1 2 3 4 5 6 \n",
      "8 9 10 1 2 3 4 5 6 7 \n",
      "9 10 1 2 3 4 5 6 7 8 \n",
      "10 1 2 3 4 5 6 7 8 9 \n"
     ]
    }
   ],
   "source": [
    "num = int(input(\"순환할 숫자를 입력하세요:\"))\n",
    "e = [i for i in range(1, num+1)]\n",
    "for j in range(len(e)):\n",
    "    j = 0\n",
    "    for i in e:\n",
    "        print(i,end=\" \")\n",
    "    print()\n",
    "    e.append(e[j])\n",
    "    e.remove(e[j])"
   ]
  },
  {
   "cell_type": "markdown",
   "id": "c08a4cad-9d6c-463b-a0fc-0f775f871238",
   "metadata": {},
   "source": [
    "# 리스트 복사(copy() 메서드)"
   ]
  },
  {
   "cell_type": "code",
   "execution_count": 41,
   "id": "9fe7932a-46de-4457-a85b-e5d2b03d794c",
   "metadata": {},
   "outputs": [
    {
     "name": "stdout",
     "output_type": "stream",
     "text": [
      "2978124899968\n",
      "2978123540480\n",
      "False\n",
      "[999, 1, 2, 3, 4, 5, 6, 7, 8, 9]\n",
      "[0, 1, 2, 3, 4, 5, 6, 7, 8, 9]\n"
     ]
    }
   ],
   "source": [
    "list_g=list(range(10))\n",
    "list_h=list_g.copy()\n",
    "print(id(list_g))\n",
    "print(id(list_h))\n",
    "print(list_g is list_h)\n",
    "\n",
    "list_g[0]=999\n",
    "print(list_g)\n",
    "print(list_h)"
   ]
  },
  {
   "cell_type": "markdown",
   "id": "3f9513b4-622d-441f-82dd-04df304536e9",
   "metadata": {},
   "source": [
    "# 얕은 복사(shallow copy)\n",
    "```\n",
    "리스트 내 요소가 메모리 주소값이 있는 객체일때(다차원 리스트),\n",
    "요소를 담은 리스트 객체의 주소값은 다르지만 안에 있는 객체 요소의 주소값을 복사 \n",
    "( 껍데기는 다르지만 알맹이는 같음 ) \n",
    "*, 슬라이싱, copy() 메서드를 통한 복사는 모두 '얕은 복사'\n",
    "\n",
    "```"
   ]
  },
  {
   "cell_type": "markdown",
   "id": "52277942-5aab-415d-8494-9b46d5db5e1c",
   "metadata": {},
   "source": [
    "### * 연산자로 복사"
   ]
  },
  {
   "cell_type": "code",
   "execution_count": 43,
   "id": "3aad2d0c-1963-4295-a705-2c080ca884b4",
   "metadata": {},
   "outputs": [
    {
     "name": "stdout",
     "output_type": "stream",
     "text": [
      "[[0], [0], [0]]\n",
      "[[999], [999], [999]]\n"
     ]
    }
   ],
   "source": [
    "list_i=[[0]]*3\n",
    "print(list_i)\n",
    "\n",
    "list_i[0][0]=999\n",
    "print(list_i)"
   ]
  },
  {
   "cell_type": "code",
   "execution_count": 44,
   "id": "10be62d3-35dc-4041-82c8-fe647274ac75",
   "metadata": {},
   "outputs": [
    {
     "data": {
      "text/plain": [
       "True"
      ]
     },
     "execution_count": 44,
     "metadata": {},
     "output_type": "execute_result"
    }
   ],
   "source": [
    "list_i[0][0] is list_i[1][0]"
   ]
  },
  {
   "cell_type": "code",
   "execution_count": 46,
   "id": "c7a57a1d-c274-457e-98f9-f870b756f267",
   "metadata": {},
   "outputs": [
    {
     "data": {
      "text/plain": [
       "True"
      ]
     },
     "execution_count": 46,
     "metadata": {},
     "output_type": "execute_result"
    }
   ],
   "source": [
    "list_i[1][0] is list_i[2][0]"
   ]
  },
  {
   "cell_type": "code",
   "execution_count": 47,
   "id": "47578516-0ab4-4844-9b6c-a1a997dcf71e",
   "metadata": {},
   "outputs": [
    {
     "data": {
      "text/plain": [
       "True"
      ]
     },
     "execution_count": 47,
     "metadata": {},
     "output_type": "execute_result"
    }
   ],
   "source": [
    "list_i[0][0] is list_i[2][0]"
   ]
  },
  {
   "cell_type": "markdown",
   "id": "9c36737f-8973-41bc-83d2-537f0fda4af4",
   "metadata": {},
   "source": [
    "### 슬라이싱으로 복사"
   ]
  },
  {
   "cell_type": "code",
   "execution_count": null,
   "id": "1f28d223-8310-43ee-9c6e-11c4985a98dc",
   "metadata": {},
   "outputs": [
    {
     "name": "stdout",
     "output_type": "stream",
     "text": [
      "2978124572160\n",
      "2978124822784\n",
      "False\n",
      "True\n"
     ]
    }
   ],
   "source": [
    "list_j=[[1,2],[3,4]]\n",
    "list_k=list_j[:]\n",
    "print(id(list_j))\n",
    "print(id(list_k))\n",
    "print(list_k is list_j)\n",
    "print(list_k[0] is list_j[0])"
   ]
  },
  {
   "cell_type": "code",
   "execution_count": 49,
   "id": "d73efe23-f22a-434f-a4e2-26b0d3f2aa45",
   "metadata": {},
   "outputs": [
    {
     "name": "stdout",
     "output_type": "stream",
     "text": [
      "[[1, 4], [3, 4]]\n",
      "[[1, 4], [3, 4]]\n"
     ]
    }
   ],
   "source": [
    "list_j[0][1]=2**2\n",
    "print(list_j)\n",
    "print(list_k)"
   ]
  },
  {
   "cell_type": "markdown",
   "id": "64e4593a-9ca6-4367-bb5f-594df7a1a612",
   "metadata": {},
   "source": [
    "### copy()로 복사"
   ]
  },
  {
   "cell_type": "code",
   "execution_count": 55,
   "id": "ac9ee696-0659-4373-8c0e-ca69ca5dbcd3",
   "metadata": {},
   "outputs": [
    {
     "name": "stdout",
     "output_type": "stream",
     "text": [
      "False\n",
      "True\n"
     ]
    }
   ],
   "source": [
    "list_l = [[5,6],[7,8]]\n",
    "list_m=list_l.copy()\n",
    "print(list_l is list_m)\n",
    "print(list_l[0] is list_m[0])"
   ]
  },
  {
   "cell_type": "code",
   "execution_count": 56,
   "id": "5de87a00-bec2-4523-b1d7-e00ad7948a08",
   "metadata": {},
   "outputs": [
    {
     "name": "stdout",
     "output_type": "stream",
     "text": [
      "[[5, 999], [7, 8]]\n",
      "[[5, 999], [7, 8]]\n"
     ]
    }
   ],
   "source": [
    "list_l[0][1]=999\n",
    "print(list_l)\n",
    "print(list_m)"
   ]
  },
  {
   "cell_type": "markdown",
   "id": "af07718c-953b-4962-ab51-a1efb2d31840",
   "metadata": {},
   "source": [
    "# 깊은 복사(Deep copy)"
   ]
  },
  {
   "cell_type": "markdown",
   "id": "7732a725-987e-432e-b129-733b90e63fea",
   "metadata": {},
   "source": [
    "```\n",
    "리스트 내 요소가 메모리 주소를 담고있는 객체더라도 객체를 완전하게 깊이에 상관없이 다 새롭게 복사해서 만듦\n",
    "전혀 다른 메모리 공간을 차지하는 완전한 리스트로 복사합니다.\n",
    "두 리스트 간에 값은 같으나(==) 객체는 완전히 다름\n",
    "(껍데기와 알맹이 모두 다름)\n",
    "```"
   ]
  },
  {
   "cell_type": "code",
   "execution_count": 65,
   "id": "2f69ba19-e1e6-4b3d-9901-101ecf4ac07a",
   "metadata": {},
   "outputs": [
    {
     "name": "stdout",
     "output_type": "stream",
     "text": [
      "[[9, 10], [11, 12]]\n",
      "[[9, 10], [11, 12]]\n",
      "False\n",
      "False\n",
      "True\n"
     ]
    }
   ],
   "source": [
    "# deepcopy()를 위해서 copy 라이브러리를 필요로 함\n",
    "import copy\n",
    "list_n=[[9,10],[11,12]]\n",
    "list_o=copy.deepcopy(list_n)\n",
    "print(list_n)\n",
    "print(list_o)\n",
    "print(list_n is list_o) \n",
    "print(list_n[0] is list_o[0]) # 얕은 복사는 요소의 주소값은 같음\n",
    "print(list_n[0][0] is list_o[0][0]) # 인덱스에 접근 하는 것은 변수비교와 똑같음"
   ]
  },
  {
   "cell_type": "code",
   "execution_count": 64,
   "id": "d3fa3f7f-4750-485b-9cd8-093bc038a3e5",
   "metadata": {},
   "outputs": [
    {
     "name": "stdout",
     "output_type": "stream",
     "text": [
      "[[9, 10], [22, 12]]\n",
      "[[9, 10], [11, 12]]\n"
     ]
    }
   ],
   "source": [
    "# 깊은복사는 요소의 주소값도 다름\n",
    "list_n[1][0]=22\n",
    "print(list_n)\n",
    "print(list_o)"
   ]
  },
  {
   "cell_type": "markdown",
   "id": "946105cb-29dd-4fbc-a02b-69f01dc10d41",
   "metadata": {},
   "source": [
    "# for문과 if문이 동시에 있는 list Comprehension"
   ]
  },
  {
   "cell_type": "markdown",
   "id": "607f2569-d052-405f-94e0-a901322f3d67",
   "metadata": {},
   "source": [
    "### list_variable=[expression for 변수 in iterable if 조건식]"
   ]
  },
  {
   "cell_type": "code",
   "execution_count": 66,
   "id": "6b620e14-ee67-4a8d-a467-7f87b1e54e4e",
   "metadata": {},
   "outputs": [
    {
     "name": "stdout",
     "output_type": "stream",
     "text": [
      "[0, 3, 6, 9]\n"
     ]
    }
   ],
   "source": [
    "list_p=[i for i in range(10) if i%3 == 0]\n",
    "print(list_p)"
   ]
  },
  {
   "cell_type": "markdown",
   "id": "41e5ec47-c9f3-40e1-b5ca-834b0e37f0f2",
   "metadata": {},
   "source": [
    "# 제너레이터 컴프리헨션"
   ]
  },
  {
   "cell_type": "markdown",
   "id": "eefd0771-38b8-4018-bce1-4328ef432f64",
   "metadata": {},
   "source": [
    "### generator_varialbe=(expression for 변수 in iterable)\n",
    "### 튜플 생성하기 위해서는 tuple() 필요\n",
    "### tuple_variable=tuple(expression for 변수 in iterable)"
   ]
  },
  {
   "cell_type": "markdown",
   "id": "618aab07-2837-421f-92d9-ce912d5357fa",
   "metadata": {},
   "source": [
    "### 연습문제"
   ]
  },
  {
   "cell_type": "markdown",
   "id": "7e225cbb-f1aa-4ea0-aa26-23b5b763fda6",
   "metadata": {},
   "source": [
    "```\n",
    "리스트에서 특정 요소만 뽑아내기\n",
    "다음 소스 코드를 완성하여 리스트 a에 들어있는 문자열 중에서 길이가 5인 것들만 리스트\n",
    "형태로 출력되게 만드세요. (리스트 표현식 사용)\n",
    "```"
   ]
  },
  {
   "cell_type": "code",
   "execution_count": 69,
   "id": "c95388ac-c405-4b5f-a6ba-b99dbf91411f",
   "metadata": {},
   "outputs": [
    {
     "name": "stdout",
     "output_type": "stream",
     "text": [
      "['alpha', 'bravo', 'delta', 'hotel', 'india']\n"
     ]
    }
   ],
   "source": [
    "a=['alpha','bravo','charlie','delta','echo','foxtrot','golf','hotel','india']\n",
    "b=[str_a for str_a in a if len(str_a)==5]\n",
    "print(b)"
   ]
  },
  {
   "cell_type": "markdown",
   "id": "e4ce2557-3b2f-48d3-a74c-a91a2fd5115c",
   "metadata": {},
   "source": [
    "```\n",
    "사용자가 공백을 구분자로 정수 두 개를 입력합니다. 첫 번째 입력 값의 범위는 1~20, 두\n",
    "번 째 입력 값의 범위는 10~30이며 첫 번째 입력 값은 두 번째 입력 값보다 항상 작\n",
    "습니다.\n",
    "첫 번째 정수부터 두 번째 정수까지를 지수로 하는 2의 거듭제곱 리스트를 출력하는\n",
    "프로그램을 만드세요. 단, 리스트의 두 번째 요소와 뒤에서 두 번째 요소는 삭제한 뒤\n",
    "출력하세요. 출력 결과는 리스트 형태라야 합니다.\n",
    "\n",
    "\n",
    "사용자가 올바른 값을 입력할 때까지 반복하도록 프로그램을 변경해보세요.\n",
    "- 첫 번째 입력 값의 범위는 1 ~ 20 사이의 숫자입니다.\n",
    "- 두 번째 입력 값의 범위는 10 ~ 30 사이의 숫자입니다.\n",
    "- 첫 번째 입력 값은 두 번째 입력 값보다 작아야 합니다.\n",
    "```"
   ]
  },
  {
   "cell_type": "code",
   "execution_count": 82,
   "id": "4e92d575-ea72-4c34-8317-20b21cb6822f",
   "metadata": {},
   "outputs": [
    {
     "name": "stdin",
     "output_type": "stream",
     "text": [
      "정수 두 개 입력하세요: 99 1\n"
     ]
    },
    {
     "name": "stdout",
     "output_type": "stream",
     "text": [
      "첫번째 값의 범위는 1 ~ 20입니다.\n"
     ]
    },
    {
     "name": "stdin",
     "output_type": "stream",
     "text": [
      "정수 두 개 입력하세요: 10 1\n"
     ]
    },
    {
     "name": "stdout",
     "output_type": "stream",
     "text": [
      "두번째 값의 범위는 10 ~ 30입니다.\n"
     ]
    },
    {
     "name": "stdin",
     "output_type": "stream",
     "text": [
      "정수 두 개 입력하세요: 20 10\n"
     ]
    },
    {
     "name": "stdout",
     "output_type": "stream",
     "text": [
      "첫 번째 입력 값은 두 번째 입력 값보다 작게 입력하세요.\n"
     ]
    },
    {
     "name": "stdin",
     "output_type": "stream",
     "text": [
      "정수 두 개 입력하세요: 10 20\n"
     ]
    },
    {
     "name": "stdout",
     "output_type": "stream",
     "text": [
      "[1024, 4096, 8192, 16384, 32768, 65536, 131072, 262144, 1048576]\n"
     ]
    }
   ],
   "source": [
    "while True:\n",
    "    n1, n2 = map(int,input(\"정수 두 개 입력하세요:\").split())\n",
    "    if n1<1 or n1>20:\n",
    "        print(\"첫번째 값의 범위는 1 ~ 20입니다.\")\n",
    "        continue\n",
    "    elif n2<10 or n2>30:\n",
    "        print(\"두번째 값의 범위는 10 ~ 30입니다.\")\n",
    "        continue\n",
    "    elif n1 >= n2:\n",
    "        print(\"첫 번째 입력 값은 두 번째 입력 값보다 작게 입력하세요.\")\n",
    "        continue\n",
    "    else:\n",
    "        list_n = [2**n for n in range(n1,n2+1)]\n",
    "        break\n",
    "    \n",
    "del list_n[1]\n",
    "del list_n[len(list_n)-2]\n",
    "\n",
    "'''\n",
    "list_n_result = list_n[:1] + list_n[2:len(list_n)-2] + list_n[len(list_n)-1:]\n",
    "'''\n",
    "\n",
    "print(list_n_result)"
   ]
  },
  {
   "cell_type": "markdown",
   "id": "d4a51a91-434e-45c1-9f09-1f9ffbbf1dc7",
   "metadata": {},
   "source": [
    "```\n",
    "홀수의 제곱은 감산하고 짝수의 제곱은 가산하는 프로그램을 while문으로 구현해보세요.\n",
    "```"
   ]
  },
  {
   "cell_type": "code",
   "execution_count": 90,
   "id": "497ac1d3-3cdc-4c58-a473-4eec6af946be",
   "metadata": {},
   "outputs": [
    {
     "name": "stdout",
     "output_type": "stream",
     "text": [
      "-1 +4 -9 +16 -25 +36 -49 +64 -81 +100 \n",
      "-121 +144 -169 +196 -225 +256 -289 +324 -361 +400 \n",
      "-441 +484 -529 +576 -625 +676 -729 +784 -841 +900 \n",
      "-961 +1024 -1089 +1156 -1225 +1296 -1369 +1444 -1521 +1600 \n",
      "-1681 +1764 -1849 +1936 -2025 +2116 -2209 +2304 -2401 +2500 \n",
      "-2601 +2704 -2809 +2916 -3025 +3136 -3249 +3364 -3481 +3600 \n",
      "-3721 +3844 -3969 +4096 -4225 +4356 -4489 +4624 -4761 +4900 \n",
      "-5041 +5184 -5329 +5476 -5625 +5776 -5929 +6084 -6241 +6400 \n",
      "-6561 +6724 -6889 +7056 -7225 +7396 -7569 +7744 -7921 +8100 \n",
      "-8281 +8464 -8649 +8836 -9025 +9216 -9409 +9604 -9801 +10000 \n",
      "=5050 입니다.\n"
     ]
    }
   ],
   "source": [
    "total=0\n",
    "line=0\n",
    "for i in range(1,101):\n",
    "    if i%2 != 0:\n",
    "        total -= i*i\n",
    "        print(f'-{i*i}',end=' ')\n",
    "    else:\n",
    "        total += i*i\n",
    "        print(f'+{i*i}',end=' ')\n",
    "    line += 1\n",
    "    if line%10 == 0:\n",
    "        print()\n",
    "print(f'={total} 입니다.')"
   ]
  },
  {
   "cell_type": "code",
   "execution_count": null,
   "id": "68a93018-7e77-4732-9579-67c268812ceb",
   "metadata": {},
   "outputs": [],
   "source": []
  }
 ],
 "metadata": {
  "kernelspec": {
   "display_name": "Python 3 (ipykernel)",
   "language": "python",
   "name": "python3"
  },
  "language_info": {
   "codemirror_mode": {
    "name": "ipython",
    "version": 3
   },
   "file_extension": ".py",
   "mimetype": "text/x-python",
   "name": "python",
   "nbconvert_exporter": "python",
   "pygments_lexer": "ipython3",
   "version": "3.9.13"
  }
 },
 "nbformat": 4,
 "nbformat_minor": 5
}
