{
 "cells": [
  {
   "cell_type": "markdown",
   "id": "2db5b1ba-847c-4390-a482-94b6383b7dd5",
   "metadata": {},
   "source": [
    "# 튜플\n",
    "### 튜플은 수정이 불가하다"
   ]
  },
  {
   "cell_type": "code",
   "execution_count": 1,
   "id": "5a8caa97-0dfd-4ee5-8aa6-bfcd1251a38a",
   "metadata": {},
   "outputs": [],
   "source": [
    "tuple_variable=(1,2,3,4,5,'hello')"
   ]
  },
  {
   "cell_type": "code",
   "execution_count": 2,
   "id": "6dd3e673-abb4-48b5-ade9-f8d5603b40e9",
   "metadata": {},
   "outputs": [
    {
     "ename": "TypeError",
     "evalue": "'tuple' object does not support item assignment",
     "output_type": "error",
     "traceback": [
      "\u001b[1;31m---------------------------------------------------------------------------\u001b[0m",
      "\u001b[1;31mTypeError\u001b[0m                                 Traceback (most recent call last)",
      "\u001b[1;32m~\\AppData\\Local\\Temp\\ipykernel_11560\\1039757326.py\u001b[0m in \u001b[0;36m<module>\u001b[1;34m\u001b[0m\n\u001b[1;32m----> 1\u001b[1;33m \u001b[0mtuple_variable\u001b[0m\u001b[1;33m[\u001b[0m\u001b[1;36m0\u001b[0m\u001b[1;33m]\u001b[0m\u001b[1;33m=\u001b[0m\u001b[1;36m0\u001b[0m\u001b[1;33m\u001b[0m\u001b[1;33m\u001b[0m\u001b[0m\n\u001b[0m",
      "\u001b[1;31mTypeError\u001b[0m: 'tuple' object does not support item assignment"
     ]
    }
   ],
   "source": [
    "tuple_variable[0]=0"
   ]
  },
  {
   "cell_type": "code",
   "execution_count": 3,
   "id": "5eaec9fc-a0d9-478e-9062-d60da84fa056",
   "metadata": {},
   "outputs": [
    {
     "ename": "TypeError",
     "evalue": "'tuple' object does not support item assignment",
     "output_type": "error",
     "traceback": [
      "\u001b[1;31m---------------------------------------------------------------------------\u001b[0m",
      "\u001b[1;31mTypeError\u001b[0m                                 Traceback (most recent call last)",
      "\u001b[1;32m~\\AppData\\Local\\Temp\\ipykernel_11560\\914859992.py\u001b[0m in \u001b[0;36m<module>\u001b[1;34m\u001b[0m\n\u001b[1;32m----> 1\u001b[1;33m \u001b[0mtuple_variable\u001b[0m\u001b[1;33m[\u001b[0m\u001b[1;36m1\u001b[0m\u001b[1;33m:\u001b[0m\u001b[1;36m3\u001b[0m\u001b[1;33m]\u001b[0m\u001b[1;33m=\u001b[0m\u001b[1;33m(\u001b[0m\u001b[1;34m'dd'\u001b[0m\u001b[1;33m,\u001b[0m\u001b[1;34m'ee'\u001b[0m\u001b[1;33m)\u001b[0m\u001b[1;33m\u001b[0m\u001b[1;33m\u001b[0m\u001b[0m\n\u001b[0m",
      "\u001b[1;31mTypeError\u001b[0m: 'tuple' object does not support item assignment"
     ]
    }
   ],
   "source": [
    "tuple_variable[1:3]=('dd','ee')"
   ]
  },
  {
   "cell_type": "markdown",
   "id": "91a49a0d-f2e0-4a7c-9638-0e454d17e648",
   "metadata": {},
   "source": [
    "### 튜플에서는 요소에 대한 삭제도 불가하다. "
   ]
  },
  {
   "cell_type": "code",
   "execution_count": 4,
   "id": "b04e9b68-176e-4c7a-88c6-590e583bc7f8",
   "metadata": {},
   "outputs": [
    {
     "ename": "TypeError",
     "evalue": "'tuple' object doesn't support item deletion",
     "output_type": "error",
     "traceback": [
      "\u001b[1;31m---------------------------------------------------------------------------\u001b[0m",
      "\u001b[1;31mTypeError\u001b[0m                                 Traceback (most recent call last)",
      "\u001b[1;32m~\\AppData\\Local\\Temp\\ipykernel_11560\\3932902972.py\u001b[0m in \u001b[0;36m<module>\u001b[1;34m\u001b[0m\n\u001b[1;32m----> 1\u001b[1;33m \u001b[1;32mdel\u001b[0m \u001b[0mtuple_variable\u001b[0m\u001b[1;33m[\u001b[0m\u001b[1;36m0\u001b[0m\u001b[1;33m]\u001b[0m\u001b[1;33m\u001b[0m\u001b[1;33m\u001b[0m\u001b[0m\n\u001b[0m",
      "\u001b[1;31mTypeError\u001b[0m: 'tuple' object doesn't support item deletion"
     ]
    }
   ],
   "source": [
    "del tuple_variable[0]"
   ]
  },
  {
   "cell_type": "markdown",
   "id": "f872a7e5-a5c6-4c19-98fa-a503f1aa6c13",
   "metadata": {},
   "source": [
    "### 튜플은 소괄호 생략이 가능"
   ]
  },
  {
   "cell_type": "code",
   "execution_count": 6,
   "id": "870a4a0f-987d-4ac8-956e-879c1ddbb2c5",
   "metadata": {},
   "outputs": [
    {
     "name": "stdout",
     "output_type": "stream",
     "text": [
      "<class 'tuple'>\n",
      "('음', '오', '아', '예')\n"
     ]
    }
   ],
   "source": [
    "t_v='음','오','아','예'\n",
    "print(type(t_v))\n",
    "print(t_v)"
   ]
  },
  {
   "cell_type": "markdown",
   "id": "1cfaf675-1a10-4c65-8ba1-20fbbbe1a430",
   "metadata": {},
   "source": [
    "### 튜플과 리스트의 소요시간 비교 "
   ]
  },
  {
   "cell_type": "code",
   "execution_count": 30,
   "id": "0d6f3a57-5a8b-4099-93b6-030bc7001144",
   "metadata": {},
   "outputs": [
    {
     "name": "stdout",
     "output_type": "stream",
     "text": [
      "0.16289734840393066\n"
     ]
    }
   ],
   "source": [
    "import time\n",
    "\n",
    "curr=time.time()\n",
    "total=[]\n",
    "\n",
    "for i in range(1000):\n",
    "    for j in range(1000):\n",
    "        total.append((i,j)) # 튜플로 추가\n",
    "\n",
    "last=time.time()\n",
    "print(last-curr)"
   ]
  },
  {
   "cell_type": "code",
   "execution_count": 12,
   "id": "5a48707f-d485-43af-8553-fba9fc52504f",
   "metadata": {},
   "outputs": [
    {
     "name": "stdout",
     "output_type": "stream",
     "text": [
      "0.6280932426452637\n"
     ]
    }
   ],
   "source": [
    "import time\n",
    "\n",
    "curr=time.time()\n",
    "total=[]\n",
    "\n",
    "for i in range(1000):\n",
    "    for j in range(1000):\n",
    "        total.append([i,j])  # 리스트로 추가\n",
    "\n",
    "last=time.time()\n",
    "print(last-curr)"
   ]
  },
  {
   "cell_type": "code",
   "execution_count": null,
   "id": "24541bcb-e5e9-4421-b943-35eb03ed8c9c",
   "metadata": {},
   "outputs": [],
   "source": []
  }
 ],
 "metadata": {
  "kernelspec": {
   "display_name": "Python 3 (ipykernel)",
   "language": "python",
   "name": "python3"
  },
  "language_info": {
   "codemirror_mode": {
    "name": "ipython",
    "version": 3
   },
   "file_extension": ".py",
   "mimetype": "text/x-python",
   "name": "python",
   "nbconvert_exporter": "python",
   "pygments_lexer": "ipython3",
   "version": "3.9.13"
  }
 },
 "nbformat": 4,
 "nbformat_minor": 5
}
