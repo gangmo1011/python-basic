{
 "cells": [
  {
   "cell_type": "code",
   "execution_count": null,
   "id": "679f4cae-a689-4e91-946e-e62aadb41612",
   "metadata": {},
   "outputs": [],
   "source": [
    "from IPython.core.display import display, HTML\n",
    "\n",
    "display(HTML(\"<style>.container { width:80% !important; }</style>\"))"
   ]
  },
  {
   "cell_type": "markdown",
   "id": "be3364ee-5ad3-4ead-946b-1189d93610ae",
   "metadata": {
    "jp-MarkdownHeadingCollapsed": true,
    "tags": []
   },
   "source": [
    "# M1\n",
    "## M2\n",
    "### M3\n",
    "#### M4\n",
    "##### M5\n",
    "###### M6"
   ]
  },
  {
   "cell_type": "markdown",
   "id": "8fc7e76d-8529-4f09-b6a4-4b3f8e73ab4a",
   "metadata": {},
   "source": [
    "# 1.마크다운 학습\n",
    "\n",
    "* **굵은 글씨**는 이렇게 사용합니다. \n",
    "* *기울인 글씨* \n",
    "* ~취소선~은 이렇게 \n",
    "\n",
    ">구획 나누기 \n",
    ">>구획\n",
    "\n",
    "[Google](https://www.google.com/?gws_rd=ssl) \n",
    "![스누피](https://usefulguide.net/wp-content/uploads/2022/08/img_theme5.jpg) \n"
   ]
  },
  {
   "cell_type": "markdown",
   "id": "266c297e-70ab-45e3-bcef-789dd318ef15",
   "metadata": {},
   "source": [
    "# 2.표 만들기\n",
    "\n",
    "|제목 셀|제목 셀|제목 셀|\n",
    "|:-----|-----:|:-----:|\n",
    "|좌|우|가운데|"
   ]
  },
  {
   "cell_type": "markdown",
   "id": "caebe8a1-f487-4be1-adb8-00972d7def2e",
   "metadata": {},
   "source": [
    "# 3. 코드 입력\n",
    "```python\n",
    "\n",
    "x=int(input(\"인사를 몇번 할까요?\"))\n",
    "\n",
    "for i in range(x):\n",
    "    print(\"Hello world!\")\n",
    "    \n",
    "```"
   ]
  }
 ],
 "metadata": {
  "kernelspec": {
   "display_name": "Python 3 (ipykernel)",
   "language": "python",
   "name": "python3"
  },
  "language_info": {
   "codemirror_mode": {
    "name": "ipython",
    "version": 3
   },
   "file_extension": ".py",
   "mimetype": "text/x-python",
   "name": "python",
   "nbconvert_exporter": "python",
   "pygments_lexer": "ipython3",
   "version": "3.9.13"
  }
 },
 "nbformat": 4,
 "nbformat_minor": 5
}
