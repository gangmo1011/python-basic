{
 "cells": [
  {
   "cell_type": "code",
   "execution_count": 1,
   "id": "b55db400-1321-4761-8b67-312a3af023d3",
   "metadata": {},
   "outputs": [
    {
     "name": "stdout",
     "output_type": "stream",
     "text": [
      "3.9.13 (main, Aug 25 2022, 23:51:50) [MSC v.1916 64 bit (AMD64)]\n"
     ]
    }
   ],
   "source": [
    "import sys\n",
    "print(sys.version)"
   ]
  },
  {
   "cell_type": "code",
   "execution_count": 2,
   "id": "4d15e777-733a-4bac-a941-97a1fc0e380b",
   "metadata": {},
   "outputs": [
    {
     "name": "stdout",
     "output_type": "stream",
     "text": [
      " C 드라이브의 볼륨에는 이름이 없습니다.\n",
      " 볼륨 일련 번호: 308F-3770\n",
      "\n",
      " C:\\python 디렉터리\n",
      "\n",
      "2023-01-04  오전 10:13    <DIR>          .\n",
      "2023-01-04  오전 10:13    <DIR>          ..\n",
      "2023-01-04  오전 10:12    <DIR>          .ipynb_checkpoints\n",
      "2023-01-04  오전 10:13               666 01python.ipynb\n",
      "               1개 파일                 666 바이트\n",
      "               3개 디렉터리  184,434,876,416 바이트 남음\n"
     ]
    }
   ],
   "source": [
    "!dir"
   ]
  },
  {
   "cell_type": "markdown",
   "id": "72eabf9f-2864-42a4-a246-5993728971e7",
   "metadata": {},
   "source": [
    "# 마크다운\n",
    " 마크다운 셀"
   ]
  },
  {
   "cell_type": "code",
   "execution_count": 3,
   "id": "14cd157f-994d-4123-8f6b-8b54ddbb806c",
   "metadata": {},
   "outputs": [],
   "source": [
    "# 주석을 잘 달자! "
   ]
  },
  {
   "cell_type": "code",
   "execution_count": 4,
   "id": "7c54d1ae-ea31-4069-a630-372f2bb56b2b",
   "metadata": {},
   "outputs": [
    {
     "name": "stdout",
     "output_type": "stream",
     "text": [
      "Hello world\n"
     ]
    }
   ],
   "source": [
    "print(\"Hello world\")"
   ]
  },
  {
   "cell_type": "code",
   "execution_count": null,
   "id": "41c36263-dd27-4281-949b-bae94c2b3fa4",
   "metadata": {},
   "outputs": [],
   "source": []
  },
  {
   "cell_type": "code",
   "execution_count": null,
   "id": "2b462baa-0282-495f-8ca9-8aaeddfb0e61",
   "metadata": {},
   "outputs": [],
   "source": []
  },
  {
   "cell_type": "code",
   "execution_count": null,
   "id": "59935d37-719a-451b-ae9e-2242092173f5",
   "metadata": {},
   "outputs": [],
   "source": []
  }
 ],
 "metadata": {
  "kernelspec": {
   "display_name": "Python 3 (ipykernel)",
   "language": "python",
   "name": "python3"
  },
  "language_info": {
   "codemirror_mode": {
    "name": "ipython",
    "version": 3
   },
   "file_extension": ".py",
   "mimetype": "text/x-python",
   "name": "python",
   "nbconvert_exporter": "python",
   "pygments_lexer": "ipython3",
   "version": "3.9.13"
  }
 },
 "nbformat": 4,
 "nbformat_minor": 5
}
