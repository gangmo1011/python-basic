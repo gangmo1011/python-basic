{
 "cells": [
  {
   "cell_type": "markdown",
   "id": "0cd4bb6d-9f33-4cc3-a557-c979bf8fecc8",
   "metadata": {},
   "source": [
    "# 논리 연산자"
   ]
  },
  {
   "cell_type": "code",
   "execution_count": 1,
   "id": "52e3f647-d007-45a6-a25e-5c4507ba0cd4",
   "metadata": {},
   "outputs": [
    {
     "name": "stdout",
     "output_type": "stream",
     "text": [
      "False\n"
     ]
    }
   ],
   "source": [
    "scores=[88,73,89,59,77]\n",
    "for i in scores:\n",
    "    if i<60:\n",
    "        print(False)\n",
    "        break\n",
    "    else:\n",
    "        continue\n",
    "    print(True)\n"
   ]
  },
  {
   "cell_type": "code",
   "execution_count": 2,
   "id": "464b369f-7f90-4036-a305-98d06cc2e691",
   "metadata": {},
   "outputs": [
    {
     "name": "stdout",
     "output_type": "stream",
     "text": [
      "False\n"
     ]
    }
   ],
   "source": [
    "# 논리 연산자로만\n",
    "\n",
    "scores=[88,73,89,59,77]\n",
    "\n",
    "print(scores[0]>=60 and scores[1]>=60 and scores[2]>=60 and scores[3]>=60 and scores[4]>=60)"
   ]
  },
  {
   "cell_type": "markdown",
   "id": "ea3cbb34-870d-4128-8d75-74a0b3c1ca3f",
   "metadata": {},
   "source": [
    "# 함수"
   ]
  },
  {
   "cell_type": "markdown",
   "id": "106f553b-fedd-4fed-b5b2-370f9f749d72",
   "metadata": {},
   "source": [
    "```\n",
    "def 함수명(인자, 인자,...):\n",
    "    함수 코드...\n",
    "    return 반환값\n",
    "```"
   ]
  },
  {
   "cell_type": "markdown",
   "id": "bc304079-2ac2-4fa1-8e0a-3d4acd1e7a6b",
   "metadata": {},
   "source": [
    "## 리스트 내장 함수\n",
    "|리스트내장함수|반환값|설명|\n",
    "|:-----------:|:---:|:--:|\n",
    "|append(요소)| None |리스트에서 요소 하나를 맨 마지막에 추가\n",
    "|insert(인덱스, 요소)| None |리스트에서 특정 위치에 요소를 삽입\n",
    "|extend(리스트)| None |리스트에서 요소 여러 개를 맨 마지막에 추가\n",
    "|remove(요소)| None |입력값과 첫 번째로 일치하는 요소를 리스트에서 삭제\n",
    "|pop()| 마지막 요소 |리스트의 마지막 요소를 제거한 후에 반환\n",
    "|index(요소)| 첫번째로 일치한 요소 |인덱스 리스트에서 인자와 일치하는 첫 번째 요소의 위치를 반환\n",
    "|count(요소)| 일치하는 요소의 총 개수 |리스트에서 인자와 일치하는 요소의 개수를 반환\n",
    "|sort()| None |숫자나 문자열로 구성된 리스트 요소를 순방향으로 정렬\n",
    "|reverse()| None |리스트 요소를 끝에서부터 역순으로 정렬\n",
    "|clear()| None |리스트의 모든 요소를 제거\n"
   ]
  },
  {
   "cell_type": "markdown",
   "id": "26126837-36e0-4314-a84c-fa09c99d76c6",
   "metadata": {},
   "source": [
    "1. append: 마지막에 요소 추가"
   ]
  },
  {
   "cell_type": "code",
   "execution_count": 3,
   "id": "e8a9d959-2b6f-4425-9c45-bc4c3d49720c",
   "metadata": {},
   "outputs": [
    {
     "name": "stdout",
     "output_type": "stream",
     "text": [
      "[1, 2, 3, 4, 5, 6, 7, 8]\n"
     ]
    }
   ],
   "source": [
    "numbers=[1,2,3,4,5,6,7]\n",
    "numbers.append(8)\n",
    "print(numbers)"
   ]
  },
  {
   "cell_type": "markdown",
   "id": "1fa4d761-1a88-4829-84bc-c4a4fea6a680",
   "metadata": {},
   "source": [
    "2. insert: 특정 인덱스에 요소 삽입"
   ]
  },
  {
   "cell_type": "code",
   "execution_count": 4,
   "id": "9e109a83-d52b-4951-846a-7de150d4a812",
   "metadata": {},
   "outputs": [],
   "source": [
    "numbers.insert(0,0)\n",
    "numbers.insert(4,0)\n",
    "numbers.insert(6,0)\n",
    "numbers.insert(len(numbers),0)"
   ]
  },
  {
   "cell_type": "code",
   "execution_count": 5,
   "id": "10df7a93-f50a-47f0-8f7b-37066c29382c",
   "metadata": {},
   "outputs": [
    {
     "name": "stdout",
     "output_type": "stream",
     "text": [
      "[0, 1, 2, 3, 0, 4, 0, 5, 6, 7, 8, 0]\n"
     ]
    }
   ],
   "source": [
    "print(numbers)"
   ]
  },
  {
   "cell_type": "markdown",
   "id": "01c1caf6-1b1f-429e-8e7d-4a5e028280a6",
   "metadata": {},
   "source": [
    "3. extend: 리스트에 여러 값을 마지막부터 추가(**리스트로 인자 전달!**)"
   ]
  },
  {
   "cell_type": "code",
   "execution_count": 6,
   "id": "f451e0d4-ec51-4a00-8699-98ccb36e94b3",
   "metadata": {},
   "outputs": [
    {
     "name": "stdout",
     "output_type": "stream",
     "text": [
      "[0, 1, 2, 3, 0, 4, 0, 5, 6, 7, 8, 0, 4, 4, 4]\n"
     ]
    }
   ],
   "source": [
    "numbers.extend([4,4,4])\n",
    "print(numbers)"
   ]
  },
  {
   "cell_type": "markdown",
   "id": "6f78239d-2a19-4178-b621-970027c0e706",
   "metadata": {},
   "source": [
    "4. remove: 해당 값의 요소 중 첫번째 요소를 삭제"
   ]
  },
  {
   "cell_type": "code",
   "execution_count": 7,
   "id": "9f6507ca-fdee-4417-95f4-11c90e7482c3",
   "metadata": {},
   "outputs": [
    {
     "name": "stdout",
     "output_type": "stream",
     "text": [
      "[1, 2, 3, 0, 4, 0, 5, 6, 7, 8, 0, 4, 4, 4]\n"
     ]
    }
   ],
   "source": [
    "numbers.remove(0)\n",
    "print(numbers)"
   ]
  },
  {
   "cell_type": "markdown",
   "id": "a7be96ee-3822-414a-ab12-c75f651f5759",
   "metadata": {},
   "source": [
    "5. pop: 마지막 요소 반환하고 삭제"
   ]
  },
  {
   "cell_type": "code",
   "execution_count": 8,
   "id": "1c694afe-1f48-402e-839e-f6193034f231",
   "metadata": {},
   "outputs": [
    {
     "name": "stdout",
     "output_type": "stream",
     "text": [
      "4\n"
     ]
    }
   ],
   "source": [
    "print(numbers.pop())"
   ]
  },
  {
   "cell_type": "code",
   "execution_count": 9,
   "id": "c81b9265-cce6-41c0-b828-eebde4c06891",
   "metadata": {},
   "outputs": [
    {
     "name": "stdout",
     "output_type": "stream",
     "text": [
      "[1, 2, 3, 0, 4, 0, 5, 6, 7, 8, 0, 4, 4]\n"
     ]
    }
   ],
   "source": [
    "print(numbers)"
   ]
  },
  {
   "cell_type": "markdown",
   "id": "dfd94273-69e5-476d-92d2-8ecac09b52b5",
   "metadata": {},
   "source": [
    "6. index: 해당 값을 가진 제일 첫번째 요소의 위치 반환"
   ]
  },
  {
   "cell_type": "code",
   "execution_count": 10,
   "id": "b1db8ae7-9b43-472a-9a72-48897e39291d",
   "metadata": {},
   "outputs": [
    {
     "name": "stdout",
     "output_type": "stream",
     "text": [
      "3\n"
     ]
    }
   ],
   "source": [
    "print(numbers.index(0))"
   ]
  },
  {
   "cell_type": "markdown",
   "id": "74280c99-0946-4fe0-a1cf-57337f011144",
   "metadata": {},
   "source": [
    "7. count: 리스트 안에 해당 값을 가진 요소의 수 반환"
   ]
  },
  {
   "cell_type": "code",
   "execution_count": 11,
   "id": "b8e12d58-6d87-4cbe-8d5a-d81a4ad8f840",
   "metadata": {},
   "outputs": [
    {
     "name": "stdout",
     "output_type": "stream",
     "text": [
      "[1, 2, 3, 0, 4, 0, 5, 6, 7, 8, 0, 4, 4]\n",
      "3\n"
     ]
    }
   ],
   "source": [
    "print(numbers)\n",
    "print(numbers.count(4))"
   ]
  },
  {
   "cell_type": "markdown",
   "id": "d2708236-d110-4ef6-b831-eb1de7aa726e",
   "metadata": {},
   "source": [
    "8. sort: 오름차순 "
   ]
  },
  {
   "cell_type": "code",
   "execution_count": 19,
   "id": "78a8db49-5e51-4db9-aebc-97e77baa6ffb",
   "metadata": {},
   "outputs": [
    {
     "name": "stdout",
     "output_type": "stream",
     "text": [
      "[0, 0, 0, 1, 2, 3, 4, 4, 4, 5, 6, 7, 8]\n"
     ]
    }
   ],
   "source": [
    "numbers.sort()\n",
    "print(numbers)"
   ]
  },
  {
   "cell_type": "markdown",
   "id": "ab0a7cf6-df1c-4867-8d9d-1615f578f86f",
   "metadata": {},
   "source": [
    "9. reverse: 요소 순서를 반대로 함"
   ]
  },
  {
   "cell_type": "code",
   "execution_count": 18,
   "id": "de2999a8-4e7c-41ac-abb4-d2d519d28c10",
   "metadata": {},
   "outputs": [
    {
     "name": "stdout",
     "output_type": "stream",
     "text": [
      "[0, 0, 0, 1, 2, 3, 4, 4, 4, 5, 6, 7, 8]\n"
     ]
    }
   ],
   "source": [
    "numbers.reverse()\n",
    "print(numbers)"
   ]
  },
  {
   "cell_type": "markdown",
   "id": "34bdabcd-1e53-4c0c-a3df-3f1a3204b6bf",
   "metadata": {},
   "source": [
    "### 리스트를 Stack 처럼 활용하기"
   ]
  },
  {
   "cell_type": "code",
   "execution_count": 16,
   "id": "0ae9d451-589e-4c9d-985b-ef748bbb7475",
   "metadata": {},
   "outputs": [
    {
     "name": "stdout",
     "output_type": "stream",
     "text": [
      "[3, 4, 5, 6]\n",
      "[3, 4, 5, 6, 7]\n",
      "7\n",
      "6\n",
      "[3, 4, 5]\n"
     ]
    }
   ],
   "source": [
    "stack=[3,4,5]\n",
    "stack.append(6)\n",
    "print(stack)\n",
    "stack.append(7)\n",
    "print(stack)\n",
    "\n",
    "print(stack.pop())\n",
    "print(stack.pop())\n",
    "print(stack)"
   ]
  }
 ],
 "metadata": {
  "kernelspec": {
   "display_name": "Python 3 (ipykernel)",
   "language": "python",
   "name": "python3"
  },
  "language_info": {
   "codemirror_mode": {
    "name": "ipython",
    "version": 3
   },
   "file_extension": ".py",
   "mimetype": "text/x-python",
   "name": "python",
   "nbconvert_exporter": "python",
   "pygments_lexer": "ipython3",
   "version": "3.9.13"
  }
 },
 "nbformat": 4,
 "nbformat_minor": 5
}
